{
 "cells": [
  {
   "cell_type": "markdown",
   "metadata": {},
   "source": [
    "# Восстановление золота из руды"
   ]
  },
  {
   "cell_type": "markdown",
   "metadata": {},
   "source": [
    "**План проекта:**\n",
    "        \n",
    "1. Описание задачи \n",
    "2. Подготовка данных\n",
    "3. Анализ данных\n",
    "4. Обучение моделей\n",
    "5. Итоговые выводы\n",
    "6. Отчет"
   ]
  },
  {
   "cell_type": "markdown",
   "metadata": {},
   "source": [
    "## 1. Описание задачи"
   ]
  },
  {
   "cell_type": "markdown",
   "metadata": {},
   "source": [
    "Нам нужно подготовить прототип модели машинного обучения для компании «Цифра». Она разрабатывает решения для эффективной работы промышленных предприятий.\n",
    "\n",
    "Модель должна предсказать коэффициент восстановления золота из золотосодержащей руды. В нашем распоряжении имеются данные с параметрами добычи и очистки. Модель должна помочь оптимизировать производство, чтобы не запускать предприятие с убыточными характеристиками.\n"
   ]
  },
  {
   "cell_type": "markdown",
   "metadata": {},
   "source": [
    "**Условия задачи:**  \n",
    "  \n",
    "Данные индексируются датой и временем получения информации (date). Соседние по времени параметры часто похожи.  \n",
    "Некоторые параметры недоступны, потому что замеряются и/или рассчитываются значительно позже. Из-за этого в тестовой выборке (data_test) отсутствуют некоторые признаки, которые могут быть в обучающей (data_train). Также в тестовом наборе нет целевых признаков.  \n",
    "Исходный датасет (data_full) содержит обучающую и тестовую выборки со всеми признаками.  \n",
    "  \n",
    "**Шаги выполнения:**\n",
    "  \n",
    "- подготовить данные;\n",
    "- провести исследовательский анализ данных;\n",
    "- построить и обучить модель.\n"
   ]
  },
  {
   "cell_type": "markdown",
   "metadata": {},
   "source": [
    "## 2. Подготовка данных"
   ]
  },
  {
   "cell_type": "markdown",
   "metadata": {},
   "source": [
    "### Изучение общей информации о данных"
   ]
  },
  {
   "cell_type": "code",
   "execution_count": 1,
   "metadata": {},
   "outputs": [],
   "source": [
    "# импортируем библиотеки\n",
    "\n",
    "import pandas as pd\n",
    "import matplotlib.pyplot as plt\n",
    "import numpy as np\n",
    "import seaborn as sns\n",
    "\n",
    "from sklearn.linear_model import LinearRegression\n",
    "from sklearn.tree import DecisionTreeRegressor\n",
    "from sklearn.ensemble import RandomForestRegressor\n",
    "\n",
    "from sklearn.metrics import mean_absolute_error, make_scorer\n",
    "from sklearn.model_selection import train_test_split, cross_val_score, GridSearchCV\n",
    "from sklearn.preprocessing import StandardScaler \n",
    "\n",
    "from numpy.random import RandomState\n",
    "\n",
    "from sklearn.dummy import DummyRegressor\n",
    "\n",
    "import warnings\n",
    "warnings.filterwarnings('ignore')"
   ]
  },
  {
   "cell_type": "code",
   "execution_count": 2,
   "metadata": {},
   "outputs": [],
   "source": [
    "# прочитаем датасеты\n",
    "\n",
    "try:\n",
    "    data_train = pd.read_csv(\n",
    "        '/datasets/gold_recovery_train_new.csv')\n",
    "    data_test = pd.read_csv(\n",
    "        '/datasets/gold_recovery_test_new.csv')\n",
    "    data_full = pd.read_csv(\n",
    "        'datasets/gold_recovery_full_new.csv')\n",
    "except:\n",
    "    data_train = pd.read_csv(\n",
    "        'https://code.s3.yandex.net//datasets/gold_recovery_train_new.csv')\n",
    "    data_test = pd.read_csv(\n",
    "        'https://code.s3.yandex.net//datasets/gold_recovery_test_new.csv')\n",
    "    data_full = pd.read_csv(\n",
    "        'https://code.s3.yandex.net//datasets/gold_recovery_full_new.csv')"
   ]
  },
  {
   "cell_type": "markdown",
   "metadata": {},
   "source": [
    "**У нас три датасета:**\n",
    "\n",
    "- `data_train` — обучающая выборка;\n",
    "- `data_test` — тестовая выборка;\n",
    "- `data_full` — исходные данные.  \n",
    "  \n",
    "Посмотрим на данные и их описание."
   ]
  },
  {
   "cell_type": "code",
   "execution_count": 3,
   "metadata": {},
   "outputs": [
    {
     "data": {
      "text/html": [
       "<div>\n",
       "<style scoped>\n",
       "    .dataframe tbody tr th:only-of-type {\n",
       "        vertical-align: middle;\n",
       "    }\n",
       "\n",
       "    .dataframe tbody tr th {\n",
       "        vertical-align: top;\n",
       "    }\n",
       "\n",
       "    .dataframe thead th {\n",
       "        text-align: right;\n",
       "    }\n",
       "</style>\n",
       "<table border=\"1\" class=\"dataframe\">\n",
       "  <thead>\n",
       "    <tr style=\"text-align: right;\">\n",
       "      <th></th>\n",
       "      <th>date</th>\n",
       "      <th>final.output.concentrate_ag</th>\n",
       "      <th>final.output.concentrate_pb</th>\n",
       "      <th>final.output.concentrate_sol</th>\n",
       "      <th>final.output.concentrate_au</th>\n",
       "      <th>final.output.recovery</th>\n",
       "      <th>final.output.tail_ag</th>\n",
       "      <th>final.output.tail_pb</th>\n",
       "      <th>final.output.tail_sol</th>\n",
       "      <th>final.output.tail_au</th>\n",
       "      <th>...</th>\n",
       "      <th>secondary_cleaner.state.floatbank4_a_air</th>\n",
       "      <th>secondary_cleaner.state.floatbank4_a_level</th>\n",
       "      <th>secondary_cleaner.state.floatbank4_b_air</th>\n",
       "      <th>secondary_cleaner.state.floatbank4_b_level</th>\n",
       "      <th>secondary_cleaner.state.floatbank5_a_air</th>\n",
       "      <th>secondary_cleaner.state.floatbank5_a_level</th>\n",
       "      <th>secondary_cleaner.state.floatbank5_b_air</th>\n",
       "      <th>secondary_cleaner.state.floatbank5_b_level</th>\n",
       "      <th>secondary_cleaner.state.floatbank6_a_air</th>\n",
       "      <th>secondary_cleaner.state.floatbank6_a_level</th>\n",
       "    </tr>\n",
       "  </thead>\n",
       "  <tbody>\n",
       "    <tr>\n",
       "      <th>0</th>\n",
       "      <td>2016-01-15 00:00:00</td>\n",
       "      <td>6.055403</td>\n",
       "      <td>9.889648</td>\n",
       "      <td>5.507324</td>\n",
       "      <td>42.192020</td>\n",
       "      <td>70.541216</td>\n",
       "      <td>10.411962</td>\n",
       "      <td>0.895447</td>\n",
       "      <td>16.904297</td>\n",
       "      <td>2.143149</td>\n",
       "      <td>...</td>\n",
       "      <td>14.016835</td>\n",
       "      <td>-502.488007</td>\n",
       "      <td>12.099931</td>\n",
       "      <td>-504.715942</td>\n",
       "      <td>9.925633</td>\n",
       "      <td>-498.310211</td>\n",
       "      <td>8.079666</td>\n",
       "      <td>-500.470978</td>\n",
       "      <td>14.151341</td>\n",
       "      <td>-605.841980</td>\n",
       "    </tr>\n",
       "    <tr>\n",
       "      <th>1</th>\n",
       "      <td>2016-01-15 01:00:00</td>\n",
       "      <td>6.029369</td>\n",
       "      <td>9.968944</td>\n",
       "      <td>5.257781</td>\n",
       "      <td>42.701629</td>\n",
       "      <td>69.266198</td>\n",
       "      <td>10.462676</td>\n",
       "      <td>0.927452</td>\n",
       "      <td>16.634514</td>\n",
       "      <td>2.224930</td>\n",
       "      <td>...</td>\n",
       "      <td>13.992281</td>\n",
       "      <td>-505.503262</td>\n",
       "      <td>11.950531</td>\n",
       "      <td>-501.331529</td>\n",
       "      <td>10.039245</td>\n",
       "      <td>-500.169983</td>\n",
       "      <td>7.984757</td>\n",
       "      <td>-500.582168</td>\n",
       "      <td>13.998353</td>\n",
       "      <td>-599.787184</td>\n",
       "    </tr>\n",
       "    <tr>\n",
       "      <th>2</th>\n",
       "      <td>2016-01-15 02:00:00</td>\n",
       "      <td>6.055926</td>\n",
       "      <td>10.213995</td>\n",
       "      <td>5.383759</td>\n",
       "      <td>42.657501</td>\n",
       "      <td>68.116445</td>\n",
       "      <td>10.507046</td>\n",
       "      <td>0.953716</td>\n",
       "      <td>16.208849</td>\n",
       "      <td>2.257889</td>\n",
       "      <td>...</td>\n",
       "      <td>14.015015</td>\n",
       "      <td>-502.520901</td>\n",
       "      <td>11.912783</td>\n",
       "      <td>-501.133383</td>\n",
       "      <td>10.070913</td>\n",
       "      <td>-500.129135</td>\n",
       "      <td>8.013877</td>\n",
       "      <td>-500.517572</td>\n",
       "      <td>14.028663</td>\n",
       "      <td>-601.427363</td>\n",
       "    </tr>\n",
       "    <tr>\n",
       "      <th>3</th>\n",
       "      <td>2016-01-15 03:00:00</td>\n",
       "      <td>6.047977</td>\n",
       "      <td>9.977019</td>\n",
       "      <td>4.858634</td>\n",
       "      <td>42.689819</td>\n",
       "      <td>68.347543</td>\n",
       "      <td>10.422762</td>\n",
       "      <td>0.883763</td>\n",
       "      <td>16.532835</td>\n",
       "      <td>2.146849</td>\n",
       "      <td>...</td>\n",
       "      <td>14.036510</td>\n",
       "      <td>-500.857308</td>\n",
       "      <td>11.999550</td>\n",
       "      <td>-501.193686</td>\n",
       "      <td>9.970366</td>\n",
       "      <td>-499.201640</td>\n",
       "      <td>7.977324</td>\n",
       "      <td>-500.255908</td>\n",
       "      <td>14.005551</td>\n",
       "      <td>-599.996129</td>\n",
       "    </tr>\n",
       "    <tr>\n",
       "      <th>4</th>\n",
       "      <td>2016-01-15 04:00:00</td>\n",
       "      <td>6.148599</td>\n",
       "      <td>10.142511</td>\n",
       "      <td>4.939416</td>\n",
       "      <td>42.774141</td>\n",
       "      <td>66.927016</td>\n",
       "      <td>10.360302</td>\n",
       "      <td>0.792826</td>\n",
       "      <td>16.525686</td>\n",
       "      <td>2.055292</td>\n",
       "      <td>...</td>\n",
       "      <td>14.027298</td>\n",
       "      <td>-499.838632</td>\n",
       "      <td>11.953070</td>\n",
       "      <td>-501.053894</td>\n",
       "      <td>9.925709</td>\n",
       "      <td>-501.686727</td>\n",
       "      <td>7.894242</td>\n",
       "      <td>-500.356035</td>\n",
       "      <td>13.996647</td>\n",
       "      <td>-601.496691</td>\n",
       "    </tr>\n",
       "  </tbody>\n",
       "</table>\n",
       "<p>5 rows × 87 columns</p>\n",
       "</div>"
      ],
      "text/plain": [
       "                  date  final.output.concentrate_ag  \\\n",
       "0  2016-01-15 00:00:00                     6.055403   \n",
       "1  2016-01-15 01:00:00                     6.029369   \n",
       "2  2016-01-15 02:00:00                     6.055926   \n",
       "3  2016-01-15 03:00:00                     6.047977   \n",
       "4  2016-01-15 04:00:00                     6.148599   \n",
       "\n",
       "   final.output.concentrate_pb  final.output.concentrate_sol  \\\n",
       "0                     9.889648                      5.507324   \n",
       "1                     9.968944                      5.257781   \n",
       "2                    10.213995                      5.383759   \n",
       "3                     9.977019                      4.858634   \n",
       "4                    10.142511                      4.939416   \n",
       "\n",
       "   final.output.concentrate_au  final.output.recovery  final.output.tail_ag  \\\n",
       "0                    42.192020              70.541216             10.411962   \n",
       "1                    42.701629              69.266198             10.462676   \n",
       "2                    42.657501              68.116445             10.507046   \n",
       "3                    42.689819              68.347543             10.422762   \n",
       "4                    42.774141              66.927016             10.360302   \n",
       "\n",
       "   final.output.tail_pb  final.output.tail_sol  final.output.tail_au  ...  \\\n",
       "0              0.895447              16.904297              2.143149  ...   \n",
       "1              0.927452              16.634514              2.224930  ...   \n",
       "2              0.953716              16.208849              2.257889  ...   \n",
       "3              0.883763              16.532835              2.146849  ...   \n",
       "4              0.792826              16.525686              2.055292  ...   \n",
       "\n",
       "   secondary_cleaner.state.floatbank4_a_air  \\\n",
       "0                                 14.016835   \n",
       "1                                 13.992281   \n",
       "2                                 14.015015   \n",
       "3                                 14.036510   \n",
       "4                                 14.027298   \n",
       "\n",
       "   secondary_cleaner.state.floatbank4_a_level  \\\n",
       "0                                 -502.488007   \n",
       "1                                 -505.503262   \n",
       "2                                 -502.520901   \n",
       "3                                 -500.857308   \n",
       "4                                 -499.838632   \n",
       "\n",
       "   secondary_cleaner.state.floatbank4_b_air  \\\n",
       "0                                 12.099931   \n",
       "1                                 11.950531   \n",
       "2                                 11.912783   \n",
       "3                                 11.999550   \n",
       "4                                 11.953070   \n",
       "\n",
       "   secondary_cleaner.state.floatbank4_b_level  \\\n",
       "0                                 -504.715942   \n",
       "1                                 -501.331529   \n",
       "2                                 -501.133383   \n",
       "3                                 -501.193686   \n",
       "4                                 -501.053894   \n",
       "\n",
       "   secondary_cleaner.state.floatbank5_a_air  \\\n",
       "0                                  9.925633   \n",
       "1                                 10.039245   \n",
       "2                                 10.070913   \n",
       "3                                  9.970366   \n",
       "4                                  9.925709   \n",
       "\n",
       "   secondary_cleaner.state.floatbank5_a_level  \\\n",
       "0                                 -498.310211   \n",
       "1                                 -500.169983   \n",
       "2                                 -500.129135   \n",
       "3                                 -499.201640   \n",
       "4                                 -501.686727   \n",
       "\n",
       "   secondary_cleaner.state.floatbank5_b_air  \\\n",
       "0                                  8.079666   \n",
       "1                                  7.984757   \n",
       "2                                  8.013877   \n",
       "3                                  7.977324   \n",
       "4                                  7.894242   \n",
       "\n",
       "   secondary_cleaner.state.floatbank5_b_level  \\\n",
       "0                                 -500.470978   \n",
       "1                                 -500.582168   \n",
       "2                                 -500.517572   \n",
       "3                                 -500.255908   \n",
       "4                                 -500.356035   \n",
       "\n",
       "   secondary_cleaner.state.floatbank6_a_air  \\\n",
       "0                                 14.151341   \n",
       "1                                 13.998353   \n",
       "2                                 14.028663   \n",
       "3                                 14.005551   \n",
       "4                                 13.996647   \n",
       "\n",
       "   secondary_cleaner.state.floatbank6_a_level  \n",
       "0                                 -605.841980  \n",
       "1                                 -599.787184  \n",
       "2                                 -601.427363  \n",
       "3                                 -599.996129  \n",
       "4                                 -601.496691  \n",
       "\n",
       "[5 rows x 87 columns]"
      ]
     },
     "execution_count": 3,
     "metadata": {},
     "output_type": "execute_result"
    }
   ],
   "source": [
    "# проверим датасет train\n",
    "\n",
    "data_train.head()"
   ]
  },
  {
   "cell_type": "code",
   "execution_count": 4,
   "metadata": {},
   "outputs": [
    {
     "data": {
      "text/html": [
       "<div>\n",
       "<style scoped>\n",
       "    .dataframe tbody tr th:only-of-type {\n",
       "        vertical-align: middle;\n",
       "    }\n",
       "\n",
       "    .dataframe tbody tr th {\n",
       "        vertical-align: top;\n",
       "    }\n",
       "\n",
       "    .dataframe thead th {\n",
       "        text-align: right;\n",
       "    }\n",
       "</style>\n",
       "<table border=\"1\" class=\"dataframe\">\n",
       "  <thead>\n",
       "    <tr style=\"text-align: right;\">\n",
       "      <th></th>\n",
       "      <th>date</th>\n",
       "      <th>primary_cleaner.input.sulfate</th>\n",
       "      <th>primary_cleaner.input.depressant</th>\n",
       "      <th>primary_cleaner.input.feed_size</th>\n",
       "      <th>primary_cleaner.input.xanthate</th>\n",
       "      <th>primary_cleaner.state.floatbank8_a_air</th>\n",
       "      <th>primary_cleaner.state.floatbank8_a_level</th>\n",
       "      <th>primary_cleaner.state.floatbank8_b_air</th>\n",
       "      <th>primary_cleaner.state.floatbank8_b_level</th>\n",
       "      <th>primary_cleaner.state.floatbank8_c_air</th>\n",
       "      <th>...</th>\n",
       "      <th>secondary_cleaner.state.floatbank4_a_air</th>\n",
       "      <th>secondary_cleaner.state.floatbank4_a_level</th>\n",
       "      <th>secondary_cleaner.state.floatbank4_b_air</th>\n",
       "      <th>secondary_cleaner.state.floatbank4_b_level</th>\n",
       "      <th>secondary_cleaner.state.floatbank5_a_air</th>\n",
       "      <th>secondary_cleaner.state.floatbank5_a_level</th>\n",
       "      <th>secondary_cleaner.state.floatbank5_b_air</th>\n",
       "      <th>secondary_cleaner.state.floatbank5_b_level</th>\n",
       "      <th>secondary_cleaner.state.floatbank6_a_air</th>\n",
       "      <th>secondary_cleaner.state.floatbank6_a_level</th>\n",
       "    </tr>\n",
       "  </thead>\n",
       "  <tbody>\n",
       "    <tr>\n",
       "      <th>0</th>\n",
       "      <td>2016-09-01 00:59:59</td>\n",
       "      <td>210.800909</td>\n",
       "      <td>14.993118</td>\n",
       "      <td>8.080000</td>\n",
       "      <td>1.005021</td>\n",
       "      <td>1398.981301</td>\n",
       "      <td>-500.225577</td>\n",
       "      <td>1399.144926</td>\n",
       "      <td>-499.919735</td>\n",
       "      <td>1400.102998</td>\n",
       "      <td>...</td>\n",
       "      <td>12.023554</td>\n",
       "      <td>-497.795834</td>\n",
       "      <td>8.016656</td>\n",
       "      <td>-501.289139</td>\n",
       "      <td>7.946562</td>\n",
       "      <td>-432.317850</td>\n",
       "      <td>4.872511</td>\n",
       "      <td>-500.037437</td>\n",
       "      <td>26.705889</td>\n",
       "      <td>-499.709414</td>\n",
       "    </tr>\n",
       "    <tr>\n",
       "      <th>1</th>\n",
       "      <td>2016-09-01 01:59:59</td>\n",
       "      <td>215.392455</td>\n",
       "      <td>14.987471</td>\n",
       "      <td>8.080000</td>\n",
       "      <td>0.990469</td>\n",
       "      <td>1398.777912</td>\n",
       "      <td>-500.057435</td>\n",
       "      <td>1398.055362</td>\n",
       "      <td>-499.778182</td>\n",
       "      <td>1396.151033</td>\n",
       "      <td>...</td>\n",
       "      <td>12.058140</td>\n",
       "      <td>-498.695773</td>\n",
       "      <td>8.130979</td>\n",
       "      <td>-499.634209</td>\n",
       "      <td>7.958270</td>\n",
       "      <td>-525.839648</td>\n",
       "      <td>4.878850</td>\n",
       "      <td>-500.162375</td>\n",
       "      <td>25.019940</td>\n",
       "      <td>-499.819438</td>\n",
       "    </tr>\n",
       "    <tr>\n",
       "      <th>2</th>\n",
       "      <td>2016-09-01 02:59:59</td>\n",
       "      <td>215.259946</td>\n",
       "      <td>12.884934</td>\n",
       "      <td>7.786667</td>\n",
       "      <td>0.996043</td>\n",
       "      <td>1398.493666</td>\n",
       "      <td>-500.868360</td>\n",
       "      <td>1398.860436</td>\n",
       "      <td>-499.764529</td>\n",
       "      <td>1398.075709</td>\n",
       "      <td>...</td>\n",
       "      <td>11.962366</td>\n",
       "      <td>-498.767484</td>\n",
       "      <td>8.096893</td>\n",
       "      <td>-500.827423</td>\n",
       "      <td>8.071056</td>\n",
       "      <td>-500.801673</td>\n",
       "      <td>4.905125</td>\n",
       "      <td>-499.828510</td>\n",
       "      <td>24.994862</td>\n",
       "      <td>-500.622559</td>\n",
       "    </tr>\n",
       "    <tr>\n",
       "      <th>3</th>\n",
       "      <td>2016-09-01 03:59:59</td>\n",
       "      <td>215.336236</td>\n",
       "      <td>12.006805</td>\n",
       "      <td>7.640000</td>\n",
       "      <td>0.863514</td>\n",
       "      <td>1399.618111</td>\n",
       "      <td>-498.863574</td>\n",
       "      <td>1397.440120</td>\n",
       "      <td>-499.211024</td>\n",
       "      <td>1400.129303</td>\n",
       "      <td>...</td>\n",
       "      <td>12.033091</td>\n",
       "      <td>-498.350935</td>\n",
       "      <td>8.074946</td>\n",
       "      <td>-499.474407</td>\n",
       "      <td>7.897085</td>\n",
       "      <td>-500.868509</td>\n",
       "      <td>4.931400</td>\n",
       "      <td>-499.963623</td>\n",
       "      <td>24.948919</td>\n",
       "      <td>-498.709987</td>\n",
       "    </tr>\n",
       "    <tr>\n",
       "      <th>4</th>\n",
       "      <td>2016-09-01 04:59:59</td>\n",
       "      <td>199.099327</td>\n",
       "      <td>10.682530</td>\n",
       "      <td>7.530000</td>\n",
       "      <td>0.805575</td>\n",
       "      <td>1401.268123</td>\n",
       "      <td>-500.808305</td>\n",
       "      <td>1398.128818</td>\n",
       "      <td>-499.504543</td>\n",
       "      <td>1402.172226</td>\n",
       "      <td>...</td>\n",
       "      <td>12.025367</td>\n",
       "      <td>-500.786497</td>\n",
       "      <td>8.054678</td>\n",
       "      <td>-500.397500</td>\n",
       "      <td>8.107890</td>\n",
       "      <td>-509.526725</td>\n",
       "      <td>4.957674</td>\n",
       "      <td>-500.360026</td>\n",
       "      <td>25.003331</td>\n",
       "      <td>-500.856333</td>\n",
       "    </tr>\n",
       "  </tbody>\n",
       "</table>\n",
       "<p>5 rows × 53 columns</p>\n",
       "</div>"
      ],
      "text/plain": [
       "                  date  primary_cleaner.input.sulfate  \\\n",
       "0  2016-09-01 00:59:59                     210.800909   \n",
       "1  2016-09-01 01:59:59                     215.392455   \n",
       "2  2016-09-01 02:59:59                     215.259946   \n",
       "3  2016-09-01 03:59:59                     215.336236   \n",
       "4  2016-09-01 04:59:59                     199.099327   \n",
       "\n",
       "   primary_cleaner.input.depressant  primary_cleaner.input.feed_size  \\\n",
       "0                         14.993118                         8.080000   \n",
       "1                         14.987471                         8.080000   \n",
       "2                         12.884934                         7.786667   \n",
       "3                         12.006805                         7.640000   \n",
       "4                         10.682530                         7.530000   \n",
       "\n",
       "   primary_cleaner.input.xanthate  primary_cleaner.state.floatbank8_a_air  \\\n",
       "0                        1.005021                             1398.981301   \n",
       "1                        0.990469                             1398.777912   \n",
       "2                        0.996043                             1398.493666   \n",
       "3                        0.863514                             1399.618111   \n",
       "4                        0.805575                             1401.268123   \n",
       "\n",
       "   primary_cleaner.state.floatbank8_a_level  \\\n",
       "0                               -500.225577   \n",
       "1                               -500.057435   \n",
       "2                               -500.868360   \n",
       "3                               -498.863574   \n",
       "4                               -500.808305   \n",
       "\n",
       "   primary_cleaner.state.floatbank8_b_air  \\\n",
       "0                             1399.144926   \n",
       "1                             1398.055362   \n",
       "2                             1398.860436   \n",
       "3                             1397.440120   \n",
       "4                             1398.128818   \n",
       "\n",
       "   primary_cleaner.state.floatbank8_b_level  \\\n",
       "0                               -499.919735   \n",
       "1                               -499.778182   \n",
       "2                               -499.764529   \n",
       "3                               -499.211024   \n",
       "4                               -499.504543   \n",
       "\n",
       "   primary_cleaner.state.floatbank8_c_air  ...  \\\n",
       "0                             1400.102998  ...   \n",
       "1                             1396.151033  ...   \n",
       "2                             1398.075709  ...   \n",
       "3                             1400.129303  ...   \n",
       "4                             1402.172226  ...   \n",
       "\n",
       "   secondary_cleaner.state.floatbank4_a_air  \\\n",
       "0                                 12.023554   \n",
       "1                                 12.058140   \n",
       "2                                 11.962366   \n",
       "3                                 12.033091   \n",
       "4                                 12.025367   \n",
       "\n",
       "   secondary_cleaner.state.floatbank4_a_level  \\\n",
       "0                                 -497.795834   \n",
       "1                                 -498.695773   \n",
       "2                                 -498.767484   \n",
       "3                                 -498.350935   \n",
       "4                                 -500.786497   \n",
       "\n",
       "   secondary_cleaner.state.floatbank4_b_air  \\\n",
       "0                                  8.016656   \n",
       "1                                  8.130979   \n",
       "2                                  8.096893   \n",
       "3                                  8.074946   \n",
       "4                                  8.054678   \n",
       "\n",
       "   secondary_cleaner.state.floatbank4_b_level  \\\n",
       "0                                 -501.289139   \n",
       "1                                 -499.634209   \n",
       "2                                 -500.827423   \n",
       "3                                 -499.474407   \n",
       "4                                 -500.397500   \n",
       "\n",
       "   secondary_cleaner.state.floatbank5_a_air  \\\n",
       "0                                  7.946562   \n",
       "1                                  7.958270   \n",
       "2                                  8.071056   \n",
       "3                                  7.897085   \n",
       "4                                  8.107890   \n",
       "\n",
       "   secondary_cleaner.state.floatbank5_a_level  \\\n",
       "0                                 -432.317850   \n",
       "1                                 -525.839648   \n",
       "2                                 -500.801673   \n",
       "3                                 -500.868509   \n",
       "4                                 -509.526725   \n",
       "\n",
       "   secondary_cleaner.state.floatbank5_b_air  \\\n",
       "0                                  4.872511   \n",
       "1                                  4.878850   \n",
       "2                                  4.905125   \n",
       "3                                  4.931400   \n",
       "4                                  4.957674   \n",
       "\n",
       "   secondary_cleaner.state.floatbank5_b_level  \\\n",
       "0                                 -500.037437   \n",
       "1                                 -500.162375   \n",
       "2                                 -499.828510   \n",
       "3                                 -499.963623   \n",
       "4                                 -500.360026   \n",
       "\n",
       "   secondary_cleaner.state.floatbank6_a_air  \\\n",
       "0                                 26.705889   \n",
       "1                                 25.019940   \n",
       "2                                 24.994862   \n",
       "3                                 24.948919   \n",
       "4                                 25.003331   \n",
       "\n",
       "   secondary_cleaner.state.floatbank6_a_level  \n",
       "0                                 -499.709414  \n",
       "1                                 -499.819438  \n",
       "2                                 -500.622559  \n",
       "3                                 -498.709987  \n",
       "4                                 -500.856333  \n",
       "\n",
       "[5 rows x 53 columns]"
      ]
     },
     "execution_count": 4,
     "metadata": {},
     "output_type": "execute_result"
    }
   ],
   "source": [
    "# проверим датасет test\n",
    "\n",
    "data_test.head()"
   ]
  },
  {
   "cell_type": "code",
   "execution_count": 5,
   "metadata": {},
   "outputs": [
    {
     "data": {
      "text/html": [
       "<div>\n",
       "<style scoped>\n",
       "    .dataframe tbody tr th:only-of-type {\n",
       "        vertical-align: middle;\n",
       "    }\n",
       "\n",
       "    .dataframe tbody tr th {\n",
       "        vertical-align: top;\n",
       "    }\n",
       "\n",
       "    .dataframe thead th {\n",
       "        text-align: right;\n",
       "    }\n",
       "</style>\n",
       "<table border=\"1\" class=\"dataframe\">\n",
       "  <thead>\n",
       "    <tr style=\"text-align: right;\">\n",
       "      <th></th>\n",
       "      <th>date</th>\n",
       "      <th>final.output.concentrate_ag</th>\n",
       "      <th>final.output.concentrate_pb</th>\n",
       "      <th>final.output.concentrate_sol</th>\n",
       "      <th>final.output.concentrate_au</th>\n",
       "      <th>final.output.recovery</th>\n",
       "      <th>final.output.tail_ag</th>\n",
       "      <th>final.output.tail_pb</th>\n",
       "      <th>final.output.tail_sol</th>\n",
       "      <th>final.output.tail_au</th>\n",
       "      <th>...</th>\n",
       "      <th>secondary_cleaner.state.floatbank4_a_air</th>\n",
       "      <th>secondary_cleaner.state.floatbank4_a_level</th>\n",
       "      <th>secondary_cleaner.state.floatbank4_b_air</th>\n",
       "      <th>secondary_cleaner.state.floatbank4_b_level</th>\n",
       "      <th>secondary_cleaner.state.floatbank5_a_air</th>\n",
       "      <th>secondary_cleaner.state.floatbank5_a_level</th>\n",
       "      <th>secondary_cleaner.state.floatbank5_b_air</th>\n",
       "      <th>secondary_cleaner.state.floatbank5_b_level</th>\n",
       "      <th>secondary_cleaner.state.floatbank6_a_air</th>\n",
       "      <th>secondary_cleaner.state.floatbank6_a_level</th>\n",
       "    </tr>\n",
       "  </thead>\n",
       "  <tbody>\n",
       "    <tr>\n",
       "      <th>0</th>\n",
       "      <td>2016-01-15 00:00:00</td>\n",
       "      <td>6.055403</td>\n",
       "      <td>9.889648</td>\n",
       "      <td>5.507324</td>\n",
       "      <td>42.192020</td>\n",
       "      <td>70.541216</td>\n",
       "      <td>10.411962</td>\n",
       "      <td>0.895447</td>\n",
       "      <td>16.904297</td>\n",
       "      <td>2.143149</td>\n",
       "      <td>...</td>\n",
       "      <td>14.016835</td>\n",
       "      <td>-502.488007</td>\n",
       "      <td>12.099931</td>\n",
       "      <td>-504.715942</td>\n",
       "      <td>9.925633</td>\n",
       "      <td>-498.310211</td>\n",
       "      <td>8.079666</td>\n",
       "      <td>-500.470978</td>\n",
       "      <td>14.151341</td>\n",
       "      <td>-605.841980</td>\n",
       "    </tr>\n",
       "    <tr>\n",
       "      <th>1</th>\n",
       "      <td>2016-01-15 01:00:00</td>\n",
       "      <td>6.029369</td>\n",
       "      <td>9.968944</td>\n",
       "      <td>5.257781</td>\n",
       "      <td>42.701629</td>\n",
       "      <td>69.266198</td>\n",
       "      <td>10.462676</td>\n",
       "      <td>0.927452</td>\n",
       "      <td>16.634514</td>\n",
       "      <td>2.224930</td>\n",
       "      <td>...</td>\n",
       "      <td>13.992281</td>\n",
       "      <td>-505.503262</td>\n",
       "      <td>11.950531</td>\n",
       "      <td>-501.331529</td>\n",
       "      <td>10.039245</td>\n",
       "      <td>-500.169983</td>\n",
       "      <td>7.984757</td>\n",
       "      <td>-500.582168</td>\n",
       "      <td>13.998353</td>\n",
       "      <td>-599.787184</td>\n",
       "    </tr>\n",
       "    <tr>\n",
       "      <th>2</th>\n",
       "      <td>2016-01-15 02:00:00</td>\n",
       "      <td>6.055926</td>\n",
       "      <td>10.213995</td>\n",
       "      <td>5.383759</td>\n",
       "      <td>42.657501</td>\n",
       "      <td>68.116445</td>\n",
       "      <td>10.507046</td>\n",
       "      <td>0.953716</td>\n",
       "      <td>16.208849</td>\n",
       "      <td>2.257889</td>\n",
       "      <td>...</td>\n",
       "      <td>14.015015</td>\n",
       "      <td>-502.520901</td>\n",
       "      <td>11.912783</td>\n",
       "      <td>-501.133383</td>\n",
       "      <td>10.070913</td>\n",
       "      <td>-500.129135</td>\n",
       "      <td>8.013877</td>\n",
       "      <td>-500.517572</td>\n",
       "      <td>14.028663</td>\n",
       "      <td>-601.427363</td>\n",
       "    </tr>\n",
       "    <tr>\n",
       "      <th>3</th>\n",
       "      <td>2016-01-15 03:00:00</td>\n",
       "      <td>6.047977</td>\n",
       "      <td>9.977019</td>\n",
       "      <td>4.858634</td>\n",
       "      <td>42.689819</td>\n",
       "      <td>68.347543</td>\n",
       "      <td>10.422762</td>\n",
       "      <td>0.883763</td>\n",
       "      <td>16.532835</td>\n",
       "      <td>2.146849</td>\n",
       "      <td>...</td>\n",
       "      <td>14.036510</td>\n",
       "      <td>-500.857308</td>\n",
       "      <td>11.999550</td>\n",
       "      <td>-501.193686</td>\n",
       "      <td>9.970366</td>\n",
       "      <td>-499.201640</td>\n",
       "      <td>7.977324</td>\n",
       "      <td>-500.255908</td>\n",
       "      <td>14.005551</td>\n",
       "      <td>-599.996129</td>\n",
       "    </tr>\n",
       "    <tr>\n",
       "      <th>4</th>\n",
       "      <td>2016-01-15 04:00:00</td>\n",
       "      <td>6.148599</td>\n",
       "      <td>10.142511</td>\n",
       "      <td>4.939416</td>\n",
       "      <td>42.774141</td>\n",
       "      <td>66.927016</td>\n",
       "      <td>10.360302</td>\n",
       "      <td>0.792826</td>\n",
       "      <td>16.525686</td>\n",
       "      <td>2.055292</td>\n",
       "      <td>...</td>\n",
       "      <td>14.027298</td>\n",
       "      <td>-499.838632</td>\n",
       "      <td>11.953070</td>\n",
       "      <td>-501.053894</td>\n",
       "      <td>9.925709</td>\n",
       "      <td>-501.686727</td>\n",
       "      <td>7.894242</td>\n",
       "      <td>-500.356035</td>\n",
       "      <td>13.996647</td>\n",
       "      <td>-601.496691</td>\n",
       "    </tr>\n",
       "  </tbody>\n",
       "</table>\n",
       "<p>5 rows × 87 columns</p>\n",
       "</div>"
      ],
      "text/plain": [
       "                  date  final.output.concentrate_ag  \\\n",
       "0  2016-01-15 00:00:00                     6.055403   \n",
       "1  2016-01-15 01:00:00                     6.029369   \n",
       "2  2016-01-15 02:00:00                     6.055926   \n",
       "3  2016-01-15 03:00:00                     6.047977   \n",
       "4  2016-01-15 04:00:00                     6.148599   \n",
       "\n",
       "   final.output.concentrate_pb  final.output.concentrate_sol  \\\n",
       "0                     9.889648                      5.507324   \n",
       "1                     9.968944                      5.257781   \n",
       "2                    10.213995                      5.383759   \n",
       "3                     9.977019                      4.858634   \n",
       "4                    10.142511                      4.939416   \n",
       "\n",
       "   final.output.concentrate_au  final.output.recovery  final.output.tail_ag  \\\n",
       "0                    42.192020              70.541216             10.411962   \n",
       "1                    42.701629              69.266198             10.462676   \n",
       "2                    42.657501              68.116445             10.507046   \n",
       "3                    42.689819              68.347543             10.422762   \n",
       "4                    42.774141              66.927016             10.360302   \n",
       "\n",
       "   final.output.tail_pb  final.output.tail_sol  final.output.tail_au  ...  \\\n",
       "0              0.895447              16.904297              2.143149  ...   \n",
       "1              0.927452              16.634514              2.224930  ...   \n",
       "2              0.953716              16.208849              2.257889  ...   \n",
       "3              0.883763              16.532835              2.146849  ...   \n",
       "4              0.792826              16.525686              2.055292  ...   \n",
       "\n",
       "   secondary_cleaner.state.floatbank4_a_air  \\\n",
       "0                                 14.016835   \n",
       "1                                 13.992281   \n",
       "2                                 14.015015   \n",
       "3                                 14.036510   \n",
       "4                                 14.027298   \n",
       "\n",
       "   secondary_cleaner.state.floatbank4_a_level  \\\n",
       "0                                 -502.488007   \n",
       "1                                 -505.503262   \n",
       "2                                 -502.520901   \n",
       "3                                 -500.857308   \n",
       "4                                 -499.838632   \n",
       "\n",
       "   secondary_cleaner.state.floatbank4_b_air  \\\n",
       "0                                 12.099931   \n",
       "1                                 11.950531   \n",
       "2                                 11.912783   \n",
       "3                                 11.999550   \n",
       "4                                 11.953070   \n",
       "\n",
       "   secondary_cleaner.state.floatbank4_b_level  \\\n",
       "0                                 -504.715942   \n",
       "1                                 -501.331529   \n",
       "2                                 -501.133383   \n",
       "3                                 -501.193686   \n",
       "4                                 -501.053894   \n",
       "\n",
       "   secondary_cleaner.state.floatbank5_a_air  \\\n",
       "0                                  9.925633   \n",
       "1                                 10.039245   \n",
       "2                                 10.070913   \n",
       "3                                  9.970366   \n",
       "4                                  9.925709   \n",
       "\n",
       "   secondary_cleaner.state.floatbank5_a_level  \\\n",
       "0                                 -498.310211   \n",
       "1                                 -500.169983   \n",
       "2                                 -500.129135   \n",
       "3                                 -499.201640   \n",
       "4                                 -501.686727   \n",
       "\n",
       "   secondary_cleaner.state.floatbank5_b_air  \\\n",
       "0                                  8.079666   \n",
       "1                                  7.984757   \n",
       "2                                  8.013877   \n",
       "3                                  7.977324   \n",
       "4                                  7.894242   \n",
       "\n",
       "   secondary_cleaner.state.floatbank5_b_level  \\\n",
       "0                                 -500.470978   \n",
       "1                                 -500.582168   \n",
       "2                                 -500.517572   \n",
       "3                                 -500.255908   \n",
       "4                                 -500.356035   \n",
       "\n",
       "   secondary_cleaner.state.floatbank6_a_air  \\\n",
       "0                                 14.151341   \n",
       "1                                 13.998353   \n",
       "2                                 14.028663   \n",
       "3                                 14.005551   \n",
       "4                                 13.996647   \n",
       "\n",
       "   secondary_cleaner.state.floatbank6_a_level  \n",
       "0                                 -605.841980  \n",
       "1                                 -599.787184  \n",
       "2                                 -601.427363  \n",
       "3                                 -599.996129  \n",
       "4                                 -601.496691  \n",
       "\n",
       "[5 rows x 87 columns]"
      ]
     },
     "execution_count": 5,
     "metadata": {},
     "output_type": "execute_result"
    }
   ],
   "source": [
    "# проверим датасет full\n",
    "\n",
    "data_full.head()"
   ]
  },
  {
   "cell_type": "markdown",
   "metadata": {},
   "source": [
    "**Описание данных:**   \n",
    "  \n",
    "**_Технологический процесс:_**\n",
    "  \n",
    "- `Rougher feed` — исходное сырье\n",
    "- `Rougher additions (или reagent additions)` — флотационные реагенты: Xanthate, Sulphate, Depressant\n",
    "    - Xanthate **  — ксантогенат (промотер, или активатор флотации);\n",
    "    - Sulphate — сульфат (на данном производстве сульфид натрия);\n",
    "    - Depressant — депрессант (силикат натрия).\n",
    "- `Rougher process` (англ. «грубый процесс») — флотация\n",
    "- `Rougher tails` — отвальные хвосты\n",
    "- `Float banks` — флотационная установка\n",
    "- `Cleaner process` — очистка\n",
    "- `Rougher Au` — черновой концентрат золота\n",
    "- `Final Au` — финальный концентрат золота  \n",
    "  \n",
    "**_Параметры этапов:_** \n",
    "  \n",
    "- `air amount` — объём воздуха\n",
    "- `fluid levels` — уровень жидкости\n",
    "- `feed size` — размер гранул сырья\n",
    "- `feed rate` — скорость подачи  \n",
    "  \n",
    "**_Наименование признаков:_** \n",
    "  \n",
    "Должно быть такое: `[этап].[тип_параметра].[название_параметра]`  \n",
    "Пример: `rougher.input.feed_ag`\n",
    "  \n",
    "Возможные значения для блока `[этап]`:  \n",
    "  \n",
    "- `rougher` — флотация\n",
    "- `primary_cleaner` — первичная очистка\n",
    "- `secondary_cleaner` — вторичная очистка\n",
    "- `final` — финальные характеристики\n",
    "  \n",
    "Возможные значения для блока `[тип_параметра]`:  \n",
    "  \n",
    "- `input` — параметры сырья\n",
    "- `output` — параметры продукта\n",
    "- `state` — параметры, характеризующие текущее состояние этапа\n",
    "- `calculation` — расчётные характеристики"
   ]
  },
  {
   "cell_type": "code",
   "execution_count": 6,
   "metadata": {},
   "outputs": [
    {
     "name": "stdout",
     "output_type": "stream",
     "text": [
      "(14149, 87)\n",
      "(5290, 53)\n",
      "(19439, 87)\n"
     ]
    }
   ],
   "source": [
    "# проверим размеры датасетов\n",
    "\n",
    "for data in data_train, data_test, data_full:\n",
    "    print(data.shape)"
   ]
  },
  {
   "cell_type": "code",
   "execution_count": 7,
   "metadata": {},
   "outputs": [
    {
     "name": "stdout",
     "output_type": "stream",
     "text": [
      "0\n",
      "0\n",
      "0\n"
     ]
    }
   ],
   "source": [
    "# проверим на явные дубликаты\n",
    "\n",
    "for data in data_train, data_test, data_full:\n",
    "    print(data.duplicated().sum())"
   ]
  },
  {
   "cell_type": "code",
   "execution_count": 8,
   "metadata": {
    "scrolled": false
   },
   "outputs": [
    {
     "name": "stdout",
     "output_type": "stream",
     "text": [
      "<class 'pandas.core.frame.DataFrame'>\n",
      "RangeIndex: 14149 entries, 0 to 14148\n",
      "Data columns (total 87 columns):\n",
      " #   Column                                              Non-Null Count  Dtype  \n",
      "---  ------                                              --------------  -----  \n",
      " 0   date                                                14149 non-null  object \n",
      " 1   final.output.concentrate_ag                         14148 non-null  float64\n",
      " 2   final.output.concentrate_pb                         14148 non-null  float64\n",
      " 3   final.output.concentrate_sol                        13938 non-null  float64\n",
      " 4   final.output.concentrate_au                         14149 non-null  float64\n",
      " 5   final.output.recovery                               14149 non-null  float64\n",
      " 6   final.output.tail_ag                                14149 non-null  float64\n",
      " 7   final.output.tail_pb                                14049 non-null  float64\n",
      " 8   final.output.tail_sol                               14144 non-null  float64\n",
      " 9   final.output.tail_au                                14149 non-null  float64\n",
      " 10  primary_cleaner.input.sulfate                       14129 non-null  float64\n",
      " 11  primary_cleaner.input.depressant                    14117 non-null  float64\n",
      " 12  primary_cleaner.input.feed_size                     14149 non-null  float64\n",
      " 13  primary_cleaner.input.xanthate                      14049 non-null  float64\n",
      " 14  primary_cleaner.output.concentrate_ag               14149 non-null  float64\n",
      " 15  primary_cleaner.output.concentrate_pb               14063 non-null  float64\n",
      " 16  primary_cleaner.output.concentrate_sol              13863 non-null  float64\n",
      " 17  primary_cleaner.output.concentrate_au               14149 non-null  float64\n",
      " 18  primary_cleaner.output.tail_ag                      14148 non-null  float64\n",
      " 19  primary_cleaner.output.tail_pb                      14134 non-null  float64\n",
      " 20  primary_cleaner.output.tail_sol                     14103 non-null  float64\n",
      " 21  primary_cleaner.output.tail_au                      14149 non-null  float64\n",
      " 22  primary_cleaner.state.floatbank8_a_air              14145 non-null  float64\n",
      " 23  primary_cleaner.state.floatbank8_a_level            14148 non-null  float64\n",
      " 24  primary_cleaner.state.floatbank8_b_air              14145 non-null  float64\n",
      " 25  primary_cleaner.state.floatbank8_b_level            14148 non-null  float64\n",
      " 26  primary_cleaner.state.floatbank8_c_air              14147 non-null  float64\n",
      " 27  primary_cleaner.state.floatbank8_c_level            14148 non-null  float64\n",
      " 28  primary_cleaner.state.floatbank8_d_air              14146 non-null  float64\n",
      " 29  primary_cleaner.state.floatbank8_d_level            14148 non-null  float64\n",
      " 30  rougher.calculation.sulfate_to_au_concentrate       14148 non-null  float64\n",
      " 31  rougher.calculation.floatbank10_sulfate_to_au_feed  14148 non-null  float64\n",
      " 32  rougher.calculation.floatbank11_sulfate_to_au_feed  14148 non-null  float64\n",
      " 33  rougher.calculation.au_pb_ratio                     14149 non-null  float64\n",
      " 34  rougher.input.feed_ag                               14149 non-null  float64\n",
      " 35  rougher.input.feed_pb                               14049 non-null  float64\n",
      " 36  rougher.input.feed_rate                             14141 non-null  float64\n",
      " 37  rougher.input.feed_size                             14005 non-null  float64\n",
      " 38  rougher.input.feed_sol                              14071 non-null  float64\n",
      " 39  rougher.input.feed_au                               14149 non-null  float64\n",
      " 40  rougher.input.floatbank10_sulfate                   14120 non-null  float64\n",
      " 41  rougher.input.floatbank10_xanthate                  14141 non-null  float64\n",
      " 42  rougher.input.floatbank11_sulfate                   14113 non-null  float64\n",
      " 43  rougher.input.floatbank11_xanthate                  13721 non-null  float64\n",
      " 44  rougher.output.concentrate_ag                       14149 non-null  float64\n",
      " 45  rougher.output.concentrate_pb                       14149 non-null  float64\n",
      " 46  rougher.output.concentrate_sol                      14127 non-null  float64\n",
      " 47  rougher.output.concentrate_au                       14149 non-null  float64\n",
      " 48  rougher.output.recovery                             14149 non-null  float64\n",
      " 49  rougher.output.tail_ag                              14148 non-null  float64\n",
      " 50  rougher.output.tail_pb                              14149 non-null  float64\n",
      " 51  rougher.output.tail_sol                             14149 non-null  float64\n",
      " 52  rougher.output.tail_au                              14149 non-null  float64\n",
      " 53  rougher.state.floatbank10_a_air                     14148 non-null  float64\n",
      " 54  rougher.state.floatbank10_a_level                   14148 non-null  float64\n",
      " 55  rougher.state.floatbank10_b_air                     14148 non-null  float64\n",
      " 56  rougher.state.floatbank10_b_level                   14148 non-null  float64\n",
      " 57  rougher.state.floatbank10_c_air                     14148 non-null  float64\n",
      " 58  rougher.state.floatbank10_c_level                   14148 non-null  float64\n",
      " 59  rougher.state.floatbank10_d_air                     14149 non-null  float64\n",
      " 60  rougher.state.floatbank10_d_level                   14149 non-null  float64\n",
      " 61  rougher.state.floatbank10_e_air                     13713 non-null  float64\n",
      " 62  rougher.state.floatbank10_e_level                   14149 non-null  float64\n",
      " 63  rougher.state.floatbank10_f_air                     14149 non-null  float64\n",
      " 64  rougher.state.floatbank10_f_level                   14149 non-null  float64\n",
      " 65  secondary_cleaner.output.tail_ag                    14147 non-null  float64\n",
      " 66  secondary_cleaner.output.tail_pb                    14139 non-null  float64\n",
      " 67  secondary_cleaner.output.tail_sol                   12544 non-null  float64\n",
      " 68  secondary_cleaner.output.tail_au                    14149 non-null  float64\n",
      " 69  secondary_cleaner.state.floatbank2_a_air            13932 non-null  float64\n",
      " 70  secondary_cleaner.state.floatbank2_a_level          14148 non-null  float64\n",
      " 71  secondary_cleaner.state.floatbank2_b_air            14128 non-null  float64\n",
      " 72  secondary_cleaner.state.floatbank2_b_level          14148 non-null  float64\n",
      " 73  secondary_cleaner.state.floatbank3_a_air            14145 non-null  float64\n",
      " 74  secondary_cleaner.state.floatbank3_a_level          14148 non-null  float64\n",
      " 75  secondary_cleaner.state.floatbank3_b_air            14148 non-null  float64\n",
      " 76  secondary_cleaner.state.floatbank3_b_level          14148 non-null  float64\n",
      " 77  secondary_cleaner.state.floatbank4_a_air            14143 non-null  float64\n",
      " 78  secondary_cleaner.state.floatbank4_a_level          14148 non-null  float64\n",
      " 79  secondary_cleaner.state.floatbank4_b_air            14148 non-null  float64\n",
      " 80  secondary_cleaner.state.floatbank4_b_level          14148 non-null  float64\n",
      " 81  secondary_cleaner.state.floatbank5_a_air            14148 non-null  float64\n",
      " 82  secondary_cleaner.state.floatbank5_a_level          14148 non-null  float64\n",
      " 83  secondary_cleaner.state.floatbank5_b_air            14148 non-null  float64\n",
      " 84  secondary_cleaner.state.floatbank5_b_level          14148 non-null  float64\n",
      " 85  secondary_cleaner.state.floatbank6_a_air            14147 non-null  float64\n",
      " 86  secondary_cleaner.state.floatbank6_a_level          14148 non-null  float64\n",
      "dtypes: float64(86), object(1)\n",
      "memory usage: 9.4+ MB\n"
     ]
    }
   ],
   "source": [
    "# проверим количество строк и типы данных выборки train\n",
    "\n",
    "data_train.info()"
   ]
  },
  {
   "cell_type": "code",
   "execution_count": 9,
   "metadata": {
    "scrolled": false
   },
   "outputs": [
    {
     "name": "stdout",
     "output_type": "stream",
     "text": [
      "<class 'pandas.core.frame.DataFrame'>\n",
      "RangeIndex: 5290 entries, 0 to 5289\n",
      "Data columns (total 53 columns):\n",
      " #   Column                                      Non-Null Count  Dtype  \n",
      "---  ------                                      --------------  -----  \n",
      " 0   date                                        5290 non-null   object \n",
      " 1   primary_cleaner.input.sulfate               5286 non-null   float64\n",
      " 2   primary_cleaner.input.depressant            5285 non-null   float64\n",
      " 3   primary_cleaner.input.feed_size             5290 non-null   float64\n",
      " 4   primary_cleaner.input.xanthate              5286 non-null   float64\n",
      " 5   primary_cleaner.state.floatbank8_a_air      5290 non-null   float64\n",
      " 6   primary_cleaner.state.floatbank8_a_level    5290 non-null   float64\n",
      " 7   primary_cleaner.state.floatbank8_b_air      5290 non-null   float64\n",
      " 8   primary_cleaner.state.floatbank8_b_level    5290 non-null   float64\n",
      " 9   primary_cleaner.state.floatbank8_c_air      5290 non-null   float64\n",
      " 10  primary_cleaner.state.floatbank8_c_level    5290 non-null   float64\n",
      " 11  primary_cleaner.state.floatbank8_d_air      5290 non-null   float64\n",
      " 12  primary_cleaner.state.floatbank8_d_level    5290 non-null   float64\n",
      " 13  rougher.input.feed_ag                       5290 non-null   float64\n",
      " 14  rougher.input.feed_pb                       5290 non-null   float64\n",
      " 15  rougher.input.feed_rate                     5287 non-null   float64\n",
      " 16  rougher.input.feed_size                     5289 non-null   float64\n",
      " 17  rougher.input.feed_sol                      5269 non-null   float64\n",
      " 18  rougher.input.feed_au                       5290 non-null   float64\n",
      " 19  rougher.input.floatbank10_sulfate           5285 non-null   float64\n",
      " 20  rougher.input.floatbank10_xanthate          5290 non-null   float64\n",
      " 21  rougher.input.floatbank11_sulfate           5282 non-null   float64\n",
      " 22  rougher.input.floatbank11_xanthate          5265 non-null   float64\n",
      " 23  rougher.state.floatbank10_a_air             5290 non-null   float64\n",
      " 24  rougher.state.floatbank10_a_level           5290 non-null   float64\n",
      " 25  rougher.state.floatbank10_b_air             5290 non-null   float64\n",
      " 26  rougher.state.floatbank10_b_level           5290 non-null   float64\n",
      " 27  rougher.state.floatbank10_c_air             5290 non-null   float64\n",
      " 28  rougher.state.floatbank10_c_level           5290 non-null   float64\n",
      " 29  rougher.state.floatbank10_d_air             5290 non-null   float64\n",
      " 30  rougher.state.floatbank10_d_level           5290 non-null   float64\n",
      " 31  rougher.state.floatbank10_e_air             5290 non-null   float64\n",
      " 32  rougher.state.floatbank10_e_level           5290 non-null   float64\n",
      " 33  rougher.state.floatbank10_f_air             5290 non-null   float64\n",
      " 34  rougher.state.floatbank10_f_level           5290 non-null   float64\n",
      " 35  secondary_cleaner.state.floatbank2_a_air    5287 non-null   float64\n",
      " 36  secondary_cleaner.state.floatbank2_a_level  5290 non-null   float64\n",
      " 37  secondary_cleaner.state.floatbank2_b_air    5288 non-null   float64\n",
      " 38  secondary_cleaner.state.floatbank2_b_level  5290 non-null   float64\n",
      " 39  secondary_cleaner.state.floatbank3_a_air    5281 non-null   float64\n",
      " 40  secondary_cleaner.state.floatbank3_a_level  5290 non-null   float64\n",
      " 41  secondary_cleaner.state.floatbank3_b_air    5290 non-null   float64\n",
      " 42  secondary_cleaner.state.floatbank3_b_level  5290 non-null   float64\n",
      " 43  secondary_cleaner.state.floatbank4_a_air    5290 non-null   float64\n",
      " 44  secondary_cleaner.state.floatbank4_a_level  5290 non-null   float64\n",
      " 45  secondary_cleaner.state.floatbank4_b_air    5290 non-null   float64\n",
      " 46  secondary_cleaner.state.floatbank4_b_level  5290 non-null   float64\n",
      " 47  secondary_cleaner.state.floatbank5_a_air    5290 non-null   float64\n",
      " 48  secondary_cleaner.state.floatbank5_a_level  5290 non-null   float64\n",
      " 49  secondary_cleaner.state.floatbank5_b_air    5290 non-null   float64\n",
      " 50  secondary_cleaner.state.floatbank5_b_level  5290 non-null   float64\n",
      " 51  secondary_cleaner.state.floatbank6_a_air    5290 non-null   float64\n",
      " 52  secondary_cleaner.state.floatbank6_a_level  5290 non-null   float64\n",
      "dtypes: float64(52), object(1)\n",
      "memory usage: 2.1+ MB\n"
     ]
    }
   ],
   "source": [
    "# проверим количество строк и типы данных выборки test\n",
    "\n",
    "data_test.info()"
   ]
  },
  {
   "cell_type": "code",
   "execution_count": 10,
   "metadata": {},
   "outputs": [
    {
     "name": "stdout",
     "output_type": "stream",
     "text": [
      "<class 'pandas.core.frame.DataFrame'>\n",
      "RangeIndex: 19439 entries, 0 to 19438\n",
      "Data columns (total 87 columns):\n",
      " #   Column                                              Non-Null Count  Dtype  \n",
      "---  ------                                              --------------  -----  \n",
      " 0   date                                                19439 non-null  object \n",
      " 1   final.output.concentrate_ag                         19438 non-null  float64\n",
      " 2   final.output.concentrate_pb                         19438 non-null  float64\n",
      " 3   final.output.concentrate_sol                        19228 non-null  float64\n",
      " 4   final.output.concentrate_au                         19439 non-null  float64\n",
      " 5   final.output.recovery                               19439 non-null  float64\n",
      " 6   final.output.tail_ag                                19438 non-null  float64\n",
      " 7   final.output.tail_pb                                19338 non-null  float64\n",
      " 8   final.output.tail_sol                               19433 non-null  float64\n",
      " 9   final.output.tail_au                                19439 non-null  float64\n",
      " 10  primary_cleaner.input.sulfate                       19415 non-null  float64\n",
      " 11  primary_cleaner.input.depressant                    19402 non-null  float64\n",
      " 12  primary_cleaner.input.feed_size                     19439 non-null  float64\n",
      " 13  primary_cleaner.input.xanthate                      19335 non-null  float64\n",
      " 14  primary_cleaner.output.concentrate_ag               19439 non-null  float64\n",
      " 15  primary_cleaner.output.concentrate_pb               19323 non-null  float64\n",
      " 16  primary_cleaner.output.concentrate_sol              19069 non-null  float64\n",
      " 17  primary_cleaner.output.concentrate_au               19439 non-null  float64\n",
      " 18  primary_cleaner.output.tail_ag                      19435 non-null  float64\n",
      " 19  primary_cleaner.output.tail_pb                      19418 non-null  float64\n",
      " 20  primary_cleaner.output.tail_sol                     19377 non-null  float64\n",
      " 21  primary_cleaner.output.tail_au                      19439 non-null  float64\n",
      " 22  primary_cleaner.state.floatbank8_a_air              19435 non-null  float64\n",
      " 23  primary_cleaner.state.floatbank8_a_level            19438 non-null  float64\n",
      " 24  primary_cleaner.state.floatbank8_b_air              19435 non-null  float64\n",
      " 25  primary_cleaner.state.floatbank8_b_level            19438 non-null  float64\n",
      " 26  primary_cleaner.state.floatbank8_c_air              19437 non-null  float64\n",
      " 27  primary_cleaner.state.floatbank8_c_level            19438 non-null  float64\n",
      " 28  primary_cleaner.state.floatbank8_d_air              19436 non-null  float64\n",
      " 29  primary_cleaner.state.floatbank8_d_level            19438 non-null  float64\n",
      " 30  rougher.calculation.sulfate_to_au_concentrate       19437 non-null  float64\n",
      " 31  rougher.calculation.floatbank10_sulfate_to_au_feed  19437 non-null  float64\n",
      " 32  rougher.calculation.floatbank11_sulfate_to_au_feed  19437 non-null  float64\n",
      " 33  rougher.calculation.au_pb_ratio                     19439 non-null  float64\n",
      " 34  rougher.input.feed_ag                               19439 non-null  float64\n",
      " 35  rougher.input.feed_pb                               19339 non-null  float64\n",
      " 36  rougher.input.feed_rate                             19428 non-null  float64\n",
      " 37  rougher.input.feed_size                             19294 non-null  float64\n",
      " 38  rougher.input.feed_sol                              19340 non-null  float64\n",
      " 39  rougher.input.feed_au                               19439 non-null  float64\n",
      " 40  rougher.input.floatbank10_sulfate                   19405 non-null  float64\n",
      " 41  rougher.input.floatbank10_xanthate                  19431 non-null  float64\n",
      " 42  rougher.input.floatbank11_sulfate                   19395 non-null  float64\n",
      " 43  rougher.input.floatbank11_xanthate                  18986 non-null  float64\n",
      " 44  rougher.output.concentrate_ag                       19439 non-null  float64\n",
      " 45  rougher.output.concentrate_pb                       19439 non-null  float64\n",
      " 46  rougher.output.concentrate_sol                      19416 non-null  float64\n",
      " 47  rougher.output.concentrate_au                       19439 non-null  float64\n",
      " 48  rougher.output.recovery                             19439 non-null  float64\n",
      " 49  rougher.output.tail_ag                              19438 non-null  float64\n",
      " 50  rougher.output.tail_pb                              19439 non-null  float64\n",
      " 51  rougher.output.tail_sol                             19439 non-null  float64\n",
      " 52  rougher.output.tail_au                              19439 non-null  float64\n",
      " 53  rougher.state.floatbank10_a_air                     19438 non-null  float64\n",
      " 54  rougher.state.floatbank10_a_level                   19438 non-null  float64\n",
      " 55  rougher.state.floatbank10_b_air                     19438 non-null  float64\n",
      " 56  rougher.state.floatbank10_b_level                   19438 non-null  float64\n",
      " 57  rougher.state.floatbank10_c_air                     19438 non-null  float64\n",
      " 58  rougher.state.floatbank10_c_level                   19438 non-null  float64\n",
      " 59  rougher.state.floatbank10_d_air                     19439 non-null  float64\n",
      " 60  rougher.state.floatbank10_d_level                   19439 non-null  float64\n",
      " 61  rougher.state.floatbank10_e_air                     19003 non-null  float64\n",
      " 62  rougher.state.floatbank10_e_level                   19439 non-null  float64\n",
      " 63  rougher.state.floatbank10_f_air                     19439 non-null  float64\n",
      " 64  rougher.state.floatbank10_f_level                   19439 non-null  float64\n",
      " 65  secondary_cleaner.output.tail_ag                    19437 non-null  float64\n",
      " 66  secondary_cleaner.output.tail_pb                    19427 non-null  float64\n",
      " 67  secondary_cleaner.output.tail_sol                   17691 non-null  float64\n",
      " 68  secondary_cleaner.output.tail_au                    19439 non-null  float64\n",
      " 69  secondary_cleaner.state.floatbank2_a_air            19219 non-null  float64\n",
      " 70  secondary_cleaner.state.floatbank2_a_level          19438 non-null  float64\n",
      " 71  secondary_cleaner.state.floatbank2_b_air            19416 non-null  float64\n",
      " 72  secondary_cleaner.state.floatbank2_b_level          19438 non-null  float64\n",
      " 73  secondary_cleaner.state.floatbank3_a_air            19426 non-null  float64\n",
      " 74  secondary_cleaner.state.floatbank3_a_level          19438 non-null  float64\n",
      " 75  secondary_cleaner.state.floatbank3_b_air            19438 non-null  float64\n",
      " 76  secondary_cleaner.state.floatbank3_b_level          19438 non-null  float64\n",
      " 77  secondary_cleaner.state.floatbank4_a_air            19433 non-null  float64\n",
      " 78  secondary_cleaner.state.floatbank4_a_level          19438 non-null  float64\n",
      " 79  secondary_cleaner.state.floatbank4_b_air            19438 non-null  float64\n",
      " 80  secondary_cleaner.state.floatbank4_b_level          19438 non-null  float64\n",
      " 81  secondary_cleaner.state.floatbank5_a_air            19438 non-null  float64\n",
      " 82  secondary_cleaner.state.floatbank5_a_level          19438 non-null  float64\n",
      " 83  secondary_cleaner.state.floatbank5_b_air            19438 non-null  float64\n",
      " 84  secondary_cleaner.state.floatbank5_b_level          19438 non-null  float64\n",
      " 85  secondary_cleaner.state.floatbank6_a_air            19437 non-null  float64\n",
      " 86  secondary_cleaner.state.floatbank6_a_level          19438 non-null  float64\n",
      "dtypes: float64(86), object(1)\n",
      "memory usage: 12.9+ MB\n"
     ]
    }
   ],
   "source": [
    "# проверим количество строк и типы данных выборки full\n",
    "\n",
    "data_full.info()"
   ]
  },
  {
   "cell_type": "code",
   "execution_count": 11,
   "metadata": {},
   "outputs": [],
   "source": [
    "# посмотрим сколько у нас столбцов без и с пропущенными значениями\n",
    "# напишем функцию для подсчета количества\n",
    "\n",
    "def na_values(data):\n",
    "    \n",
    "    full_columns=[]\n",
    "    na_columns=[]\n",
    "    \n",
    "    for column in data:\n",
    "        if data[column].isna().sum()==0:\n",
    "            full_columns.append(column)\n",
    "        if data[column].isna().sum()!=0:\n",
    "            na_columns.append(column)\n",
    "    return(len(full_columns), len(na_columns), round(len(na_columns)/ len(data.columns)* 100))        \n"
   ]
  },
  {
   "cell_type": "code",
   "execution_count": 12,
   "metadata": {
    "scrolled": true
   },
   "outputs": [
    {
     "name": "stdout",
     "output_type": "stream",
     "text": [
      "(25, 62, 71)\n",
      "(41, 12, 23)\n",
      "(24, 63, 72)\n"
     ]
    }
   ],
   "source": [
    "# применим функцию к данным наших выборок\n",
    "\n",
    "for data in data_train, data_test, data_full:\n",
    "    print(na_values(data))"
   ]
  },
  {
   "cell_type": "markdown",
   "metadata": {},
   "source": [
    "Итак, мы имеем три датасета с данными без явных дубликатов:  \n",
    "  \n",
    "- `data_train` - размером 87 столбцов и 14149 строк, в которых 62 имеют пропущенные значения, а 25 не имеют\n",
    "- `data_test`- размером 53 столбцов и 5290 строк, в которых 12 имеют пропущенные значения, а 41 не имеют\n",
    "- `data_full`- размером 87 столбцов и 19439 строк, в которых 63 имеют пропущенные значения, а 24 не имеют\n",
    "  \n",
    "Преступим к проверке эффективности, анализу признаков и подготовке данных."
   ]
  },
  {
   "cell_type": "markdown",
   "metadata": {},
   "source": [
    "### Вычисление эффективности обогащения"
   ]
  },
  {
   "cell_type": "markdown",
   "metadata": {},
   "source": [
    "Вычислите её на обучающей выборке для признака `rougher.output.recovery`. Найдите MAE между нашими расчётами и значением признака."
   ]
  },
  {
   "cell_type": "code",
   "execution_count": 13,
   "metadata": {},
   "outputs": [
    {
     "data": {
      "text/plain": [
       "0        87.107763\n",
       "1        86.843261\n",
       "2        86.842308\n",
       "3        87.226430\n",
       "4        86.688794\n",
       "           ...    \n",
       "14144    89.574376\n",
       "14145    87.724007\n",
       "14146    88.890579\n",
       "14147    89.858126\n",
       "14148    89.514960\n",
       "Name: rougher.output.recovery_calculation, Length: 14149, dtype: float64"
      ]
     },
     "execution_count": 13,
     "metadata": {},
     "output_type": "execute_result"
    }
   ],
   "source": [
    "# вычислим эффективность обогащения для признака rougher.output.recovery\n",
    "\n",
    "C = data_train['rougher.output.concentrate_au']\n",
    "F = data_train['rougher.input.feed_au']\n",
    "T = data_train['rougher.output.tail_au']\n",
    "\n",
    "data_train['rougher.output.recovery_calculation'] = (C*(F-T)) / (F*(C-T))*100\n",
    "\n",
    "data_train['rougher.output.recovery_calculation']"
   ]
  },
  {
   "cell_type": "code",
   "execution_count": 14,
   "metadata": {},
   "outputs": [
    {
     "data": {
      "text/plain": [
       "9.73512347450521e-15"
      ]
     },
     "execution_count": 14,
     "metadata": {},
     "output_type": "execute_result"
    }
   ],
   "source": [
    "# рассчитаем среднюю абсолютную ошибку (MAE) между расчетами и значением признака rougher.output.recovery\n",
    "\n",
    "mean_absolute_error(data_train['rougher.output.recovery'], data_train['rougher.output.recovery_calculation'])"
   ]
  },
  {
   "cell_type": "markdown",
   "metadata": {},
   "source": [
    "Значение MAE низкое, почти 0, поэтому можно сделать вывод, что вычисление эффективности обогащения в данных датасета верные."
   ]
  },
  {
   "cell_type": "markdown",
   "metadata": {},
   "source": [
    "### Анализ признаков, недоступных в тестовой выборке\n"
   ]
  },
  {
   "cell_type": "code",
   "execution_count": 15,
   "metadata": {
    "scrolled": false
   },
   "outputs": [
    {
     "name": "stdout",
     "output_type": "stream",
     "text": [
      "<class 'pandas.core.frame.DataFrame'>\n",
      "RangeIndex: 14149 entries, 0 to 14148\n",
      "Data columns (total 34 columns):\n",
      " #   Column                                              Non-Null Count  Dtype  \n",
      "---  ------                                              --------------  -----  \n",
      " 0   final.output.concentrate_ag                         14148 non-null  float64\n",
      " 1   final.output.concentrate_pb                         14148 non-null  float64\n",
      " 2   final.output.concentrate_sol                        13938 non-null  float64\n",
      " 3   final.output.concentrate_au                         14149 non-null  float64\n",
      " 4   final.output.recovery                               14149 non-null  float64\n",
      " 5   final.output.tail_ag                                14149 non-null  float64\n",
      " 6   final.output.tail_pb                                14049 non-null  float64\n",
      " 7   final.output.tail_sol                               14144 non-null  float64\n",
      " 8   final.output.tail_au                                14149 non-null  float64\n",
      " 9   primary_cleaner.output.concentrate_ag               14149 non-null  float64\n",
      " 10  primary_cleaner.output.concentrate_pb               14063 non-null  float64\n",
      " 11  primary_cleaner.output.concentrate_sol              13863 non-null  float64\n",
      " 12  primary_cleaner.output.concentrate_au               14149 non-null  float64\n",
      " 13  primary_cleaner.output.tail_ag                      14148 non-null  float64\n",
      " 14  primary_cleaner.output.tail_pb                      14134 non-null  float64\n",
      " 15  primary_cleaner.output.tail_sol                     14103 non-null  float64\n",
      " 16  primary_cleaner.output.tail_au                      14149 non-null  float64\n",
      " 17  rougher.calculation.sulfate_to_au_concentrate       14148 non-null  float64\n",
      " 18  rougher.calculation.floatbank10_sulfate_to_au_feed  14148 non-null  float64\n",
      " 19  rougher.calculation.floatbank11_sulfate_to_au_feed  14148 non-null  float64\n",
      " 20  rougher.calculation.au_pb_ratio                     14149 non-null  float64\n",
      " 21  rougher.output.concentrate_ag                       14149 non-null  float64\n",
      " 22  rougher.output.concentrate_pb                       14149 non-null  float64\n",
      " 23  rougher.output.concentrate_sol                      14127 non-null  float64\n",
      " 24  rougher.output.concentrate_au                       14149 non-null  float64\n",
      " 25  rougher.output.recovery                             14149 non-null  float64\n",
      " 26  rougher.output.tail_ag                              14148 non-null  float64\n",
      " 27  rougher.output.tail_pb                              14149 non-null  float64\n",
      " 28  rougher.output.tail_sol                             14149 non-null  float64\n",
      " 29  rougher.output.tail_au                              14149 non-null  float64\n",
      " 30  secondary_cleaner.output.tail_ag                    14147 non-null  float64\n",
      " 31  secondary_cleaner.output.tail_pb                    14139 non-null  float64\n",
      " 32  secondary_cleaner.output.tail_sol                   12544 non-null  float64\n",
      " 33  secondary_cleaner.output.tail_au                    14149 non-null  float64\n",
      "dtypes: float64(34)\n",
      "memory usage: 3.7 MB\n"
     ]
    }
   ],
   "source": [
    "# выведем только те столбцы, которых нет в тестовой выборке\n",
    "# перед выводом удалим нами добавленный расчет параметра recovery\n",
    "\n",
    "not_in_test = data_train.drop(columns=list(data_test.columns))\n",
    "del not_in_test['rougher.output.recovery_calculation']\n",
    "not_in_test.info()"
   ]
  },
  {
   "cell_type": "markdown",
   "metadata": {},
   "source": [
    "**Мы видим, что в тестовой выборке отсутствуют:**   \n",
    "  \n",
    "- столбцы с другими металламми `ag`, `pb`, `sol`\n",
    "- признак `recovery`\n",
    "- целевый признаки для модели `rougher.output.recovery` и `final.output.recovery`\n",
    "- значения `output` по всем операциям с золотом  \n",
    "  \n",
    "Данные output - это все данные, которые получаются по факту реальных измерений, значит они и не должны быть в тестовой выборке. Так же нам не нужны в ней расчеты по другим металлам. Нас интерисуют только золото.   \n",
    "  \n",
    "Но значения целевых признаков нам будут необзодимы для рассчетов ML-моделей, поэтому следует добавить столбцы со значениями `rougher.output.recovery` и `final.output.recovery`."
   ]
  },
  {
   "cell_type": "markdown",
   "metadata": {},
   "source": [
    "### Предобработка данных\n"
   ]
  },
  {
   "cell_type": "code",
   "execution_count": 16,
   "metadata": {
    "scrolled": false
   },
   "outputs": [
    {
     "name": "stdout",
     "output_type": "stream",
     "text": [
      "<class 'pandas.core.frame.DataFrame'>\n",
      "Int64Index: 5290 entries, 0 to 5289\n",
      "Data columns (total 55 columns):\n",
      " #   Column                                      Non-Null Count  Dtype  \n",
      "---  ------                                      --------------  -----  \n",
      " 0   date                                        5290 non-null   object \n",
      " 1   primary_cleaner.input.sulfate               5286 non-null   float64\n",
      " 2   primary_cleaner.input.depressant            5285 non-null   float64\n",
      " 3   primary_cleaner.input.feed_size             5290 non-null   float64\n",
      " 4   primary_cleaner.input.xanthate              5286 non-null   float64\n",
      " 5   primary_cleaner.state.floatbank8_a_air      5290 non-null   float64\n",
      " 6   primary_cleaner.state.floatbank8_a_level    5290 non-null   float64\n",
      " 7   primary_cleaner.state.floatbank8_b_air      5290 non-null   float64\n",
      " 8   primary_cleaner.state.floatbank8_b_level    5290 non-null   float64\n",
      " 9   primary_cleaner.state.floatbank8_c_air      5290 non-null   float64\n",
      " 10  primary_cleaner.state.floatbank8_c_level    5290 non-null   float64\n",
      " 11  primary_cleaner.state.floatbank8_d_air      5290 non-null   float64\n",
      " 12  primary_cleaner.state.floatbank8_d_level    5290 non-null   float64\n",
      " 13  rougher.input.feed_ag                       5290 non-null   float64\n",
      " 14  rougher.input.feed_pb                       5290 non-null   float64\n",
      " 15  rougher.input.feed_rate                     5287 non-null   float64\n",
      " 16  rougher.input.feed_size                     5289 non-null   float64\n",
      " 17  rougher.input.feed_sol                      5269 non-null   float64\n",
      " 18  rougher.input.feed_au                       5290 non-null   float64\n",
      " 19  rougher.input.floatbank10_sulfate           5285 non-null   float64\n",
      " 20  rougher.input.floatbank10_xanthate          5290 non-null   float64\n",
      " 21  rougher.input.floatbank11_sulfate           5282 non-null   float64\n",
      " 22  rougher.input.floatbank11_xanthate          5265 non-null   float64\n",
      " 23  rougher.state.floatbank10_a_air             5290 non-null   float64\n",
      " 24  rougher.state.floatbank10_a_level           5290 non-null   float64\n",
      " 25  rougher.state.floatbank10_b_air             5290 non-null   float64\n",
      " 26  rougher.state.floatbank10_b_level           5290 non-null   float64\n",
      " 27  rougher.state.floatbank10_c_air             5290 non-null   float64\n",
      " 28  rougher.state.floatbank10_c_level           5290 non-null   float64\n",
      " 29  rougher.state.floatbank10_d_air             5290 non-null   float64\n",
      " 30  rougher.state.floatbank10_d_level           5290 non-null   float64\n",
      " 31  rougher.state.floatbank10_e_air             5290 non-null   float64\n",
      " 32  rougher.state.floatbank10_e_level           5290 non-null   float64\n",
      " 33  rougher.state.floatbank10_f_air             5290 non-null   float64\n",
      " 34  rougher.state.floatbank10_f_level           5290 non-null   float64\n",
      " 35  secondary_cleaner.state.floatbank2_a_air    5287 non-null   float64\n",
      " 36  secondary_cleaner.state.floatbank2_a_level  5290 non-null   float64\n",
      " 37  secondary_cleaner.state.floatbank2_b_air    5288 non-null   float64\n",
      " 38  secondary_cleaner.state.floatbank2_b_level  5290 non-null   float64\n",
      " 39  secondary_cleaner.state.floatbank3_a_air    5281 non-null   float64\n",
      " 40  secondary_cleaner.state.floatbank3_a_level  5290 non-null   float64\n",
      " 41  secondary_cleaner.state.floatbank3_b_air    5290 non-null   float64\n",
      " 42  secondary_cleaner.state.floatbank3_b_level  5290 non-null   float64\n",
      " 43  secondary_cleaner.state.floatbank4_a_air    5290 non-null   float64\n",
      " 44  secondary_cleaner.state.floatbank4_a_level  5290 non-null   float64\n",
      " 45  secondary_cleaner.state.floatbank4_b_air    5290 non-null   float64\n",
      " 46  secondary_cleaner.state.floatbank4_b_level  5290 non-null   float64\n",
      " 47  secondary_cleaner.state.floatbank5_a_air    5290 non-null   float64\n",
      " 48  secondary_cleaner.state.floatbank5_a_level  5290 non-null   float64\n",
      " 49  secondary_cleaner.state.floatbank5_b_air    5290 non-null   float64\n",
      " 50  secondary_cleaner.state.floatbank5_b_level  5290 non-null   float64\n",
      " 51  secondary_cleaner.state.floatbank6_a_air    5290 non-null   float64\n",
      " 52  secondary_cleaner.state.floatbank6_a_level  5290 non-null   float64\n",
      " 53  rougher.output.recovery                     5290 non-null   float64\n",
      " 54  final.output.recovery                       5290 non-null   float64\n",
      "dtypes: float64(54), object(1)\n",
      "memory usage: 2.3+ MB\n"
     ]
    }
   ],
   "source": [
    "# первым шагом добавим столбцы с данными rougher.output.recovery и final.output.recovery в тестовую выборку\n",
    "\n",
    "data_test = data_test.merge(data_full[['rougher.output.recovery', 'final.output.recovery', 'date']], \n",
    "                            how='left', on='date')\n",
    "data_test.info()"
   ]
  },
  {
   "cell_type": "code",
   "execution_count": 17,
   "metadata": {},
   "outputs": [
    {
     "data": {
      "text/plain": [
       "(43, 12, 22)"
      ]
     },
     "execution_count": 17,
     "metadata": {},
     "output_type": "execute_result"
    }
   ],
   "source": [
    "# пересчитаем количество пропусков в тестовой выборке после добавления новых столбцов функцией na_values\n",
    "\n",
    "na_values(data_test)"
   ]
  },
  {
   "cell_type": "markdown",
   "metadata": {},
   "source": [
    "Итак, объединив известные нам данные с шага знакомста с датасетами и новые данные про тетсовую выборку, мы имеем три датасета с данными без явных дубликатов и следующей информацией по пропущенным значениям:  \n",
    "  \n",
    "- `data_train` - размером 55 столбцов и 14149 строк, в которых 44 имеют пропущенные значения, а 11 не имеют\n",
    "- `data_test` - размером 55 столбцов и 5290 строк, в которых 12 имеют пропущенные значения, а 43 не имеют\n",
    "- `data_full`- размером 87 столбцов и 19439 строк, в которых 63 имеют пропущенные значения, а 24 не имеют  \n",
    "  \n",
    "Нам нужно заполнить пропуски для дальнейшей работы. Их условия известно, что данные индексируются датой и временем получения информации (признак `date`). Соседние по времени параметры часто похожи. Мы можем воспользоваться этой информацией и заполнить пропуски похожими значениями исходя из соседних временных парпаметров."
   ]
  },
  {
   "cell_type": "code",
   "execution_count": 18,
   "metadata": {},
   "outputs": [],
   "source": [
    "# заполним пропуски соседними по времени параметрами\n",
    "\n",
    "for data in (data_train, data_test, data_full):\n",
    "    data.fillna(method='ffill', inplace=True)"
   ]
  },
  {
   "cell_type": "code",
   "execution_count": 19,
   "metadata": {},
   "outputs": [
    {
     "data": {
      "text/plain": [
       "((55, 0, 0), (88, 0, 0), (87, 0, 0))"
      ]
     },
     "execution_count": 19,
     "metadata": {},
     "output_type": "execute_result"
    }
   ],
   "source": [
    "# проверим остались ли пропуски функцией na_values\n",
    "\n",
    "na_values(data_test), na_values(data_train), na_values(data_full)"
   ]
  },
  {
   "cell_type": "markdown",
   "metadata": {},
   "source": [
    "### Вывод"
   ]
  },
  {
   "cell_type": "markdown",
   "metadata": {},
   "source": [
    "\n",
    "На данном этапе мы изучили и подготовили данные для дальнейшей работы:\n",
    "  \n",
    "- проверили дубликаты, пропуски\n",
    "- посчитали значение MAE и выснили, что его значение почти 0, поэтому можно сделать вывод, что вычисление эффективности обогащения в данных датасета верные\n",
    "- проверили, каких данных не хватает в тестовой выборке и добавили два столбца `rougher.output.recovery` и `final.output.recovery` для дальнейшей работы с моделями машинного обучения\n",
    "- заполнили пропуски в данных  \n",
    "      \n",
    "В итоге у нас есть три подготовленных датасета с данными без явных дубликатов и без пропусков:  \n",
    "  \n",
    "- `data_train` - размером 88 столбцов и 14149 строк\n",
    "- `data_test` - размером 55 столбцов и 5290 строк\n",
    "- `data_full`- размером 87 столбцов и 19439 строк"
   ]
  },
  {
   "cell_type": "markdown",
   "metadata": {},
   "source": [
    "## Анализ данных"
   ]
  },
  {
   "cell_type": "markdown",
   "metadata": {},
   "source": [
    "### Изменения концентрация металлов (Au, Ag, Pb) на различных этапах очистки"
   ]
  },
  {
   "cell_type": "markdown",
   "metadata": {},
   "source": [
    "У нас есть следующие этапы очистки в данных:  \n",
    "  \n",
    "- `input` — входное сырье\n",
    "- `rougher` — флотация\n",
    "- `primary_cleaner` — первичная очистка\n",
    "- `secondary_cleaner` — вторичная очистка\n",
    "- `final` — финальные характеристики  \n",
    "  \n",
    "При этом в данных мы имеем как сам концентрат, так и хвосты. Для анализа возьмем обучающую выборку и отбросим строки с хвостами.  \n",
    "Посколько secondary_cleaner содержит output только для хвостов, то этот этап мы для анализа не берем. Помимо этого мы не берем информацию о sol (соль). Смотрим только металлы.   \n",
    "  \n",
    "Тогда нам нужны только столбцы:  \n",
    "  \n",
    "- `final.input.feed_ag`\n",
    "- `final.input.feed_pb`\n",
    "- `final.input.feed_au`\n",
    "- `final.output.concentrate_ag`\n",
    "- `final.output.concentrate_pb`\n",
    "- `final.output.concentrate_au`\n",
    "- `primary_cleaner.output.concentrate_ag`\n",
    "- `primary_cleaner.output.concentrate_pb`\n",
    "- `primary_cleaner.output.concentrate_au`\n",
    "- `rougher.output.concentrate_ag`\n",
    "- `rougher.output.concentrate_pb`\n",
    "- `rougher.output.concentrate_au`\n"
   ]
  },
  {
   "cell_type": "code",
   "execution_count": 20,
   "metadata": {},
   "outputs": [
    {
     "data": {
      "image/png": "[encoded data removed]",
      "text/plain": [
       "<Figure size 2400x1200 with 1 Axes>"
      ]
     },
     "metadata": {
      "needs_background": "light"
     },
     "output_type": "display_data"
    }
   ],
   "source": [
    "# строим гистограмму концентрации золота на разных этапах очистки\n",
    "\n",
    "plt.figure(figsize=(16, 8), dpi=150); \n",
    "\n",
    "data_train['rougher.input.feed_au'].plot(kind='hist',label='input', alpha=.8)\n",
    "data_train['rougher.output.concentrate_au'].plot(kind='hist',label='rougher', alpha=.8)\n",
    "data_train['primary_cleaner.output.concentrate_au'].plot(kind='hist',label='primary_cleaner', alpha=.8)\n",
    "data_train['final.output.concentrate_au'].plot(kind='hist',label='final', alpha=.8)\n",
    "\n",
    "plt.title('Гистограмма концентрации золота')\n",
    "plt.xlabel('Уровень концентрации')\n",
    "plt.ylabel('Вероятность проявления')\n",
    "plt.legend()\n",
    "plt.show();"
   ]
  },
  {
   "cell_type": "code",
   "execution_count": 21,
   "metadata": {},
   "outputs": [
    {
     "data": {
      "image/png": "[encoded data removed]",
      "text/plain": [
       "<Figure size 2400x1200 with 1 Axes>"
      ]
     },
     "metadata": {
      "needs_background": "light"
     },
     "output_type": "display_data"
    }
   ],
   "source": [
    "# строим гистограмму концентрации серебра на разных этапах очистки\n",
    "\n",
    "plt.figure(figsize=(16, 8), dpi=150); \n",
    "\n",
    "data_train['rougher.input.feed_ag'].plot(kind='hist',label='input', alpha=.8)\n",
    "data_train['rougher.output.concentrate_ag'].plot(kind='hist',label='rougher', alpha=.8)\n",
    "data_train['primary_cleaner.output.concentrate_ag'].plot(kind='hist',label='primary_cleaner', alpha=.8)\n",
    "data_train['final.output.concentrate_ag'].plot(kind='hist',label='final', alpha=.8)\n",
    "\n",
    "plt.title('Гистограмма концентрации серебра')\n",
    "plt.xlabel('Уровень концентрации')\n",
    "plt.ylabel('Вероятность проявления')\n",
    "plt.legend()\n",
    "plt.show();"
   ]
  },
  {
   "cell_type": "code",
   "execution_count": 22,
   "metadata": {},
   "outputs": [
    {
     "data": {
      "image/png": "[encoded data removed]",
      "text/plain": [
       "<Figure size 2400x1200 with 1 Axes>"
      ]
     },
     "metadata": {
      "needs_background": "light"
     },
     "output_type": "display_data"
    }
   ],
   "source": [
    "# строим гистограмму концентрации свинца на разных этапах очистки\n",
    "\n",
    "plt.figure(figsize=(16, 8), dpi=150); \n",
    "\n",
    "data_train['rougher.input.feed_pb'].plot(kind='hist',label='input', alpha=.8)\n",
    "data_train['rougher.output.concentrate_pb'].plot(kind='hist',label='rougher', alpha=.8)\n",
    "data_train['primary_cleaner.output.concentrate_pb'].plot(kind='hist',label='primary_cleaner', alpha=.8)\n",
    "data_train['final.output.concentrate_pb'].plot(kind='hist',label='final', alpha=.8)\n",
    "\n",
    "plt.title('Гистограмма концентрации свинца')\n",
    "plt.xlabel('Уровень концентрации')\n",
    "plt.ylabel('Вероятность проявления')\n",
    "plt.legend()\n",
    "plt.show();"
   ]
  },
  {
   "cell_type": "markdown",
   "metadata": {},
   "source": [
    "Из графиков видно, что:\n",
    "  \n",
    "- **золото**: концентрации увеличивается на каждом этапе очистки\n",
    "- **серебро**: концентрация уменьшается на каждом этапе очистки\n",
    "- **свинец**: концентрация повысилась к финальному этапу   \n",
    "  \n",
    "У всех трех металлов видны отдельные значения в районе нуля - видимо, это выбросы. Удалим их для дальнейшей работы. "
   ]
  },
  {
   "cell_type": "code",
   "execution_count": 23,
   "metadata": {},
   "outputs": [],
   "source": [
    "# удалим аномальные нулевые значения в нужных нам столбцах\n",
    "\n",
    "data_train = data_train[\n",
    "    (data_train['rougher.input.feed_au'] != 0)\n",
    "    & (data_train['rougher.input.feed_ag'] != 0)\n",
    "    & (data_train['rougher.input.feed_pb'] != 0) \n",
    "    & (data_train['rougher.input.feed_sol'] != 0)]\n",
    "\n",
    "data_train = data_train[\n",
    "    (data_train['rougher.output.concentrate_au'] != 0)\n",
    "    & (data_train['rougher.output.concentrate_ag'] != 0)\n",
    "    & (data_train['rougher.output.concentrate_pb'] != 0) \n",
    "    & (data_train['rougher.output.concentrate_sol'] != 0)]\n",
    "\n",
    "data_train = data_train[\n",
    "    (data_train['primary_cleaner.output.concentrate_au'] != 0)\n",
    "    & (data_train['primary_cleaner.output.concentrate_ag'] != 0)\n",
    "    & (data_train['primary_cleaner.output.concentrate_pb'] != 0) \n",
    "    & (data_train['rougher.output.concentrate_sol'] != 0)]\n",
    "\n",
    "data_train = data_train[\n",
    "    (data_train['final.output.concentrate_au'] != 0)\n",
    "    & (data_train['final.output.concentrate_ag'] != 0)\n",
    "    & (data_train['final.output.concentrate_pb'] != 0)\n",
    "    & (data_train['rougher.output.concentrate_sol'] != 0)]"
   ]
  },
  {
   "cell_type": "markdown",
   "metadata": {},
   "source": [
    "### Распределения размеров гранул сырья на обучающей и тестовой выборках"
   ]
  },
  {
   "cell_type": "markdown",
   "metadata": {},
   "source": [
    "Сравним распределения размеров гранул сырья на обучающей и тестовой выборках. Если распределения сильно отличаются друг от друга, оценка модели будет неправильной.  \n",
    "  \n",
    "Нас интерисуют стоблцы:\n",
    "- `rougher.input.feed_size` \n",
    "- `primary_cleaner.input.feed_size`\n",
    "  \n",
    "Построим для них гистограммы сравнения на обучающей и тестовой выборках."
   ]
  },
  {
   "cell_type": "code",
   "execution_count": 24,
   "metadata": {},
   "outputs": [
    {
     "data": {
      "image/png": "[encoded data removed]",
      "text/plain": [
       "<Figure size 2400x1200 with 1 Axes>"
      ]
     },
     "metadata": {
      "needs_background": "light"
     },
     "output_type": "display_data"
    }
   ],
   "source": [
    "# строим гистограмму для размера гранул на входе в черном концентрате\n",
    "\n",
    "plt.figure(figsize=(16, 8), dpi=150); \n",
    "\n",
    "sns.kdeplot(data=data_train['rougher.input.feed_size'], fill=True , color = \"Blue\", label='train')\n",
    "sns.kdeplot(data=data_test['rougher.input.feed_size'], fill=True , color = \"Orange\", label='train')\n",
    "\n",
    "plt.title('Гистограмма размера гранул сырья в черном концентрате')\n",
    "plt.xlabel('Количество')\n",
    "plt.ylabel('Размер гранул')\n",
    "plt.legend()\n",
    "plt.show();"
   ]
  },
  {
   "cell_type": "code",
   "execution_count": 25,
   "metadata": {},
   "outputs": [
    {
     "data": {
      "image/png": "[encoded data removed]",
      "text/plain": [
       "<Figure size 2400x1200 with 1 Axes>"
      ]
     },
     "metadata": {
      "needs_background": "light"
     },
     "output_type": "display_data"
    }
   ],
   "source": [
    "# строим гистограмму для размера гранул на первом этапе очистки\n",
    "\n",
    "plt.figure(figsize=(16, 8), dpi=150); \n",
    "\n",
    "sns.kdeplot(data=data_train['primary_cleaner.input.feed_size'], fill=True , color = \"Blue\", label='train')\n",
    "sns.kdeplot(data=data_test['primary_cleaner.input.feed_size'], fill=True , color = \"Orange\", label='train')\n",
    "\n",
    "plt.title('Гистограмма размера гранул сырья на первом этапе очистки')\n",
    "plt.xlabel('Количество')\n",
    "plt.ylabel('Размер гранул')\n",
    "plt.legend()\n",
    "plt.show();"
   ]
  },
  {
   "cell_type": "markdown",
   "metadata": {},
   "source": [
    "Распределения похожи, но первичном этапе очистки мы видим нормальное распределние, это означает, что с данными все в порядке. Можно обучать и проверять на них модели."
   ]
  },
  {
   "cell_type": "markdown",
   "metadata": {},
   "source": [
    "###  Суммарная концентрация всех веществ на разных стадиях"
   ]
  },
  {
   "cell_type": "markdown",
   "metadata": {},
   "source": [
    "Исследуем суммарную концентрацию всех веществ на разных стадиях: в сырье, в черновом и финальном концентратах.   \n",
    "  \n",
    "Нас интерисуют следующие столбцы данных:  \n",
    "  \n",
    "- `final.output.concentrate_ag`\n",
    "- `final.output.concentrate_pb`\n",
    "- `final.output.concentrate_sol`\n",
    "- `final.output.concentrate_au`\n",
    "- `primary_cleaner.output.concentrate_ag`\n",
    "- `primary_cleaner.output.concentrate_pb`\n",
    "- `primary_cleaner.output.concentrate_sol`\n",
    "- `primary_cleaner.output.concentrate_au`\n",
    "- `rougher.output.concentrate_ag`\n",
    "- `rougher.output.concentrate_pb`\n",
    "- `rougher.output.concentrate_sol`\n",
    "- `rougher.output.concentrate_au`\n"
   ]
  },
  {
   "cell_type": "code",
   "execution_count": 26,
   "metadata": {
    "scrolled": true
   },
   "outputs": [],
   "source": [
    "# пропишем суммарную концентрацию для каждого вещества на разных стадиях: в сырье, в черновом и финальном концентратах\n",
    "\n",
    "\n",
    "rougher_total_concentrate = (data_train['rougher.output.concentrate_ag'] + \n",
    "                             data_train['rougher.output.concentrate_pb'] +\n",
    "                             data_train['rougher.output.concentrate_sol'] + \n",
    "                             data_train['rougher.output.concentrate_au'])\n",
    "\n",
    "primary_total_concentrate = (data_train['primary_cleaner.output.concentrate_ag'] + \n",
    "                             data_train['primary_cleaner.output.concentrate_pb'] + \n",
    "                             data_train['primary_cleaner.output.concentrate_sol'] + \n",
    "                             data_train['primary_cleaner.output.concentrate_au'])\n",
    "\n",
    "\n",
    "final_total_concentrate = (data_train['final.output.concentrate_ag'] + \n",
    "                           data_train['final.output.concentrate_pb'] + \n",
    "                           data_train['final.output.concentrate_sol'] + \n",
    "                           data_train['final.output.concentrate_au'])\n"
   ]
  },
  {
   "cell_type": "code",
   "execution_count": 27,
   "metadata": {},
   "outputs": [
    {
     "data": {
      "image/png": "[encoded data removed]",
      "text/plain": [
       "<Figure size 2400x1200 with 1 Axes>"
      ]
     },
     "metadata": {
      "needs_background": "light"
     },
     "output_type": "display_data"
    }
   ],
   "source": [
    "# строим гистограмму для суммарной концентрации веществ\n",
    "\n",
    "plt.figure(figsize=(16, 8), dpi=150); \n",
    "\n",
    "final_total_concentrate.plot(kind='hist',label='final', alpha=.8)\n",
    "primary_total_concentrate.plot(kind='hist',label='primary', alpha=.8)\n",
    "rougher_total_concentrate.plot(kind='hist',label='rougher', alpha=.8)\n",
    "\n",
    "plt.title('Гистограмма размера гранул сырья на первом этапе очистки')\n",
    "plt.xlabel('Суммарная концентрация')\n",
    "plt.ylabel('Количество')\n",
    "plt.legend()\n",
    "plt.show();"
   ]
  },
  {
   "cell_type": "markdown",
   "metadata": {},
   "source": [
    "Из гистограмм видно, что суммарная концентрация веществ на каждой стадии повышается. Это хорошо.  \n",
    "На графике вновь видим аномальные значения в районе нуля. Нужно их обработать.  \n",
    "  \n",
    "Но сначала вернемся к тем, какие мы имеем столбцы в обучающей выборке. После того, как мы проанализировали данные, мы можем оставить в обучающей выборке только нужные нам столбцы для построения моделей. Это такие столбцы, как в тестовой выборке."
   ]
  },
  {
   "cell_type": "code",
   "execution_count": 28,
   "metadata": {},
   "outputs": [],
   "source": [
    "# удалим аномальные нулевые значения в нужных нам столбцах\n",
    "\n",
    "data_train = data_train[\n",
    "    (data_train['rougher.output.concentrate_au'] != 0)\n",
    "    & (data_train['rougher.output.concentrate_ag'] != 0)\n",
    "    & (data_train['rougher.output.concentrate_pb'] != 0)\n",
    "    & (data_train['rougher.output.concentrate_sol'] != 0)]\n",
    "\n",
    "data_train = data_train[\n",
    "    (data_train['primary_cleaner.output.concentrate_au'] != 0)\n",
    "    & (data_train['primary_cleaner.output.concentrate_ag'] != 0)\n",
    "    & (data_train['primary_cleaner.output.concentrate_pb'] != 0) \n",
    "    & (data_train['primary_cleaner.output.concentrate_sol'] != 0)]\n",
    "\n",
    "data_train = data_train[\n",
    "    (data_train['final.output.concentrate_au'] != 0)\n",
    "    & (data_train['final.output.concentrate_ag'] != 0)\n",
    "    & (data_train['final.output.concentrate_pb'] != 0) \n",
    "    & (data_train['final.output.concentrate_sol'] != 0)]"
   ]
  },
  {
   "cell_type": "code",
   "execution_count": 29,
   "metadata": {
    "scrolled": false
   },
   "outputs": [
    {
     "name": "stdout",
     "output_type": "stream",
     "text": [
      "<class 'pandas.core.frame.DataFrame'>\n",
      "Int64Index: 13716 entries, 0 to 14148\n",
      "Data columns (total 55 columns):\n",
      " #   Column                                      Non-Null Count  Dtype  \n",
      "---  ------                                      --------------  -----  \n",
      " 0   date                                        13716 non-null  object \n",
      " 1   final.output.recovery                       13716 non-null  float64\n",
      " 2   primary_cleaner.input.sulfate               13716 non-null  float64\n",
      " 3   primary_cleaner.input.depressant            13716 non-null  float64\n",
      " 4   primary_cleaner.input.feed_size             13716 non-null  float64\n",
      " 5   primary_cleaner.input.xanthate              13716 non-null  float64\n",
      " 6   primary_cleaner.state.floatbank8_a_air      13716 non-null  float64\n",
      " 7   primary_cleaner.state.floatbank8_a_level    13716 non-null  float64\n",
      " 8   primary_cleaner.state.floatbank8_b_air      13716 non-null  float64\n",
      " 9   primary_cleaner.state.floatbank8_b_level    13716 non-null  float64\n",
      " 10  primary_cleaner.state.floatbank8_c_air      13716 non-null  float64\n",
      " 11  primary_cleaner.state.floatbank8_c_level    13716 non-null  float64\n",
      " 12  primary_cleaner.state.floatbank8_d_air      13716 non-null  float64\n",
      " 13  primary_cleaner.state.floatbank8_d_level    13716 non-null  float64\n",
      " 14  rougher.input.feed_ag                       13716 non-null  float64\n",
      " 15  rougher.input.feed_pb                       13716 non-null  float64\n",
      " 16  rougher.input.feed_rate                     13716 non-null  float64\n",
      " 17  rougher.input.feed_size                     13716 non-null  float64\n",
      " 18  rougher.input.feed_sol                      13716 non-null  float64\n",
      " 19  rougher.input.feed_au                       13716 non-null  float64\n",
      " 20  rougher.input.floatbank10_sulfate           13716 non-null  float64\n",
      " 21  rougher.input.floatbank10_xanthate          13716 non-null  float64\n",
      " 22  rougher.input.floatbank11_sulfate           13716 non-null  float64\n",
      " 23  rougher.input.floatbank11_xanthate          13716 non-null  float64\n",
      " 24  rougher.output.recovery                     13716 non-null  float64\n",
      " 25  rougher.state.floatbank10_a_air             13716 non-null  float64\n",
      " 26  rougher.state.floatbank10_a_level           13716 non-null  float64\n",
      " 27  rougher.state.floatbank10_b_air             13716 non-null  float64\n",
      " 28  rougher.state.floatbank10_b_level           13716 non-null  float64\n",
      " 29  rougher.state.floatbank10_c_air             13716 non-null  float64\n",
      " 30  rougher.state.floatbank10_c_level           13716 non-null  float64\n",
      " 31  rougher.state.floatbank10_d_air             13716 non-null  float64\n",
      " 32  rougher.state.floatbank10_d_level           13716 non-null  float64\n",
      " 33  rougher.state.floatbank10_e_air             13716 non-null  float64\n",
      " 34  rougher.state.floatbank10_e_level           13716 non-null  float64\n",
      " 35  rougher.state.floatbank10_f_air             13716 non-null  float64\n",
      " 36  rougher.state.floatbank10_f_level           13716 non-null  float64\n",
      " 37  secondary_cleaner.state.floatbank2_a_air    13716 non-null  float64\n",
      " 38  secondary_cleaner.state.floatbank2_a_level  13716 non-null  float64\n",
      " 39  secondary_cleaner.state.floatbank2_b_air    13716 non-null  float64\n",
      " 40  secondary_cleaner.state.floatbank2_b_level  13716 non-null  float64\n",
      " 41  secondary_cleaner.state.floatbank3_a_air    13716 non-null  float64\n",
      " 42  secondary_cleaner.state.floatbank3_a_level  13716 non-null  float64\n",
      " 43  secondary_cleaner.state.floatbank3_b_air    13716 non-null  float64\n",
      " 44  secondary_cleaner.state.floatbank3_b_level  13716 non-null  float64\n",
      " 45  secondary_cleaner.state.floatbank4_a_air    13716 non-null  float64\n",
      " 46  secondary_cleaner.state.floatbank4_a_level  13716 non-null  float64\n",
      " 47  secondary_cleaner.state.floatbank4_b_air    13716 non-null  float64\n",
      " 48  secondary_cleaner.state.floatbank4_b_level  13716 non-null  float64\n",
      " 49  secondary_cleaner.state.floatbank5_a_air    13716 non-null  float64\n",
      " 50  secondary_cleaner.state.floatbank5_a_level  13716 non-null  float64\n",
      " 51  secondary_cleaner.state.floatbank5_b_air    13716 non-null  float64\n",
      " 52  secondary_cleaner.state.floatbank5_b_level  13716 non-null  float64\n",
      " 53  secondary_cleaner.state.floatbank6_a_air    13716 non-null  float64\n",
      " 54  secondary_cleaner.state.floatbank6_a_level  13716 non-null  float64\n",
      "dtypes: float64(54), object(1)\n",
      "memory usage: 5.9+ MB\n"
     ]
    }
   ],
   "source": [
    "# оставим в обучающей выборке такие столбцы, как и в тестовой\n",
    "\n",
    "not_in_test_2 = data_train.drop(columns=list(data_test.columns))\n",
    "data_train = data_train.drop(columns=list(not_in_test_2.columns))\n",
    "\n",
    "data_train.info()"
   ]
  },
  {
   "cell_type": "markdown",
   "metadata": {},
   "source": [
    "Мы видим, что столбцы, которые мы анализировали ранее, исчезли из выборки, но осталось 8 столбцов, в которых тоже могут быть выбросы. Это:  \n",
    "  \n",
    "- `rougher.input.feed_ag`\n",
    "- `rougher.input.feed_pb`\n",
    "- `rougher.input.feed_rate`\n",
    "- `rougher.input.feed_size`\n",
    "- `rougher.input.feed_sol`\n",
    "- `rougher.input.feed_au`\n",
    "- `rougher.output.recovery`\n",
    "- `final.output.recovery`\n",
    "  \n",
    "Удалим в них  анамалии в районе нуля.\n",
    "\n"
   ]
  },
  {
   "cell_type": "code",
   "execution_count": 30,
   "metadata": {},
   "outputs": [],
   "source": [
    "# удалим аномальные нулевые значений в нужных нам столбцах\n",
    "\n",
    "data_train = data_train[\n",
    "    (data_train['rougher.input.feed_ag'] != 0)\n",
    "    & (data_train['rougher.input.feed_pb'] != 0)\n",
    "    & (data_train['rougher.input.feed_rate'] != 0)\n",
    "    & (data_train['rougher.input.feed_size'] != 0)\n",
    "    & (data_train['rougher.input.feed_sol'] != 0)\n",
    "    & (data_train['rougher.input.feed_au'] != 0)\n",
    "    & (data_train['rougher.output.recovery'] != 0)\n",
    "    & (data_train['rougher.output.recovery'] != 0)]"
   ]
  },
  {
   "cell_type": "markdown",
   "metadata": {},
   "source": [
    "С данными все в порядке, переходим к выводу по этому этапу и двигаемся дальше к моделям машинного обучения."
   ]
  },
  {
   "cell_type": "markdown",
   "metadata": {},
   "source": [
    "### Вывод"
   ]
  },
  {
   "cell_type": "markdown",
   "metadata": {},
   "source": [
    "  \n",
    "На этом этапе мы провели анализ данных и выяснили, что:   \n",
    "  \n",
    "- концентрация золота увеличивается на каждом этапе очистки,  серебра - уменьшается, а свинца - повысилась к финальному этапу\n",
    "- распределения размеров гранул сырья в черновом и на первом этапе очистки похожи, мы видим нормальное распределние, это означает, что с данными все в порядке\n",
    "- суммарная концентрация веществ на каждой стадии повышается\n",
    "  \n",
    "На этом этапе мы убрали лишние столбцы из обучающей выборки и оставили только совпадающие с тестовой. Это будет удобно для работы далее с моделями машинного обучения."
   ]
  },
  {
   "cell_type": "markdown",
   "metadata": {},
   "source": [
    "## Обучение моделей"
   ]
  },
  {
   "cell_type": "markdown",
   "metadata": {},
   "source": [
    "### Функция для вычисления итоговой sMAPE"
   ]
  },
  {
   "cell_type": "markdown",
   "metadata": {},
   "source": [
    "Нам нужно написать функции для расчета симметричной средней абсолютной процентной ошибке (SMAPE или sMAPE). Она послужит нам ддя проверки меры точности моделей. "
   ]
  },
  {
   "cell_type": "code",
   "execution_count": 31,
   "metadata": {},
   "outputs": [],
   "source": [
    "# функция для расчета SMAPE\n",
    "\n",
    "def smape(target, predict):\n",
    "    smape = (1/len(target))*np.sum((np.abs(target - predict))/( (np.abs(target)+np.abs(predict))/2))*100\n",
    "    return smape"
   ]
  },
  {
   "cell_type": "code",
   "execution_count": 32,
   "metadata": {},
   "outputs": [],
   "source": [
    "# зададим счетчик\n",
    "\n",
    "smape_scorer = make_scorer(smape, greater_is_better = False)"
   ]
  },
  {
   "cell_type": "code",
   "execution_count": 33,
   "metadata": {},
   "outputs": [],
   "source": [
    "# функция для расчета итогового SMAPE \n",
    "\n",
    "def overall_smape(rougher, final):\n",
    "    overall = 0.25*rougher+0.75*final\n",
    "    return overall"
   ]
  },
  {
   "cell_type": "markdown",
   "metadata": {},
   "source": [
    "### Подготовка признаков"
   ]
  },
  {
   "cell_type": "markdown",
   "metadata": {},
   "source": [
    "Сначала обозначим целевые признаки и фичи на обучающей и тестовой выборках для чернового и финального концентратов."
   ]
  },
  {
   "cell_type": "code",
   "execution_count": 34,
   "metadata": {},
   "outputs": [],
   "source": [
    "# признаки на обучающей выборке\n",
    "\n",
    "features_train = data_train.drop(['date','rougher.output.recovery','final.output.recovery'], axis=1)\n",
    "target_train_rougher = data_train['rougher.output.recovery']\n",
    "target_train_final = data_train['final.output.recovery']"
   ]
  },
  {
   "cell_type": "code",
   "execution_count": 35,
   "metadata": {},
   "outputs": [],
   "source": [
    "# признаки на тестовой выборке \n",
    "\n",
    "features_test = data_test.drop(['date','rougher.output.recovery','final.output.recovery'], axis=1)\n",
    "target_test_rougher = data_test['rougher.output.recovery']\n",
    "target_test_final = data_test['final.output.recovery']"
   ]
  },
  {
   "cell_type": "code",
   "execution_count": 36,
   "metadata": {},
   "outputs": [],
   "source": [
    "# стандартизируем численные признаки в обучающей выборке\n",
    "\n",
    "scaler = StandardScaler()\n",
    "scaler.fit(features_train)\n",
    "features_train = scaler.transform(features_train)"
   ]
  },
  {
   "cell_type": "markdown",
   "metadata": {},
   "source": [
    "### Модель линейная регрессия"
   ]
  },
  {
   "cell_type": "code",
   "execution_count": 37,
   "metadata": {},
   "outputs": [
    {
     "name": "stdout",
     "output_type": "stream",
     "text": [
      "[-9.67000578 -7.21172257 -5.57226237 -4.872968   -9.02316877]\n",
      "\n",
      "Средняя оценка качества smape 7.27\n",
      "CPU times: user 378 ms, sys: 656 ms, total: 1.03 s\n",
      "Wall time: 944 ms\n"
     ]
    }
   ],
   "source": [
    "%%time\n",
    "\n",
    "# обучим модель линейной регрессии для этапа rougher\n",
    "# оценим качетсво модели кросс-валидацией\n",
    "# посчитаем smape\n",
    "\n",
    "model_lin_reg_r = LinearRegression()\n",
    "\n",
    "scores_lin_reg_r = cross_val_score(model_lin_reg_r,\n",
    "                                    features_train, \n",
    "                                    target_train_rougher, \n",
    "                                    scoring = smape_scorer,\n",
    "                                    cv = 5)\n",
    "\n",
    "smape_lin_reg_rougher = np.mean(abs(scores_lin_reg_r))\n",
    "\n",
    "print(scores_lin_reg_r)\n",
    "print()\n",
    "print('Средняя оценка качества smape', round(smape_lin_reg_rougher, 2))"
   ]
  },
  {
   "cell_type": "code",
   "execution_count": 38,
   "metadata": {},
   "outputs": [
    {
     "name": "stdout",
     "output_type": "stream",
     "text": [
      "[-13.33259636  -9.73229812  -9.24338651  -9.08241267 -13.31342734]\n",
      "\n",
      "Средняя оценка качества smape 10.94\n",
      "CPU times: user 467 ms, sys: 810 ms, total: 1.28 s\n",
      "Wall time: 1.3 s\n"
     ]
    }
   ],
   "source": [
    "%%time\n",
    "\n",
    "# обучим модель линейной регрессии для этапа final\n",
    "# оценим качетсво модели кросс-валидацией\n",
    "# посчитаем smape\n",
    "\n",
    "model_lin_reg_f = LinearRegression()\n",
    "\n",
    "scores_lin_reg_f = cross_val_score(model_lin_reg_f,\n",
    "                                   features_train, \n",
    "                                   target_train_final,\n",
    "                                   scoring = smape_scorer,\n",
    "                                   cv = 5)\n",
    "\n",
    "smape_lin_reg_final = np.mean(abs(scores_lin_reg_f))\n",
    "\n",
    "print(scores_lin_reg_f)\n",
    "print()\n",
    "print('Средняя оценка качества smape', round(smape_lin_reg_final, 2))"
   ]
  },
  {
   "cell_type": "code",
   "execution_count": 39,
   "metadata": {},
   "outputs": [
    {
     "name": "stdout",
     "output_type": "stream",
     "text": [
      "Средняя итоговая оценка качества модели smape  10.02\n"
     ]
    }
   ],
   "source": [
    "# вычислим итоговую оценку smape\n",
    "\n",
    "smape_overall_lin_reg = overall_smape(smape_lin_reg_rougher, smape_lin_reg_final)\n",
    "\n",
    "print('Средняя итоговая оценка качества модели smape ', round(smape_overall_lin_reg, 2))"
   ]
  },
  {
   "cell_type": "markdown",
   "metadata": {},
   "source": [
    "### Модель решающее дерево в регрессии"
   ]
  },
  {
   "cell_type": "code",
   "execution_count": 40,
   "metadata": {},
   "outputs": [],
   "source": [
    "state = RandomState(12345)"
   ]
  },
  {
   "cell_type": "code",
   "execution_count": 41,
   "metadata": {},
   "outputs": [
    {
     "name": "stdout",
     "output_type": "stream",
     "text": [
      "DecisionTreeRegressor(max_depth=4,\n",
      "                      random_state=RandomState(MT19937) at 0x7EFFBC0DE640)\n",
      "\n",
      "Средняя оценка качества smape 7.32\n",
      "CPU times: user 1min 20s, sys: 94.1 ms, total: 1min 21s\n",
      "Wall time: 1min 21s\n"
     ]
    }
   ],
   "source": [
    "%%time\n",
    "\n",
    "# обучим модель решающее дерево для этапа rougher\n",
    "# оценим качетсво модели кросс-валидацией\n",
    "# посчитаем smape\n",
    "\n",
    "best_model_tree_rougher = None\n",
    "best_result_tree_rougher = 100\n",
    "\n",
    "scores_tree_rougher = []\n",
    "\n",
    "for depth in range(1, 30, 1):\n",
    "    model_tree_rougher = DecisionTreeRegressor(max_depth=depth, random_state=state)\n",
    "    \n",
    "    scores_tree_rougher = cross_val_score(model_tree_rougher,\n",
    "                                          features_train,\n",
    "                                          target_train_rougher,\n",
    "                                          scoring=smape_scorer,\n",
    "                                          cv=5)\n",
    "    \n",
    "\n",
    "    smape_tree_rougher = np.mean(abs(scores_tree_rougher))\n",
    "    \n",
    "    if smape_tree_rougher < best_result_tree_rougher:\n",
    "        best_model_tree_rougher = model_tree_rougher\n",
    "        best_result_tree_rougher = smape_tree_rougher\n",
    "    \n",
    "    \n",
    "print(best_model_tree_rougher)\n",
    "print()\n",
    "print('Средняя оценка качества smape', round(best_result_tree_rougher, 2))"
   ]
  },
  {
   "cell_type": "code",
   "execution_count": 42,
   "metadata": {},
   "outputs": [
    {
     "name": "stdout",
     "output_type": "stream",
     "text": [
      "DecisionTreeRegressor(max_depth=3,\n",
      "                      random_state=RandomState(MT19937) at 0x7EFFBC0DE640)\n",
      "\n",
      "Средняя оценка качества smape 14.89\n",
      "CPU times: user 1min 26s, sys: 140 ms, total: 1min 27s\n",
      "Wall time: 1min 27s\n"
     ]
    }
   ],
   "source": [
    "%%time\n",
    "\n",
    "# обучим модель решающее дерево для этапа rougher\n",
    "# оценим качетсво модели кросс-валидацией\n",
    "# посчитаем smape\n",
    "\n",
    "best_model_tree_final = None\n",
    "best_result_tree_final = 100\n",
    "\n",
    "scores_tree_final = []\n",
    "\n",
    "for depth in range(1, 30, 1):\n",
    "    model_tree_final = DecisionTreeRegressor(max_depth=depth, random_state=state)\n",
    "    \n",
    "    scores_tree_final = cross_val_score(model_tree_final,\n",
    "                                        features_train,\n",
    "                                        target_train_final,\n",
    "                                        scoring=smape_scorer,\n",
    "                                        cv=5)\n",
    "    \n",
    "    smape_tree_final = np.mean(abs(scores_tree_final))\n",
    "    \n",
    "    if smape_tree_final < best_result_tree_final:\n",
    "        best_model_tree_final = model_tree_final\n",
    "        best_result_tree_final = smape_tree_final\n",
    "    \n",
    "\n",
    "print(best_model_tree_final)\n",
    "print()\n",
    "print('Средняя оценка качества smape', round(smape_tree_final, 2))"
   ]
  },
  {
   "cell_type": "code",
   "execution_count": 43,
   "metadata": {},
   "outputs": [
    {
     "name": "stdout",
     "output_type": "stream",
     "text": [
      "Средняя итоговая оценка качества модели smape  13.84\n"
     ]
    }
   ],
   "source": [
    "# вычислим итоговую оценку smape\n",
    "\n",
    "smape_overall_tree = overall_smape(smape_tree_rougher, smape_tree_final)\n",
    "\n",
    "print('Средняя итоговая оценка качества модели smape ', round(smape_overall_tree, 2))"
   ]
  },
  {
   "cell_type": "markdown",
   "metadata": {},
   "source": [
    "### Модель случайный лес в регрессии"
   ]
  },
  {
   "cell_type": "code",
   "execution_count": 44,
   "metadata": {},
   "outputs": [
    {
     "name": "stdout",
     "output_type": "stream",
     "text": [
      "RandomForestRegressor(max_depth=4, n_estimators=10,\n",
      "                      random_state=RandomState(MT19937) at 0x7EFFBC0DE640)\n",
      "10 4\n",
      "\n",
      "Средняя оценка качества smape_forest_rougher 7.16\n",
      "CPU times: user 48min 49s, sys: 2.59 s, total: 48min 51s\n",
      "Wall time: 48min 56s\n"
     ]
    }
   ],
   "source": [
    "%%time\n",
    "\n",
    "# обучим модель случайный лес для этапа rougher\n",
    "# оценим качетсво модели кросс-валидацией\n",
    "# посчитаем smape\n",
    "\n",
    "best_model_forest_r = None\n",
    "best_result_forest_r = 10000\n",
    "best_est_forest_r = 0\n",
    "best_depth_forest_r = 0\n",
    "\n",
    "for est in range(10, 100, 30):\n",
    "    for depth in range(2,30,2):\n",
    "        model_forest_rougher = RandomForestRegressor(n_estimators=est, \n",
    "                                                     max_depth=depth, \n",
    "                                                     random_state=state)\n",
    "        \n",
    "        scores_forest_rougher = cross_val_score(model_forest_rougher,\n",
    "                                                features_train,\n",
    "                                                target_train_rougher,\n",
    "                                                scoring=smape_scorer,\n",
    "                                                cv=5)\n",
    "        \n",
    "        smape_forest_rougher = np.mean(abs(scores_forest_rougher))\n",
    "        \n",
    "        if smape_forest_rougher < best_result_forest_r:\n",
    "            best_model_forest_r = model_forest_rougher\n",
    "            best_result_forest_r = smape_forest_rougher\n",
    "            best_est_forest_r = est\n",
    "            best_depth_forest_r = depth\n",
    "        \n",
    "print(best_model_forest_r)\n",
    "print(best_est_forest_r, best_depth_forest_r)\n",
    "print()\n",
    "print('Средняя оценка качества smape_forest_rougher', round(smape_forest_rougher, 2))"
   ]
  },
  {
   "cell_type": "code",
   "execution_count": 45,
   "metadata": {},
   "outputs": [
    {
     "name": "stdout",
     "output_type": "stream",
     "text": [
      "RandomForestRegressor(max_depth=4, n_estimators=40,\n",
      "                      random_state=RandomState(MT19937) at 0x7EFFBC0DE640)\n",
      "40 4\n",
      "\n",
      "Средняя оценка качества smape 9.83\n",
      "CPU times: user 52min 33s, sys: 2.33 s, total: 52min 36s\n",
      "Wall time: 52min 41s\n"
     ]
    }
   ],
   "source": [
    "%%time\n",
    "\n",
    "# обучим модель слуайный лес для этапа final\n",
    "# оценим качетсво модели кросс-валидацией\n",
    "# посчитаем smape\n",
    "\n",
    "best_model_forest_f = None\n",
    "best_result_forest_f = 10000\n",
    "best_est_forest_f = 0\n",
    "best_depth_forest_f = 0\n",
    "\n",
    "for est in range(10, 100, 30):\n",
    "    for depth in range(2,30,2):\n",
    "        model_forest_final = RandomForestRegressor(n_estimators=est, \n",
    "                                                   max_depth=depth, \n",
    "                                                   random_state=state)\n",
    "        \n",
    "        scores_forest_final = cross_val_score(model_forest_final,\n",
    "                                                features_train,\n",
    "                                                target_train_final,\n",
    "                                                scoring=smape_scorer,\n",
    "                                                cv=5)\n",
    "        \n",
    "        smape_forest_final = np.mean(abs(scores_forest_final))\n",
    "        \n",
    "        if smape_forest_final < best_result_forest_f:\n",
    "            best_model_forest_f = model_forest_final\n",
    "            best_result_forest_f = smape_forest_final\n",
    "            best_est_forest_f = est\n",
    "            best_depth_forest_f = depth\n",
    "        \n",
    "print(best_model_forest_f)\n",
    "print(best_est_forest_f, best_depth_forest_f)\n",
    "print()\n",
    "print('Средняя оценка качества smape', round(smape_forest_final, 2))"
   ]
  },
  {
   "cell_type": "code",
   "execution_count": 46,
   "metadata": {},
   "outputs": [
    {
     "name": "stdout",
     "output_type": "stream",
     "text": [
      "Средняя итоговая оценка качества модели smape  9.17\n"
     ]
    }
   ],
   "source": [
    "# вычислим итоговую оценку smape\n",
    "\n",
    "smape_overall_forest = overall_smape(smape_forest_rougher, smape_forest_final)\n",
    "\n",
    "print('Средняя итоговая оценка качества модели smape ', round(smape_overall_forest, 2))"
   ]
  },
  {
   "cell_type": "markdown",
   "metadata": {},
   "source": [
    "После обучения моделей, кросс-валидации и расчетов SMAPE мы имеем следующий результат:\n",
    "      \n",
    "- `LinearRegression`: rougher - 7.27; final - 10.94; overall - 10.02\n",
    "- `DesisionTreeRegressor`: rougher - 7.32; final - 14.89; overall - 13.84\n",
    "- `RandomForestRegressor`: rougher - 7.16; final - 9.83; overall - 9.17\n",
    "\n",
    "Делаем вывод, что лучшая модель для черновой и финальной этапов обработки `RandomForestRegressor` с параметрами: estimators = 40; depth = 4.  \n",
    "Проверим ее на тестовой выборке."
   ]
  },
  {
   "cell_type": "markdown",
   "metadata": {},
   "source": [
    "### Проверка выбранной модели на тестовой выборке"
   ]
  },
  {
   "cell_type": "code",
   "execution_count": 47,
   "metadata": {},
   "outputs": [
    {
     "name": "stdout",
     "output_type": "stream",
     "text": [
      "Средняя оценка качества smape_test_rougher 8.13\n",
      "CPU times: user 7.37 s, sys: 0 ns, total: 7.37 s\n",
      "Wall time: 7.38 s\n"
     ]
    }
   ],
   "source": [
    "%%time\n",
    "\n",
    "# проверим модель слуайный лес для этапа rougher\n",
    "# посчитаем smape\n",
    "\n",
    "model_test_rougher = RandomForestRegressor(n_estimators=40, \n",
    "                                           max_depth=4, \n",
    "                                           random_state=state)\n",
    "\n",
    "model_test_rougher.fit(features_train, target_train_rougher)\n",
    "predicted_rougher = model_test_rougher.predict(features_test)\n",
    "\n",
    "smape_test_rougher = smape(target_test_rougher, predicted_rougher)\n",
    "\n",
    "print('Средняя оценка качества smape_test_rougher', round(smape_test_rougher, 2))"
   ]
  },
  {
   "cell_type": "code",
   "execution_count": 48,
   "metadata": {},
   "outputs": [
    {
     "name": "stdout",
     "output_type": "stream",
     "text": [
      "Средняя оценка качества smape_test_final 9.36\n",
      "CPU times: user 7.45 s, sys: 27.9 ms, total: 7.48 s\n",
      "Wall time: 7.49 s\n"
     ]
    }
   ],
   "source": [
    "%%time\n",
    "\n",
    "# проверим модель слуайный лес для этапа final\n",
    "# посчитаем smape\n",
    "\n",
    "model_test_final = RandomForestRegressor(n_estimators=40, \n",
    "                                         max_depth=4, \n",
    "                                         random_state=state)\n",
    "\n",
    "model_test_final.fit(features_train, target_train_final)\n",
    "predicted_final = model_test_final.predict(features_test)\n",
    "\n",
    "smape_test_final = smape(target_test_final, predicted_final)\n",
    "\n",
    "print('Средняя оценка качества smape_test_final', round(smape_test_final, 2))"
   ]
  },
  {
   "cell_type": "code",
   "execution_count": 49,
   "metadata": {},
   "outputs": [
    {
     "name": "stdout",
     "output_type": "stream",
     "text": [
      "Средняя итоговая оценка качества модели overall_smape_test 9.06\n"
     ]
    }
   ],
   "source": [
    "# вычислим итоговую оценку smape\n",
    "\n",
    "overall_smape_test = overall_smape(smape_test_rougher, smape_test_final)\n",
    "\n",
    "print('Средняя итоговая оценка качества модели overall_smape_test', round(overall_smape_test, 2))"
   ]
  },
  {
   "cell_type": "markdown",
   "metadata": {},
   "source": [
    "На тестовой выборке мы получили:  \n",
    "  \n",
    "- smape для этапа rougher: 8.13\n",
    "- smape для этапа final: 9.36\n",
    "- итоговая оценка smape: 9.06\n",
    "  \n",
    "Осталось проверить модель на адекватность на константной модели и можно делать выводы."
   ]
  },
  {
   "cell_type": "markdown",
   "metadata": {},
   "source": [
    "### Проверка модели на адекватность"
   ]
  },
  {
   "cell_type": "code",
   "execution_count": 50,
   "metadata": {},
   "outputs": [
    {
     "name": "stdout",
     "output_type": "stream",
     "text": [
      "Средняя оценка качества smape_dummy_rougher 9.06\n"
     ]
    }
   ],
   "source": [
    "# провеорим адекватность на константной модели для этапа rougher\n",
    "# вычислим smape\n",
    "\n",
    "dummy_rougher = DummyRegressor(strategy=\"mean\")\n",
    "dummy_rougher.fit(features_train, target_train_rougher)\n",
    "dummy_predicted_rougher = dummy_rougher.predict(features_test)\n",
    "\n",
    "smape_dummy_rougher = smape(target_test_rougher, dummy_predicted_rougher)\n",
    "\n",
    "print('Средняя оценка качества smape_dummy_rougher', round(smape_dummy_rougher, 2))"
   ]
  },
  {
   "cell_type": "code",
   "execution_count": 51,
   "metadata": {},
   "outputs": [
    {
     "name": "stdout",
     "output_type": "stream",
     "text": [
      "Средняя оценка качества smape_dummy_final 10.08\n"
     ]
    }
   ],
   "source": [
    "# провеорим адекватность на константной модели для этапа rougher\n",
    "# вычислим smape\n",
    "\n",
    "dummy_final = DummyRegressor(strategy=\"mean\")\n",
    "dummy_final.fit(features_train, target_train_final)\n",
    "dummy_predicted_final = dummy_final.predict(features_test)\n",
    "\n",
    "smape_dummy_final = smape(target_test_final, dummy_predicted_final)\n",
    "\n",
    "print('Средняя оценка качества smape_dummy_final', round(smape_dummy_final, 2))"
   ]
  },
  {
   "cell_type": "code",
   "execution_count": 52,
   "metadata": {
    "scrolled": true
   },
   "outputs": [
    {
     "name": "stdout",
     "output_type": "stream",
     "text": [
      "Средняя итоговая оценка качества модели final_smape_for_const 9.83\n"
     ]
    }
   ],
   "source": [
    "# вычислим итоговую оценку smape длдля константной модели\n",
    "\n",
    "smape_dummy_overall = overall_smape(smape_dummy_rougher, smape_dummy_final)\n",
    "\n",
    "print('Средняя итоговая оценка качества модели final_smape_for_const', round(smape_dummy_overall, 2))"
   ]
  },
  {
   "cell_type": "markdown",
   "metadata": {},
   "source": [
    "Итак, константная модель показала следующий результат:   \n",
    "   \n",
    "- smape для этапа rougher: 9.06\n",
    "- smape для этапа final: 10.08\n",
    "- итоговая оценка smape: 9.83  \n",
    "  \n",
    "Наша модель на тестовой выборке дала результат чуть лучше и значит она работает. "
   ]
  },
  {
   "cell_type": "markdown",
   "metadata": {},
   "source": [
    "### Вывод"
   ]
  },
  {
   "cell_type": "markdown",
   "metadata": {},
   "source": [
    "Мы обучили модели, расчиатали SMAPE и получили следующий результат:  \n",
    "  \n",
    "- LinearRegression: rougher - 7.27; final - 10.94; overall - 10.02\n",
    "- DesisionTreeRegressor: rougher - 7.32; final - 14.89; overall - 13.84\n",
    "- RandomForestRegressor: rougher - 7.16; final - 9.83; overall - 9.17\n",
    "\n",
    "Таким образом, на обучающей выборке лучшей показала себя модель для черновой и финальной этапов обработки RandomForestRegressor с параметрами: estimators - 40; depth - 4.  \n",
    "  \n",
    "При проверке модели на тестовой выборке мы получили:\n",
    "\n",
    "- smape для этапа rougher: 8.13\n",
    "- smape для этапа final: 9.36\n",
    "- итоговая оценка smape: 9.06\n",
    "\n",
    "На константной модели мы получили:   \n",
    "   \n",
    "- smape для этапа rougher: 9.06\n",
    "- smape для этапа final: 10.08\n",
    "- итоговая оценка smape: 9.83\n",
    "  \n",
    "Значения похожи на те, что модель показала на тестовой выборке. Модель работает."
   ]
  },
  {
   "cell_type": "markdown",
   "metadata": {},
   "source": [
    "## Итоговый вывод"
   ]
  },
  {
   "cell_type": "markdown",
   "metadata": {},
   "source": [
    "Нам нужно было подготовить прототип модели машинного обучения для компании «Цифра». По задаче от заказчика, она должна предсказать коэффициент восстановления золота из золотосодержащей руды. В нашем распоряжении имелись данные с параметрами добычи и очистки. Модель должна помочь оптимизировать производство, чтобы не запускать предприятие с убыточными характеристиками.\n",
    "\n",
    "В ходе работы мы: \n",
    "\n",
    "1. **Подготовили данные**\n",
    "   \n",
    "    На данном этапе мы изучили и подготовили данные для дальнейшей работы:\n",
    "     \n",
    "    - проверили дубликаты, пропуски  \n",
    "    - посчитали значение MAE и выснили, что его значение почти 0, поэтому можно сделать вывод, что вычисление эффективности обогащения в данных датасета верные \n",
    "    - проверили, каких данных не хватает в тестовой выборке и добавили два столбца `rougher.output.recovery` и `final.output.recovery` для дальнейшей работы с моделями машинного обучения \n",
    "    - заполнили пропуски в данных  \n",
    "      \n",
    "   В итоге у нас получилось три подготовленных датасета с данными без явных дубликатов и без пропусков:  \n",
    "  \n",
    "    - `data_train` - размером 88 столбцов и 14149 строк\n",
    "    - `data_test` - размером 55 столбцов и 5290 строк\n",
    "    - `data_full`- размером 87 столбцов и 19439 строк  \n",
    "      \n",
    "        \n",
    "        \n",
    "  \n",
    "2. **Провели анализ данных**\n",
    "     \n",
    "   На этом этапе получили:\n",
    "     \n",
    "    - концентрация золота увеличивается на каждом этапе очистки,  серебра - уменьшается, а свинца - повысилась к финальному этапу\n",
    "    - распределения размеров гранул сырья в черновом и на первом этапе очистки похожи, мы видим нормальное распределние, это означает, что с данными все в порядке\n",
    "    - суммарная концентрация веществ на каждой стадии повышается\n",
    "  \n",
    "   На этом этапе мы убрали лишние столбцы из обучающей выборки и оставили только совпадающие с тестовой. Это будет удобно для работы далее с моделями машинного обучения.\n",
    "   \n",
    "  \n",
    "3. **Построили модель прогнозирования:**  \n",
    "  \n",
    "   Мы протестировали три модели:   \n",
    "     \n",
    "     - LinearRegression: rougher - 7.27; final - 10.94; overall - 10.02\n",
    "     - DesisionTreeRegressor: rougher - 7.32; final - 14.89; overall - 13.84\n",
    "     - RandomForestRegressor: rougher - 7.16; final - 9.83; overall - 9.17  \n",
    "  \n",
    "   Таким образом мы выяснили, что лучше всего на наших данных прогнозирует модель  `RandomForestRegressor` с параметрами: estimators - 40; depth - 4.  \n",
    "     \n",
    "   На тестовой выборке модель показала: \n",
    "     \n",
    "   - smape для этапа rougher: 8.14\n",
    "   - smape для этапа final: 10.03\n",
    "   - итоговая оценка smape: 9.56\n",
    "     \n",
    "   На константной модели результат: \n",
    "             \n",
    "   - smape для этапа rougher: 9.06\n",
    "   - smape для этапа final: 10.08\n",
    "   - итоговая оценка smape: 9.83 \n",
    "   \n",
    "**Вывод:** для прогнозирования коэффициента восстановления золота из золотосодержащей руды лучше всего использовать обученную на предоставленных данных модель `RandomForestRegressor` с параметрами: estimators - 40; depth - 4."
   ]
  }
 ],
 "metadata": {
  "ExecuteTimeLog": [
   {
    "duration": 395,
    "start_time": "2023-02-03T10:49:28.046Z"
   },
   {
    "duration": 6,
    "start_time": "2023-02-03T10:50:28.810Z"
   },
   {
    "duration": 4592,
    "start_time": "2023-02-03T10:52:58.750Z"
   },
   {
    "duration": 44,
    "start_time": "2023-02-03T10:54:22.011Z"
   },
   {
    "duration": 38,
    "start_time": "2023-02-03T10:54:23.004Z"
   },
   {
    "duration": 44,
    "start_time": "2023-02-03T10:54:23.575Z"
   },
   {
    "duration": 5,
    "start_time": "2023-02-03T10:55:05.367Z"
   },
   {
    "duration": 86,
    "start_time": "2023-02-03T10:57:46.013Z"
   },
   {
    "duration": 397,
    "start_time": "2023-02-03T10:57:59.378Z"
   },
   {
    "duration": 4,
    "start_time": "2023-02-03T10:58:18.555Z"
   },
   {
    "duration": 3,
    "start_time": "2023-02-03T11:01:08.636Z"
   },
   {
    "duration": 292,
    "start_time": "2023-02-03T11:01:11.253Z"
   },
   {
    "duration": 23,
    "start_time": "2023-02-03T11:02:45.307Z"
   },
   {
    "duration": 14,
    "start_time": "2023-02-03T11:02:48.724Z"
   },
   {
    "duration": 22,
    "start_time": "2023-02-03T11:02:51.716Z"
   },
   {
    "duration": 11,
    "start_time": "2023-02-03T11:05:18.250Z"
   },
   {
    "duration": 24,
    "start_time": "2023-02-03T11:07:23.314Z"
   },
   {
    "duration": 9,
    "start_time": "2023-02-03T11:07:42.631Z"
   },
   {
    "duration": 42,
    "start_time": "2023-02-03T11:09:58.148Z"
   },
   {
    "duration": 45,
    "start_time": "2023-02-03T11:10:05.580Z"
   },
   {
    "duration": 5,
    "start_time": "2023-02-03T11:10:30.763Z"
   },
   {
    "duration": 3,
    "start_time": "2023-02-03T11:10:35.414Z"
   },
   {
    "duration": 5,
    "start_time": "2023-02-03T11:10:43.469Z"
   },
   {
    "duration": 8,
    "start_time": "2023-02-03T11:11:00.525Z"
   },
   {
    "duration": 13,
    "start_time": "2023-02-03T11:11:22.205Z"
   },
   {
    "duration": 9,
    "start_time": "2023-02-03T11:11:28.148Z"
   },
   {
    "duration": 3,
    "start_time": "2023-02-03T11:11:43.371Z"
   },
   {
    "duration": 49,
    "start_time": "2023-02-03T11:16:42.014Z"
   },
   {
    "duration": 30,
    "start_time": "2023-02-03T11:16:49.907Z"
   },
   {
    "duration": 117,
    "start_time": "2023-02-03T11:16:58.182Z"
   },
   {
    "duration": 96,
    "start_time": "2023-02-03T11:17:09.230Z"
   },
   {
    "duration": 94,
    "start_time": "2023-02-03T11:17:37.631Z"
   },
   {
    "duration": 19,
    "start_time": "2023-02-03T11:17:45.746Z"
   },
   {
    "duration": 10,
    "start_time": "2023-02-03T11:17:59.127Z"
   },
   {
    "duration": 8,
    "start_time": "2023-02-03T11:18:12.812Z"
   },
   {
    "duration": 13,
    "start_time": "2023-02-03T11:19:04.953Z"
   },
   {
    "duration": 27,
    "start_time": "2023-02-03T11:19:09.805Z"
   },
   {
    "duration": 15,
    "start_time": "2023-02-03T11:19:26.134Z"
   },
   {
    "duration": 48,
    "start_time": "2023-02-03T11:20:48.382Z"
   },
   {
    "duration": 27,
    "start_time": "2023-02-03T11:21:18.681Z"
   },
   {
    "duration": 42,
    "start_time": "2023-02-03T11:22:12.029Z"
   },
   {
    "duration": 77,
    "start_time": "2023-02-03T11:22:15.301Z"
   },
   {
    "duration": 23,
    "start_time": "2023-02-03T11:22:34.605Z"
   },
   {
    "duration": 40,
    "start_time": "2023-02-03T11:23:09.285Z"
   },
   {
    "duration": 24,
    "start_time": "2023-02-03T11:23:48.235Z"
   },
   {
    "duration": 22,
    "start_time": "2023-02-03T11:23:55.740Z"
   },
   {
    "duration": 17,
    "start_time": "2023-02-03T11:24:20.266Z"
   },
   {
    "duration": 42,
    "start_time": "2023-02-03T11:24:35.068Z"
   },
   {
    "duration": 37,
    "start_time": "2023-02-03T11:24:55.223Z"
   },
   {
    "duration": 37,
    "start_time": "2023-02-03T11:25:03.812Z"
   },
   {
    "duration": 21,
    "start_time": "2023-02-03T11:25:08.246Z"
   },
   {
    "duration": 14,
    "start_time": "2023-02-03T11:25:18.110Z"
   },
   {
    "duration": 37,
    "start_time": "2023-02-03T11:25:31.772Z"
   },
   {
    "duration": 29,
    "start_time": "2023-02-03T11:25:45.362Z"
   },
   {
    "duration": 15,
    "start_time": "2023-02-03T11:25:50.908Z"
   },
   {
    "duration": 23,
    "start_time": "2023-02-03T11:25:55.533Z"
   },
   {
    "duration": 22,
    "start_time": "2023-02-03T11:26:04.113Z"
   },
   {
    "duration": 66,
    "start_time": "2023-02-03T11:31:36.352Z"
   },
   {
    "duration": 7,
    "start_time": "2023-02-03T11:31:48.202Z"
   },
   {
    "duration": 6,
    "start_time": "2023-02-03T11:32:04.125Z"
   },
   {
    "duration": 6,
    "start_time": "2023-02-03T11:32:25.340Z"
   },
   {
    "duration": 14,
    "start_time": "2023-02-03T11:32:33.014Z"
   },
   {
    "duration": 4,
    "start_time": "2023-02-03T11:32:51.111Z"
   },
   {
    "duration": 5,
    "start_time": "2023-02-03T11:32:51.566Z"
   },
   {
    "duration": 5,
    "start_time": "2023-02-03T11:32:52.071Z"
   },
   {
    "duration": 7,
    "start_time": "2023-02-03T11:32:52.439Z"
   },
   {
    "duration": 83,
    "start_time": "2023-02-03T11:33:31.839Z"
   },
   {
    "duration": 7,
    "start_time": "2023-02-03T11:33:32.253Z"
   },
   {
    "duration": 6,
    "start_time": "2023-02-03T11:33:32.852Z"
   },
   {
    "duration": 5,
    "start_time": "2023-02-03T11:33:33.365Z"
   },
   {
    "duration": 4,
    "start_time": "2023-02-03T11:33:38.529Z"
   },
   {
    "duration": 8,
    "start_time": "2023-02-03T11:33:39.114Z"
   },
   {
    "duration": 14,
    "start_time": "2023-02-03T11:33:39.911Z"
   },
   {
    "duration": 21,
    "start_time": "2023-02-03T11:33:40.583Z"
   },
   {
    "duration": 12,
    "start_time": "2023-02-03T11:33:46.783Z"
   },
   {
    "duration": 6,
    "start_time": "2023-02-03T11:33:47.047Z"
   },
   {
    "duration": 7,
    "start_time": "2023-02-03T11:33:47.559Z"
   },
   {
    "duration": 8,
    "start_time": "2023-02-03T11:33:47.840Z"
   },
   {
    "duration": 24,
    "start_time": "2023-02-03T11:34:12.958Z"
   },
   {
    "duration": 15,
    "start_time": "2023-02-03T11:34:16.848Z"
   },
   {
    "duration": 40,
    "start_time": "2023-02-03T11:34:22.245Z"
   },
   {
    "duration": 30,
    "start_time": "2023-02-03T11:34:27.809Z"
   },
   {
    "duration": 5,
    "start_time": "2023-02-03T11:34:28.927Z"
   },
   {
    "duration": 8,
    "start_time": "2023-02-03T11:34:29.411Z"
   },
   {
    "duration": 6,
    "start_time": "2023-02-03T11:34:29.824Z"
   },
   {
    "duration": 14,
    "start_time": "2023-02-03T11:34:30.214Z"
   },
   {
    "duration": 5,
    "start_time": "2023-02-03T11:35:07.761Z"
   },
   {
    "duration": 34,
    "start_time": "2023-02-03T11:35:08.201Z"
   },
   {
    "duration": 4,
    "start_time": "2023-02-03T11:35:21.548Z"
   },
   {
    "duration": 23,
    "start_time": "2023-02-03T11:35:22.148Z"
   },
   {
    "duration": 18,
    "start_time": "2023-02-03T11:35:22.303Z"
   },
   {
    "duration": 4,
    "start_time": "2023-02-03T11:35:43.247Z"
   },
   {
    "duration": 31,
    "start_time": "2023-02-03T11:35:46.475Z"
   },
   {
    "duration": 15,
    "start_time": "2023-02-03T11:35:47.419Z"
   },
   {
    "duration": 25,
    "start_time": "2023-02-03T11:35:48.405Z"
   },
   {
    "duration": 3,
    "start_time": "2023-02-03T11:35:57.430Z"
   },
   {
    "duration": 31,
    "start_time": "2023-02-03T11:35:58.489Z"
   },
   {
    "duration": 14,
    "start_time": "2023-02-03T11:35:59.163Z"
   },
   {
    "duration": 24,
    "start_time": "2023-02-03T11:35:59.533Z"
   },
   {
    "duration": 5,
    "start_time": "2023-02-03T11:37:39.895Z"
   },
   {
    "duration": 24,
    "start_time": "2023-02-03T11:37:40.510Z"
   },
   {
    "duration": 14,
    "start_time": "2023-02-03T11:37:41.122Z"
   },
   {
    "duration": 33,
    "start_time": "2023-02-03T11:37:41.468Z"
   },
   {
    "duration": 4,
    "start_time": "2023-02-03T11:38:13.312Z"
   },
   {
    "duration": 51,
    "start_time": "2023-02-03T11:38:13.760Z"
   },
   {
    "duration": 28,
    "start_time": "2023-02-03T11:38:14.379Z"
   },
   {
    "duration": 44,
    "start_time": "2023-02-03T11:38:14.805Z"
   },
   {
    "duration": 5,
    "start_time": "2023-02-03T11:38:31.219Z"
   },
   {
    "duration": 70,
    "start_time": "2023-02-03T11:38:31.628Z"
   },
   {
    "duration": 37,
    "start_time": "2023-02-03T11:38:32.265Z"
   },
   {
    "duration": 63,
    "start_time": "2023-02-03T11:38:32.762Z"
   },
   {
    "duration": 5,
    "start_time": "2023-02-03T11:41:38.169Z"
   },
   {
    "duration": 251,
    "start_time": "2023-02-03T11:42:20.075Z"
   },
   {
    "duration": 71,
    "start_time": "2023-02-07T08:30:09.325Z"
   },
   {
    "duration": 402,
    "start_time": "2023-02-07T08:30:12.922Z"
   },
   {
    "duration": 1897,
    "start_time": "2023-02-07T08:30:13.326Z"
   },
   {
    "duration": 401,
    "start_time": "2023-02-08T13:58:59.861Z"
   },
   {
    "duration": 3865,
    "start_time": "2023-02-08T13:59:00.264Z"
   },
   {
    "duration": 30,
    "start_time": "2023-02-08T13:59:04.131Z"
   },
   {
    "duration": 23,
    "start_time": "2023-02-08T13:59:04.163Z"
   },
   {
    "duration": 47,
    "start_time": "2023-02-08T13:59:04.189Z"
   },
   {
    "duration": 4,
    "start_time": "2023-02-08T13:59:04.239Z"
   },
   {
    "duration": 282,
    "start_time": "2023-02-08T13:59:04.245Z"
   },
   {
    "duration": 19,
    "start_time": "2023-02-08T13:59:04.529Z"
   },
   {
    "duration": 16,
    "start_time": "2023-02-08T13:59:04.551Z"
   },
   {
    "duration": 51,
    "start_time": "2023-02-08T13:59:04.570Z"
   },
   {
    "duration": 6,
    "start_time": "2023-02-08T13:59:04.624Z"
   },
   {
    "duration": 60,
    "start_time": "2023-02-08T13:59:04.632Z"
   },
   {
    "duration": 42,
    "start_time": "2023-02-08T13:59:04.694Z"
   },
   {
    "duration": 60,
    "start_time": "2023-02-08T13:59:04.739Z"
   },
   {
    "duration": 1333,
    "start_time": "2023-02-08T14:05:59.237Z"
   },
   {
    "duration": 82,
    "start_time": "2023-02-08T14:06:57.484Z"
   },
   {
    "duration": 11,
    "start_time": "2023-02-08T14:07:38.695Z"
   },
   {
    "duration": 7,
    "start_time": "2023-02-08T14:07:55.547Z"
   },
   {
    "duration": 32,
    "start_time": "2023-02-08T14:08:32.994Z"
   },
   {
    "duration": 26,
    "start_time": "2023-02-08T14:09:00.602Z"
   },
   {
    "duration": 35,
    "start_time": "2023-02-08T14:09:14.642Z"
   },
   {
    "duration": 6,
    "start_time": "2023-02-08T14:09:55.442Z"
   },
   {
    "duration": 93,
    "start_time": "2023-02-08T14:09:55.887Z"
   },
   {
    "duration": 26,
    "start_time": "2023-02-08T14:10:01.057Z"
   },
   {
    "duration": 16,
    "start_time": "2023-02-08T14:11:01.108Z"
   },
   {
    "duration": 111,
    "start_time": "2023-02-08T14:11:13.982Z"
   },
   {
    "duration": 151,
    "start_time": "2023-02-08T14:11:24.857Z"
   },
   {
    "duration": 76,
    "start_time": "2023-02-08T14:12:07.410Z"
   },
   {
    "duration": 439,
    "start_time": "2023-02-08T14:12:27.646Z"
   },
   {
    "duration": 422,
    "start_time": "2023-02-08T14:12:38.831Z"
   },
   {
    "duration": 431,
    "start_time": "2023-02-08T14:12:49.122Z"
   },
   {
    "duration": 458,
    "start_time": "2023-02-08T14:13:45.627Z"
   },
   {
    "duration": 441,
    "start_time": "2023-02-08T14:13:54.525Z"
   },
   {
    "duration": 8,
    "start_time": "2023-02-08T14:14:43.805Z"
   },
   {
    "duration": 469,
    "start_time": "2023-02-08T14:14:54.207Z"
   },
   {
    "duration": 18,
    "start_time": "2023-02-08T14:15:20.456Z"
   },
   {
    "duration": 1593,
    "start_time": "2023-02-08T14:24:19.417Z"
   },
   {
    "duration": 2382,
    "start_time": "2023-02-08T14:24:49.410Z"
   },
   {
    "duration": 2028,
    "start_time": "2023-02-08T14:25:14.554Z"
   },
   {
    "duration": 1915,
    "start_time": "2023-02-08T14:37:23.936Z"
   },
   {
    "duration": 1869,
    "start_time": "2023-02-08T14:37:37.854Z"
   },
   {
    "duration": 1803,
    "start_time": "2023-02-08T14:38:02.583Z"
   },
   {
    "duration": 1819,
    "start_time": "2023-02-08T14:38:23.503Z"
   },
   {
    "duration": 1783,
    "start_time": "2023-02-08T14:38:56.556Z"
   },
   {
    "duration": 1885,
    "start_time": "2023-02-08T14:38:58.342Z"
   },
   {
    "duration": 27,
    "start_time": "2023-02-08T14:39:00.229Z"
   },
   {
    "duration": 24,
    "start_time": "2023-02-08T14:39:00.258Z"
   },
   {
    "duration": 57,
    "start_time": "2023-02-08T14:39:00.285Z"
   },
   {
    "duration": 26,
    "start_time": "2023-02-08T14:39:00.344Z"
   },
   {
    "duration": 293,
    "start_time": "2023-02-08T14:39:00.372Z"
   },
   {
    "duration": 16,
    "start_time": "2023-02-08T14:39:00.667Z"
   },
   {
    "duration": 32,
    "start_time": "2023-02-08T14:39:00.686Z"
   },
   {
    "duration": 31,
    "start_time": "2023-02-08T14:39:00.720Z"
   },
   {
    "duration": 39,
    "start_time": "2023-02-08T14:39:00.753Z"
   },
   {
    "duration": 127,
    "start_time": "2023-02-08T14:39:00.794Z"
   },
   {
    "duration": 11,
    "start_time": "2023-02-08T14:39:00.922Z"
   },
   {
    "duration": 36,
    "start_time": "2023-02-08T14:39:00.936Z"
   },
   {
    "duration": 66,
    "start_time": "2023-02-08T14:39:00.974Z"
   },
   {
    "duration": 25,
    "start_time": "2023-02-08T14:39:01.041Z"
   },
   {
    "duration": 25,
    "start_time": "2023-02-08T14:39:01.068Z"
   },
   {
    "duration": 35,
    "start_time": "2023-02-08T14:39:01.095Z"
   },
   {
    "duration": 103,
    "start_time": "2023-02-08T14:39:01.132Z"
   },
   {
    "duration": 447,
    "start_time": "2023-02-08T14:39:01.237Z"
   },
   {
    "duration": 443,
    "start_time": "2023-02-08T14:39:01.686Z"
   },
   {
    "duration": 473,
    "start_time": "2023-02-08T14:39:02.132Z"
   },
   {
    "duration": 3,
    "start_time": "2023-02-08T14:39:02.607Z"
   },
   {
    "duration": 421,
    "start_time": "2023-02-08T14:39:02.612Z"
   },
   {
    "duration": 512,
    "start_time": "2023-02-08T14:39:03.035Z"
   },
   {
    "duration": 8,
    "start_time": "2023-02-08T14:39:03.549Z"
   },
   {
    "duration": 444,
    "start_time": "2023-02-08T14:39:03.558Z"
   },
   {
    "duration": 27,
    "start_time": "2023-02-08T14:39:04.004Z"
   },
   {
    "duration": 1296,
    "start_time": "2023-02-08T14:39:45.003Z"
   },
   {
    "duration": 1411,
    "start_time": "2023-02-08T14:40:10.852Z"
   },
   {
    "duration": 1278,
    "start_time": "2023-02-08T14:43:07.854Z"
   },
   {
    "duration": 1329,
    "start_time": "2023-02-08T14:43:29.561Z"
   },
   {
    "duration": 1237,
    "start_time": "2023-02-08T14:45:04.918Z"
   },
   {
    "duration": 1231,
    "start_time": "2023-02-08T14:46:23.384Z"
   },
   {
    "duration": 3,
    "start_time": "2023-02-08T14:47:32.935Z"
   },
   {
    "duration": 1328,
    "start_time": "2023-02-08T14:47:49.056Z"
   },
   {
    "duration": 3,
    "start_time": "2023-02-08T14:47:57.042Z"
   },
   {
    "duration": 2218,
    "start_time": "2023-02-08T14:47:57.047Z"
   },
   {
    "duration": 24,
    "start_time": "2023-02-08T14:47:59.267Z"
   },
   {
    "duration": 35,
    "start_time": "2023-02-08T14:47:59.294Z"
   },
   {
    "duration": 25,
    "start_time": "2023-02-08T14:47:59.331Z"
   },
   {
    "duration": 11,
    "start_time": "2023-02-08T14:47:59.358Z"
   },
   {
    "duration": 305,
    "start_time": "2023-02-08T14:47:59.371Z"
   },
   {
    "duration": 18,
    "start_time": "2023-02-08T14:47:59.678Z"
   },
   {
    "duration": 28,
    "start_time": "2023-02-08T14:47:59.698Z"
   },
   {
    "duration": 19,
    "start_time": "2023-02-08T14:47:59.730Z"
   },
   {
    "duration": 6,
    "start_time": "2023-02-08T14:47:59.751Z"
   },
   {
    "duration": 113,
    "start_time": "2023-02-08T14:47:59.759Z"
   },
   {
    "duration": 9,
    "start_time": "2023-02-08T14:47:59.875Z"
   },
   {
    "duration": 8,
    "start_time": "2023-02-08T14:47:59.886Z"
   },
   {
    "duration": 21,
    "start_time": "2023-02-08T14:47:59.921Z"
   },
   {
    "duration": 27,
    "start_time": "2023-02-08T14:47:59.944Z"
   },
   {
    "duration": 23,
    "start_time": "2023-02-08T14:47:59.973Z"
   },
   {
    "duration": 17,
    "start_time": "2023-02-08T14:48:00.021Z"
   },
   {
    "duration": 121,
    "start_time": "2023-02-08T14:48:00.040Z"
   },
   {
    "duration": 461,
    "start_time": "2023-02-08T14:48:00.163Z"
   },
   {
    "duration": 441,
    "start_time": "2023-02-08T14:48:00.625Z"
   },
   {
    "duration": 453,
    "start_time": "2023-02-08T14:48:01.067Z"
   },
   {
    "duration": 32,
    "start_time": "2023-02-08T14:48:01.523Z"
   },
   {
    "duration": 425,
    "start_time": "2023-02-08T14:48:01.557Z"
   },
   {
    "duration": 429,
    "start_time": "2023-02-08T14:48:01.984Z"
   },
   {
    "duration": 10,
    "start_time": "2023-02-08T14:48:02.415Z"
   },
   {
    "duration": 444,
    "start_time": "2023-02-08T14:48:02.427Z"
   },
   {
    "duration": 3,
    "start_time": "2023-02-08T14:48:02.876Z"
   },
   {
    "duration": 9,
    "start_time": "2023-02-08T14:51:04.907Z"
   },
   {
    "duration": 9,
    "start_time": "2023-02-08T14:51:11.048Z"
   },
   {
    "duration": 30,
    "start_time": "2023-02-08T14:52:55.282Z"
   },
   {
    "duration": 12,
    "start_time": "2023-02-08T14:59:13.827Z"
   },
   {
    "duration": 4,
    "start_time": "2023-02-08T15:04:45.320Z"
   },
   {
    "duration": 3,
    "start_time": "2023-02-08T15:04:59.745Z"
   },
   {
    "duration": 3,
    "start_time": "2023-02-08T15:05:54.668Z"
   },
   {
    "duration": 1495,
    "start_time": "2023-02-08T16:23:59.322Z"
   },
   {
    "duration": 2338,
    "start_time": "2023-02-08T16:24:00.819Z"
   },
   {
    "duration": 29,
    "start_time": "2023-02-08T16:24:03.159Z"
   },
   {
    "duration": 39,
    "start_time": "2023-02-08T16:24:03.190Z"
   },
   {
    "duration": 25,
    "start_time": "2023-02-08T16:24:03.231Z"
   },
   {
    "duration": 5,
    "start_time": "2023-02-08T16:24:03.258Z"
   },
   {
    "duration": 326,
    "start_time": "2023-02-08T16:24:03.265Z"
   },
   {
    "duration": 29,
    "start_time": "2023-02-08T16:24:03.592Z"
   },
   {
    "duration": 12,
    "start_time": "2023-02-08T16:24:03.623Z"
   },
   {
    "duration": 21,
    "start_time": "2023-02-08T16:24:03.637Z"
   },
   {
    "duration": 5,
    "start_time": "2023-02-08T16:24:03.660Z"
   },
   {
    "duration": 115,
    "start_time": "2023-02-08T16:24:03.667Z"
   },
   {
    "duration": 10,
    "start_time": "2023-02-08T16:24:03.784Z"
   },
   {
    "duration": 24,
    "start_time": "2023-02-08T16:24:03.798Z"
   },
   {
    "duration": 22,
    "start_time": "2023-02-08T16:24:03.824Z"
   },
   {
    "duration": 26,
    "start_time": "2023-02-08T16:24:03.848Z"
   },
   {
    "duration": 56,
    "start_time": "2023-02-08T16:24:03.876Z"
   },
   {
    "duration": 18,
    "start_time": "2023-02-08T16:24:03.934Z"
   },
   {
    "duration": 121,
    "start_time": "2023-02-08T16:24:03.953Z"
   },
   {
    "duration": 481,
    "start_time": "2023-02-08T16:24:04.075Z"
   },
   {
    "duration": 558,
    "start_time": "2023-02-08T16:24:04.559Z"
   },
   {
    "duration": 477,
    "start_time": "2023-02-08T16:24:05.119Z"
   },
   {
    "duration": 430,
    "start_time": "2023-02-08T16:24:05.598Z"
   },
   {
    "duration": 528,
    "start_time": "2023-02-08T16:24:06.030Z"
   },
   {
    "duration": 9,
    "start_time": "2023-02-08T16:24:06.560Z"
   },
   {
    "duration": 453,
    "start_time": "2023-02-08T16:24:06.571Z"
   },
   {
    "duration": 21,
    "start_time": "2023-02-08T16:24:07.026Z"
   },
   {
    "duration": 9,
    "start_time": "2023-02-08T16:24:07.049Z"
   },
   {
    "duration": 8,
    "start_time": "2023-02-08T16:24:07.060Z"
   },
   {
    "duration": 5,
    "start_time": "2023-02-08T16:24:07.070Z"
   },
   {
    "duration": 11,
    "start_time": "2023-02-08T16:24:07.077Z"
   },
   {
    "duration": 34,
    "start_time": "2023-02-08T16:24:07.090Z"
   },
   {
    "duration": 16,
    "start_time": "2023-02-08T16:24:07.126Z"
   },
   {
    "duration": 9,
    "start_time": "2023-02-08T16:24:07.144Z"
   },
   {
    "duration": 3,
    "start_time": "2023-02-08T16:40:58.842Z"
   },
   {
    "duration": 122,
    "start_time": "2023-02-08T16:40:59.187Z"
   },
   {
    "duration": 55,
    "start_time": "2023-02-08T16:42:31.676Z"
   },
   {
    "duration": 5,
    "start_time": "2023-02-08T16:48:51.522Z"
   },
   {
    "duration": 4,
    "start_time": "2023-02-08T16:51:53.419Z"
   },
   {
    "duration": 3,
    "start_time": "2023-02-08T16:51:53.782Z"
   },
   {
    "duration": 3,
    "start_time": "2023-02-08T16:51:54.132Z"
   },
   {
    "duration": 5,
    "start_time": "2023-02-08T16:51:55.354Z"
   },
   {
    "duration": 6,
    "start_time": "2023-02-08T16:51:55.763Z"
   },
   {
    "duration": 91,
    "start_time": "2023-02-08T16:51:56.753Z"
   },
   {
    "duration": 3173,
    "start_time": "2023-02-08T16:53:00.149Z"
   },
   {
    "duration": 3,
    "start_time": "2023-02-08T16:53:31.837Z"
   },
   {
    "duration": 2991,
    "start_time": "2023-02-08T16:53:32.637Z"
   },
   {
    "duration": 8,
    "start_time": "2023-02-08T16:57:40.436Z"
   },
   {
    "duration": 3,
    "start_time": "2023-02-08T16:57:56.977Z"
   },
   {
    "duration": 73,
    "start_time": "2023-02-08T16:57:57.266Z"
   },
   {
    "duration": 77,
    "start_time": "2023-02-08T16:58:39.867Z"
   },
   {
    "duration": 4,
    "start_time": "2023-02-08T16:59:11.826Z"
   },
   {
    "duration": 2030,
    "start_time": "2023-02-08T16:59:11.832Z"
   },
   {
    "duration": 21,
    "start_time": "2023-02-08T16:59:13.865Z"
   },
   {
    "duration": 36,
    "start_time": "2023-02-08T16:59:13.888Z"
   },
   {
    "duration": 22,
    "start_time": "2023-02-08T16:59:13.925Z"
   },
   {
    "duration": 6,
    "start_time": "2023-02-08T16:59:13.949Z"
   },
   {
    "duration": 265,
    "start_time": "2023-02-08T16:59:13.957Z"
   },
   {
    "duration": 16,
    "start_time": "2023-02-08T16:59:14.224Z"
   },
   {
    "duration": 12,
    "start_time": "2023-02-08T16:59:14.242Z"
   },
   {
    "duration": 16,
    "start_time": "2023-02-08T16:59:14.255Z"
   },
   {
    "duration": 4,
    "start_time": "2023-02-08T16:59:14.273Z"
   },
   {
    "duration": 141,
    "start_time": "2023-02-08T16:59:14.279Z"
   },
   {
    "duration": 11,
    "start_time": "2023-02-08T16:59:14.422Z"
   },
   {
    "duration": 7,
    "start_time": "2023-02-08T16:59:14.435Z"
   },
   {
    "duration": 25,
    "start_time": "2023-02-08T16:59:14.444Z"
   },
   {
    "duration": 71,
    "start_time": "2023-02-08T16:59:14.472Z"
   },
   {
    "duration": 32,
    "start_time": "2023-02-08T16:59:14.546Z"
   },
   {
    "duration": 43,
    "start_time": "2023-02-08T16:59:14.581Z"
   },
   {
    "duration": 153,
    "start_time": "2023-02-08T16:59:14.627Z"
   },
   {
    "duration": 467,
    "start_time": "2023-02-08T16:59:14.782Z"
   },
   {
    "duration": 463,
    "start_time": "2023-02-08T16:59:15.251Z"
   },
   {
    "duration": 463,
    "start_time": "2023-02-08T16:59:15.717Z"
   },
   {
    "duration": 420,
    "start_time": "2023-02-08T16:59:16.182Z"
   },
   {
    "duration": 419,
    "start_time": "2023-02-08T16:59:16.604Z"
   },
   {
    "duration": 8,
    "start_time": "2023-02-08T16:59:17.025Z"
   },
   {
    "duration": 459,
    "start_time": "2023-02-08T16:59:17.035Z"
   },
   {
    "duration": 23,
    "start_time": "2023-02-08T16:59:17.498Z"
   },
   {
    "duration": 113,
    "start_time": "2023-02-08T16:59:17.523Z"
   },
   {
    "duration": 5,
    "start_time": "2023-02-08T16:59:17.638Z"
   },
   {
    "duration": 5,
    "start_time": "2023-02-08T16:59:17.645Z"
   },
   {
    "duration": 6,
    "start_time": "2023-02-08T16:59:17.651Z"
   },
   {
    "duration": 8,
    "start_time": "2023-02-08T16:59:17.659Z"
   },
   {
    "duration": 7,
    "start_time": "2023-02-08T16:59:17.669Z"
   },
   {
    "duration": 5,
    "start_time": "2023-02-08T16:59:17.677Z"
   },
   {
    "duration": 2842,
    "start_time": "2023-02-08T16:59:17.683Z"
   },
   {
    "duration": 5,
    "start_time": "2023-02-08T16:59:20.528Z"
   },
   {
    "duration": 26939,
    "start_time": "2023-02-08T16:59:20.535Z"
   },
   {
    "duration": 843933,
    "start_time": "2023-02-08T17:03:35.834Z"
   },
   {
    "duration": 1546,
    "start_time": "2023-02-09T10:27:59.040Z"
   },
   {
    "duration": 3286,
    "start_time": "2023-02-09T10:28:00.588Z"
   },
   {
    "duration": 34,
    "start_time": "2023-02-09T10:28:03.876Z"
   },
   {
    "duration": 23,
    "start_time": "2023-02-09T10:28:03.912Z"
   },
   {
    "duration": 26,
    "start_time": "2023-02-09T10:28:03.936Z"
   },
   {
    "duration": 9,
    "start_time": "2023-02-09T10:28:03.964Z"
   },
   {
    "duration": 296,
    "start_time": "2023-02-09T10:28:03.975Z"
   },
   {
    "duration": 18,
    "start_time": "2023-02-09T10:28:04.273Z"
   },
   {
    "duration": 21,
    "start_time": "2023-02-09T10:28:04.292Z"
   },
   {
    "duration": 15,
    "start_time": "2023-02-09T10:28:04.316Z"
   },
   {
    "duration": 4,
    "start_time": "2023-02-09T10:28:04.333Z"
   },
   {
    "duration": 107,
    "start_time": "2023-02-09T10:28:04.339Z"
   },
   {
    "duration": 9,
    "start_time": "2023-02-09T10:28:04.448Z"
   },
   {
    "duration": 5,
    "start_time": "2023-02-09T10:28:04.459Z"
   },
   {
    "duration": 41,
    "start_time": "2023-02-09T10:28:04.466Z"
   },
   {
    "duration": 25,
    "start_time": "2023-02-09T10:28:04.509Z"
   },
   {
    "duration": 23,
    "start_time": "2023-02-09T10:28:04.536Z"
   },
   {
    "duration": 14,
    "start_time": "2023-02-09T10:28:04.560Z"
   },
   {
    "duration": 114,
    "start_time": "2023-02-09T10:28:04.575Z"
   },
   {
    "duration": 457,
    "start_time": "2023-02-09T10:28:04.690Z"
   },
   {
    "duration": 455,
    "start_time": "2023-02-09T10:28:05.149Z"
   },
   {
    "duration": 516,
    "start_time": "2023-02-09T10:28:05.606Z"
   },
   {
    "duration": 395,
    "start_time": "2023-02-09T10:28:06.123Z"
   },
   {
    "duration": 406,
    "start_time": "2023-02-09T10:28:06.520Z"
   },
   {
    "duration": 7,
    "start_time": "2023-02-09T10:28:06.927Z"
   },
   {
    "duration": 451,
    "start_time": "2023-02-09T10:28:06.936Z"
   },
   {
    "duration": 27,
    "start_time": "2023-02-09T10:28:07.389Z"
   },
   {
    "duration": 10,
    "start_time": "2023-02-09T10:28:07.419Z"
   },
   {
    "duration": 4,
    "start_time": "2023-02-09T10:28:07.430Z"
   },
   {
    "duration": 132,
    "start_time": "2023-02-09T10:28:07.436Z"
   },
   {
    "duration": 0,
    "start_time": "2023-02-09T10:28:07.569Z"
   },
   {
    "duration": 0,
    "start_time": "2023-02-09T10:28:07.570Z"
   },
   {
    "duration": 0,
    "start_time": "2023-02-09T10:28:07.572Z"
   },
   {
    "duration": 0,
    "start_time": "2023-02-09T10:28:07.573Z"
   },
   {
    "duration": 0,
    "start_time": "2023-02-09T10:28:07.574Z"
   },
   {
    "duration": 0,
    "start_time": "2023-02-09T10:28:07.575Z"
   },
   {
    "duration": 0,
    "start_time": "2023-02-09T10:28:07.577Z"
   },
   {
    "duration": 10,
    "start_time": "2023-02-09T10:28:55.796Z"
   },
   {
    "duration": 3,
    "start_time": "2023-02-09T10:28:58.236Z"
   },
   {
    "duration": 3,
    "start_time": "2023-02-09T10:28:58.546Z"
   },
   {
    "duration": 3,
    "start_time": "2023-02-09T10:29:02.916Z"
   },
   {
    "duration": 9,
    "start_time": "2023-02-09T10:34:40.616Z"
   },
   {
    "duration": 6,
    "start_time": "2023-02-09T10:34:44.489Z"
   },
   {
    "duration": 4,
    "start_time": "2023-02-09T10:34:45.330Z"
   },
   {
    "duration": 4,
    "start_time": "2023-02-09T10:35:15.912Z"
   },
   {
    "duration": 9,
    "start_time": "2023-02-09T10:35:51.569Z"
   },
   {
    "duration": 5,
    "start_time": "2023-02-09T10:35:53.722Z"
   },
   {
    "duration": 7,
    "start_time": "2023-02-09T10:35:54.025Z"
   },
   {
    "duration": 9,
    "start_time": "2023-02-09T10:40:28.638Z"
   },
   {
    "duration": 5,
    "start_time": "2023-02-09T10:40:36.819Z"
   },
   {
    "duration": 2218,
    "start_time": "2023-02-09T10:40:36.826Z"
   },
   {
    "duration": 20,
    "start_time": "2023-02-09T10:40:39.045Z"
   },
   {
    "duration": 36,
    "start_time": "2023-02-09T10:40:39.067Z"
   },
   {
    "duration": 20,
    "start_time": "2023-02-09T10:40:39.105Z"
   },
   {
    "duration": 4,
    "start_time": "2023-02-09T10:40:39.127Z"
   },
   {
    "duration": 262,
    "start_time": "2023-02-09T10:40:39.133Z"
   },
   {
    "duration": 18,
    "start_time": "2023-02-09T10:40:39.396Z"
   },
   {
    "duration": 11,
    "start_time": "2023-02-09T10:40:39.416Z"
   },
   {
    "duration": 16,
    "start_time": "2023-02-09T10:40:39.430Z"
   },
   {
    "duration": 4,
    "start_time": "2023-02-09T10:40:39.448Z"
   },
   {
    "duration": 118,
    "start_time": "2023-02-09T10:40:39.454Z"
   },
   {
    "duration": 9,
    "start_time": "2023-02-09T10:40:39.574Z"
   },
   {
    "duration": 18,
    "start_time": "2023-02-09T10:40:39.585Z"
   },
   {
    "duration": 20,
    "start_time": "2023-02-09T10:40:39.605Z"
   },
   {
    "duration": 22,
    "start_time": "2023-02-09T10:40:39.627Z"
   },
   {
    "duration": 20,
    "start_time": "2023-02-09T10:40:39.651Z"
   },
   {
    "duration": 38,
    "start_time": "2023-02-09T10:40:39.673Z"
   },
   {
    "duration": 98,
    "start_time": "2023-02-09T10:40:39.713Z"
   },
   {
    "duration": 439,
    "start_time": "2023-02-09T10:40:39.813Z"
   },
   {
    "duration": 429,
    "start_time": "2023-02-09T10:40:40.253Z"
   },
   {
    "duration": 430,
    "start_time": "2023-02-09T10:40:40.684Z"
   },
   {
    "duration": 415,
    "start_time": "2023-02-09T10:40:41.116Z"
   },
   {
    "duration": 405,
    "start_time": "2023-02-09T10:40:41.533Z"
   },
   {
    "duration": 8,
    "start_time": "2023-02-09T10:40:41.940Z"
   },
   {
    "duration": 437,
    "start_time": "2023-02-09T10:40:41.950Z"
   },
   {
    "duration": 23,
    "start_time": "2023-02-09T10:40:42.389Z"
   },
   {
    "duration": 10,
    "start_time": "2023-02-09T10:40:42.415Z"
   },
   {
    "duration": 3,
    "start_time": "2023-02-09T10:40:42.427Z"
   },
   {
    "duration": 5,
    "start_time": "2023-02-09T10:40:42.431Z"
   },
   {
    "duration": 5,
    "start_time": "2023-02-09T10:40:42.437Z"
   },
   {
    "duration": 7,
    "start_time": "2023-02-09T10:40:42.444Z"
   },
   {
    "duration": 9,
    "start_time": "2023-02-09T10:40:42.452Z"
   },
   {
    "duration": 6,
    "start_time": "2023-02-09T10:40:42.463Z"
   },
   {
    "duration": 35,
    "start_time": "2023-02-09T10:40:42.470Z"
   },
   {
    "duration": 15,
    "start_time": "2023-02-09T10:40:42.507Z"
   },
   {
    "duration": 0,
    "start_time": "2023-02-09T10:40:42.524Z"
   },
   {
    "duration": 0,
    "start_time": "2023-02-09T10:40:42.525Z"
   },
   {
    "duration": 1,
    "start_time": "2023-02-09T10:40:42.526Z"
   },
   {
    "duration": 0,
    "start_time": "2023-02-09T10:40:42.528Z"
   },
   {
    "duration": 5,
    "start_time": "2023-02-09T10:41:20.878Z"
   },
   {
    "duration": 17,
    "start_time": "2023-02-09T10:41:31.774Z"
   },
   {
    "duration": 21,
    "start_time": "2023-02-09T10:41:53.444Z"
   },
   {
    "duration": 5,
    "start_time": "2023-02-09T10:42:30.589Z"
   },
   {
    "duration": 21,
    "start_time": "2023-02-09T10:42:53.878Z"
   },
   {
    "duration": 3,
    "start_time": "2023-02-09T10:51:49.626Z"
   },
   {
    "duration": 126,
    "start_time": "2023-02-09T10:52:03.678Z"
   },
   {
    "duration": 74,
    "start_time": "2023-02-09T10:52:20.137Z"
   },
   {
    "duration": 22,
    "start_time": "2023-02-09T10:52:35.585Z"
   },
   {
    "duration": 22,
    "start_time": "2023-02-09T10:52:57.949Z"
   },
   {
    "duration": 22,
    "start_time": "2023-02-09T10:53:00.361Z"
   },
   {
    "duration": 1091,
    "start_time": "2023-02-09T11:06:11.401Z"
   },
   {
    "duration": 1136,
    "start_time": "2023-02-09T11:06:43.616Z"
   },
   {
    "duration": 1073,
    "start_time": "2023-02-09T11:07:51.209Z"
   },
   {
    "duration": 1093,
    "start_time": "2023-02-09T11:08:19.414Z"
   },
   {
    "duration": 1056,
    "start_time": "2023-02-09T11:08:21.880Z"
   },
   {
    "duration": 75,
    "start_time": "2023-02-09T11:08:38.336Z"
   },
   {
    "duration": 225,
    "start_time": "2023-02-09T11:08:39.094Z"
   },
   {
    "duration": 3,
    "start_time": "2023-02-09T11:08:40.686Z"
   },
   {
    "duration": 2244,
    "start_time": "2023-02-09T11:08:41.398Z"
   },
   {
    "duration": 1164,
    "start_time": "2023-02-09T11:08:44.254Z"
   },
   {
    "duration": 1492,
    "start_time": "2023-02-09T11:21:22.375Z"
   },
   {
    "duration": 2311,
    "start_time": "2023-02-09T11:21:23.869Z"
   },
   {
    "duration": 40,
    "start_time": "2023-02-09T11:21:26.182Z"
   },
   {
    "duration": 23,
    "start_time": "2023-02-09T11:21:26.225Z"
   },
   {
    "duration": 21,
    "start_time": "2023-02-09T11:21:26.250Z"
   },
   {
    "duration": 6,
    "start_time": "2023-02-09T11:21:26.272Z"
   },
   {
    "duration": 290,
    "start_time": "2023-02-09T11:21:26.280Z"
   },
   {
    "duration": 16,
    "start_time": "2023-02-09T11:21:26.572Z"
   },
   {
    "duration": 30,
    "start_time": "2023-02-09T11:21:26.590Z"
   },
   {
    "duration": 23,
    "start_time": "2023-02-09T11:21:26.623Z"
   },
   {
    "duration": 4,
    "start_time": "2023-02-09T11:21:26.648Z"
   },
   {
    "duration": 102,
    "start_time": "2023-02-09T11:21:26.653Z"
   },
   {
    "duration": 11,
    "start_time": "2023-02-09T11:21:26.757Z"
   },
   {
    "duration": 7,
    "start_time": "2023-02-09T11:21:26.769Z"
   },
   {
    "duration": 45,
    "start_time": "2023-02-09T11:21:26.777Z"
   },
   {
    "duration": 26,
    "start_time": "2023-02-09T11:21:26.824Z"
   },
   {
    "duration": 23,
    "start_time": "2023-02-09T11:21:26.852Z"
   },
   {
    "duration": 43,
    "start_time": "2023-02-09T11:21:26.876Z"
   },
   {
    "duration": 109,
    "start_time": "2023-02-09T11:21:26.921Z"
   },
   {
    "duration": 543,
    "start_time": "2023-02-09T11:21:27.032Z"
   },
   {
    "duration": 462,
    "start_time": "2023-02-09T11:21:27.577Z"
   },
   {
    "duration": 572,
    "start_time": "2023-02-09T11:21:28.041Z"
   },
   {
    "duration": 423,
    "start_time": "2023-02-09T11:21:28.619Z"
   },
   {
    "duration": 445,
    "start_time": "2023-02-09T11:21:29.044Z"
   },
   {
    "duration": 7,
    "start_time": "2023-02-09T11:21:29.492Z"
   },
   {
    "duration": 478,
    "start_time": "2023-02-09T11:21:29.503Z"
   },
   {
    "duration": 37,
    "start_time": "2023-02-09T11:21:29.983Z"
   },
   {
    "duration": 11,
    "start_time": "2023-02-09T11:21:30.024Z"
   },
   {
    "duration": 18,
    "start_time": "2023-02-09T11:21:30.037Z"
   },
   {
    "duration": 30,
    "start_time": "2023-02-09T11:21:30.057Z"
   },
   {
    "duration": 37,
    "start_time": "2023-02-09T11:21:30.089Z"
   },
   {
    "duration": 19,
    "start_time": "2023-02-09T11:21:30.128Z"
   },
   {
    "duration": 14,
    "start_time": "2023-02-09T11:21:30.149Z"
   },
   {
    "duration": 16,
    "start_time": "2023-02-09T11:21:30.165Z"
   },
   {
    "duration": 37,
    "start_time": "2023-02-09T11:21:30.183Z"
   },
   {
    "duration": 40,
    "start_time": "2023-02-09T11:21:30.222Z"
   },
   {
    "duration": 201,
    "start_time": "2023-02-09T11:21:30.265Z"
   },
   {
    "duration": 68,
    "start_time": "2023-02-09T11:21:30.467Z"
   },
   {
    "duration": 4,
    "start_time": "2023-02-09T11:21:30.537Z"
   },
   {
    "duration": 1234,
    "start_time": "2023-02-09T11:21:30.543Z"
   },
   {
    "duration": 1160,
    "start_time": "2023-02-09T11:21:31.779Z"
   },
   {
    "duration": 346779,
    "start_time": "2023-02-09T11:21:32.941Z"
   },
   {
    "duration": 339369,
    "start_time": "2023-02-09T11:27:19.723Z"
   },
   {
    "duration": 1308,
    "start_time": "2023-02-09T11:32:59.095Z"
   },
   {
    "duration": 1600,
    "start_time": "2023-02-09T11:33:00.405Z"
   },
   {
    "duration": 90,
    "start_time": "2023-02-09T11:33:02.013Z"
   },
   {
    "duration": 10,
    "start_time": "2023-02-09T11:33:02.105Z"
   },
   {
    "duration": 17,
    "start_time": "2023-02-09T11:33:02.126Z"
   },
   {
    "duration": 4,
    "start_time": "2023-02-09T11:33:05.465Z"
   },
   {
    "duration": 6,
    "start_time": "2023-02-09T11:52:09.962Z"
   },
   {
    "duration": 4,
    "start_time": "2023-02-09T11:52:10.564Z"
   },
   {
    "duration": 5,
    "start_time": "2023-02-09T11:52:11.346Z"
   },
   {
    "duration": 4,
    "start_time": "2023-02-09T11:52:11.452Z"
   },
   {
    "duration": 18,
    "start_time": "2023-02-09T11:52:12.064Z"
   },
   {
    "duration": 1267,
    "start_time": "2023-02-09T11:52:14.141Z"
   },
   {
    "duration": 1503,
    "start_time": "2023-02-09T11:52:15.410Z"
   },
   {
    "duration": 1311,
    "start_time": "2023-02-09T11:52:17.896Z"
   },
   {
    "duration": 5,
    "start_time": "2023-02-09T11:52:19.209Z"
   },
   {
    "duration": 3,
    "start_time": "2023-02-09T11:52:25.297Z"
   },
   {
    "duration": 12638,
    "start_time": "2023-02-09T11:52:25.340Z"
   },
   {
    "duration": 12304,
    "start_time": "2023-02-09T11:52:37.980Z"
   },
   {
    "duration": 4,
    "start_time": "2023-02-09T11:52:50.286Z"
   },
   {
    "duration": 46,
    "start_time": "2023-02-09T12:06:04.374Z"
   },
   {
    "duration": 0,
    "start_time": "2023-02-09T12:06:04.421Z"
   },
   {
    "duration": 0,
    "start_time": "2023-02-09T12:06:04.423Z"
   },
   {
    "duration": 0,
    "start_time": "2023-02-09T12:06:04.424Z"
   },
   {
    "duration": 0,
    "start_time": "2023-02-09T12:06:04.425Z"
   },
   {
    "duration": 0,
    "start_time": "2023-02-09T12:06:04.426Z"
   },
   {
    "duration": 0,
    "start_time": "2023-02-09T12:06:04.427Z"
   },
   {
    "duration": 0,
    "start_time": "2023-02-09T12:06:04.428Z"
   },
   {
    "duration": 0,
    "start_time": "2023-02-09T12:06:04.429Z"
   },
   {
    "duration": 1572,
    "start_time": "2023-02-09T12:20:26.331Z"
   },
   {
    "duration": 1323,
    "start_time": "2023-02-09T12:20:30.185Z"
   },
   {
    "duration": 5,
    "start_time": "2023-02-09T12:20:35.253Z"
   },
   {
    "duration": 12325,
    "start_time": "2023-02-09T12:20:47.173Z"
   },
   {
    "duration": 12304,
    "start_time": "2023-02-09T12:20:59.502Z"
   },
   {
    "duration": 3,
    "start_time": "2023-02-09T12:21:16.315Z"
   },
   {
    "duration": 399880,
    "start_time": "2023-02-09T12:21:24.723Z"
   },
   {
    "duration": 392379,
    "start_time": "2023-02-09T12:28:04.605Z"
   },
   {
    "duration": 3,
    "start_time": "2023-02-09T12:34:36.986Z"
   },
   {
    "duration": 4,
    "start_time": "2023-02-09T12:45:36.414Z"
   },
   {
    "duration": 4,
    "start_time": "2023-02-09T12:54:55.608Z"
   },
   {
    "duration": 117,
    "start_time": "2023-02-09T13:02:11.170Z"
   },
   {
    "duration": 4,
    "start_time": "2023-02-09T13:09:10.856Z"
   },
   {
    "duration": 5,
    "start_time": "2023-02-09T13:09:15.624Z"
   },
   {
    "duration": 1488,
    "start_time": "2023-02-09T14:32:50.240Z"
   },
   {
    "duration": 2469,
    "start_time": "2023-02-09T14:32:51.730Z"
   },
   {
    "duration": 36,
    "start_time": "2023-02-09T14:32:54.205Z"
   },
   {
    "duration": 30,
    "start_time": "2023-02-09T14:32:54.243Z"
   },
   {
    "duration": 55,
    "start_time": "2023-02-09T14:32:54.276Z"
   },
   {
    "duration": 14,
    "start_time": "2023-02-09T14:32:54.333Z"
   },
   {
    "duration": 282,
    "start_time": "2023-02-09T14:32:54.349Z"
   },
   {
    "duration": 16,
    "start_time": "2023-02-09T14:32:54.633Z"
   },
   {
    "duration": 14,
    "start_time": "2023-02-09T14:32:54.650Z"
   },
   {
    "duration": 45,
    "start_time": "2023-02-09T14:32:54.665Z"
   },
   {
    "duration": 6,
    "start_time": "2023-02-09T14:32:54.712Z"
   },
   {
    "duration": 96,
    "start_time": "2023-02-09T14:32:54.720Z"
   },
   {
    "duration": 13,
    "start_time": "2023-02-09T14:32:54.819Z"
   },
   {
    "duration": 6,
    "start_time": "2023-02-09T14:32:54.837Z"
   },
   {
    "duration": 30,
    "start_time": "2023-02-09T14:32:54.845Z"
   },
   {
    "duration": 34,
    "start_time": "2023-02-09T14:32:54.902Z"
   },
   {
    "duration": 24,
    "start_time": "2023-02-09T14:32:54.937Z"
   },
   {
    "duration": 41,
    "start_time": "2023-02-09T14:32:54.962Z"
   },
   {
    "duration": 115,
    "start_time": "2023-02-09T14:32:55.005Z"
   },
   {
    "duration": 476,
    "start_time": "2023-02-09T14:32:55.122Z"
   },
   {
    "duration": 440,
    "start_time": "2023-02-09T14:32:55.603Z"
   },
   {
    "duration": 528,
    "start_time": "2023-02-09T14:32:56.045Z"
   },
   {
    "duration": 465,
    "start_time": "2023-02-09T14:32:56.575Z"
   },
   {
    "duration": 482,
    "start_time": "2023-02-09T14:32:57.042Z"
   },
   {
    "duration": 13,
    "start_time": "2023-02-09T14:32:57.527Z"
   },
   {
    "duration": 499,
    "start_time": "2023-02-09T14:32:57.541Z"
   },
   {
    "duration": 19,
    "start_time": "2023-02-09T14:32:58.042Z"
   },
   {
    "duration": 9,
    "start_time": "2023-02-09T14:32:58.063Z"
   },
   {
    "duration": 4,
    "start_time": "2023-02-09T14:32:58.074Z"
   },
   {
    "duration": 28,
    "start_time": "2023-02-09T14:32:58.080Z"
   },
   {
    "duration": 7,
    "start_time": "2023-02-09T14:32:58.110Z"
   },
   {
    "duration": 17,
    "start_time": "2023-02-09T14:32:58.119Z"
   },
   {
    "duration": 8,
    "start_time": "2023-02-09T14:32:58.138Z"
   },
   {
    "duration": 8,
    "start_time": "2023-02-09T14:32:58.148Z"
   },
   {
    "duration": 6,
    "start_time": "2023-02-09T14:32:58.158Z"
   },
   {
    "duration": 23,
    "start_time": "2023-02-09T14:32:58.166Z"
   },
   {
    "duration": 2303,
    "start_time": "2023-02-09T14:32:58.202Z"
   },
   {
    "duration": 2002,
    "start_time": "2023-02-09T14:33:00.507Z"
   },
   {
    "duration": 270,
    "start_time": "2023-02-09T14:33:02.514Z"
   },
   {
    "duration": 0,
    "start_time": "2023-02-09T14:33:02.786Z"
   },
   {
    "duration": 1,
    "start_time": "2023-02-09T14:33:02.787Z"
   },
   {
    "duration": 0,
    "start_time": "2023-02-09T14:33:02.789Z"
   },
   {
    "duration": 0,
    "start_time": "2023-02-09T14:33:02.791Z"
   },
   {
    "duration": 0,
    "start_time": "2023-02-09T14:33:02.803Z"
   },
   {
    "duration": 0,
    "start_time": "2023-02-09T14:33:02.805Z"
   },
   {
    "duration": 0,
    "start_time": "2023-02-09T14:33:02.807Z"
   },
   {
    "duration": 0,
    "start_time": "2023-02-09T14:33:02.808Z"
   },
   {
    "duration": 0,
    "start_time": "2023-02-09T14:33:02.809Z"
   },
   {
    "duration": 0,
    "start_time": "2023-02-09T14:33:02.810Z"
   },
   {
    "duration": 0,
    "start_time": "2023-02-09T14:33:02.811Z"
   },
   {
    "duration": 0,
    "start_time": "2023-02-09T14:33:02.812Z"
   },
   {
    "duration": 0,
    "start_time": "2023-02-09T14:33:02.813Z"
   },
   {
    "duration": 0,
    "start_time": "2023-02-09T14:33:02.815Z"
   },
   {
    "duration": 0,
    "start_time": "2023-02-09T14:33:02.816Z"
   },
   {
    "duration": 0,
    "start_time": "2023-02-09T14:33:02.817Z"
   },
   {
    "duration": 4,
    "start_time": "2023-02-09T14:33:20.273Z"
   },
   {
    "duration": 4,
    "start_time": "2023-02-09T14:33:24.288Z"
   },
   {
    "duration": 13041,
    "start_time": "2023-02-09T14:33:24.889Z"
   },
   {
    "duration": 12791,
    "start_time": "2023-02-09T14:33:37.932Z"
   },
   {
    "duration": 4,
    "start_time": "2023-02-09T14:33:50.725Z"
   },
   {
    "duration": 414383,
    "start_time": "2023-02-09T14:33:58.036Z"
   },
   {
    "duration": 1596,
    "start_time": "2023-02-09T14:52:18.382Z"
   },
   {
    "duration": 2634,
    "start_time": "2023-02-09T14:52:19.980Z"
   },
   {
    "duration": 30,
    "start_time": "2023-02-09T14:52:22.621Z"
   },
   {
    "duration": 40,
    "start_time": "2023-02-09T14:52:22.652Z"
   },
   {
    "duration": 41,
    "start_time": "2023-02-09T14:52:22.695Z"
   },
   {
    "duration": 7,
    "start_time": "2023-02-09T14:52:22.738Z"
   },
   {
    "duration": 284,
    "start_time": "2023-02-09T14:52:22.746Z"
   },
   {
    "duration": 19,
    "start_time": "2023-02-09T14:52:23.032Z"
   },
   {
    "duration": 14,
    "start_time": "2023-02-09T14:52:23.053Z"
   },
   {
    "duration": 42,
    "start_time": "2023-02-09T14:52:23.069Z"
   },
   {
    "duration": 6,
    "start_time": "2023-02-09T14:52:23.113Z"
   },
   {
    "duration": 108,
    "start_time": "2023-02-09T14:52:23.121Z"
   },
   {
    "duration": 13,
    "start_time": "2023-02-09T14:52:23.231Z"
   },
   {
    "duration": 7,
    "start_time": "2023-02-09T14:52:23.249Z"
   },
   {
    "duration": 24,
    "start_time": "2023-02-09T14:52:23.257Z"
   },
   {
    "duration": 33,
    "start_time": "2023-02-09T14:52:23.304Z"
   },
   {
    "duration": 21,
    "start_time": "2023-02-09T14:52:23.339Z"
   },
   {
    "duration": 15,
    "start_time": "2023-02-09T14:52:23.362Z"
   },
   {
    "duration": 143,
    "start_time": "2023-02-09T14:52:23.378Z"
   },
   {
    "duration": 517,
    "start_time": "2023-02-09T14:52:23.523Z"
   },
   {
    "duration": 624,
    "start_time": "2023-02-09T14:52:24.042Z"
   },
   {
    "duration": 597,
    "start_time": "2023-02-09T14:52:24.669Z"
   },
   {
    "duration": 501,
    "start_time": "2023-02-09T14:52:25.268Z"
   },
   {
    "duration": 477,
    "start_time": "2023-02-09T14:52:25.771Z"
   },
   {
    "duration": 7,
    "start_time": "2023-02-09T14:52:26.250Z"
   },
   {
    "duration": 487,
    "start_time": "2023-02-09T14:52:26.258Z"
   },
   {
    "duration": 30,
    "start_time": "2023-02-09T14:52:26.747Z"
   },
   {
    "duration": 9,
    "start_time": "2023-02-09T14:52:26.780Z"
   },
   {
    "duration": 41,
    "start_time": "2023-02-09T14:52:26.803Z"
   },
   {
    "duration": 5,
    "start_time": "2023-02-09T14:52:26.846Z"
   },
   {
    "duration": 9,
    "start_time": "2023-02-09T14:52:26.853Z"
   },
   {
    "duration": 11,
    "start_time": "2023-02-09T14:52:26.864Z"
   },
   {
    "duration": 7,
    "start_time": "2023-02-09T14:52:26.876Z"
   },
   {
    "duration": 22,
    "start_time": "2023-02-09T14:52:26.885Z"
   },
   {
    "duration": 46,
    "start_time": "2023-02-09T14:52:26.909Z"
   },
   {
    "duration": 34,
    "start_time": "2023-02-09T14:52:26.957Z"
   },
   {
    "duration": 2450,
    "start_time": "2023-02-09T14:52:26.993Z"
   },
   {
    "duration": 1988,
    "start_time": "2023-02-09T14:52:29.446Z"
   },
   {
    "duration": 10,
    "start_time": "2023-02-09T14:52:31.440Z"
   },
   {
    "duration": 54,
    "start_time": "2023-02-09T14:52:31.453Z"
   },
   {
    "duration": 13456,
    "start_time": "2023-02-09T14:52:31.513Z"
   },
   {
    "duration": 13093,
    "start_time": "2023-02-09T14:52:44.971Z"
   },
   {
    "duration": 3,
    "start_time": "2023-02-09T14:52:58.066Z"
   },
   {
    "duration": 416348,
    "start_time": "2023-02-09T14:52:58.071Z"
   },
   {
    "duration": 408091,
    "start_time": "2023-02-09T14:59:54.421Z"
   },
   {
    "duration": 5,
    "start_time": "2023-02-09T15:06:42.520Z"
   },
   {
    "duration": 165,
    "start_time": "2023-02-09T15:06:42.527Z"
   },
   {
    "duration": 53,
    "start_time": "2023-02-09T15:06:42.694Z"
   },
   {
    "duration": 13,
    "start_time": "2023-02-09T15:06:42.749Z"
   },
   {
    "duration": 0,
    "start_time": "2023-02-09T15:06:42.764Z"
   },
   {
    "duration": 0,
    "start_time": "2023-02-09T15:06:42.765Z"
   },
   {
    "duration": 0,
    "start_time": "2023-02-09T15:06:42.767Z"
   },
   {
    "duration": 0,
    "start_time": "2023-02-09T15:06:42.769Z"
   },
   {
    "duration": 0,
    "start_time": "2023-02-09T15:06:42.770Z"
   },
   {
    "duration": 0,
    "start_time": "2023-02-09T15:06:42.772Z"
   },
   {
    "duration": 1467,
    "start_time": "2023-02-09T15:13:56.698Z"
   },
   {
    "duration": 2956,
    "start_time": "2023-02-09T15:13:58.167Z"
   },
   {
    "duration": 26,
    "start_time": "2023-02-09T15:14:01.125Z"
   },
   {
    "duration": 40,
    "start_time": "2023-02-09T15:14:01.153Z"
   },
   {
    "duration": 62,
    "start_time": "2023-02-09T15:14:01.204Z"
   },
   {
    "duration": 25,
    "start_time": "2023-02-09T15:14:01.268Z"
   },
   {
    "duration": 294,
    "start_time": "2023-02-09T15:14:01.295Z"
   },
   {
    "duration": 25,
    "start_time": "2023-02-09T15:14:01.592Z"
   },
   {
    "duration": 28,
    "start_time": "2023-02-09T15:14:01.619Z"
   },
   {
    "duration": 38,
    "start_time": "2023-02-09T15:14:01.649Z"
   },
   {
    "duration": 25,
    "start_time": "2023-02-09T15:14:01.689Z"
   },
   {
    "duration": 108,
    "start_time": "2023-02-09T15:14:01.716Z"
   },
   {
    "duration": 8,
    "start_time": "2023-02-09T15:14:01.826Z"
   },
   {
    "duration": 16,
    "start_time": "2023-02-09T15:14:01.836Z"
   },
   {
    "duration": 67,
    "start_time": "2023-02-09T15:14:01.854Z"
   },
   {
    "duration": 27,
    "start_time": "2023-02-09T15:14:01.923Z"
   },
   {
    "duration": 22,
    "start_time": "2023-02-09T15:14:01.953Z"
   },
   {
    "duration": 39,
    "start_time": "2023-02-09T15:14:01.977Z"
   },
   {
    "duration": 108,
    "start_time": "2023-02-09T15:14:02.018Z"
   },
   {
    "duration": 490,
    "start_time": "2023-02-09T15:14:02.127Z"
   },
   {
    "duration": 515,
    "start_time": "2023-02-09T15:14:02.620Z"
   },
   {
    "duration": 543,
    "start_time": "2023-02-09T15:14:03.137Z"
   },
   {
    "duration": 404,
    "start_time": "2023-02-09T15:14:03.682Z"
   },
   {
    "duration": 463,
    "start_time": "2023-02-09T15:14:04.088Z"
   },
   {
    "duration": 7,
    "start_time": "2023-02-09T15:14:04.553Z"
   },
   {
    "duration": 437,
    "start_time": "2023-02-09T15:14:04.562Z"
   },
   {
    "duration": 21,
    "start_time": "2023-02-09T15:14:05.003Z"
   },
   {
    "duration": 10,
    "start_time": "2023-02-09T15:14:05.029Z"
   },
   {
    "duration": 10,
    "start_time": "2023-02-09T15:14:05.041Z"
   },
   {
    "duration": 6,
    "start_time": "2023-02-09T15:14:05.053Z"
   },
   {
    "duration": 6,
    "start_time": "2023-02-09T15:14:05.060Z"
   },
   {
    "duration": 8,
    "start_time": "2023-02-09T15:14:05.067Z"
   },
   {
    "duration": 35,
    "start_time": "2023-02-09T15:14:05.077Z"
   },
   {
    "duration": 14,
    "start_time": "2023-02-09T15:14:05.113Z"
   },
   {
    "duration": 6,
    "start_time": "2023-02-09T15:14:05.129Z"
   },
   {
    "duration": 21,
    "start_time": "2023-02-09T15:14:05.137Z"
   },
   {
    "duration": 2362,
    "start_time": "2023-02-09T15:14:05.160Z"
   },
   {
    "duration": 1691,
    "start_time": "2023-02-09T15:14:07.525Z"
   },
   {
    "duration": 8,
    "start_time": "2023-02-09T15:14:09.220Z"
   },
   {
    "duration": 91,
    "start_time": "2023-02-09T15:14:09.231Z"
   },
   {
    "duration": 12733,
    "start_time": "2023-02-09T15:14:09.324Z"
   },
   {
    "duration": 12583,
    "start_time": "2023-02-09T15:14:22.059Z"
   },
   {
    "duration": 3,
    "start_time": "2023-02-09T15:14:34.644Z"
   },
   {
    "duration": 412727,
    "start_time": "2023-02-09T15:14:34.648Z"
   },
   {
    "duration": 404682,
    "start_time": "2023-02-09T15:21:27.377Z"
   },
   {
    "duration": 3,
    "start_time": "2023-02-09T15:28:12.061Z"
   },
   {
    "duration": 1472,
    "start_time": "2023-02-09T15:30:26.487Z"
   },
   {
    "duration": 2312,
    "start_time": "2023-02-09T15:30:27.961Z"
   },
   {
    "duration": 40,
    "start_time": "2023-02-09T15:30:30.275Z"
   },
   {
    "duration": 40,
    "start_time": "2023-02-09T15:30:30.319Z"
   },
   {
    "duration": 49,
    "start_time": "2023-02-09T15:30:30.360Z"
   },
   {
    "duration": 28,
    "start_time": "2023-02-09T15:30:30.411Z"
   },
   {
    "duration": 290,
    "start_time": "2023-02-09T15:30:30.441Z"
   },
   {
    "duration": 15,
    "start_time": "2023-02-09T15:30:30.733Z"
   },
   {
    "duration": 24,
    "start_time": "2023-02-09T15:30:30.750Z"
   },
   {
    "duration": 37,
    "start_time": "2023-02-09T15:30:30.777Z"
   },
   {
    "duration": 30,
    "start_time": "2023-02-09T15:30:30.816Z"
   },
   {
    "duration": 111,
    "start_time": "2023-02-09T15:30:30.847Z"
   },
   {
    "duration": 10,
    "start_time": "2023-02-09T15:30:30.959Z"
   },
   {
    "duration": 56,
    "start_time": "2023-02-09T15:30:30.971Z"
   },
   {
    "duration": 63,
    "start_time": "2023-02-09T15:30:31.030Z"
   },
   {
    "duration": 72,
    "start_time": "2023-02-09T15:30:31.095Z"
   },
   {
    "duration": 72,
    "start_time": "2023-02-09T15:30:31.169Z"
   },
   {
    "duration": 29,
    "start_time": "2023-02-09T15:30:31.243Z"
   },
   {
    "duration": 106,
    "start_time": "2023-02-09T15:30:31.274Z"
   },
   {
    "duration": 464,
    "start_time": "2023-02-09T15:30:31.382Z"
   },
   {
    "duration": 458,
    "start_time": "2023-02-09T15:30:31.848Z"
   },
   {
    "duration": 542,
    "start_time": "2023-02-09T15:30:32.309Z"
   },
   {
    "duration": 419,
    "start_time": "2023-02-09T15:30:32.853Z"
   },
   {
    "duration": 418,
    "start_time": "2023-02-09T15:30:33.273Z"
   },
   {
    "duration": 19,
    "start_time": "2023-02-09T15:30:33.692Z"
   },
   {
    "duration": 420,
    "start_time": "2023-02-09T15:30:33.717Z"
   },
   {
    "duration": 23,
    "start_time": "2023-02-09T15:30:34.139Z"
   },
   {
    "duration": 16,
    "start_time": "2023-02-09T15:30:34.168Z"
   },
   {
    "duration": 26,
    "start_time": "2023-02-09T15:30:34.186Z"
   },
   {
    "duration": 21,
    "start_time": "2023-02-09T15:30:34.214Z"
   },
   {
    "duration": 12,
    "start_time": "2023-02-09T15:30:34.237Z"
   },
   {
    "duration": 14,
    "start_time": "2023-02-09T15:30:34.252Z"
   },
   {
    "duration": 17,
    "start_time": "2023-02-09T15:30:34.267Z"
   },
   {
    "duration": 7,
    "start_time": "2023-02-09T15:30:34.286Z"
   },
   {
    "duration": 13,
    "start_time": "2023-02-09T15:30:34.296Z"
   },
   {
    "duration": 35,
    "start_time": "2023-02-09T15:30:34.314Z"
   },
   {
    "duration": 165,
    "start_time": "2023-02-09T15:30:34.351Z"
   },
   {
    "duration": 1889,
    "start_time": "2023-02-09T15:30:34.518Z"
   },
   {
    "duration": 97,
    "start_time": "2023-02-09T15:30:36.410Z"
   },
   {
    "duration": 0,
    "start_time": "2023-02-09T15:30:36.510Z"
   },
   {
    "duration": 0,
    "start_time": "2023-02-09T15:30:36.512Z"
   },
   {
    "duration": 0,
    "start_time": "2023-02-09T15:30:36.513Z"
   },
   {
    "duration": 0,
    "start_time": "2023-02-09T15:30:36.514Z"
   },
   {
    "duration": 0,
    "start_time": "2023-02-09T15:30:36.515Z"
   },
   {
    "duration": 0,
    "start_time": "2023-02-09T15:30:36.516Z"
   },
   {
    "duration": 0,
    "start_time": "2023-02-09T15:30:36.518Z"
   },
   {
    "duration": 0,
    "start_time": "2023-02-09T15:30:36.519Z"
   },
   {
    "duration": 0,
    "start_time": "2023-02-09T15:30:36.520Z"
   },
   {
    "duration": 0,
    "start_time": "2023-02-09T15:30:36.521Z"
   },
   {
    "duration": 0,
    "start_time": "2023-02-09T15:30:36.523Z"
   },
   {
    "duration": 0,
    "start_time": "2023-02-09T15:30:36.524Z"
   },
   {
    "duration": 0,
    "start_time": "2023-02-09T15:30:36.525Z"
   },
   {
    "duration": 0,
    "start_time": "2023-02-09T15:30:36.526Z"
   },
   {
    "duration": 0,
    "start_time": "2023-02-09T15:30:36.527Z"
   },
   {
    "duration": 0,
    "start_time": "2023-02-09T15:30:36.529Z"
   },
   {
    "duration": 1423,
    "start_time": "2023-02-09T15:31:01.202Z"
   },
   {
    "duration": 2315,
    "start_time": "2023-02-09T15:31:02.627Z"
   },
   {
    "duration": 31,
    "start_time": "2023-02-09T15:31:04.944Z"
   },
   {
    "duration": 39,
    "start_time": "2023-02-09T15:31:04.978Z"
   },
   {
    "duration": 26,
    "start_time": "2023-02-09T15:31:05.019Z"
   },
   {
    "duration": 15,
    "start_time": "2023-02-09T15:31:05.047Z"
   },
   {
    "duration": 259,
    "start_time": "2023-02-09T15:31:05.064Z"
   },
   {
    "duration": 13,
    "start_time": "2023-02-09T15:31:05.325Z"
   },
   {
    "duration": 16,
    "start_time": "2023-02-09T15:31:05.340Z"
   },
   {
    "duration": 14,
    "start_time": "2023-02-09T15:31:05.359Z"
   },
   {
    "duration": 29,
    "start_time": "2023-02-09T15:31:05.375Z"
   },
   {
    "duration": 82,
    "start_time": "2023-02-09T15:31:05.408Z"
   },
   {
    "duration": 22,
    "start_time": "2023-02-09T15:31:05.492Z"
   },
   {
    "duration": 17,
    "start_time": "2023-02-09T15:31:05.515Z"
   },
   {
    "duration": 24,
    "start_time": "2023-02-09T15:31:05.534Z"
   },
   {
    "duration": 22,
    "start_time": "2023-02-09T15:31:05.560Z"
   },
   {
    "duration": 32,
    "start_time": "2023-02-09T15:31:05.584Z"
   },
   {
    "duration": 15,
    "start_time": "2023-02-09T15:31:05.618Z"
   },
   {
    "duration": 105,
    "start_time": "2023-02-09T15:31:05.635Z"
   },
   {
    "duration": 461,
    "start_time": "2023-02-09T15:31:05.742Z"
   },
   {
    "duration": 440,
    "start_time": "2023-02-09T15:31:06.212Z"
   },
   {
    "duration": 550,
    "start_time": "2023-02-09T15:31:06.654Z"
   },
   {
    "duration": 412,
    "start_time": "2023-02-09T15:31:07.212Z"
   },
   {
    "duration": 411,
    "start_time": "2023-02-09T15:31:07.626Z"
   },
   {
    "duration": 7,
    "start_time": "2023-02-09T15:31:08.039Z"
   },
   {
    "duration": 440,
    "start_time": "2023-02-09T15:31:08.048Z"
   },
   {
    "duration": 36,
    "start_time": "2023-02-09T15:31:08.490Z"
   },
   {
    "duration": 9,
    "start_time": "2023-02-09T15:31:08.530Z"
   },
   {
    "duration": 10,
    "start_time": "2023-02-09T15:31:08.540Z"
   },
   {
    "duration": 11,
    "start_time": "2023-02-09T15:31:08.552Z"
   },
   {
    "duration": 7,
    "start_time": "2023-02-09T15:31:08.564Z"
   },
   {
    "duration": 9,
    "start_time": "2023-02-09T15:31:08.573Z"
   },
   {
    "duration": 6,
    "start_time": "2023-02-09T15:31:08.583Z"
   },
   {
    "duration": 21,
    "start_time": "2023-02-09T15:31:08.591Z"
   },
   {
    "duration": 7,
    "start_time": "2023-02-09T15:31:08.614Z"
   },
   {
    "duration": 23,
    "start_time": "2023-02-09T15:31:08.622Z"
   },
   {
    "duration": 421,
    "start_time": "2023-02-09T15:31:08.647Z"
   },
   {
    "duration": 2834,
    "start_time": "2023-02-09T15:31:09.070Z"
   },
   {
    "duration": 11,
    "start_time": "2023-02-09T15:31:11.915Z"
   },
   {
    "duration": 0,
    "start_time": "2023-02-09T15:31:11.928Z"
   },
   {
    "duration": 1,
    "start_time": "2023-02-09T15:31:11.929Z"
   },
   {
    "duration": 0,
    "start_time": "2023-02-09T15:31:11.931Z"
   },
   {
    "duration": 0,
    "start_time": "2023-02-09T15:31:11.932Z"
   },
   {
    "duration": 0,
    "start_time": "2023-02-09T15:31:12.006Z"
   },
   {
    "duration": 0,
    "start_time": "2023-02-09T15:31:12.007Z"
   },
   {
    "duration": 0,
    "start_time": "2023-02-09T15:31:12.008Z"
   },
   {
    "duration": 0,
    "start_time": "2023-02-09T15:31:12.008Z"
   },
   {
    "duration": 0,
    "start_time": "2023-02-09T15:31:12.009Z"
   },
   {
    "duration": 0,
    "start_time": "2023-02-09T15:31:12.010Z"
   },
   {
    "duration": 0,
    "start_time": "2023-02-09T15:31:12.011Z"
   },
   {
    "duration": 0,
    "start_time": "2023-02-09T15:31:12.012Z"
   },
   {
    "duration": 0,
    "start_time": "2023-02-09T15:31:12.013Z"
   },
   {
    "duration": 0,
    "start_time": "2023-02-09T15:31:12.014Z"
   },
   {
    "duration": 0,
    "start_time": "2023-02-09T15:31:12.015Z"
   },
   {
    "duration": 0,
    "start_time": "2023-02-09T15:31:12.015Z"
   },
   {
    "duration": 1430,
    "start_time": "2023-02-09T15:31:37.002Z"
   },
   {
    "duration": 1987,
    "start_time": "2023-02-09T15:31:38.434Z"
   },
   {
    "duration": 25,
    "start_time": "2023-02-09T15:31:40.423Z"
   },
   {
    "duration": 22,
    "start_time": "2023-02-09T15:31:40.450Z"
   },
   {
    "duration": 46,
    "start_time": "2023-02-09T15:31:40.474Z"
   },
   {
    "duration": 4,
    "start_time": "2023-02-09T15:31:40.521Z"
   },
   {
    "duration": 249,
    "start_time": "2023-02-09T15:31:40.526Z"
   },
   {
    "duration": 28,
    "start_time": "2023-02-09T15:31:40.776Z"
   },
   {
    "duration": 14,
    "start_time": "2023-02-09T15:31:40.812Z"
   },
   {
    "duration": 19,
    "start_time": "2023-02-09T15:31:40.828Z"
   },
   {
    "duration": 4,
    "start_time": "2023-02-09T15:31:40.849Z"
   },
   {
    "duration": 103,
    "start_time": "2023-02-09T15:31:40.855Z"
   },
   {
    "duration": 10,
    "start_time": "2023-02-09T15:31:40.959Z"
   },
   {
    "duration": 6,
    "start_time": "2023-02-09T15:31:40.970Z"
   },
   {
    "duration": 46,
    "start_time": "2023-02-09T15:31:40.977Z"
   },
   {
    "duration": 24,
    "start_time": "2023-02-09T15:31:41.024Z"
   },
   {
    "duration": 19,
    "start_time": "2023-02-09T15:31:41.049Z"
   },
   {
    "duration": 14,
    "start_time": "2023-02-09T15:31:41.070Z"
   },
   {
    "duration": 104,
    "start_time": "2023-02-09T15:31:41.102Z"
   },
   {
    "duration": 441,
    "start_time": "2023-02-09T15:31:41.214Z"
   },
   {
    "duration": 435,
    "start_time": "2023-02-09T15:31:41.657Z"
   },
   {
    "duration": 526,
    "start_time": "2023-02-09T15:31:42.094Z"
   },
   {
    "duration": 428,
    "start_time": "2023-02-09T15:31:42.622Z"
   },
   {
    "duration": 438,
    "start_time": "2023-02-09T15:31:43.052Z"
   },
   {
    "duration": 19,
    "start_time": "2023-02-09T15:31:43.492Z"
   },
   {
    "duration": 476,
    "start_time": "2023-02-09T15:31:43.515Z"
   },
   {
    "duration": 34,
    "start_time": "2023-02-09T15:31:43.993Z"
   },
   {
    "duration": 10,
    "start_time": "2023-02-09T15:31:44.030Z"
   },
   {
    "duration": 7,
    "start_time": "2023-02-09T15:31:44.041Z"
   },
   {
    "duration": 10,
    "start_time": "2023-02-09T15:31:44.050Z"
   },
   {
    "duration": 9,
    "start_time": "2023-02-09T15:31:44.062Z"
   },
   {
    "duration": 28,
    "start_time": "2023-02-09T15:31:44.072Z"
   },
   {
    "duration": 28,
    "start_time": "2023-02-09T15:31:44.102Z"
   },
   {
    "duration": 9,
    "start_time": "2023-02-09T15:31:44.132Z"
   },
   {
    "duration": 6,
    "start_time": "2023-02-09T15:31:44.143Z"
   },
   {
    "duration": 22,
    "start_time": "2023-02-09T15:31:44.151Z"
   },
   {
    "duration": 2434,
    "start_time": "2023-02-09T15:31:44.175Z"
   },
   {
    "duration": 2696,
    "start_time": "2023-02-09T15:31:46.613Z"
   },
   {
    "duration": 5,
    "start_time": "2023-02-09T15:31:49.311Z"
   },
   {
    "duration": 10,
    "start_time": "2023-02-09T15:31:49.318Z"
   },
   {
    "duration": 12759,
    "start_time": "2023-02-09T15:31:49.330Z"
   },
   {
    "duration": 12773,
    "start_time": "2023-02-09T15:32:02.090Z"
   },
   {
    "duration": 4,
    "start_time": "2023-02-09T15:32:14.865Z"
   },
   {
    "duration": 1492,
    "start_time": "2023-02-09T15:36:16.098Z"
   },
   {
    "duration": 1925,
    "start_time": "2023-02-09T15:36:17.592Z"
   },
   {
    "duration": 26,
    "start_time": "2023-02-09T15:36:19.518Z"
   },
   {
    "duration": 23,
    "start_time": "2023-02-09T15:36:19.547Z"
   },
   {
    "duration": 44,
    "start_time": "2023-02-09T15:36:19.572Z"
   },
   {
    "duration": 10,
    "start_time": "2023-02-09T15:36:19.618Z"
   },
   {
    "duration": 251,
    "start_time": "2023-02-09T15:36:19.630Z"
   },
   {
    "duration": 27,
    "start_time": "2023-02-09T15:36:19.884Z"
   },
   {
    "duration": 15,
    "start_time": "2023-02-09T15:36:19.913Z"
   },
   {
    "duration": 17,
    "start_time": "2023-02-09T15:36:19.932Z"
   },
   {
    "duration": 4,
    "start_time": "2023-02-09T15:36:19.951Z"
   },
   {
    "duration": 111,
    "start_time": "2023-02-09T15:36:19.956Z"
   },
   {
    "duration": 11,
    "start_time": "2023-02-09T15:36:20.069Z"
   },
   {
    "duration": 6,
    "start_time": "2023-02-09T15:36:20.081Z"
   },
   {
    "duration": 20,
    "start_time": "2023-02-09T15:36:20.104Z"
   },
   {
    "duration": 24,
    "start_time": "2023-02-09T15:36:20.126Z"
   },
   {
    "duration": 52,
    "start_time": "2023-02-09T15:36:20.152Z"
   },
   {
    "duration": 16,
    "start_time": "2023-02-09T15:36:20.206Z"
   },
   {
    "duration": 106,
    "start_time": "2023-02-09T15:36:20.223Z"
   },
   {
    "duration": 444,
    "start_time": "2023-02-09T15:36:20.331Z"
   },
   {
    "duration": 416,
    "start_time": "2023-02-09T15:36:20.776Z"
   },
   {
    "duration": 512,
    "start_time": "2023-02-09T15:36:21.194Z"
   },
   {
    "duration": 388,
    "start_time": "2023-02-09T15:36:21.708Z"
   },
   {
    "duration": 423,
    "start_time": "2023-02-09T15:36:22.102Z"
   },
   {
    "duration": 6,
    "start_time": "2023-02-09T15:36:22.527Z"
   },
   {
    "duration": 417,
    "start_time": "2023-02-09T15:36:22.535Z"
   },
   {
    "duration": 22,
    "start_time": "2023-02-09T15:36:22.954Z"
   },
   {
    "duration": 26,
    "start_time": "2023-02-09T15:36:22.981Z"
   },
   {
    "duration": 4,
    "start_time": "2023-02-09T15:36:23.009Z"
   },
   {
    "duration": 7,
    "start_time": "2023-02-09T15:36:23.014Z"
   },
   {
    "duration": 6,
    "start_time": "2023-02-09T15:36:23.022Z"
   },
   {
    "duration": 10,
    "start_time": "2023-02-09T15:36:23.030Z"
   },
   {
    "duration": 14,
    "start_time": "2023-02-09T15:36:23.042Z"
   },
   {
    "duration": 9,
    "start_time": "2023-02-09T15:36:23.058Z"
   },
   {
    "duration": 9,
    "start_time": "2023-02-09T15:36:23.069Z"
   },
   {
    "duration": 39,
    "start_time": "2023-02-09T15:36:23.080Z"
   },
   {
    "duration": 1284,
    "start_time": "2023-02-09T15:36:23.121Z"
   },
   {
    "duration": 1697,
    "start_time": "2023-02-09T15:36:24.407Z"
   },
   {
    "duration": 4,
    "start_time": "2023-02-09T15:36:26.106Z"
   },
   {
    "duration": 9,
    "start_time": "2023-02-09T15:36:26.111Z"
   },
   {
    "duration": 12325,
    "start_time": "2023-02-09T15:36:26.122Z"
   },
   {
    "duration": 12005,
    "start_time": "2023-02-09T15:36:38.449Z"
   },
   {
    "duration": 4,
    "start_time": "2023-02-09T15:36:50.457Z"
   },
   {
    "duration": 411844,
    "start_time": "2023-02-09T15:36:50.462Z"
   },
   {
    "duration": 399671,
    "start_time": "2023-02-09T15:43:42.307Z"
   },
   {
    "duration": 3,
    "start_time": "2023-02-09T15:50:21.980Z"
   },
   {
    "duration": 1539,
    "start_time": "2023-02-09T15:52:57.589Z"
   },
   {
    "duration": 2369,
    "start_time": "2023-02-09T15:52:59.132Z"
   },
   {
    "duration": 31,
    "start_time": "2023-02-09T15:53:01.504Z"
   },
   {
    "duration": 52,
    "start_time": "2023-02-09T15:53:01.536Z"
   },
   {
    "duration": 36,
    "start_time": "2023-02-09T15:53:01.591Z"
   },
   {
    "duration": 6,
    "start_time": "2023-02-09T15:53:01.629Z"
   },
   {
    "duration": 252,
    "start_time": "2023-02-09T15:53:01.636Z"
   },
   {
    "duration": 25,
    "start_time": "2023-02-09T15:53:01.890Z"
   },
   {
    "duration": 19,
    "start_time": "2023-02-09T15:53:01.917Z"
   },
   {
    "duration": 15,
    "start_time": "2023-02-09T15:53:01.937Z"
   },
   {
    "duration": 6,
    "start_time": "2023-02-09T15:53:01.954Z"
   },
   {
    "duration": 99,
    "start_time": "2023-02-09T15:53:01.961Z"
   },
   {
    "duration": 9,
    "start_time": "2023-02-09T15:53:02.061Z"
   },
   {
    "duration": 8,
    "start_time": "2023-02-09T15:53:02.073Z"
   },
   {
    "duration": 42,
    "start_time": "2023-02-09T15:53:02.082Z"
   },
   {
    "duration": 24,
    "start_time": "2023-02-09T15:53:02.125Z"
   },
   {
    "duration": 22,
    "start_time": "2023-02-09T15:53:02.151Z"
   },
   {
    "duration": 37,
    "start_time": "2023-02-09T15:53:02.174Z"
   },
   {
    "duration": 104,
    "start_time": "2023-02-09T15:53:02.214Z"
   },
   {
    "duration": 452,
    "start_time": "2023-02-09T15:53:02.319Z"
   },
   {
    "duration": 456,
    "start_time": "2023-02-09T15:53:02.772Z"
   },
   {
    "duration": 527,
    "start_time": "2023-02-09T15:53:03.231Z"
   },
   {
    "duration": 412,
    "start_time": "2023-02-09T15:53:03.760Z"
   },
   {
    "duration": 453,
    "start_time": "2023-02-09T15:53:04.174Z"
   },
   {
    "duration": 6,
    "start_time": "2023-02-09T15:53:04.629Z"
   },
   {
    "duration": 434,
    "start_time": "2023-02-09T15:53:04.637Z"
   },
   {
    "duration": 34,
    "start_time": "2023-02-09T15:53:05.073Z"
   },
   {
    "duration": 22,
    "start_time": "2023-02-09T15:53:05.110Z"
   },
   {
    "duration": 6,
    "start_time": "2023-02-09T15:53:05.133Z"
   },
   {
    "duration": 6,
    "start_time": "2023-02-09T15:53:05.141Z"
   },
   {
    "duration": 7,
    "start_time": "2023-02-09T15:53:05.148Z"
   },
   {
    "duration": 19,
    "start_time": "2023-02-09T15:53:05.157Z"
   },
   {
    "duration": 56,
    "start_time": "2023-02-09T15:53:05.178Z"
   },
   {
    "duration": 19,
    "start_time": "2023-02-09T15:53:05.236Z"
   },
   {
    "duration": 29,
    "start_time": "2023-02-09T15:53:05.257Z"
   },
   {
    "duration": 45,
    "start_time": "2023-02-09T15:53:05.287Z"
   },
   {
    "duration": 3,
    "start_time": "2023-02-09T15:53:05.334Z"
   },
   {
    "duration": 1367,
    "start_time": "2023-02-09T15:53:05.338Z"
   },
   {
    "duration": 1608,
    "start_time": "2023-02-09T15:53:06.707Z"
   },
   {
    "duration": 1689,
    "start_time": "2023-02-09T15:53:08.318Z"
   },
   {
    "duration": 82,
    "start_time": "2023-02-09T15:53:10.023Z"
   },
   {
    "duration": 12,
    "start_time": "2023-02-09T15:53:10.107Z"
   },
   {
    "duration": 12750,
    "start_time": "2023-02-09T15:53:10.121Z"
   },
   {
    "duration": 12594,
    "start_time": "2023-02-09T15:53:22.873Z"
   },
   {
    "duration": 4,
    "start_time": "2023-02-09T15:53:35.468Z"
   },
   {
    "duration": 1508,
    "start_time": "2023-02-09T15:57:33.220Z"
   },
   {
    "duration": 1931,
    "start_time": "2023-02-09T15:57:34.730Z"
   },
   {
    "duration": 52,
    "start_time": "2023-02-09T15:57:36.663Z"
   },
   {
    "duration": 24,
    "start_time": "2023-02-09T15:57:36.717Z"
   },
   {
    "duration": 20,
    "start_time": "2023-02-09T15:57:36.742Z"
   },
   {
    "duration": 41,
    "start_time": "2023-02-09T15:57:36.764Z"
   },
   {
    "duration": 302,
    "start_time": "2023-02-09T15:57:36.808Z"
   },
   {
    "duration": 15,
    "start_time": "2023-02-09T15:57:37.121Z"
   },
   {
    "duration": 10,
    "start_time": "2023-02-09T15:57:37.138Z"
   },
   {
    "duration": 18,
    "start_time": "2023-02-09T15:57:37.150Z"
   },
   {
    "duration": 4,
    "start_time": "2023-02-09T15:57:37.169Z"
   },
   {
    "duration": 133,
    "start_time": "2023-02-09T15:57:37.175Z"
   },
   {
    "duration": 15,
    "start_time": "2023-02-09T15:57:37.312Z"
   },
   {
    "duration": 9,
    "start_time": "2023-02-09T15:57:37.329Z"
   },
   {
    "duration": 21,
    "start_time": "2023-02-09T15:57:37.340Z"
   },
   {
    "duration": 53,
    "start_time": "2023-02-09T15:57:37.363Z"
   },
   {
    "duration": 26,
    "start_time": "2023-02-09T15:57:37.421Z"
   },
   {
    "duration": 15,
    "start_time": "2023-02-09T15:57:37.449Z"
   },
   {
    "duration": 108,
    "start_time": "2023-02-09T15:57:37.466Z"
   },
   {
    "duration": 487,
    "start_time": "2023-02-09T15:57:37.576Z"
   },
   {
    "duration": 476,
    "start_time": "2023-02-09T15:57:38.065Z"
   },
   {
    "duration": 548,
    "start_time": "2023-02-09T15:57:38.543Z"
   },
   {
    "duration": 433,
    "start_time": "2023-02-09T15:57:39.093Z"
   },
   {
    "duration": 425,
    "start_time": "2023-02-09T15:57:39.528Z"
   },
   {
    "duration": 6,
    "start_time": "2023-02-09T15:57:39.955Z"
   },
   {
    "duration": 460,
    "start_time": "2023-02-09T15:57:39.962Z"
   },
   {
    "duration": 23,
    "start_time": "2023-02-09T15:57:40.424Z"
   },
   {
    "duration": 11,
    "start_time": "2023-02-09T15:57:40.450Z"
   },
   {
    "duration": 4,
    "start_time": "2023-02-09T15:57:40.463Z"
   },
   {
    "duration": 5,
    "start_time": "2023-02-09T15:57:40.469Z"
   },
   {
    "duration": 40,
    "start_time": "2023-02-09T15:57:40.475Z"
   },
   {
    "duration": 11,
    "start_time": "2023-02-09T15:57:40.517Z"
   },
   {
    "duration": 6,
    "start_time": "2023-02-09T15:57:40.530Z"
   },
   {
    "duration": 12,
    "start_time": "2023-02-09T15:57:40.537Z"
   },
   {
    "duration": 9,
    "start_time": "2023-02-09T15:57:40.550Z"
   },
   {
    "duration": 21,
    "start_time": "2023-02-09T15:57:40.561Z"
   },
   {
    "duration": 2555,
    "start_time": "2023-02-09T15:57:40.584Z"
   },
   {
    "duration": 2790,
    "start_time": "2023-02-09T15:57:43.140Z"
   },
   {
    "duration": 6,
    "start_time": "2023-02-09T15:57:46.005Z"
   },
   {
    "duration": 92,
    "start_time": "2023-02-09T15:57:46.012Z"
   },
   {
    "duration": 12961,
    "start_time": "2023-02-09T15:57:46.106Z"
   },
   {
    "duration": 12937,
    "start_time": "2023-02-09T15:57:59.069Z"
   },
   {
    "duration": 4,
    "start_time": "2023-02-09T15:58:12.013Z"
   },
   {
    "duration": 416349,
    "start_time": "2023-02-09T15:58:12.018Z"
   },
   {
    "duration": 395275,
    "start_time": "2023-02-09T16:05:08.368Z"
   },
   {
    "duration": 4,
    "start_time": "2023-02-09T16:11:43.645Z"
   },
   {
    "duration": 1440,
    "start_time": "2023-02-09T16:18:47.616Z"
   },
   {
    "duration": 2162,
    "start_time": "2023-02-09T16:18:49.058Z"
   },
   {
    "duration": 25,
    "start_time": "2023-02-09T16:18:51.226Z"
   },
   {
    "duration": 20,
    "start_time": "2023-02-09T16:18:51.253Z"
   },
   {
    "duration": 44,
    "start_time": "2023-02-09T16:18:51.276Z"
   },
   {
    "duration": 7,
    "start_time": "2023-02-09T16:18:51.322Z"
   },
   {
    "duration": 250,
    "start_time": "2023-02-09T16:18:51.331Z"
   },
   {
    "duration": 37,
    "start_time": "2023-02-09T16:18:51.583Z"
   },
   {
    "duration": 12,
    "start_time": "2023-02-09T16:18:51.622Z"
   },
   {
    "duration": 33,
    "start_time": "2023-02-09T16:18:51.636Z"
   },
   {
    "duration": 4,
    "start_time": "2023-02-09T16:18:51.671Z"
   },
   {
    "duration": 96,
    "start_time": "2023-02-09T16:18:51.676Z"
   },
   {
    "duration": 10,
    "start_time": "2023-02-09T16:18:51.774Z"
   },
   {
    "duration": 19,
    "start_time": "2023-02-09T16:18:51.804Z"
   },
   {
    "duration": 24,
    "start_time": "2023-02-09T16:18:51.825Z"
   },
   {
    "duration": 26,
    "start_time": "2023-02-09T16:18:51.851Z"
   },
   {
    "duration": 37,
    "start_time": "2023-02-09T16:18:51.878Z"
   },
   {
    "duration": 15,
    "start_time": "2023-02-09T16:18:51.917Z"
   },
   {
    "duration": 104,
    "start_time": "2023-02-09T16:18:51.934Z"
   },
   {
    "duration": 448,
    "start_time": "2023-02-09T16:18:52.039Z"
   },
   {
    "duration": 441,
    "start_time": "2023-02-09T16:18:52.489Z"
   },
   {
    "duration": 532,
    "start_time": "2023-02-09T16:18:52.932Z"
   },
   {
    "duration": 413,
    "start_time": "2023-02-09T16:18:53.466Z"
   },
   {
    "duration": 438,
    "start_time": "2023-02-09T16:18:53.881Z"
   },
   {
    "duration": 7,
    "start_time": "2023-02-09T16:18:54.321Z"
   },
   {
    "duration": 438,
    "start_time": "2023-02-09T16:18:54.330Z"
   },
   {
    "duration": 19,
    "start_time": "2023-02-09T16:18:54.770Z"
   },
   {
    "duration": 16,
    "start_time": "2023-02-09T16:18:54.804Z"
   },
   {
    "duration": 6,
    "start_time": "2023-02-09T16:18:54.821Z"
   },
   {
    "duration": 6,
    "start_time": "2023-02-09T16:18:54.828Z"
   },
   {
    "duration": 5,
    "start_time": "2023-02-09T16:18:54.836Z"
   },
   {
    "duration": 9,
    "start_time": "2023-02-09T16:18:54.842Z"
   },
   {
    "duration": 8,
    "start_time": "2023-02-09T16:18:54.853Z"
   },
   {
    "duration": 8,
    "start_time": "2023-02-09T16:18:54.863Z"
   },
   {
    "duration": 8,
    "start_time": "2023-02-09T16:18:54.872Z"
   },
   {
    "duration": 38,
    "start_time": "2023-02-09T16:18:54.881Z"
   },
   {
    "duration": 1788,
    "start_time": "2023-02-09T16:18:54.921Z"
   },
   {
    "duration": 2001,
    "start_time": "2023-02-09T16:18:56.712Z"
   },
   {
    "duration": 6,
    "start_time": "2023-02-09T16:18:58.719Z"
   },
   {
    "duration": 99,
    "start_time": "2023-02-09T16:18:58.726Z"
   },
   {
    "duration": 510,
    "start_time": "2023-02-09T16:18:58.829Z"
   },
   {
    "duration": 411,
    "start_time": "2023-02-09T16:18:59.341Z"
   },
   {
    "duration": 4,
    "start_time": "2023-02-09T16:18:59.753Z"
   },
   {
    "duration": 106926,
    "start_time": "2023-02-09T16:18:59.759Z"
   },
   {
    "duration": 1493,
    "start_time": "2023-02-09T16:21:19.187Z"
   },
   {
    "duration": 3713,
    "start_time": "2023-02-09T16:21:20.682Z"
   },
   {
    "duration": 31,
    "start_time": "2023-02-09T16:21:24.397Z"
   },
   {
    "duration": 22,
    "start_time": "2023-02-09T16:21:24.430Z"
   },
   {
    "duration": 24,
    "start_time": "2023-02-09T16:21:24.455Z"
   },
   {
    "duration": 8,
    "start_time": "2023-02-09T16:21:24.503Z"
   },
   {
    "duration": 275,
    "start_time": "2023-02-09T16:21:24.513Z"
   },
   {
    "duration": 28,
    "start_time": "2023-02-09T16:21:24.789Z"
   },
   {
    "duration": 11,
    "start_time": "2023-02-09T16:21:24.819Z"
   },
   {
    "duration": 18,
    "start_time": "2023-02-09T16:21:24.832Z"
   },
   {
    "duration": 4,
    "start_time": "2023-02-09T16:21:24.852Z"
   },
   {
    "duration": 108,
    "start_time": "2023-02-09T16:21:24.857Z"
   },
   {
    "duration": 10,
    "start_time": "2023-02-09T16:21:24.966Z"
   },
   {
    "duration": 7,
    "start_time": "2023-02-09T16:21:24.980Z"
   },
   {
    "duration": 45,
    "start_time": "2023-02-09T16:21:24.989Z"
   },
   {
    "duration": 24,
    "start_time": "2023-02-09T16:21:25.036Z"
   },
   {
    "duration": 22,
    "start_time": "2023-02-09T16:21:25.062Z"
   },
   {
    "duration": 41,
    "start_time": "2023-02-09T16:21:25.086Z"
   },
   {
    "duration": 97,
    "start_time": "2023-02-09T16:21:25.129Z"
   },
   {
    "duration": 454,
    "start_time": "2023-02-09T16:21:25.228Z"
   },
   {
    "duration": 447,
    "start_time": "2023-02-09T16:21:25.684Z"
   },
   {
    "duration": 609,
    "start_time": "2023-02-09T16:21:26.132Z"
   },
   {
    "duration": 444,
    "start_time": "2023-02-09T16:21:26.743Z"
   },
   {
    "duration": 446,
    "start_time": "2023-02-09T16:21:27.190Z"
   },
   {
    "duration": 7,
    "start_time": "2023-02-09T16:21:27.638Z"
   },
   {
    "duration": 446,
    "start_time": "2023-02-09T16:21:27.646Z"
   },
   {
    "duration": 31,
    "start_time": "2023-02-09T16:21:28.094Z"
   },
   {
    "duration": 9,
    "start_time": "2023-02-09T16:21:28.127Z"
   },
   {
    "duration": 21,
    "start_time": "2023-02-09T16:21:28.138Z"
   },
   {
    "duration": 6,
    "start_time": "2023-02-09T16:21:28.161Z"
   },
   {
    "duration": 6,
    "start_time": "2023-02-09T16:21:28.168Z"
   },
   {
    "duration": 10,
    "start_time": "2023-02-09T16:21:28.176Z"
   },
   {
    "duration": 7,
    "start_time": "2023-02-09T16:21:28.187Z"
   },
   {
    "duration": 21,
    "start_time": "2023-02-09T16:21:28.195Z"
   },
   {
    "duration": 24,
    "start_time": "2023-02-09T16:21:28.218Z"
   },
   {
    "duration": 32,
    "start_time": "2023-02-09T16:21:28.244Z"
   },
   {
    "duration": 1725,
    "start_time": "2023-02-09T16:21:28.278Z"
   },
   {
    "duration": 1714,
    "start_time": "2023-02-09T16:21:30.007Z"
   },
   {
    "duration": 7,
    "start_time": "2023-02-09T16:21:31.805Z"
   },
   {
    "duration": 96,
    "start_time": "2023-02-09T16:21:31.815Z"
   },
   {
    "duration": 90504,
    "start_time": "2023-02-09T16:21:31.917Z"
   },
   {
    "duration": 12561,
    "start_time": "2023-02-09T16:23:02.423Z"
   },
   {
    "duration": 4,
    "start_time": "2023-02-09T16:23:14.985Z"
   },
   {
    "duration": 1404,
    "start_time": "2023-02-09T16:29:31.474Z"
   },
   {
    "duration": 2357,
    "start_time": "2023-02-09T16:29:32.881Z"
   },
   {
    "duration": 26,
    "start_time": "2023-02-09T16:29:35.240Z"
   },
   {
    "duration": 50,
    "start_time": "2023-02-09T16:29:35.268Z"
   },
   {
    "duration": 35,
    "start_time": "2023-02-09T16:29:35.320Z"
   },
   {
    "duration": 19,
    "start_time": "2023-02-09T16:29:35.356Z"
   },
   {
    "duration": 267,
    "start_time": "2023-02-09T16:29:35.377Z"
   },
   {
    "duration": 14,
    "start_time": "2023-02-09T16:29:35.646Z"
   },
   {
    "duration": 20,
    "start_time": "2023-02-09T16:29:35.661Z"
   },
   {
    "duration": 35,
    "start_time": "2023-02-09T16:29:35.683Z"
   },
   {
    "duration": 4,
    "start_time": "2023-02-09T16:29:35.720Z"
   },
   {
    "duration": 92,
    "start_time": "2023-02-09T16:29:35.725Z"
   },
   {
    "duration": 9,
    "start_time": "2023-02-09T16:29:35.819Z"
   },
   {
    "duration": 8,
    "start_time": "2023-02-09T16:29:35.831Z"
   },
   {
    "duration": 26,
    "start_time": "2023-02-09T16:29:35.840Z"
   },
   {
    "duration": 50,
    "start_time": "2023-02-09T16:29:35.867Z"
   },
   {
    "duration": 21,
    "start_time": "2023-02-09T16:29:35.918Z"
   },
   {
    "duration": 16,
    "start_time": "2023-02-09T16:29:35.941Z"
   },
   {
    "duration": 113,
    "start_time": "2023-02-09T16:29:35.958Z"
   },
   {
    "duration": 456,
    "start_time": "2023-02-09T16:29:36.073Z"
   },
   {
    "duration": 438,
    "start_time": "2023-02-09T16:29:36.531Z"
   },
   {
    "duration": 548,
    "start_time": "2023-02-09T16:29:36.971Z"
   },
   {
    "duration": 396,
    "start_time": "2023-02-09T16:29:37.521Z"
   },
   {
    "duration": 412,
    "start_time": "2023-02-09T16:29:37.919Z"
   },
   {
    "duration": 6,
    "start_time": "2023-02-09T16:29:38.332Z"
   },
   {
    "duration": 431,
    "start_time": "2023-02-09T16:29:38.339Z"
   },
   {
    "duration": 20,
    "start_time": "2023-02-09T16:29:38.771Z"
   },
   {
    "duration": 25,
    "start_time": "2023-02-09T16:29:38.792Z"
   },
   {
    "duration": 6,
    "start_time": "2023-02-09T16:29:38.819Z"
   },
   {
    "duration": 12,
    "start_time": "2023-02-09T16:29:38.827Z"
   },
   {
    "duration": 4,
    "start_time": "2023-02-09T16:29:38.841Z"
   },
   {
    "duration": 15,
    "start_time": "2023-02-09T16:29:38.847Z"
   },
   {
    "duration": 6,
    "start_time": "2023-02-09T16:29:38.863Z"
   },
   {
    "duration": 10,
    "start_time": "2023-02-09T16:29:38.871Z"
   },
   {
    "duration": 10,
    "start_time": "2023-02-09T16:29:38.882Z"
   },
   {
    "duration": 42,
    "start_time": "2023-02-09T16:29:38.894Z"
   },
   {
    "duration": 2190,
    "start_time": "2023-02-09T16:29:38.937Z"
   },
   {
    "duration": 2182,
    "start_time": "2023-02-09T16:29:41.129Z"
   },
   {
    "duration": 91,
    "start_time": "2023-02-09T16:29:43.313Z"
   },
   {
    "duration": 0,
    "start_time": "2023-02-09T16:29:43.410Z"
   },
   {
    "duration": 0,
    "start_time": "2023-02-09T16:29:43.411Z"
   },
   {
    "duration": 0,
    "start_time": "2023-02-09T16:29:43.414Z"
   },
   {
    "duration": 0,
    "start_time": "2023-02-09T16:29:43.415Z"
   },
   {
    "duration": 0,
    "start_time": "2023-02-09T16:29:43.418Z"
   },
   {
    "duration": 0,
    "start_time": "2023-02-09T16:29:43.420Z"
   },
   {
    "duration": 0,
    "start_time": "2023-02-09T16:29:43.421Z"
   },
   {
    "duration": 0,
    "start_time": "2023-02-09T16:29:43.426Z"
   },
   {
    "duration": 0,
    "start_time": "2023-02-09T16:29:43.428Z"
   },
   {
    "duration": 0,
    "start_time": "2023-02-09T16:29:43.429Z"
   },
   {
    "duration": 0,
    "start_time": "2023-02-09T16:29:43.430Z"
   },
   {
    "duration": 0,
    "start_time": "2023-02-09T16:29:43.432Z"
   },
   {
    "duration": 0,
    "start_time": "2023-02-09T16:29:43.433Z"
   },
   {
    "duration": 0,
    "start_time": "2023-02-09T16:29:43.435Z"
   },
   {
    "duration": 0,
    "start_time": "2023-02-09T16:29:43.503Z"
   },
   {
    "duration": 0,
    "start_time": "2023-02-09T16:29:43.505Z"
   },
   {
    "duration": 1519,
    "start_time": "2023-02-09T16:32:45.689Z"
   },
   {
    "duration": 1546,
    "start_time": "2023-02-09T18:44:22.101Z"
   },
   {
    "duration": 1377,
    "start_time": "2023-02-09T18:44:31.631Z"
   },
   {
    "duration": 2944,
    "start_time": "2023-02-09T18:44:33.010Z"
   },
   {
    "duration": 23,
    "start_time": "2023-02-09T18:44:35.955Z"
   },
   {
    "duration": 32,
    "start_time": "2023-02-09T18:44:35.980Z"
   },
   {
    "duration": 53,
    "start_time": "2023-02-09T18:44:36.014Z"
   },
   {
    "duration": 7,
    "start_time": "2023-02-09T18:44:36.069Z"
   },
   {
    "duration": 252,
    "start_time": "2023-02-09T18:44:36.077Z"
   },
   {
    "duration": 28,
    "start_time": "2023-02-09T18:44:36.331Z"
   },
   {
    "duration": 13,
    "start_time": "2023-02-09T18:44:36.361Z"
   },
   {
    "duration": 18,
    "start_time": "2023-02-09T18:44:36.379Z"
   },
   {
    "duration": 5,
    "start_time": "2023-02-09T18:44:36.399Z"
   },
   {
    "duration": 143,
    "start_time": "2023-02-09T18:44:36.406Z"
   },
   {
    "duration": 11,
    "start_time": "2023-02-09T18:44:36.550Z"
   },
   {
    "duration": 8,
    "start_time": "2023-02-09T18:44:36.562Z"
   },
   {
    "duration": 38,
    "start_time": "2023-02-09T18:44:36.572Z"
   },
   {
    "duration": 38,
    "start_time": "2023-02-09T18:44:36.611Z"
   },
   {
    "duration": 22,
    "start_time": "2023-02-09T18:44:36.651Z"
   },
   {
    "duration": 13,
    "start_time": "2023-02-09T18:44:36.674Z"
   },
   {
    "duration": 95,
    "start_time": "2023-02-09T18:44:36.688Z"
   },
   {
    "duration": 392,
    "start_time": "2023-02-09T18:44:36.785Z"
   },
   {
    "duration": 373,
    "start_time": "2023-02-09T18:44:37.179Z"
   },
   {
    "duration": 515,
    "start_time": "2023-02-09T18:44:37.554Z"
   },
   {
    "duration": 365,
    "start_time": "2023-02-09T18:44:38.070Z"
   },
   {
    "duration": 377,
    "start_time": "2023-02-09T18:44:38.436Z"
   },
   {
    "duration": 6,
    "start_time": "2023-02-09T18:44:38.814Z"
   },
   {
    "duration": 392,
    "start_time": "2023-02-09T18:44:38.822Z"
   },
   {
    "duration": 18,
    "start_time": "2023-02-09T18:44:39.216Z"
   },
   {
    "duration": 20,
    "start_time": "2023-02-09T18:44:39.237Z"
   },
   {
    "duration": 15,
    "start_time": "2023-02-09T18:44:39.258Z"
   },
   {
    "duration": 7,
    "start_time": "2023-02-09T18:44:39.275Z"
   },
   {
    "duration": 6,
    "start_time": "2023-02-09T18:44:39.284Z"
   },
   {
    "duration": 9,
    "start_time": "2023-02-09T18:44:39.291Z"
   },
   {
    "duration": 6,
    "start_time": "2023-02-09T18:44:39.302Z"
   },
   {
    "duration": 12,
    "start_time": "2023-02-09T18:44:39.310Z"
   },
   {
    "duration": 32,
    "start_time": "2023-02-09T18:44:39.323Z"
   },
   {
    "duration": 30,
    "start_time": "2023-02-09T18:44:39.357Z"
   },
   {
    "duration": 1361,
    "start_time": "2023-02-09T18:44:39.389Z"
   },
   {
    "duration": 1502,
    "start_time": "2023-02-09T18:44:40.752Z"
   },
   {
    "duration": 196,
    "start_time": "2023-02-09T18:44:42.260Z"
   },
   {
    "duration": 0,
    "start_time": "2023-02-09T18:44:42.458Z"
   },
   {
    "duration": 0,
    "start_time": "2023-02-09T18:44:42.459Z"
   },
   {
    "duration": 0,
    "start_time": "2023-02-09T18:44:42.461Z"
   },
   {
    "duration": 0,
    "start_time": "2023-02-09T18:44:42.461Z"
   },
   {
    "duration": 0,
    "start_time": "2023-02-09T18:44:42.462Z"
   },
   {
    "duration": 0,
    "start_time": "2023-02-09T18:44:42.464Z"
   },
   {
    "duration": 0,
    "start_time": "2023-02-09T18:44:42.465Z"
   },
   {
    "duration": 0,
    "start_time": "2023-02-09T18:44:42.466Z"
   },
   {
    "duration": 0,
    "start_time": "2023-02-09T18:44:42.467Z"
   },
   {
    "duration": 0,
    "start_time": "2023-02-09T18:44:42.468Z"
   },
   {
    "duration": 0,
    "start_time": "2023-02-09T18:44:42.470Z"
   },
   {
    "duration": 0,
    "start_time": "2023-02-09T18:44:42.471Z"
   },
   {
    "duration": 0,
    "start_time": "2023-02-09T18:44:42.472Z"
   },
   {
    "duration": 0,
    "start_time": "2023-02-09T18:44:42.473Z"
   },
   {
    "duration": 0,
    "start_time": "2023-02-09T18:44:42.474Z"
   },
   {
    "duration": 0,
    "start_time": "2023-02-09T18:44:42.475Z"
   },
   {
    "duration": 1221,
    "start_time": "2023-02-09T18:46:41.234Z"
   },
   {
    "duration": 1761,
    "start_time": "2023-02-09T19:00:41.287Z"
   },
   {
    "duration": 1477,
    "start_time": "2023-02-09T19:01:10.576Z"
   },
   {
    "duration": 1180,
    "start_time": "2023-02-09T19:01:39.873Z"
   },
   {
    "duration": 4,
    "start_time": "2023-02-09T19:02:01.374Z"
   },
   {
    "duration": 99,
    "start_time": "2023-02-09T19:03:52.902Z"
   },
   {
    "duration": 3,
    "start_time": "2023-02-09T19:03:59.904Z"
   },
   {
    "duration": 474,
    "start_time": "2023-02-09T19:04:00.513Z"
   },
   {
    "duration": 424,
    "start_time": "2023-02-09T19:04:07.563Z"
   },
   {
    "duration": 88785,
    "start_time": "2023-02-09T19:04:23.975Z"
   },
   {
    "duration": 88792,
    "start_time": "2023-02-09T19:07:54.490Z"
   },
   {
    "duration": 3,
    "start_time": "2023-02-09T19:10:50.376Z"
   },
   {
    "duration": 88629,
    "start_time": "2023-02-09T19:16:30.969Z"
   },
   {
    "duration": 5,
    "start_time": "2023-02-09T19:18:07.373Z"
   },
   {
    "duration": 1647,
    "start_time": "2023-02-10T07:30:53.138Z"
   },
   {
    "duration": 3422,
    "start_time": "2023-02-10T07:30:55.710Z"
   },
   {
    "duration": 22,
    "start_time": "2023-02-10T07:31:01.713Z"
   },
   {
    "duration": 19,
    "start_time": "2023-02-10T07:31:09.922Z"
   },
   {
    "duration": 38,
    "start_time": "2023-02-10T07:31:10.749Z"
   },
   {
    "duration": 3,
    "start_time": "2023-02-10T07:32:01.166Z"
   },
   {
    "duration": 231,
    "start_time": "2023-02-10T07:32:02.373Z"
   },
   {
    "duration": 14,
    "start_time": "2023-02-10T07:32:06.814Z"
   },
   {
    "duration": 11,
    "start_time": "2023-02-10T07:32:13.868Z"
   },
   {
    "duration": 20,
    "start_time": "2023-02-10T07:32:18.356Z"
   },
   {
    "duration": 4,
    "start_time": "2023-02-10T07:32:28.060Z"
   },
   {
    "duration": 83,
    "start_time": "2023-02-10T07:32:28.548Z"
   },
   {
    "duration": 9,
    "start_time": "2023-02-10T07:32:54.584Z"
   },
   {
    "duration": 5,
    "start_time": "2023-02-10T07:32:55.429Z"
   },
   {
    "duration": 19,
    "start_time": "2023-02-10T07:33:37.813Z"
   },
   {
    "duration": 31,
    "start_time": "2023-02-10T07:34:22.269Z"
   },
   {
    "duration": 27,
    "start_time": "2023-02-10T07:34:34.242Z"
   },
   {
    "duration": 15,
    "start_time": "2023-02-10T07:35:53.987Z"
   },
   {
    "duration": 81,
    "start_time": "2023-02-10T07:35:54.781Z"
   },
   {
    "duration": 391,
    "start_time": "2023-02-10T07:36:02.715Z"
   },
   {
    "duration": 391,
    "start_time": "2023-02-10T07:36:11.562Z"
   },
   {
    "duration": 460,
    "start_time": "2023-02-10T07:36:18.291Z"
   },
   {
    "duration": 17,
    "start_time": "2023-02-10T07:42:25.594Z"
   },
   {
    "duration": 19,
    "start_time": "2023-02-10T07:42:58.760Z"
   },
   {
    "duration": 430,
    "start_time": "2023-02-10T07:43:00.490Z"
   },
   {
    "duration": 580,
    "start_time": "2023-02-10T07:43:03.919Z"
   },
   {
    "duration": 10,
    "start_time": "2023-02-10T07:43:19.075Z"
   },
   {
    "duration": 422,
    "start_time": "2023-02-10T07:43:19.303Z"
   },
   {
    "duration": 26,
    "start_time": "2023-02-10T07:43:40.214Z"
   },
   {
    "duration": 1403,
    "start_time": "2023-02-10T07:44:25.169Z"
   },
   {
    "duration": 1692,
    "start_time": "2023-02-10T07:44:26.574Z"
   },
   {
    "duration": 28,
    "start_time": "2023-02-10T07:44:28.268Z"
   },
   {
    "duration": 24,
    "start_time": "2023-02-10T07:44:28.298Z"
   },
   {
    "duration": 34,
    "start_time": "2023-02-10T07:44:28.324Z"
   },
   {
    "duration": 5,
    "start_time": "2023-02-10T07:44:28.360Z"
   },
   {
    "duration": 350,
    "start_time": "2023-02-10T07:44:28.367Z"
   },
   {
    "duration": 19,
    "start_time": "2023-02-10T07:44:28.719Z"
   },
   {
    "duration": 14,
    "start_time": "2023-02-10T07:44:28.740Z"
   },
   {
    "duration": 46,
    "start_time": "2023-02-10T07:44:28.757Z"
   },
   {
    "duration": 4,
    "start_time": "2023-02-10T07:44:28.804Z"
   },
   {
    "duration": 91,
    "start_time": "2023-02-10T07:44:28.810Z"
   },
   {
    "duration": 14,
    "start_time": "2023-02-10T07:44:28.903Z"
   },
   {
    "duration": 6,
    "start_time": "2023-02-10T07:44:28.919Z"
   },
   {
    "duration": 21,
    "start_time": "2023-02-10T07:44:28.926Z"
   },
   {
    "duration": 55,
    "start_time": "2023-02-10T07:44:28.950Z"
   },
   {
    "duration": 27,
    "start_time": "2023-02-10T07:44:29.007Z"
   },
   {
    "duration": 18,
    "start_time": "2023-02-10T07:44:29.036Z"
   },
   {
    "duration": 119,
    "start_time": "2023-02-10T07:44:29.057Z"
   },
   {
    "duration": 411,
    "start_time": "2023-02-10T07:44:29.178Z"
   },
   {
    "duration": 419,
    "start_time": "2023-02-10T07:44:29.593Z"
   },
   {
    "duration": 520,
    "start_time": "2023-02-10T07:44:30.013Z"
   },
   {
    "duration": 21,
    "start_time": "2023-02-10T07:44:30.534Z"
   },
   {
    "duration": 397,
    "start_time": "2023-02-10T07:44:30.558Z"
   },
   {
    "duration": 390,
    "start_time": "2023-02-10T07:44:30.957Z"
   },
   {
    "duration": 9,
    "start_time": "2023-02-10T07:44:31.349Z"
   },
   {
    "duration": 424,
    "start_time": "2023-02-10T07:44:31.360Z"
   },
   {
    "duration": 24,
    "start_time": "2023-02-10T07:44:31.788Z"
   },
   {
    "duration": 11,
    "start_time": "2023-02-10T07:44:31.814Z"
   },
   {
    "duration": 5,
    "start_time": "2023-02-10T07:44:31.827Z"
   },
   {
    "duration": 15,
    "start_time": "2023-02-10T07:44:31.834Z"
   },
   {
    "duration": 6,
    "start_time": "2023-02-10T07:44:31.853Z"
   },
   {
    "duration": 33,
    "start_time": "2023-02-10T07:44:31.862Z"
   },
   {
    "duration": 6,
    "start_time": "2023-02-10T07:44:31.897Z"
   },
   {
    "duration": 14,
    "start_time": "2023-02-10T07:44:31.905Z"
   },
   {
    "duration": 18,
    "start_time": "2023-02-10T07:44:31.921Z"
   },
   {
    "duration": 26,
    "start_time": "2023-02-10T07:44:31.941Z"
   },
   {
    "duration": 1328,
    "start_time": "2023-02-10T07:44:31.969Z"
   },
   {
    "duration": 2358,
    "start_time": "2023-02-10T07:44:33.299Z"
   },
   {
    "duration": 18,
    "start_time": "2023-02-10T07:44:35.660Z"
   },
   {
    "duration": 0,
    "start_time": "2023-02-10T07:44:35.680Z"
   },
   {
    "duration": 0,
    "start_time": "2023-02-10T07:44:35.683Z"
   },
   {
    "duration": 0,
    "start_time": "2023-02-10T07:44:35.684Z"
   },
   {
    "duration": 0,
    "start_time": "2023-02-10T07:44:35.686Z"
   },
   {
    "duration": 0,
    "start_time": "2023-02-10T07:44:35.688Z"
   },
   {
    "duration": 0,
    "start_time": "2023-02-10T07:44:35.689Z"
   },
   {
    "duration": 0,
    "start_time": "2023-02-10T07:44:35.696Z"
   },
   {
    "duration": 0,
    "start_time": "2023-02-10T07:44:35.698Z"
   },
   {
    "duration": 0,
    "start_time": "2023-02-10T07:44:35.699Z"
   },
   {
    "duration": 0,
    "start_time": "2023-02-10T07:44:35.701Z"
   },
   {
    "duration": 0,
    "start_time": "2023-02-10T07:44:35.703Z"
   },
   {
    "duration": 0,
    "start_time": "2023-02-10T07:44:35.705Z"
   },
   {
    "duration": 0,
    "start_time": "2023-02-10T07:44:35.707Z"
   },
   {
    "duration": 0,
    "start_time": "2023-02-10T07:44:35.709Z"
   },
   {
    "duration": 0,
    "start_time": "2023-02-10T07:44:35.710Z"
   },
   {
    "duration": 0,
    "start_time": "2023-02-10T07:44:35.712Z"
   },
   {
    "duration": 1139,
    "start_time": "2023-02-10T07:45:28.863Z"
   },
   {
    "duration": 3,
    "start_time": "2023-02-10T07:45:34.511Z"
   },
   {
    "duration": 64,
    "start_time": "2023-02-10T07:45:47.862Z"
   },
   {
    "duration": 3,
    "start_time": "2023-02-10T07:45:51.237Z"
   },
   {
    "duration": 78478,
    "start_time": "2023-02-10T07:45:51.712Z"
   },
   {
    "duration": 82000,
    "start_time": "2023-02-10T07:47:56.966Z"
   },
   {
    "duration": 3,
    "start_time": "2023-02-10T07:49:26.588Z"
   },
   {
    "duration": 1793,
    "start_time": "2023-02-10T08:10:18.819Z"
   },
   {
    "duration": 2961,
    "start_time": "2023-02-10T08:10:20.614Z"
   },
   {
    "duration": 36,
    "start_time": "2023-02-10T08:10:23.577Z"
   },
   {
    "duration": 42,
    "start_time": "2023-02-10T08:10:23.614Z"
   },
   {
    "duration": 44,
    "start_time": "2023-02-10T08:10:23.658Z"
   },
   {
    "duration": 18,
    "start_time": "2023-02-10T08:10:23.707Z"
   },
   {
    "duration": 275,
    "start_time": "2023-02-10T08:10:23.728Z"
   },
   {
    "duration": 23,
    "start_time": "2023-02-10T08:10:24.005Z"
   },
   {
    "duration": 112,
    "start_time": "2023-02-10T08:10:24.030Z"
   },
   {
    "duration": 32,
    "start_time": "2023-02-10T08:10:24.144Z"
   },
   {
    "duration": 17,
    "start_time": "2023-02-10T08:10:24.178Z"
   },
   {
    "duration": 167,
    "start_time": "2023-02-10T08:10:24.200Z"
   },
   {
    "duration": 12,
    "start_time": "2023-02-10T08:10:24.369Z"
   },
   {
    "duration": 70,
    "start_time": "2023-02-10T08:10:24.385Z"
   },
   {
    "duration": 49,
    "start_time": "2023-02-10T08:10:24.458Z"
   },
   {
    "duration": 67,
    "start_time": "2023-02-10T08:10:24.509Z"
   },
   {
    "duration": 34,
    "start_time": "2023-02-10T08:10:24.578Z"
   },
   {
    "duration": 46,
    "start_time": "2023-02-10T08:10:24.615Z"
   },
   {
    "duration": 148,
    "start_time": "2023-02-10T08:10:24.663Z"
   },
   {
    "duration": 556,
    "start_time": "2023-02-10T08:10:24.814Z"
   },
   {
    "duration": 479,
    "start_time": "2023-02-10T08:10:25.372Z"
   },
   {
    "duration": 607,
    "start_time": "2023-02-10T08:10:25.854Z"
   },
   {
    "duration": 38,
    "start_time": "2023-02-10T08:10:26.465Z"
   },
   {
    "duration": 565,
    "start_time": "2023-02-10T08:10:26.505Z"
   },
   {
    "duration": 514,
    "start_time": "2023-02-10T08:10:27.073Z"
   },
   {
    "duration": 13,
    "start_time": "2023-02-10T08:10:27.589Z"
   },
   {
    "duration": 596,
    "start_time": "2023-02-10T08:10:27.604Z"
   },
   {
    "duration": 24,
    "start_time": "2023-02-10T08:10:28.201Z"
   },
   {
    "duration": 18,
    "start_time": "2023-02-10T08:10:28.226Z"
   },
   {
    "duration": 5,
    "start_time": "2023-02-10T08:10:28.246Z"
   },
   {
    "duration": 10,
    "start_time": "2023-02-10T08:10:28.253Z"
   },
   {
    "duration": 9,
    "start_time": "2023-02-10T08:10:28.265Z"
   },
   {
    "duration": 30,
    "start_time": "2023-02-10T08:10:28.276Z"
   },
   {
    "duration": 22,
    "start_time": "2023-02-10T08:10:28.314Z"
   },
   {
    "duration": 33,
    "start_time": "2023-02-10T08:10:28.340Z"
   },
   {
    "duration": 3761,
    "start_time": "2023-02-10T08:10:28.376Z"
   },
   {
    "duration": 3188,
    "start_time": "2023-02-10T08:10:32.139Z"
   },
   {
    "duration": 6,
    "start_time": "2023-02-10T08:10:35.337Z"
   },
   {
    "duration": 76,
    "start_time": "2023-02-10T08:10:35.346Z"
   },
   {
    "duration": 94312,
    "start_time": "2023-02-10T08:10:35.424Z"
   },
   {
    "duration": 95543,
    "start_time": "2023-02-10T08:12:09.744Z"
   },
   {
    "duration": 15,
    "start_time": "2023-02-10T08:13:45.297Z"
   },
   {
    "duration": 3092086,
    "start_time": "2023-02-10T08:13:45.317Z"
   },
   {
    "duration": 8,
    "start_time": "2023-02-10T09:05:17.409Z"
   },
   {
    "duration": 46,
    "start_time": "2023-02-10T09:05:17.418Z"
   },
   {
    "duration": 21,
    "start_time": "2023-02-10T09:05:17.466Z"
   },
   {
    "duration": 61,
    "start_time": "2023-02-10T09:05:17.488Z"
   },
   {
    "duration": 11,
    "start_time": "2023-02-10T09:05:17.550Z"
   },
   {
    "duration": 17,
    "start_time": "2023-02-10T09:05:17.562Z"
   },
   {
    "duration": 17,
    "start_time": "2023-02-10T09:05:17.581Z"
   },
   {
    "duration": 61,
    "start_time": "2023-02-10T09:05:17.600Z"
   },
   {
    "duration": 19,
    "start_time": "2023-02-10T09:05:17.662Z"
   },
   {
    "duration": 65,
    "start_time": "2023-02-10T09:05:17.682Z"
   },
   {
    "duration": 24,
    "start_time": "2023-02-10T09:05:17.748Z"
   },
   {
    "duration": 37,
    "start_time": "2023-02-10T09:05:35.944Z"
   },
   {
    "duration": 12,
    "start_time": "2023-02-10T09:06:02.648Z"
   },
   {
    "duration": 1614,
    "start_time": "2023-02-10T09:06:46.571Z"
   },
   {
    "duration": 6217,
    "start_time": "2023-02-10T09:06:48.187Z"
   },
   {
    "duration": 32,
    "start_time": "2023-02-10T09:06:54.408Z"
   },
   {
    "duration": 83,
    "start_time": "2023-02-10T09:06:54.442Z"
   },
   {
    "duration": 36,
    "start_time": "2023-02-10T09:06:54.527Z"
   },
   {
    "duration": 19,
    "start_time": "2023-02-10T09:06:54.565Z"
   },
   {
    "duration": 384,
    "start_time": "2023-02-10T09:06:54.586Z"
   },
   {
    "duration": 26,
    "start_time": "2023-02-10T09:06:54.972Z"
   },
   {
    "duration": 15,
    "start_time": "2023-02-10T09:06:55.000Z"
   },
   {
    "duration": 56,
    "start_time": "2023-02-10T09:06:55.018Z"
   },
   {
    "duration": 7,
    "start_time": "2023-02-10T09:06:55.076Z"
   },
   {
    "duration": 141,
    "start_time": "2023-02-10T09:06:55.085Z"
   },
   {
    "duration": 15,
    "start_time": "2023-02-10T09:06:55.228Z"
   },
   {
    "duration": 16,
    "start_time": "2023-02-10T09:06:55.245Z"
   },
   {
    "duration": 22,
    "start_time": "2023-02-10T09:06:55.264Z"
   },
   {
    "duration": 36,
    "start_time": "2023-02-10T09:06:55.288Z"
   },
   {
    "duration": 48,
    "start_time": "2023-02-10T09:06:55.326Z"
   },
   {
    "duration": 14,
    "start_time": "2023-02-10T09:06:55.376Z"
   },
   {
    "duration": 123,
    "start_time": "2023-02-10T09:06:55.391Z"
   },
   {
    "duration": 524,
    "start_time": "2023-02-10T09:06:55.516Z"
   },
   {
    "duration": 517,
    "start_time": "2023-02-10T09:06:56.042Z"
   },
   {
    "duration": 600,
    "start_time": "2023-02-10T09:06:56.561Z"
   },
   {
    "duration": 17,
    "start_time": "2023-02-10T09:06:57.163Z"
   },
   {
    "duration": 493,
    "start_time": "2023-02-10T09:06:57.182Z"
   },
   {
    "duration": 479,
    "start_time": "2023-02-10T09:06:57.677Z"
   },
   {
    "duration": 7,
    "start_time": "2023-02-10T09:06:58.159Z"
   },
   {
    "duration": 507,
    "start_time": "2023-02-10T09:06:58.169Z"
   },
   {
    "duration": 28,
    "start_time": "2023-02-10T09:06:58.680Z"
   },
   {
    "duration": 43,
    "start_time": "2023-02-10T09:06:58.710Z"
   },
   {
    "duration": 7,
    "start_time": "2023-02-10T09:06:58.755Z"
   },
   {
    "duration": 4,
    "start_time": "2023-02-10T09:06:58.764Z"
   },
   {
    "duration": 9,
    "start_time": "2023-02-10T09:06:58.770Z"
   },
   {
    "duration": 10,
    "start_time": "2023-02-10T09:06:58.781Z"
   },
   {
    "duration": 58,
    "start_time": "2023-02-10T09:06:58.792Z"
   },
   {
    "duration": 24,
    "start_time": "2023-02-10T09:06:58.852Z"
   },
   {
    "duration": 3082,
    "start_time": "2023-02-10T09:06:58.878Z"
   },
   {
    "duration": 2236,
    "start_time": "2023-02-10T09:07:01.996Z"
   },
   {
    "duration": 33,
    "start_time": "2023-02-10T09:07:04.239Z"
   },
   {
    "duration": 86,
    "start_time": "2023-02-10T09:07:04.276Z"
   },
   {
    "duration": 89317,
    "start_time": "2023-02-10T09:07:04.367Z"
   },
   {
    "duration": 103706,
    "start_time": "2023-02-10T09:08:33.686Z"
   },
   {
    "duration": 13,
    "start_time": "2023-02-10T09:10:17.394Z"
   },
   {
    "duration": 64,
    "start_time": "2023-02-10T09:10:17.410Z"
   },
   {
    "duration": 0,
    "start_time": "2023-02-10T09:10:17.475Z"
   },
   {
    "duration": 0,
    "start_time": "2023-02-10T09:10:17.476Z"
   },
   {
    "duration": 0,
    "start_time": "2023-02-10T09:10:17.478Z"
   },
   {
    "duration": 0,
    "start_time": "2023-02-10T09:10:17.479Z"
   },
   {
    "duration": 0,
    "start_time": "2023-02-10T09:10:17.480Z"
   },
   {
    "duration": 0,
    "start_time": "2023-02-10T09:10:17.481Z"
   },
   {
    "duration": 0,
    "start_time": "2023-02-10T09:10:17.482Z"
   },
   {
    "duration": 0,
    "start_time": "2023-02-10T09:10:17.483Z"
   },
   {
    "duration": 0,
    "start_time": "2023-02-10T09:10:17.484Z"
   },
   {
    "duration": 0,
    "start_time": "2023-02-10T09:10:17.485Z"
   },
   {
    "duration": 0,
    "start_time": "2023-02-10T09:10:17.485Z"
   },
   {
    "duration": 3042326,
    "start_time": "2023-02-10T09:10:59.136Z"
   },
   {
    "duration": 3156118,
    "start_time": "2023-02-10T10:04:46.767Z"
   },
   {
    "duration": 8,
    "start_time": "2023-02-10T10:59:06.422Z"
   },
   {
    "duration": 7262,
    "start_time": "2023-02-10T11:01:05.171Z"
   },
   {
    "duration": 7402,
    "start_time": "2023-02-10T11:01:22.090Z"
   },
   {
    "duration": 7379,
    "start_time": "2023-02-10T11:01:54.586Z"
   },
   {
    "duration": 11,
    "start_time": "2023-02-10T11:02:10.304Z"
   },
   {
    "duration": 6,
    "start_time": "2023-02-10T11:02:44.633Z"
   },
   {
    "duration": 18,
    "start_time": "2023-02-10T11:02:49.713Z"
   },
   {
    "duration": 12,
    "start_time": "2023-02-10T11:02:56.531Z"
   },
   {
    "duration": 7,
    "start_time": "2023-02-10T11:03:02.169Z"
   },
   {
    "duration": 9,
    "start_time": "2023-02-10T11:03:10.946Z"
   },
   {
    "duration": 4,
    "start_time": "2023-02-10T11:04:59.166Z"
   },
   {
    "duration": 5516,
    "start_time": "2023-02-10T11:20:03.539Z"
   },
   {
    "duration": 8181,
    "start_time": "2023-02-10T11:20:09.057Z"
   },
   {
    "duration": 102,
    "start_time": "2023-02-10T11:20:17.240Z"
   },
   {
    "duration": 179,
    "start_time": "2023-02-10T11:20:17.348Z"
   },
   {
    "duration": 98,
    "start_time": "2023-02-10T11:20:17.530Z"
   },
   {
    "duration": 4,
    "start_time": "2023-02-10T11:20:17.630Z"
   },
   {
    "duration": 1299,
    "start_time": "2023-02-10T11:20:17.636Z"
   },
   {
    "duration": 103,
    "start_time": "2023-02-10T11:20:18.936Z"
   },
   {
    "duration": 83,
    "start_time": "2023-02-10T11:20:19.045Z"
   },
   {
    "duration": 123,
    "start_time": "2023-02-10T11:20:19.129Z"
   },
   {
    "duration": 6,
    "start_time": "2023-02-10T11:20:19.327Z"
   },
   {
    "duration": 518,
    "start_time": "2023-02-10T11:20:19.334Z"
   },
   {
    "duration": 76,
    "start_time": "2023-02-10T11:20:19.854Z"
   },
   {
    "duration": 198,
    "start_time": "2023-02-10T11:20:19.933Z"
   },
   {
    "duration": 114,
    "start_time": "2023-02-10T11:20:20.137Z"
   },
   {
    "duration": 179,
    "start_time": "2023-02-10T11:20:20.256Z"
   },
   {
    "duration": 291,
    "start_time": "2023-02-10T11:20:20.437Z"
   },
   {
    "duration": 100,
    "start_time": "2023-02-10T11:20:20.731Z"
   },
   {
    "duration": 600,
    "start_time": "2023-02-10T11:20:20.833Z"
   },
   {
    "duration": 2211,
    "start_time": "2023-02-10T11:20:21.435Z"
   },
   {
    "duration": 2182,
    "start_time": "2023-02-10T11:20:23.649Z"
   },
   {
    "duration": 2199,
    "start_time": "2023-02-10T11:20:25.833Z"
   },
   {
    "duration": 100,
    "start_time": "2023-02-10T11:20:28.034Z"
   },
   {
    "duration": 2409,
    "start_time": "2023-02-10T11:20:28.136Z"
   },
   {
    "duration": 1587,
    "start_time": "2023-02-10T11:20:30.547Z"
   },
   {
    "duration": 8,
    "start_time": "2023-02-10T11:20:32.136Z"
   },
   {
    "duration": 2185,
    "start_time": "2023-02-10T11:20:32.150Z"
   },
   {
    "duration": 106,
    "start_time": "2023-02-10T11:20:34.337Z"
   },
   {
    "duration": 9,
    "start_time": "2023-02-10T11:20:34.445Z"
   },
   {
    "duration": 110,
    "start_time": "2023-02-10T11:20:34.528Z"
   },
   {
    "duration": 87,
    "start_time": "2023-02-10T11:20:34.641Z"
   },
   {
    "duration": 31,
    "start_time": "2023-02-10T11:20:34.731Z"
   },
   {
    "duration": 7,
    "start_time": "2023-02-10T11:20:34.827Z"
   },
   {
    "duration": 109,
    "start_time": "2023-02-10T11:20:34.836Z"
   },
   {
    "duration": 99,
    "start_time": "2023-02-10T11:20:34.948Z"
   },
   {
    "duration": 1990,
    "start_time": "2023-02-10T11:20:35.050Z"
   },
   {
    "duration": 2706,
    "start_time": "2023-02-10T11:20:37.044Z"
   },
   {
    "duration": 75,
    "start_time": "2023-02-10T11:20:39.753Z"
   },
   {
    "duration": 25,
    "start_time": "2023-02-10T11:20:39.831Z"
   },
   {
    "duration": 113229,
    "start_time": "2023-02-10T11:20:39.928Z"
   },
   {
    "duration": 85686,
    "start_time": "2023-02-10T11:22:33.162Z"
   },
   {
    "duration": 3,
    "start_time": "2023-02-10T11:23:58.850Z"
   },
   {
    "duration": 1536,
    "start_time": "2023-02-12T08:46:11.461Z"
   },
   {
    "duration": 3093,
    "start_time": "2023-02-12T08:46:12.999Z"
   },
   {
    "duration": 22,
    "start_time": "2023-02-12T08:46:16.094Z"
   },
   {
    "duration": 19,
    "start_time": "2023-02-12T08:46:16.118Z"
   },
   {
    "duration": 20,
    "start_time": "2023-02-12T08:46:20.479Z"
   },
   {
    "duration": 3,
    "start_time": "2023-02-12T08:46:23.512Z"
   },
   {
    "duration": 239,
    "start_time": "2023-02-12T08:46:24.087Z"
   },
   {
    "duration": 14,
    "start_time": "2023-02-12T08:46:25.098Z"
   },
   {
    "duration": 16,
    "start_time": "2023-02-12T08:46:26.286Z"
   },
   {
    "duration": 17,
    "start_time": "2023-02-12T08:46:27.173Z"
   },
   {
    "duration": 4,
    "start_time": "2023-02-12T08:46:27.923Z"
   },
   {
    "duration": 70,
    "start_time": "2023-02-12T08:46:29.271Z"
   },
   {
    "duration": 9,
    "start_time": "2023-02-12T08:46:37.582Z"
   },
   {
    "duration": 5,
    "start_time": "2023-02-12T08:46:38.173Z"
   },
   {
    "duration": 26,
    "start_time": "2023-02-12T08:46:54.282Z"
   },
   {
    "duration": 23,
    "start_time": "2023-02-12T08:47:06.590Z"
   },
   {
    "duration": 19,
    "start_time": "2023-02-12T08:47:14.284Z"
   },
   {
    "duration": 17,
    "start_time": "2023-02-12T08:47:17.391Z"
   },
   {
    "duration": 85,
    "start_time": "2023-02-12T08:47:17.815Z"
   },
   {
    "duration": 411,
    "start_time": "2023-02-12T08:48:13.902Z"
   },
   {
    "duration": 398,
    "start_time": "2023-02-12T08:48:15.496Z"
   },
   {
    "duration": 507,
    "start_time": "2023-02-12T08:52:59.942Z"
   },
   {
    "duration": 448,
    "start_time": "2023-02-12T08:54:07.947Z"
   },
   {
    "duration": 456,
    "start_time": "2023-02-12T08:54:30.464Z"
   },
   {
    "duration": 20,
    "start_time": "2023-02-12T08:55:41.761Z"
   },
   {
    "duration": 129,
    "start_time": "2023-02-12T08:56:03.688Z"
   },
   {
    "duration": 13,
    "start_time": "2023-02-12T08:56:09.641Z"
   },
   {
    "duration": 449,
    "start_time": "2023-02-12T08:56:41.514Z"
   },
   {
    "duration": 471,
    "start_time": "2023-02-12T08:56:54.601Z"
   },
   {
    "duration": 502,
    "start_time": "2023-02-12T08:57:03.713Z"
   },
   {
    "duration": 440,
    "start_time": "2023-02-12T08:57:12.672Z"
   },
   {
    "duration": 4,
    "start_time": "2023-02-12T08:57:36.762Z"
   },
   {
    "duration": 2071,
    "start_time": "2023-02-12T08:57:36.768Z"
   },
   {
    "duration": 29,
    "start_time": "2023-02-12T08:57:38.842Z"
   },
   {
    "duration": 21,
    "start_time": "2023-02-12T08:57:38.872Z"
   },
   {
    "duration": 17,
    "start_time": "2023-02-12T08:57:38.895Z"
   },
   {
    "duration": 3,
    "start_time": "2023-02-12T08:57:38.913Z"
   },
   {
    "duration": 257,
    "start_time": "2023-02-12T08:57:38.918Z"
   },
   {
    "duration": 14,
    "start_time": "2023-02-12T08:57:39.176Z"
   },
   {
    "duration": 9,
    "start_time": "2023-02-12T08:57:39.192Z"
   },
   {
    "duration": 13,
    "start_time": "2023-02-12T08:57:39.203Z"
   },
   {
    "duration": 4,
    "start_time": "2023-02-12T08:57:39.218Z"
   },
   {
    "duration": 95,
    "start_time": "2023-02-12T08:57:39.223Z"
   },
   {
    "duration": 8,
    "start_time": "2023-02-12T08:57:39.320Z"
   },
   {
    "duration": 29,
    "start_time": "2023-02-12T08:57:39.330Z"
   },
   {
    "duration": 17,
    "start_time": "2023-02-12T08:57:39.360Z"
   },
   {
    "duration": 23,
    "start_time": "2023-02-12T08:57:39.378Z"
   },
   {
    "duration": 17,
    "start_time": "2023-02-12T08:57:39.402Z"
   },
   {
    "duration": 34,
    "start_time": "2023-02-12T08:57:39.421Z"
   },
   {
    "duration": 79,
    "start_time": "2023-02-12T08:57:39.464Z"
   },
   {
    "duration": 433,
    "start_time": "2023-02-12T08:57:39.544Z"
   },
   {
    "duration": 449,
    "start_time": "2023-02-12T08:57:39.978Z"
   },
   {
    "duration": 446,
    "start_time": "2023-02-12T08:57:40.429Z"
   },
   {
    "duration": 21,
    "start_time": "2023-02-12T08:57:40.877Z"
   },
   {
    "duration": 542,
    "start_time": "2023-02-12T08:58:19.447Z"
   },
   {
    "duration": 529,
    "start_time": "2023-02-12T08:58:27.247Z"
   },
   {
    "duration": 459,
    "start_time": "2023-02-12T08:58:47.983Z"
   },
   {
    "duration": 24,
    "start_time": "2023-02-12T09:05:04.671Z"
   },
   {
    "duration": 464,
    "start_time": "2023-02-12T09:07:53.465Z"
   },
   {
    "duration": 365,
    "start_time": "2023-02-12T09:09:22.556Z"
   },
   {
    "duration": 373,
    "start_time": "2023-02-12T09:10:12.104Z"
   },
   {
    "duration": 313,
    "start_time": "2023-02-12T09:11:42.272Z"
   },
   {
    "duration": 304,
    "start_time": "2023-02-12T09:11:57.278Z"
   },
   {
    "duration": 330,
    "start_time": "2023-02-12T09:12:12.047Z"
   },
   {
    "duration": 18,
    "start_time": "2023-02-12T09:13:12.823Z"
   },
   {
    "duration": 393,
    "start_time": "2023-02-12T09:13:25.015Z"
   },
   {
    "duration": 414,
    "start_time": "2023-02-12T09:15:19.507Z"
   },
   {
    "duration": 827,
    "start_time": "2023-02-12T09:16:29.254Z"
   },
   {
    "duration": 551,
    "start_time": "2023-02-12T09:18:36.483Z"
   },
   {
    "duration": 554,
    "start_time": "2023-02-12T09:18:44.283Z"
   },
   {
    "duration": 93,
    "start_time": "2023-02-12T09:19:37.514Z"
   },
   {
    "duration": 664,
    "start_time": "2023-02-12T09:19:54.035Z"
   },
   {
    "duration": 4,
    "start_time": "2023-02-12T09:20:11.209Z"
   },
   {
    "duration": 4,
    "start_time": "2023-02-12T09:20:23.681Z"
   },
   {
    "duration": 16,
    "start_time": "2023-02-12T09:27:51.561Z"
   },
   {
    "duration": 19,
    "start_time": "2023-02-12T09:27:52.941Z"
   },
   {
    "duration": 1185,
    "start_time": "2023-02-12T09:28:18.736Z"
   },
   {
    "duration": 13,
    "start_time": "2023-02-12T09:28:20.156Z"
   },
   {
    "duration": 1232,
    "start_time": "2023-02-12T09:28:29.305Z"
   },
   {
    "duration": 4,
    "start_time": "2023-02-12T09:28:48.545Z"
   },
   {
    "duration": 1984,
    "start_time": "2023-02-12T09:28:48.551Z"
   },
   {
    "duration": 29,
    "start_time": "2023-02-12T09:28:50.537Z"
   },
   {
    "duration": 27,
    "start_time": "2023-02-12T09:28:50.570Z"
   },
   {
    "duration": 20,
    "start_time": "2023-02-12T09:28:50.599Z"
   },
   {
    "duration": 28,
    "start_time": "2023-02-12T09:28:50.621Z"
   },
   {
    "duration": 245,
    "start_time": "2023-02-12T09:28:50.650Z"
   },
   {
    "duration": 15,
    "start_time": "2023-02-12T09:28:50.897Z"
   },
   {
    "duration": 13,
    "start_time": "2023-02-12T09:28:50.913Z"
   },
   {
    "duration": 32,
    "start_time": "2023-02-12T09:28:50.930Z"
   },
   {
    "duration": 4,
    "start_time": "2023-02-12T09:28:50.964Z"
   },
   {
    "duration": 94,
    "start_time": "2023-02-12T09:28:50.969Z"
   },
   {
    "duration": 8,
    "start_time": "2023-02-12T09:28:51.065Z"
   },
   {
    "duration": 13,
    "start_time": "2023-02-12T09:28:51.074Z"
   },
   {
    "duration": 22,
    "start_time": "2023-02-12T09:28:51.088Z"
   },
   {
    "duration": 40,
    "start_time": "2023-02-12T09:28:51.111Z"
   },
   {
    "duration": 20,
    "start_time": "2023-02-12T09:28:51.152Z"
   },
   {
    "duration": 13,
    "start_time": "2023-02-12T09:28:51.173Z"
   },
   {
    "duration": 103,
    "start_time": "2023-02-12T09:28:51.188Z"
   },
   {
    "duration": 443,
    "start_time": "2023-02-12T09:28:51.293Z"
   },
   {
    "duration": 449,
    "start_time": "2023-02-12T09:28:51.737Z"
   },
   {
    "duration": 444,
    "start_time": "2023-02-12T09:28:52.188Z"
   },
   {
    "duration": 26,
    "start_time": "2023-02-12T09:28:52.634Z"
   },
   {
    "duration": 4,
    "start_time": "2023-02-12T09:28:52.661Z"
   },
   {
    "duration": 10,
    "start_time": "2023-02-12T09:28:52.667Z"
   },
   {
    "duration": 556,
    "start_time": "2023-02-12T09:28:52.679Z"
   },
   {
    "duration": 631,
    "start_time": "2023-02-12T09:28:53.237Z"
   },
   {
    "duration": 9,
    "start_time": "2023-02-12T09:28:53.873Z"
   },
   {
    "duration": 506,
    "start_time": "2023-02-12T09:28:53.884Z"
   },
   {
    "duration": 16,
    "start_time": "2023-02-12T09:29:03.022Z"
   },
   {
    "duration": 17,
    "start_time": "2023-02-12T09:29:03.541Z"
   },
   {
    "duration": 10,
    "start_time": "2023-02-12T09:29:07.076Z"
   },
   {
    "duration": 1334,
    "start_time": "2023-02-12T09:30:24.269Z"
   },
   {
    "duration": 1935,
    "start_time": "2023-02-12T09:30:25.605Z"
   },
   {
    "duration": 24,
    "start_time": "2023-02-12T09:30:27.541Z"
   },
   {
    "duration": 23,
    "start_time": "2023-02-12T09:30:27.568Z"
   },
   {
    "duration": 21,
    "start_time": "2023-02-12T09:30:27.593Z"
   },
   {
    "duration": 4,
    "start_time": "2023-02-12T09:30:27.616Z"
   },
   {
    "duration": 242,
    "start_time": "2023-02-12T09:30:27.649Z"
   },
   {
    "duration": 15,
    "start_time": "2023-02-12T09:30:27.893Z"
   },
   {
    "duration": 11,
    "start_time": "2023-02-12T09:30:27.909Z"
   },
   {
    "duration": 34,
    "start_time": "2023-02-12T09:30:27.923Z"
   },
   {
    "duration": 4,
    "start_time": "2023-02-12T09:30:27.959Z"
   },
   {
    "duration": 84,
    "start_time": "2023-02-12T09:30:27.964Z"
   },
   {
    "duration": 9,
    "start_time": "2023-02-12T09:30:28.050Z"
   },
   {
    "duration": 5,
    "start_time": "2023-02-12T09:30:28.060Z"
   },
   {
    "duration": 19,
    "start_time": "2023-02-12T09:30:28.066Z"
   },
   {
    "duration": 22,
    "start_time": "2023-02-12T09:30:28.087Z"
   },
   {
    "duration": 48,
    "start_time": "2023-02-12T09:30:28.110Z"
   },
   {
    "duration": 13,
    "start_time": "2023-02-12T09:30:28.159Z"
   },
   {
    "duration": 109,
    "start_time": "2023-02-12T09:30:28.174Z"
   },
   {
    "duration": 463,
    "start_time": "2023-02-12T09:30:28.285Z"
   },
   {
    "duration": 431,
    "start_time": "2023-02-12T09:30:28.750Z"
   },
   {
    "duration": 537,
    "start_time": "2023-02-12T09:30:29.183Z"
   },
   {
    "duration": 29,
    "start_time": "2023-02-12T09:30:29.722Z"
   },
   {
    "duration": 4,
    "start_time": "2023-02-12T09:30:29.753Z"
   },
   {
    "duration": 12,
    "start_time": "2023-02-12T09:30:29.758Z"
   },
   {
    "duration": 621,
    "start_time": "2023-02-12T09:30:29.771Z"
   },
   {
    "duration": 664,
    "start_time": "2023-02-12T09:30:30.394Z"
   },
   {
    "duration": 8,
    "start_time": "2023-02-12T09:30:31.062Z"
   },
   {
    "duration": 500,
    "start_time": "2023-02-12T09:30:31.071Z"
   },
   {
    "duration": 17,
    "start_time": "2023-02-12T09:30:31.573Z"
   },
   {
    "duration": 24,
    "start_time": "2023-02-12T09:30:31.593Z"
   },
   {
    "duration": 11,
    "start_time": "2023-02-12T09:30:31.618Z"
   },
   {
    "duration": 4,
    "start_time": "2023-02-12T09:30:31.649Z"
   },
   {
    "duration": 11,
    "start_time": "2023-02-12T09:30:31.655Z"
   },
   {
    "duration": 8,
    "start_time": "2023-02-12T09:30:31.667Z"
   },
   {
    "duration": 12,
    "start_time": "2023-02-12T09:30:31.676Z"
   },
   {
    "duration": 10,
    "start_time": "2023-02-12T09:30:31.690Z"
   },
   {
    "duration": 22,
    "start_time": "2023-02-12T09:30:31.701Z"
   },
   {
    "duration": 6,
    "start_time": "2023-02-12T09:30:31.724Z"
   },
   {
    "duration": 8,
    "start_time": "2023-02-12T09:30:31.748Z"
   },
   {
    "duration": 18,
    "start_time": "2023-02-12T09:30:31.757Z"
   },
   {
    "duration": 9,
    "start_time": "2023-02-12T09:30:31.776Z"
   },
   {
    "duration": 12,
    "start_time": "2023-02-12T09:30:31.787Z"
   },
   {
    "duration": 17,
    "start_time": "2023-02-12T09:30:31.801Z"
   },
   {
    "duration": 12,
    "start_time": "2023-02-12T09:30:31.819Z"
   },
   {
    "duration": 7,
    "start_time": "2023-02-12T09:30:31.833Z"
   },
   {
    "duration": 9,
    "start_time": "2023-02-12T09:30:31.841Z"
   },
   {
    "duration": 6,
    "start_time": "2023-02-12T09:30:31.853Z"
   },
   {
    "duration": 9,
    "start_time": "2023-02-12T09:30:31.860Z"
   },
   {
    "duration": 10,
    "start_time": "2023-02-12T09:30:31.871Z"
   },
   {
    "duration": 6,
    "start_time": "2023-02-12T09:30:31.882Z"
   },
   {
    "duration": 6,
    "start_time": "2023-02-12T09:30:31.890Z"
   },
   {
    "duration": 8,
    "start_time": "2023-02-12T09:30:31.898Z"
   },
   {
    "duration": 43,
    "start_time": "2023-02-12T09:30:31.907Z"
   },
   {
    "duration": 2177,
    "start_time": "2023-06-28T11:04:12.359Z"
   },
   {
    "duration": 4205,
    "start_time": "2023-06-28T11:04:14.539Z"
   },
   {
    "duration": 28,
    "start_time": "2023-06-28T11:04:18.746Z"
   },
   {
    "duration": 44,
    "start_time": "2023-06-28T11:04:18.775Z"
   },
   {
    "duration": 34,
    "start_time": "2023-06-28T11:04:18.821Z"
   },
   {
    "duration": 8,
    "start_time": "2023-06-28T11:04:18.857Z"
   },
   {
    "duration": 302,
    "start_time": "2023-06-28T11:04:18.867Z"
   },
   {
    "duration": 25,
    "start_time": "2023-06-28T11:04:19.172Z"
   },
   {
    "duration": 19,
    "start_time": "2023-06-28T11:04:19.210Z"
   },
   {
    "duration": 28,
    "start_time": "2023-06-28T11:04:19.231Z"
   },
   {
    "duration": 5,
    "start_time": "2023-06-28T11:04:19.261Z"
   },
   {
    "duration": 126,
    "start_time": "2023-06-28T11:04:19.269Z"
   },
   {
    "duration": 21,
    "start_time": "2023-06-28T11:04:19.397Z"
   },
   {
    "duration": 22,
    "start_time": "2023-06-28T11:04:19.422Z"
   },
   {
    "duration": 65,
    "start_time": "2023-06-28T11:04:19.447Z"
   },
   {
    "duration": 30,
    "start_time": "2023-06-28T11:04:19.514Z"
   },
   {
    "duration": 93,
    "start_time": "2023-06-28T11:04:19.546Z"
   },
   {
    "duration": 17,
    "start_time": "2023-06-28T11:04:19.641Z"
   },
   {
    "duration": 111,
    "start_time": "2023-06-28T11:04:19.660Z"
   },
   {
    "duration": 550,
    "start_time": "2023-06-28T11:04:19.773Z"
   },
   {
    "duration": 558,
    "start_time": "2023-06-28T11:04:20.325Z"
   },
   {
    "duration": 690,
    "start_time": "2023-06-28T11:04:20.884Z"
   },
   {
    "duration": 40,
    "start_time": "2023-06-28T11:04:21.576Z"
   },
   {
    "duration": 817,
    "start_time": "2023-06-28T11:04:21.618Z"
   },
   {
    "duration": 681,
    "start_time": "2023-06-28T11:04:22.437Z"
   },
   {
    "duration": 16,
    "start_time": "2023-06-28T11:04:23.122Z"
   },
   {
    "duration": 509,
    "start_time": "2023-06-28T11:04:23.140Z"
   },
   {
    "duration": 23,
    "start_time": "2023-06-28T11:04:23.651Z"
   },
   {
    "duration": 38,
    "start_time": "2023-06-28T11:04:23.676Z"
   },
   {
    "duration": 13,
    "start_time": "2023-06-28T11:04:23.718Z"
   },
   {
    "duration": 14,
    "start_time": "2023-06-28T11:04:23.734Z"
   },
   {
    "duration": 6,
    "start_time": "2023-06-28T11:04:23.750Z"
   },
   {
    "duration": 12,
    "start_time": "2023-06-28T11:04:23.758Z"
   },
   {
    "duration": 13,
    "start_time": "2023-06-28T11:04:23.772Z"
   },
   {
    "duration": 27,
    "start_time": "2023-06-28T11:04:23.787Z"
   },
   {
    "duration": 69,
    "start_time": "2023-06-28T11:04:23.816Z"
   },
   {
    "duration": 2440,
    "start_time": "2023-06-28T11:04:23.887Z"
   },
   {
    "duration": 3382,
    "start_time": "2023-06-28T11:04:26.330Z"
   },
   {
    "duration": 5,
    "start_time": "2023-06-28T11:04:29.714Z"
   },
   {
    "duration": 90,
    "start_time": "2023-06-28T11:04:29.722Z"
   },
   {
    "duration": 90799,
    "start_time": "2023-06-28T11:04:29.819Z"
   },
   {
    "duration": 96527,
    "start_time": "2023-06-28T11:06:00.621Z"
   },
   {
    "duration": 4,
    "start_time": "2023-06-28T11:07:37.150Z"
   },
   {
    "duration": 2590068,
    "start_time": "2023-06-28T11:07:37.155Z"
   },
   {
    "duration": 2738,
    "start_time": "2023-06-29T10:05:07.451Z"
   },
   {
    "duration": 2878,
    "start_time": "2023-06-29T10:05:10.191Z"
   },
   {
    "duration": 28,
    "start_time": "2023-06-29T10:05:13.071Z"
   },
   {
    "duration": 18,
    "start_time": "2023-06-29T10:05:13.102Z"
   },
   {
    "duration": 17,
    "start_time": "2023-06-29T10:05:13.121Z"
   },
   {
    "duration": 3,
    "start_time": "2023-06-29T10:05:13.139Z"
   },
   {
    "duration": 232,
    "start_time": "2023-06-29T10:05:13.143Z"
   },
   {
    "duration": 23,
    "start_time": "2023-06-29T10:05:13.376Z"
   },
   {
    "duration": 10,
    "start_time": "2023-06-29T10:05:13.401Z"
   },
   {
    "duration": 13,
    "start_time": "2023-06-29T10:05:13.414Z"
   },
   {
    "duration": 4,
    "start_time": "2023-06-29T10:05:13.428Z"
   },
   {
    "duration": 90,
    "start_time": "2023-06-29T10:05:13.434Z"
   },
   {
    "duration": 9,
    "start_time": "2023-06-29T10:05:13.526Z"
   },
   {
    "duration": 8,
    "start_time": "2023-06-29T10:05:13.536Z"
   },
   {
    "duration": 22,
    "start_time": "2023-06-29T10:05:13.545Z"
   },
   {
    "duration": 34,
    "start_time": "2023-06-29T10:05:13.569Z"
   },
   {
    "duration": 16,
    "start_time": "2023-06-29T10:05:13.604Z"
   },
   {
    "duration": 11,
    "start_time": "2023-06-29T10:05:13.621Z"
   },
   {
    "duration": 83,
    "start_time": "2023-06-29T10:05:13.633Z"
   },
   {
    "duration": 468,
    "start_time": "2023-06-29T10:05:13.718Z"
   },
   {
    "duration": 459,
    "start_time": "2023-06-29T10:05:14.187Z"
   },
   {
    "duration": 534,
    "start_time": "2023-06-29T10:05:14.647Z"
   },
   {
    "duration": 27,
    "start_time": "2023-06-29T10:05:15.183Z"
   },
   {
    "duration": 566,
    "start_time": "2023-06-29T10:05:15.211Z"
   },
   {
    "duration": 649,
    "start_time": "2023-06-29T10:05:15.779Z"
   },
   {
    "duration": 7,
    "start_time": "2023-06-29T10:05:16.430Z"
   },
   {
    "duration": 410,
    "start_time": "2023-06-29T10:05:16.439Z"
   },
   {
    "duration": 13,
    "start_time": "2023-06-29T10:05:16.852Z"
   },
   {
    "duration": 103,
    "start_time": "2023-06-29T10:05:16.867Z"
   },
   {
    "duration": 31,
    "start_time": "2023-06-29T10:05:16.972Z"
   },
   {
    "duration": 29,
    "start_time": "2023-06-29T10:05:17.004Z"
   },
   {
    "duration": 28,
    "start_time": "2023-06-29T10:05:17.035Z"
   },
   {
    "duration": 21,
    "start_time": "2023-06-29T10:05:17.064Z"
   },
   {
    "duration": 46,
    "start_time": "2023-06-29T10:05:17.086Z"
   },
   {
    "duration": 57,
    "start_time": "2023-06-29T10:05:17.134Z"
   },
   {
    "duration": 48,
    "start_time": "2023-06-29T10:05:17.192Z"
   },
   {
    "duration": 1057,
    "start_time": "2023-06-29T10:05:17.242Z"
   },
   {
    "duration": 1302,
    "start_time": "2023-06-29T10:05:18.301Z"
   },
   {
    "duration": 4,
    "start_time": "2023-06-29T10:05:19.605Z"
   },
   {
    "duration": 121,
    "start_time": "2023-06-29T10:05:19.610Z"
   },
   {
    "duration": 81245,
    "start_time": "2023-06-29T10:05:19.733Z"
   },
   {
    "duration": 87248,
    "start_time": "2023-06-29T10:06:40.979Z"
   },
   {
    "duration": 3,
    "start_time": "2023-06-29T10:08:08.228Z"
   },
   {
    "duration": 2936090,
    "start_time": "2023-06-29T10:08:08.232Z"
   },
   {
    "duration": 3161190,
    "start_time": "2023-06-29T10:57:04.323Z"
   },
   {
    "duration": 4,
    "start_time": "2023-06-29T11:49:45.515Z"
   },
   {
    "duration": 7399,
    "start_time": "2023-06-29T11:49:45.521Z"
   },
   {
    "duration": 7496,
    "start_time": "2023-06-29T11:49:52.922Z"
   },
   {
    "duration": 4,
    "start_time": "2023-06-29T11:50:00.419Z"
   },
   {
    "duration": 40,
    "start_time": "2023-06-29T11:50:00.424Z"
   },
   {
    "duration": 30,
    "start_time": "2023-06-29T11:50:00.466Z"
   },
   {
    "duration": 83,
    "start_time": "2023-06-29T11:50:00.497Z"
   }
  ],
  "kernelspec": {
   "display_name": "Python 3 (ipykernel)",
   "language": "python",
   "name": "python3"
  },
  "language_info": {
   "codemirror_mode": {
    "name": "ipython",
    "version": 3
   },
   "file_extension": ".py",
   "mimetype": "text/x-python",
   "name": "python",
   "nbconvert_exporter": "python",
   "pygments_lexer": "ipython3",
   "version": "3.9.5"
  },
  "toc": {
   "base_numbering": 1,
   "nav_menu": {},
   "number_sections": true,
   "sideBar": true,
   "skip_h1_title": true,
   "title_cell": "Содержание",
   "title_sidebar": "Contents",
   "toc_cell": false,
   "toc_position": {
    "height": "calc(100% - 180px)",
    "left": "10px",
    "top": "150px",
    "width": "283px"
   },
   "toc_section_display": true,
   "toc_window_display": true
  }
 },
 "nbformat": 4,
 "nbformat_minor": 2
}
