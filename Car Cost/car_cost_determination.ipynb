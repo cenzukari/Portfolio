{
 "cells": [
  {
   "cell_type": "markdown",
   "metadata": {},
   "source": [
    "# Определение стоимости автомобилей"
   ]
  },
  {
   "cell_type": "markdown",
   "metadata": {},
   "source": [
    "**План проекта:**\n",
    "        \n",
    "1. Описание задачи \n",
    "2. Анализ данных\n",
    "3. Подготовка данных\n",
    "4. Обучение моделей\n",
    "5. Анализ моделей\n",
    "6. Тестирование лучшей модели\n",
    "7. Итоговый вывод"
   ]
  },
  {
   "cell_type": "markdown",
   "metadata": {},
   "source": [
    "## 1 Описание задачи"
   ]
  },
  {
   "cell_type": "markdown",
   "metadata": {},
   "source": [
    "Сервис по продаже автомобилей с пробегом разрабатывает приложение для привлечения новых клиентов. В нём можно быстро узнать рыночную стоимость своего автомобиля. В нашем распоряжении исторические данные: технические характеристики, комплектации и цены автомобилей. Задача построить модель для определения стоимости. \n",
    "\n",
    "**Заказчику важны:**\n",
    "\n",
    "- качество предсказания;\n",
    "- скорость предсказания;\n",
    "- время обучения."
   ]
  },
  {
   "cell_type": "markdown",
   "metadata": {},
   "source": [
    "**Описание данных:**  \n",
    "  \n",
    "Данные находятся в файле `autos.csv`.  \n",
    "  \n",
    "**Признаки:**  \n",
    "  \n",
    "\n",
    "- `DateCrawled` — дата скачивания анкеты из базы\n",
    "- `VehicleType` — тип автомобильного кузова\n",
    "- `RegistrationYear` — год регистрации автомобиля\n",
    "- `Gearbox` — тип коробки передач\n",
    "- `Power` — мощность (л. с.)\n",
    "- `Model` — модель автомобиля\n",
    "- `Kilometer` — пробег (км)\n",
    "- `RegistrationMonth` — месяц регистрации автомобиля\n",
    "- `FuelType` — тип топлива\n",
    "- `Brand` — марка автомобиля\n",
    "- `Repaired` — была машина в ремонте или нет\n",
    "- `DateCreated` — дата создания анкеты\n",
    "- `NumberOfPictures` — количество фотографий автомобиля\n",
    "- `PostalCode` — почтовый индекс владельца анкеты (пользователя)\n",
    "- `LastSeen` — дата последней активности пользователя  \n",
    "  \n",
    "**Целевой признак:**  \n",
    "  \n",
    "- `Price` — цена (евро)\n",
    "  \n",
    "При изучение данных важно заполнить пропущенные значения и обработать аномалии в столбцах. Если среди признаков имеются неинформативные, удалить их."
   ]
  },
  {
   "cell_type": "markdown",
   "metadata": {},
   "source": [
    "## 2 Анализ данных"
   ]
  },
  {
   "cell_type": "markdown",
   "metadata": {},
   "source": [
    "Изучим данные. Заполним пропущенные значения и обработаем аномалии в столбцах. Удалим неинформативные признаки."
   ]
  },
  {
   "cell_type": "markdown",
   "metadata": {},
   "source": [
    "### 2.1 Загрузка, ознакомление и удаление неинформативных признаков"
   ]
  },
  {
   "cell_type": "code",
   "execution_count": 1,
   "metadata": {},
   "outputs": [],
   "source": [
    "# импортируем библиотеки\n",
    "\n",
    "import pandas as pd\n",
    "import numpy as np\n",
    "import seaborn as sns\n",
    "import catboost as cb\n",
    "import lightgbm as lgb\n",
    "import matplotlib.pyplot as plt\n",
    "\n",
    "from sklearn.preprocessing import OneHotEncoder\n",
    "from sklearn.preprocessing import OrdinalEncoder\n",
    "from sklearn.preprocessing import StandardScaler \n",
    "from sklearn.model_selection import train_test_split, cross_val_score, GridSearchCV\n",
    "from sklearn.metrics import mean_squared_error\n",
    "from numpy.random import RandomState\n",
    "\n",
    "from sklearn.linear_model import LinearRegression\n",
    "from sklearn.tree import DecisionTreeRegressor\n",
    "from sklearn.ensemble import RandomForestRegressor\n",
    "\n",
    "from catboost import CatBoostRegressor\n",
    "from lightgbm import LGBMRegressor\n",
    "\n",
    "from sklearn.dummy import DummyRegressor\n",
    "\n",
    "import time\n",
    "\n",
    "import warnings\n",
    "warnings.filterwarnings(\"ignore\")"
   ]
  },
  {
   "cell_type": "code",
   "execution_count": 2,
   "metadata": {},
   "outputs": [],
   "source": [
    "# прочитаем датасеты\n",
    "\n",
    "try:\n",
    "    data = pd.read_csv('/datasets/autos.csv')\n",
    "except:\n",
    "    data = pd.read_csv('https://code.s3.yandex.net//datasets/datasets/autos.csv')"
   ]
  },
  {
   "cell_type": "code",
   "execution_count": 3,
   "metadata": {},
   "outputs": [
    {
     "data": {
      "text/html": [
       "<div>\n",
       "<style scoped>\n",
       "    .dataframe tbody tr th:only-of-type {\n",
       "        vertical-align: middle;\n",
       "    }\n",
       "\n",
       "    .dataframe tbody tr th {\n",
       "        vertical-align: top;\n",
       "    }\n",
       "\n",
       "    .dataframe thead th {\n",
       "        text-align: right;\n",
       "    }\n",
       "</style>\n",
       "<table border=\"1\" class=\"dataframe\">\n",
       "  <thead>\n",
       "    <tr style=\"text-align: right;\">\n",
       "      <th></th>\n",
       "      <th>DateCrawled</th>\n",
       "      <th>Price</th>\n",
       "      <th>VehicleType</th>\n",
       "      <th>RegistrationYear</th>\n",
       "      <th>Gearbox</th>\n",
       "      <th>Power</th>\n",
       "      <th>Model</th>\n",
       "      <th>Kilometer</th>\n",
       "      <th>RegistrationMonth</th>\n",
       "      <th>FuelType</th>\n",
       "      <th>Brand</th>\n",
       "      <th>Repaired</th>\n",
       "      <th>DateCreated</th>\n",
       "      <th>NumberOfPictures</th>\n",
       "      <th>PostalCode</th>\n",
       "      <th>LastSeen</th>\n",
       "    </tr>\n",
       "  </thead>\n",
       "  <tbody>\n",
       "    <tr>\n",
       "      <th>0</th>\n",
       "      <td>2016-03-24 11:52:17</td>\n",
       "      <td>480</td>\n",
       "      <td>NaN</td>\n",
       "      <td>1993</td>\n",
       "      <td>manual</td>\n",
       "      <td>0</td>\n",
       "      <td>golf</td>\n",
       "      <td>150000</td>\n",
       "      <td>0</td>\n",
       "      <td>petrol</td>\n",
       "      <td>volkswagen</td>\n",
       "      <td>NaN</td>\n",
       "      <td>2016-03-24 00:00:00</td>\n",
       "      <td>0</td>\n",
       "      <td>70435</td>\n",
       "      <td>2016-04-07 03:16:57</td>\n",
       "    </tr>\n",
       "    <tr>\n",
       "      <th>1</th>\n",
       "      <td>2016-03-24 10:58:45</td>\n",
       "      <td>18300</td>\n",
       "      <td>coupe</td>\n",
       "      <td>2011</td>\n",
       "      <td>manual</td>\n",
       "      <td>190</td>\n",
       "      <td>NaN</td>\n",
       "      <td>125000</td>\n",
       "      <td>5</td>\n",
       "      <td>gasoline</td>\n",
       "      <td>audi</td>\n",
       "      <td>yes</td>\n",
       "      <td>2016-03-24 00:00:00</td>\n",
       "      <td>0</td>\n",
       "      <td>66954</td>\n",
       "      <td>2016-04-07 01:46:50</td>\n",
       "    </tr>\n",
       "    <tr>\n",
       "      <th>2</th>\n",
       "      <td>2016-03-14 12:52:21</td>\n",
       "      <td>9800</td>\n",
       "      <td>suv</td>\n",
       "      <td>2004</td>\n",
       "      <td>auto</td>\n",
       "      <td>163</td>\n",
       "      <td>grand</td>\n",
       "      <td>125000</td>\n",
       "      <td>8</td>\n",
       "      <td>gasoline</td>\n",
       "      <td>jeep</td>\n",
       "      <td>NaN</td>\n",
       "      <td>2016-03-14 00:00:00</td>\n",
       "      <td>0</td>\n",
       "      <td>90480</td>\n",
       "      <td>2016-04-05 12:47:46</td>\n",
       "    </tr>\n",
       "    <tr>\n",
       "      <th>3</th>\n",
       "      <td>2016-03-17 16:54:04</td>\n",
       "      <td>1500</td>\n",
       "      <td>small</td>\n",
       "      <td>2001</td>\n",
       "      <td>manual</td>\n",
       "      <td>75</td>\n",
       "      <td>golf</td>\n",
       "      <td>150000</td>\n",
       "      <td>6</td>\n",
       "      <td>petrol</td>\n",
       "      <td>volkswagen</td>\n",
       "      <td>no</td>\n",
       "      <td>2016-03-17 00:00:00</td>\n",
       "      <td>0</td>\n",
       "      <td>91074</td>\n",
       "      <td>2016-03-17 17:40:17</td>\n",
       "    </tr>\n",
       "    <tr>\n",
       "      <th>4</th>\n",
       "      <td>2016-03-31 17:25:20</td>\n",
       "      <td>3600</td>\n",
       "      <td>small</td>\n",
       "      <td>2008</td>\n",
       "      <td>manual</td>\n",
       "      <td>69</td>\n",
       "      <td>fabia</td>\n",
       "      <td>90000</td>\n",
       "      <td>7</td>\n",
       "      <td>gasoline</td>\n",
       "      <td>skoda</td>\n",
       "      <td>no</td>\n",
       "      <td>2016-03-31 00:00:00</td>\n",
       "      <td>0</td>\n",
       "      <td>60437</td>\n",
       "      <td>2016-04-06 10:17:21</td>\n",
       "    </tr>\n",
       "    <tr>\n",
       "      <th>5</th>\n",
       "      <td>2016-04-04 17:36:23</td>\n",
       "      <td>650</td>\n",
       "      <td>sedan</td>\n",
       "      <td>1995</td>\n",
       "      <td>manual</td>\n",
       "      <td>102</td>\n",
       "      <td>3er</td>\n",
       "      <td>150000</td>\n",
       "      <td>10</td>\n",
       "      <td>petrol</td>\n",
       "      <td>bmw</td>\n",
       "      <td>yes</td>\n",
       "      <td>2016-04-04 00:00:00</td>\n",
       "      <td>0</td>\n",
       "      <td>33775</td>\n",
       "      <td>2016-04-06 19:17:07</td>\n",
       "    </tr>\n",
       "    <tr>\n",
       "      <th>6</th>\n",
       "      <td>2016-04-01 20:48:51</td>\n",
       "      <td>2200</td>\n",
       "      <td>convertible</td>\n",
       "      <td>2004</td>\n",
       "      <td>manual</td>\n",
       "      <td>109</td>\n",
       "      <td>2_reihe</td>\n",
       "      <td>150000</td>\n",
       "      <td>8</td>\n",
       "      <td>petrol</td>\n",
       "      <td>peugeot</td>\n",
       "      <td>no</td>\n",
       "      <td>2016-04-01 00:00:00</td>\n",
       "      <td>0</td>\n",
       "      <td>67112</td>\n",
       "      <td>2016-04-05 18:18:39</td>\n",
       "    </tr>\n",
       "    <tr>\n",
       "      <th>7</th>\n",
       "      <td>2016-03-21 18:54:38</td>\n",
       "      <td>0</td>\n",
       "      <td>sedan</td>\n",
       "      <td>1980</td>\n",
       "      <td>manual</td>\n",
       "      <td>50</td>\n",
       "      <td>other</td>\n",
       "      <td>40000</td>\n",
       "      <td>7</td>\n",
       "      <td>petrol</td>\n",
       "      <td>volkswagen</td>\n",
       "      <td>no</td>\n",
       "      <td>2016-03-21 00:00:00</td>\n",
       "      <td>0</td>\n",
       "      <td>19348</td>\n",
       "      <td>2016-03-25 16:47:58</td>\n",
       "    </tr>\n",
       "    <tr>\n",
       "      <th>8</th>\n",
       "      <td>2016-04-04 23:42:13</td>\n",
       "      <td>14500</td>\n",
       "      <td>bus</td>\n",
       "      <td>2014</td>\n",
       "      <td>manual</td>\n",
       "      <td>125</td>\n",
       "      <td>c_max</td>\n",
       "      <td>30000</td>\n",
       "      <td>8</td>\n",
       "      <td>petrol</td>\n",
       "      <td>ford</td>\n",
       "      <td>NaN</td>\n",
       "      <td>2016-04-04 00:00:00</td>\n",
       "      <td>0</td>\n",
       "      <td>94505</td>\n",
       "      <td>2016-04-04 23:42:13</td>\n",
       "    </tr>\n",
       "    <tr>\n",
       "      <th>9</th>\n",
       "      <td>2016-03-17 10:53:50</td>\n",
       "      <td>999</td>\n",
       "      <td>small</td>\n",
       "      <td>1998</td>\n",
       "      <td>manual</td>\n",
       "      <td>101</td>\n",
       "      <td>golf</td>\n",
       "      <td>150000</td>\n",
       "      <td>0</td>\n",
       "      <td>NaN</td>\n",
       "      <td>volkswagen</td>\n",
       "      <td>NaN</td>\n",
       "      <td>2016-03-17 00:00:00</td>\n",
       "      <td>0</td>\n",
       "      <td>27472</td>\n",
       "      <td>2016-03-31 17:17:06</td>\n",
       "    </tr>\n",
       "  </tbody>\n",
       "</table>\n",
       "</div>"
      ],
      "text/plain": [
       "           DateCrawled  Price  VehicleType  RegistrationYear Gearbox  Power  \\\n",
       "0  2016-03-24 11:52:17    480          NaN              1993  manual      0   \n",
       "1  2016-03-24 10:58:45  18300        coupe              2011  manual    190   \n",
       "2  2016-03-14 12:52:21   9800          suv              2004    auto    163   \n",
       "3  2016-03-17 16:54:04   1500        small              2001  manual     75   \n",
       "4  2016-03-31 17:25:20   3600        small              2008  manual     69   \n",
       "5  2016-04-04 17:36:23    650        sedan              1995  manual    102   \n",
       "6  2016-04-01 20:48:51   2200  convertible              2004  manual    109   \n",
       "7  2016-03-21 18:54:38      0        sedan              1980  manual     50   \n",
       "8  2016-04-04 23:42:13  14500          bus              2014  manual    125   \n",
       "9  2016-03-17 10:53:50    999        small              1998  manual    101   \n",
       "\n",
       "     Model  Kilometer  RegistrationMonth  FuelType       Brand Repaired  \\\n",
       "0     golf     150000                  0    petrol  volkswagen      NaN   \n",
       "1      NaN     125000                  5  gasoline        audi      yes   \n",
       "2    grand     125000                  8  gasoline        jeep      NaN   \n",
       "3     golf     150000                  6    petrol  volkswagen       no   \n",
       "4    fabia      90000                  7  gasoline       skoda       no   \n",
       "5      3er     150000                 10    petrol         bmw      yes   \n",
       "6  2_reihe     150000                  8    petrol     peugeot       no   \n",
       "7    other      40000                  7    petrol  volkswagen       no   \n",
       "8    c_max      30000                  8    petrol        ford      NaN   \n",
       "9     golf     150000                  0       NaN  volkswagen      NaN   \n",
       "\n",
       "           DateCreated  NumberOfPictures  PostalCode             LastSeen  \n",
       "0  2016-03-24 00:00:00                 0       70435  2016-04-07 03:16:57  \n",
       "1  2016-03-24 00:00:00                 0       66954  2016-04-07 01:46:50  \n",
       "2  2016-03-14 00:00:00                 0       90480  2016-04-05 12:47:46  \n",
       "3  2016-03-17 00:00:00                 0       91074  2016-03-17 17:40:17  \n",
       "4  2016-03-31 00:00:00                 0       60437  2016-04-06 10:17:21  \n",
       "5  2016-04-04 00:00:00                 0       33775  2016-04-06 19:17:07  \n",
       "6  2016-04-01 00:00:00                 0       67112  2016-04-05 18:18:39  \n",
       "7  2016-03-21 00:00:00                 0       19348  2016-03-25 16:47:58  \n",
       "8  2016-04-04 00:00:00                 0       94505  2016-04-04 23:42:13  \n",
       "9  2016-03-17 00:00:00                 0       27472  2016-03-31 17:17:06  "
      ]
     },
     "execution_count": 3,
     "metadata": {},
     "output_type": "execute_result"
    }
   ],
   "source": [
    "# посмотрим данные\n",
    "\n",
    "data.head(10)"
   ]
  },
  {
   "cell_type": "markdown",
   "metadata": {},
   "source": [
    "Мы имеем следующие данные:\n",
    "\n",
    "**Признаки**  \n",
    "  \n",
    "- `DateCrawled` — дата скачивания анкеты из базы\n",
    "- `VehicleType` — тип автомобильного кузова\n",
    "- `RegistrationYear` — год регистрации автомобиля\n",
    "- `Gearbox` — тип коробки передач\n",
    "- `Power` — мощность (л. с.)\n",
    "- `Model` — модель автомобиля\n",
    "- `Kilometer` — пробег (км)\n",
    "- `RegistrationMonth` — месяц регистрации автомобиля\n",
    "- `FuelType` — тип топлива\n",
    "- `Brand` — марка автомобиля\n",
    "- `Repaired` — была машина в ремонте или нет\n",
    "- `DateCreated` — дата создания анкеты\n",
    "- `NumberOfPictures` — количество фотографий автомобиля\n",
    "- `PostalCode` — почтовый индекс владельца анкеты (пользователя)\n",
    "- `LastSeen` — дата последней активности пользователя  \n",
    "  \n",
    "**Целевой признак**  \n",
    "  \n",
    "- `Price` — цена (евро)  \n",
    "   \n",
    "Из них видно, что для исследования не понадобяться дата скачивания анкеты, дата создания анкеты, количество фотографий автомобиля, почтовый индекс, дата последней активности пользователя. А так же бросается в глаза не удобное наименование столбцов. Поэтому перед исследованием данных удалим лишнее и приведем к змеиному регистру оставшиеся столбцы."
   ]
  },
  {
   "cell_type": "code",
   "execution_count": 4,
   "metadata": {},
   "outputs": [],
   "source": [
    "# удалим лишние столбцы\n",
    "\n",
    "data = data.drop(columns=['DateCrawled','DateCreated','NumberOfPictures','PostalCode', 'LastSeen'])"
   ]
  },
  {
   "cell_type": "code",
   "execution_count": 5,
   "metadata": {},
   "outputs": [
    {
     "data": {
      "text/plain": [
       "Index(['Price', 'VehicleType', 'RegistrationYear', 'Gearbox', 'Power', 'Model',\n",
       "       'Kilometer', 'RegistrationMonth', 'FuelType', 'Brand', 'Repaired'],\n",
       "      dtype='object')"
      ]
     },
     "execution_count": 5,
     "metadata": {},
     "output_type": "execute_result"
    }
   ],
   "source": [
    "# проверим удаление\n",
    "\n",
    "data.columns"
   ]
  },
  {
   "cell_type": "code",
   "execution_count": 6,
   "metadata": {},
   "outputs": [
    {
     "data": {
      "text/plain": [
       "Index(['price', 'vehicletype', 'registrationyear', 'gearbox', 'power', 'model',\n",
       "       'kilometer', 'registrationmonth', 'fueltype', 'brand', 'repaired'],\n",
       "      dtype='object')"
      ]
     },
     "execution_count": 6,
     "metadata": {},
     "output_type": "execute_result"
    }
   ],
   "source": [
    "# приведем наименования столбцов к нижнему регистру\n",
    "\n",
    "data.columns = map(str.lower, data.columns)\n",
    "data.columns"
   ]
  },
  {
   "cell_type": "code",
   "execution_count": 7,
   "metadata": {},
   "outputs": [
    {
     "data": {
      "text/plain": [
       "Index(['price', 'vehicle_type', 'registration_year', 'gearbox', 'power',\n",
       "       'model', 'kilometer', 'registration_month', 'fuel_type', 'brand',\n",
       "       'repaired'],\n",
       "      dtype='object')"
      ]
     },
     "execution_count": 7,
     "metadata": {},
     "output_type": "execute_result"
    }
   ],
   "source": [
    "# переименуем те наименования, где не соблюдем змеиный регистр\n",
    "\n",
    "data = data.rename(columns={'vehicletype':'vehicle_type', \n",
    "                            'registrationyear':'registration_year', \n",
    "                            'registrationmonth':'registration_month',\n",
    "                            'fueltype':'fuel_type'})\n",
    "data.columns"
   ]
  },
  {
   "cell_type": "markdown",
   "metadata": {},
   "source": [
    "Теперь мы имеем только нужную информацию и верное написание наименований, можно переходить к анализу данных и работе с ними."
   ]
  },
  {
   "cell_type": "code",
   "execution_count": 8,
   "metadata": {},
   "outputs": [
    {
     "name": "stdout",
     "output_type": "stream",
     "text": [
      "<class 'pandas.core.frame.DataFrame'>\n",
      "RangeIndex: 354369 entries, 0 to 354368\n",
      "Data columns (total 11 columns):\n",
      " #   Column              Non-Null Count   Dtype \n",
      "---  ------              --------------   ----- \n",
      " 0   price               354369 non-null  int64 \n",
      " 1   vehicle_type        316879 non-null  object\n",
      " 2   registration_year   354369 non-null  int64 \n",
      " 3   gearbox             334536 non-null  object\n",
      " 4   power               354369 non-null  int64 \n",
      " 5   model               334664 non-null  object\n",
      " 6   kilometer           354369 non-null  int64 \n",
      " 7   registration_month  354369 non-null  int64 \n",
      " 8   fuel_type           321474 non-null  object\n",
      " 9   brand               354369 non-null  object\n",
      " 10  repaired            283215 non-null  object\n",
      "dtypes: int64(5), object(6)\n",
      "memory usage: 29.7+ MB\n",
      "None\n",
      "\n",
      "price                     0\n",
      "vehicle_type          37490\n",
      "registration_year         0\n",
      "gearbox               19833\n",
      "power                     0\n",
      "model                 19705\n",
      "kilometer                 0\n",
      "registration_month        0\n",
      "fuel_type             32895\n",
      "brand                     0\n",
      "repaired              71154\n",
      "dtype: int64\n",
      "\n",
      "Дубликаты: 27543\n"
     ]
    }
   ],
   "source": [
    "# посмотрим на типы данных и на пропуски\n",
    "\n",
    "print(data.info())\n",
    "print()\n",
    "print(data.isna().sum())\n",
    "print()\n",
    "print('Дубликаты:',data.duplicated().sum())"
   ]
  },
  {
   "cell_type": "markdown",
   "metadata": {},
   "source": [
    "У нас 11 столбцов и 354369 строк. Типы данных верные.  Есть пропуски в типе кузова, типе коробки передач,  модели, типе топлива, был ремонт или нет. И 27543 явных дубликатов.  \n",
    "Удалим дубликаты и проработаем пропуски в оставшихся данных. "
   ]
  },
  {
   "cell_type": "code",
   "execution_count": 9,
   "metadata": {},
   "outputs": [
    {
     "data": {
      "text/plain": [
       "0"
      ]
     },
     "execution_count": 9,
     "metadata": {},
     "output_type": "execute_result"
    }
   ],
   "source": [
    "# удалим явные дубликаты\n",
    "\n",
    "data = data.drop_duplicates()\n",
    "data.duplicated().sum()"
   ]
  },
  {
   "cell_type": "markdown",
   "metadata": {},
   "source": [
    "### 2.2 Удаление пропусков"
   ]
  },
  {
   "cell_type": "code",
   "execution_count": 10,
   "metadata": {},
   "outputs": [
    {
     "data": {
      "text/plain": [
       "array([nan, 'coupe', 'suv', 'small', 'sedan', 'convertible', 'bus',\n",
       "       'wagon', 'other'], dtype=object)"
      ]
     },
     "execution_count": 10,
     "metadata": {},
     "output_type": "execute_result"
    }
   ],
   "source": [
    "# посмотрим какие уникальные значения у нас имеются в типе кузова\n",
    "\n",
    "data['vehicle_type'].unique()"
   ]
  },
  {
   "cell_type": "code",
   "execution_count": 11,
   "metadata": {},
   "outputs": [
    {
     "data": {
      "text/plain": [
       "0.108"
      ]
     },
     "execution_count": 11,
     "metadata": {},
     "output_type": "execute_result"
    }
   ],
   "source": [
    "# посмотрим пропуски в процентном соотношении\n",
    "\n",
    "(data['vehicle_type'].isna().sum() / data.shape[0]).round(3)"
   ]
  },
  {
   "cell_type": "markdown",
   "metadata": {},
   "source": [
    "У нас почти 11% пропущенных значений. Переименуем их так, чтобы с ними можно было работать и посмотрим какие модели навскидку не имеют указания типа. "
   ]
  },
  {
   "cell_type": "code",
   "execution_count": 12,
   "metadata": {},
   "outputs": [
    {
     "data": {
      "text/plain": [
       "sedan            83602\n",
       "small            73496\n",
       "wagon            59662\n",
       "not_indicated    35249\n",
       "bus              26795\n",
       "convertible      18752\n",
       "coupe            15120\n",
       "suv              10977\n",
       "other             3173\n",
       "Name: vehicle_type, dtype: int64"
      ]
     },
     "execution_count": 12,
     "metadata": {},
     "output_type": "execute_result"
    }
   ],
   "source": [
    "# переименуем пропущенные значения в типа кузова\n",
    "\n",
    "data['vehicle_type'] = data['vehicle_type'].fillna('not_indicated')\n",
    "data['vehicle_type'].value_counts()"
   ]
  },
  {
   "cell_type": "code",
   "execution_count": 13,
   "metadata": {},
   "outputs": [
    {
     "data": {
      "text/html": [
       "<div>\n",
       "<style scoped>\n",
       "    .dataframe tbody tr th:only-of-type {\n",
       "        vertical-align: middle;\n",
       "    }\n",
       "\n",
       "    .dataframe tbody tr th {\n",
       "        vertical-align: top;\n",
       "    }\n",
       "\n",
       "    .dataframe thead th {\n",
       "        text-align: right;\n",
       "    }\n",
       "</style>\n",
       "<table border=\"1\" class=\"dataframe\">\n",
       "  <thead>\n",
       "    <tr style=\"text-align: right;\">\n",
       "      <th></th>\n",
       "      <th>price</th>\n",
       "      <th>vehicle_type</th>\n",
       "      <th>registration_year</th>\n",
       "      <th>gearbox</th>\n",
       "      <th>power</th>\n",
       "      <th>model</th>\n",
       "      <th>kilometer</th>\n",
       "      <th>registration_month</th>\n",
       "      <th>fuel_type</th>\n",
       "      <th>brand</th>\n",
       "      <th>repaired</th>\n",
       "    </tr>\n",
       "  </thead>\n",
       "  <tbody>\n",
       "    <tr>\n",
       "      <th>0</th>\n",
       "      <td>480</td>\n",
       "      <td>not_indicated</td>\n",
       "      <td>1993</td>\n",
       "      <td>manual</td>\n",
       "      <td>0</td>\n",
       "      <td>golf</td>\n",
       "      <td>150000</td>\n",
       "      <td>0</td>\n",
       "      <td>petrol</td>\n",
       "      <td>volkswagen</td>\n",
       "      <td>NaN</td>\n",
       "    </tr>\n",
       "    <tr>\n",
       "      <th>16</th>\n",
       "      <td>300</td>\n",
       "      <td>not_indicated</td>\n",
       "      <td>2016</td>\n",
       "      <td>NaN</td>\n",
       "      <td>60</td>\n",
       "      <td>polo</td>\n",
       "      <td>150000</td>\n",
       "      <td>0</td>\n",
       "      <td>petrol</td>\n",
       "      <td>volkswagen</td>\n",
       "      <td>NaN</td>\n",
       "    </tr>\n",
       "    <tr>\n",
       "      <th>22</th>\n",
       "      <td>2900</td>\n",
       "      <td>not_indicated</td>\n",
       "      <td>2018</td>\n",
       "      <td>manual</td>\n",
       "      <td>90</td>\n",
       "      <td>meriva</td>\n",
       "      <td>150000</td>\n",
       "      <td>5</td>\n",
       "      <td>petrol</td>\n",
       "      <td>opel</td>\n",
       "      <td>no</td>\n",
       "    </tr>\n",
       "    <tr>\n",
       "      <th>26</th>\n",
       "      <td>5555</td>\n",
       "      <td>not_indicated</td>\n",
       "      <td>2017</td>\n",
       "      <td>manual</td>\n",
       "      <td>125</td>\n",
       "      <td>c4</td>\n",
       "      <td>125000</td>\n",
       "      <td>4</td>\n",
       "      <td>NaN</td>\n",
       "      <td>citroen</td>\n",
       "      <td>no</td>\n",
       "    </tr>\n",
       "    <tr>\n",
       "      <th>31</th>\n",
       "      <td>899</td>\n",
       "      <td>not_indicated</td>\n",
       "      <td>2016</td>\n",
       "      <td>manual</td>\n",
       "      <td>60</td>\n",
       "      <td>clio</td>\n",
       "      <td>150000</td>\n",
       "      <td>6</td>\n",
       "      <td>petrol</td>\n",
       "      <td>renault</td>\n",
       "      <td>NaN</td>\n",
       "    </tr>\n",
       "    <tr>\n",
       "      <th>...</th>\n",
       "      <td>...</td>\n",
       "      <td>...</td>\n",
       "      <td>...</td>\n",
       "      <td>...</td>\n",
       "      <td>...</td>\n",
       "      <td>...</td>\n",
       "      <td>...</td>\n",
       "      <td>...</td>\n",
       "      <td>...</td>\n",
       "      <td>...</td>\n",
       "      <td>...</td>\n",
       "    </tr>\n",
       "    <tr>\n",
       "      <th>354346</th>\n",
       "      <td>2600</td>\n",
       "      <td>not_indicated</td>\n",
       "      <td>2005</td>\n",
       "      <td>auto</td>\n",
       "      <td>0</td>\n",
       "      <td>c_klasse</td>\n",
       "      <td>150000</td>\n",
       "      <td>9</td>\n",
       "      <td>NaN</td>\n",
       "      <td>mercedes_benz</td>\n",
       "      <td>NaN</td>\n",
       "    </tr>\n",
       "    <tr>\n",
       "      <th>354351</th>\n",
       "      <td>1900</td>\n",
       "      <td>not_indicated</td>\n",
       "      <td>2000</td>\n",
       "      <td>manual</td>\n",
       "      <td>110</td>\n",
       "      <td>NaN</td>\n",
       "      <td>150000</td>\n",
       "      <td>7</td>\n",
       "      <td>NaN</td>\n",
       "      <td>volkswagen</td>\n",
       "      <td>no</td>\n",
       "    </tr>\n",
       "    <tr>\n",
       "      <th>354361</th>\n",
       "      <td>5250</td>\n",
       "      <td>not_indicated</td>\n",
       "      <td>2016</td>\n",
       "      <td>auto</td>\n",
       "      <td>150</td>\n",
       "      <td>159</td>\n",
       "      <td>150000</td>\n",
       "      <td>12</td>\n",
       "      <td>NaN</td>\n",
       "      <td>alfa_romeo</td>\n",
       "      <td>no</td>\n",
       "    </tr>\n",
       "    <tr>\n",
       "      <th>354364</th>\n",
       "      <td>0</td>\n",
       "      <td>not_indicated</td>\n",
       "      <td>2005</td>\n",
       "      <td>manual</td>\n",
       "      <td>0</td>\n",
       "      <td>colt</td>\n",
       "      <td>150000</td>\n",
       "      <td>7</td>\n",
       "      <td>petrol</td>\n",
       "      <td>mitsubishi</td>\n",
       "      <td>yes</td>\n",
       "    </tr>\n",
       "    <tr>\n",
       "      <th>354365</th>\n",
       "      <td>2200</td>\n",
       "      <td>not_indicated</td>\n",
       "      <td>2005</td>\n",
       "      <td>NaN</td>\n",
       "      <td>0</td>\n",
       "      <td>NaN</td>\n",
       "      <td>20000</td>\n",
       "      <td>1</td>\n",
       "      <td>NaN</td>\n",
       "      <td>sonstige_autos</td>\n",
       "      <td>NaN</td>\n",
       "    </tr>\n",
       "  </tbody>\n",
       "</table>\n",
       "<p>35249 rows × 11 columns</p>\n",
       "</div>"
      ],
      "text/plain": [
       "        price   vehicle_type  registration_year gearbox  power     model  \\\n",
       "0         480  not_indicated               1993  manual      0      golf   \n",
       "16        300  not_indicated               2016     NaN     60      polo   \n",
       "22       2900  not_indicated               2018  manual     90    meriva   \n",
       "26       5555  not_indicated               2017  manual    125        c4   \n",
       "31        899  not_indicated               2016  manual     60      clio   \n",
       "...       ...            ...                ...     ...    ...       ...   \n",
       "354346   2600  not_indicated               2005    auto      0  c_klasse   \n",
       "354351   1900  not_indicated               2000  manual    110       NaN   \n",
       "354361   5250  not_indicated               2016    auto    150       159   \n",
       "354364      0  not_indicated               2005  manual      0      colt   \n",
       "354365   2200  not_indicated               2005     NaN      0       NaN   \n",
       "\n",
       "        kilometer  registration_month fuel_type           brand repaired  \n",
       "0          150000                   0    petrol      volkswagen      NaN  \n",
       "16         150000                   0    petrol      volkswagen      NaN  \n",
       "22         150000                   5    petrol            opel       no  \n",
       "26         125000                   4       NaN         citroen       no  \n",
       "31         150000                   6    petrol         renault      NaN  \n",
       "...           ...                 ...       ...             ...      ...  \n",
       "354346     150000                   9       NaN   mercedes_benz      NaN  \n",
       "354351     150000                   7       NaN      volkswagen       no  \n",
       "354361     150000                  12       NaN      alfa_romeo       no  \n",
       "354364     150000                   7    petrol      mitsubishi      yes  \n",
       "354365      20000                   1       NaN  sonstige_autos      NaN  \n",
       "\n",
       "[35249 rows x 11 columns]"
      ]
     },
     "execution_count": 13,
     "metadata": {},
     "output_type": "execute_result"
    }
   ],
   "source": [
    "# посмотрим, какие автомобили попали под не указанный кузов\n",
    "\n",
    "data[data['vehicle_type'] == 'not_indicated']"
   ]
  },
  {
   "cell_type": "code",
   "execution_count": 14,
   "metadata": {},
   "outputs": [
    {
     "data": {
      "text/plain": [
       "array(['not_indicated', 'coupe', 'suv', 'small', 'sedan', 'convertible',\n",
       "       'bus', 'wagon', 'other'], dtype=object)"
      ]
     },
     "execution_count": 14,
     "metadata": {},
     "output_type": "execute_result"
    }
   ],
   "source": [
    "# посмотрим на уникальные значения в типе кузова\n",
    "\n",
    "data['vehicle_type'].unique()"
   ]
  },
  {
   "cell_type": "code",
   "execution_count": 15,
   "metadata": {},
   "outputs": [
    {
     "data": {
      "text/plain": [
       "array(['manual', 'auto', nan], dtype=object)"
      ]
     },
     "execution_count": 15,
     "metadata": {},
     "output_type": "execute_result"
    }
   ],
   "source": [
    "# посмотрим на уникальные значения в типе коробки передач\n",
    "\n",
    "data['gearbox'].unique()"
   ]
  },
  {
   "cell_type": "code",
   "execution_count": 16,
   "metadata": {},
   "outputs": [
    {
     "data": {
      "text/plain": [
       "0.054"
      ]
     },
     "execution_count": 16,
     "metadata": {},
     "output_type": "execute_result"
    }
   ],
   "source": [
    "# посмотрим пропуски в процентном соотношении\n",
    "\n",
    "(data['gearbox'].isna().sum() / data.shape[0]).round(3)"
   ]
  },
  {
   "cell_type": "markdown",
   "metadata": {},
   "source": [
    "Процент небольшой, всего лишь 5, при этом коробка передач влияет на стоимость автомобиля. Механика стоит дешевле автомата, а  полу-автомат ломается чаще и это тоже влияет на стоимость. Без коробки передач данные не полные и в нашей задаче никак не помогут. Поэтому удаляем. "
   ]
  },
  {
   "cell_type": "code",
   "execution_count": 17,
   "metadata": {},
   "outputs": [
    {
     "data": {
      "text/plain": [
       "array(['manual', 'auto'], dtype=object)"
      ]
     },
     "execution_count": 17,
     "metadata": {},
     "output_type": "execute_result"
    }
   ],
   "source": [
    "# удалим пропуски в моделях\n",
    "\n",
    "data.dropna(subset=['gearbox'], inplace=True)\n",
    "data['gearbox'].unique()"
   ]
  },
  {
   "cell_type": "code",
   "execution_count": 18,
   "metadata": {
    "scrolled": false
   },
   "outputs": [
    {
     "data": {
      "text/plain": [
       "array(['golf', nan, 'grand', 'fabia', '3er', '2_reihe', 'other', 'c_max',\n",
       "       '3_reihe', 'passat', 'navara', 'twingo', 'a_klasse', 'scirocco',\n",
       "       '5er', 'meriva', 'arosa', 'c4', 'civic', 'transporter', 'punto',\n",
       "       'e_klasse', 'clio', 'kadett', 'one', 'fortwo', '1er', 'b_klasse',\n",
       "       'signum', 'astra', 'a8', 'jetta', 'polo', 'fiesta', 'c_klasse',\n",
       "       'micra', 'vito', 'sprinter', '156', 'escort', 'forester',\n",
       "       'xc_reihe', 'scenic', 'a4', 'a1', 'combo', 'focus', 'tt', 'a6',\n",
       "       'jazz', 'omega', 'slk', '7er', 'corsa', '80', '147', 'z_reihe',\n",
       "       'sportage', 'sorento', 'v40', 'ibiza', 'mustang', 'eos', 'touran',\n",
       "       'getz', 'insignia', 'ka', 'almera', 'megane', 'a3', 'lupo', 'r19',\n",
       "       'zafira', 'caddy', 'mondeo', 'cordoba', 'colt', 'impreza',\n",
       "       'vectra', 'berlingo', 'tiguan', 'i_reihe', 'sharan', '6_reihe',\n",
       "       'panda', 'up', 'seicento', 'ceed', 'kangoo', '5_reihe', 'yeti',\n",
       "       'octavia', 'mii', 'rx_reihe', '6er', 'modus', 'fox', 'matiz',\n",
       "       'beetle', 'rio', 'touareg', 'logan', 'spider', 'cuore', 's_max',\n",
       "       'a2', 'galaxy', 'c3', 'viano', 's_klasse', '1_reihe', 'avensis',\n",
       "       'roomster', 'sl', 'kaefer', 'santa', 'cooper', 'leon', '4_reihe',\n",
       "       'a5', '500', 'laguna', 'ptcruiser', 'clk', 'primera', 'espace',\n",
       "       'x_reihe', 'exeo', '159', 'transit', 'juke', 'qashqai', 'carisma',\n",
       "       'accord', 'corolla', 'lanos', 'phaeton', 'verso', 'swift', 'rav',\n",
       "       'picanto', 'boxster', 'stilo', 'alhambra', 'mx_reihe', 'roadster',\n",
       "       'ypsilon', 'galant', 'justy', '90', 'sirion', 'crossfire', 'agila',\n",
       "       'duster', 'v50', 'c_reihe', 'v_klasse', 'm_klasse', 'yaris', 'c5',\n",
       "       'aygo', 'cc', 'carnival', '911', 'bora', 'forfour', 'm_reihe',\n",
       "       '100', 'cl', 'tigra', '300c', 'cr_reihe', 'spark', 'kuga',\n",
       "       'x_type', 'ducato', 's_type', 'x_trail', 'toledo', 'altea',\n",
       "       'voyager', 'calibra', 'v70', 'bravo', 'antara', 'c1', 'citigo',\n",
       "       'jimny', 'cayenne', 'wrangler', 'lybra', 'q7', 'lancer', 'captiva',\n",
       "       'fusion', 'c2', 'discovery', 'freelander', 'sandero', 'note',\n",
       "       '900', 'cherokee', 'clubman', 'samara', 'defender', '601',\n",
       "       'cx_reihe', 'legacy', 'pajero', 'auris', 'niva', 's60', 'nubira',\n",
       "       'vivaro', 'tucson', 'g_klasse', 'lodgy', 'superb', '850',\n",
       "       'range_rover', 'q3', 'serie_2', 'glk', 'charade', 'croma',\n",
       "       'outlander', 'doblo', 'musa', 'move', '9000', 'kalos', 'v60',\n",
       "       '145', '200', 'b_max', 'range_rover_sport', 'aveo', 'terios',\n",
       "       'rangerover', 'q5', 'range_rover_evoque', 'materia', 'delta', 'gl',\n",
       "       'kalina', 'elefantino', 'i3', 'amarok', 'kappa', 'serie_3',\n",
       "       'serie_1'], dtype=object)"
      ]
     },
     "execution_count": 18,
     "metadata": {},
     "output_type": "execute_result"
    }
   ],
   "source": [
    "# посмотрим на уникальные значения в модели\n",
    "\n",
    "data['model'].unique()"
   ]
  },
  {
   "cell_type": "code",
   "execution_count": 19,
   "metadata": {},
   "outputs": [
    {
     "data": {
      "text/plain": [
       "0.049"
      ]
     },
     "execution_count": 19,
     "metadata": {},
     "output_type": "execute_result"
    }
   ],
   "source": [
    "# посмотрим пропуски в процентном соотношении\n",
    "\n",
    "(data['model'].isna().sum() / data.shape[0]).round(3)"
   ]
  },
  {
   "cell_type": "markdown",
   "metadata": {},
   "source": [
    "Мы имеем небольшой процент пропусков и к тому же без наименования модели данные по авто не имеют смысла, так что здесь можно смело удалять пропуски."
   ]
  },
  {
   "cell_type": "code",
   "execution_count": 20,
   "metadata": {
    "scrolled": false
   },
   "outputs": [
    {
     "data": {
      "text/plain": [
       "array(['golf', 'grand', 'fabia', '3er', '2_reihe', 'other', 'c_max',\n",
       "       '3_reihe', 'passat', 'navara', 'twingo', 'a_klasse', 'scirocco',\n",
       "       '5er', 'meriva', 'arosa', 'c4', 'civic', 'transporter', 'punto',\n",
       "       'e_klasse', 'clio', 'kadett', 'one', 'fortwo', '1er', 'b_klasse',\n",
       "       'signum', 'astra', 'a8', 'jetta', 'polo', 'fiesta', 'c_klasse',\n",
       "       'micra', 'vito', 'sprinter', '156', 'escort', 'forester',\n",
       "       'xc_reihe', 'scenic', 'a4', 'a1', 'combo', 'focus', 'tt', 'a6',\n",
       "       'jazz', 'omega', 'slk', '7er', 'corsa', '80', '147', 'z_reihe',\n",
       "       'sportage', 'sorento', 'v40', 'ibiza', 'mustang', 'eos', 'touran',\n",
       "       'getz', 'insignia', 'ka', 'almera', 'megane', 'a3', 'lupo', 'r19',\n",
       "       'zafira', 'caddy', 'mondeo', 'cordoba', 'colt', 'impreza',\n",
       "       'vectra', 'berlingo', 'tiguan', 'i_reihe', 'sharan', '6_reihe',\n",
       "       'panda', 'up', 'seicento', 'ceed', 'kangoo', '5_reihe', 'yeti',\n",
       "       'octavia', 'mii', 'rx_reihe', '6er', 'modus', 'fox', 'matiz',\n",
       "       'beetle', 'rio', 'touareg', 'logan', 'spider', 'cuore', 's_max',\n",
       "       'a2', 'galaxy', 'c3', 'viano', 's_klasse', '1_reihe', 'avensis',\n",
       "       'roomster', 'sl', 'kaefer', 'santa', 'cooper', 'leon', '4_reihe',\n",
       "       'a5', '500', 'laguna', 'ptcruiser', 'clk', 'primera', 'espace',\n",
       "       'x_reihe', 'exeo', '159', 'transit', 'juke', 'qashqai', 'carisma',\n",
       "       'accord', 'corolla', 'lanos', 'phaeton', 'verso', 'swift', 'rav',\n",
       "       'picanto', 'boxster', 'stilo', 'alhambra', 'mx_reihe', 'roadster',\n",
       "       'ypsilon', 'galant', 'justy', '90', 'sirion', 'crossfire', 'agila',\n",
       "       'duster', 'v50', 'c_reihe', 'v_klasse', 'm_klasse', 'yaris', 'c5',\n",
       "       'aygo', 'cc', 'carnival', '911', 'bora', 'forfour', 'm_reihe',\n",
       "       '100', 'cl', 'tigra', '300c', 'cr_reihe', 'spark', 'kuga',\n",
       "       'x_type', 'ducato', 's_type', 'x_trail', 'toledo', 'altea',\n",
       "       'voyager', 'calibra', 'v70', 'bravo', 'antara', 'c1', 'citigo',\n",
       "       'jimny', 'cayenne', 'wrangler', 'lybra', 'q7', 'lancer', 'captiva',\n",
       "       'fusion', 'c2', 'discovery', 'freelander', 'sandero', 'note',\n",
       "       '900', 'cherokee', 'clubman', 'samara', 'defender', '601',\n",
       "       'cx_reihe', 'legacy', 'pajero', 'auris', 'niva', 's60', 'nubira',\n",
       "       'vivaro', 'tucson', 'g_klasse', 'lodgy', 'superb', '850',\n",
       "       'range_rover', 'q3', 'serie_2', 'glk', 'charade', 'croma',\n",
       "       'outlander', 'doblo', 'musa', 'move', '9000', 'kalos', 'v60',\n",
       "       '145', '200', 'b_max', 'range_rover_sport', 'aveo', 'terios',\n",
       "       'rangerover', 'q5', 'range_rover_evoque', 'materia', 'delta', 'gl',\n",
       "       'kalina', 'elefantino', 'i3', 'amarok', 'kappa', 'serie_3',\n",
       "       'serie_1'], dtype=object)"
      ]
     },
     "execution_count": 20,
     "metadata": {},
     "output_type": "execute_result"
    }
   ],
   "source": [
    "# удалим пропуски в моделях\n",
    "\n",
    "data.dropna(subset=['model'], inplace=True)\n",
    "data['model'].unique()"
   ]
  },
  {
   "cell_type": "code",
   "execution_count": 21,
   "metadata": {},
   "outputs": [
    {
     "data": {
      "text/plain": [
       "array(['petrol', 'gasoline', nan, 'lpg', 'other', 'hybrid', 'cng',\n",
       "       'electric'], dtype=object)"
      ]
     },
     "execution_count": 21,
     "metadata": {},
     "output_type": "execute_result"
    }
   ],
   "source": [
    "# посмотрим на уникальные значения в типе топлива\n",
    "\n",
    "data['fuel_type'].unique()"
   ]
  },
  {
   "cell_type": "code",
   "execution_count": 22,
   "metadata": {},
   "outputs": [
    {
     "data": {
      "text/plain": [
       "0.065"
      ]
     },
     "execution_count": 22,
     "metadata": {},
     "output_type": "execute_result"
    }
   ],
   "source": [
    "# посмотрим пропуски в процентном соотношении\n",
    "\n",
    "(data['fuel_type'].isna().sum() / data.shape[0]).round(3)"
   ]
  },
  {
   "cell_type": "markdown",
   "metadata": {},
   "source": [
    "Собственно,тут у нас таквя же ситуация - всего 7% пропусков от всех данных и без типа топлива трудно вычислиь стоимость авто, так как этот показатель влияет на нее напрямую. Вывод - удаляем пропуски. "
   ]
  },
  {
   "cell_type": "code",
   "execution_count": 23,
   "metadata": {},
   "outputs": [
    {
     "data": {
      "text/plain": [
       "array(['petrol', 'gasoline', 'lpg', 'other', 'hybrid', 'cng', 'electric'],\n",
       "      dtype=object)"
      ]
     },
     "execution_count": 23,
     "metadata": {},
     "output_type": "execute_result"
    }
   ],
   "source": [
    "# удалим пропуски в типе топлива\n",
    "\n",
    "data.dropna(subset=['fuel_type'], inplace=True)\n",
    "data['fuel_type'].unique()"
   ]
  },
  {
   "cell_type": "code",
   "execution_count": 24,
   "metadata": {},
   "outputs": [
    {
     "data": {
      "text/plain": [
       "array([nan, 'no', 'yes'], dtype=object)"
      ]
     },
     "execution_count": 24,
     "metadata": {},
     "output_type": "execute_result"
    }
   ],
   "source": [
    "# посмотрим на уникальные значения в столбце с ремонтом\n",
    "\n",
    "data['repaired'].unique()"
   ]
  },
  {
   "cell_type": "code",
   "execution_count": 25,
   "metadata": {},
   "outputs": [
    {
     "data": {
      "text/plain": [
       "0.155"
      ]
     },
     "execution_count": 25,
     "metadata": {},
     "output_type": "execute_result"
    }
   ],
   "source": [
    "# посмотрим пропуски в процентном соотношении\n",
    "\n",
    "(data['repaired'].isna().sum() / data.shape[0]).round(3)"
   ]
  },
  {
   "cell_type": "markdown",
   "metadata": {},
   "source": [
    "В данном случае в реальной задаче я бы обратилась к предоставивишм данные для разьяснения, какой именно ремонт имеется ввиду. Ведь одно дело в целом ремонт или после аварии. К тому же важно, что конкретно ремонтировали. Например, бампер не будет так сильно влиять так как это не железная часть, а вот вмятина двери - будет.  \n",
    "  \n",
    "В учебной задаче предлагаю предположить, что имеется ввиду капитальный ремонт после аварии и тогда стоит удалить пропуски, так как это очень сильно влияющий фактор на цену. "
   ]
  },
  {
   "cell_type": "code",
   "execution_count": 26,
   "metadata": {},
   "outputs": [
    {
     "data": {
      "text/plain": [
       "array(['not_specified', 'no', 'yes'], dtype=object)"
      ]
     },
     "execution_count": 26,
     "metadata": {},
     "output_type": "execute_result"
    }
   ],
   "source": [
    "# удалим пропуски \n",
    "\n",
    "#data.dropna(subset=['repaired'], inplace=True)\n",
    "\n",
    "data['repaired'] = data['repaired'].fillna('not_specified')\n",
    "data['repaired'].unique()"
   ]
  },
  {
   "cell_type": "code",
   "execution_count": 27,
   "metadata": {
    "scrolled": true
   },
   "outputs": [
    {
     "data": {
      "text/plain": [
       "price                 0\n",
       "vehicle_type          0\n",
       "registration_year     0\n",
       "gearbox               0\n",
       "power                 0\n",
       "model                 0\n",
       "kilometer             0\n",
       "registration_month    0\n",
       "fuel_type             0\n",
       "brand                 0\n",
       "repaired              0\n",
       "dtype: int64"
      ]
     },
     "execution_count": 27,
     "metadata": {},
     "output_type": "execute_result"
    }
   ],
   "source": [
    "# проверим все ли пропуски мы обработали\n",
    "\n",
    "data.isna().sum()"
   ]
  },
  {
   "cell_type": "markdown",
   "metadata": {},
   "source": [
    "### 2.3 Проверка данных на аномальные значения"
   ]
  },
  {
   "cell_type": "markdown",
   "metadata": {},
   "source": [
    "Теперь посмотрим оставшиеся столбцы на наличие аномалий в данных."
   ]
  },
  {
   "cell_type": "code",
   "execution_count": 28,
   "metadata": {
    "scrolled": true
   },
   "outputs": [
    {
     "data": {
      "text/plain": [
       "array([1993, 2004, 2001, 2008, 1995, 1980, 2014, 2005, 2011, 2007, 2009,\n",
       "       2002, 2018, 1997, 1990, 1981, 2003, 2016, 1984, 2006, 1999, 1998,\n",
       "       2017, 2012, 2010, 2000, 1992, 2013, 1994, 1991, 1996, 1989, 2015,\n",
       "       1985, 1982, 1983, 1973, 1969, 1971, 1987, 1988, 1986, 1965, 1970,\n",
       "       1945, 1974, 1955, 1978, 1976, 1979, 1972, 1977, 1961, 1966, 1975,\n",
       "       1963, 1954, 1967, 1960, 1964, 1910, 1968, 1962, 1937, 1951, 1953,\n",
       "       2019, 1959, 1958, 1956, 2900, 1400, 1950, 1200, 1932, 1952, 3700,\n",
       "       5000, 1942, 1935, 6500, 1957, 1923, 1930, 1943, 1934, 1938, 9000,\n",
       "       1936, 1000, 1919, 1929, 6000, 1928, 1931, 1927, 1933, 1947, 7500,\n",
       "       1600])"
      ]
     },
     "execution_count": 28,
     "metadata": {},
     "output_type": "execute_result"
    }
   ],
   "source": [
    "# проверим год выпуска автомобилей\n",
    "\n",
    "data['registration_year'].unique()"
   ]
  },
  {
   "cell_type": "code",
   "execution_count": 29,
   "metadata": {},
   "outputs": [
    {
     "data": {
      "image/png": "[encoded data removed]",
      "text/plain": [
       "<Figure size 2700x1200 with 1 Axes>"
      ]
     },
     "metadata": {
      "needs_background": "light"
     },
     "output_type": "display_data"
    }
   ],
   "source": [
    "# построим график распределения регистрации по годам\n",
    "\n",
    "plt.figure(figsize=(18, 8), dpi=150); \n",
    "\n",
    "sns.kdeplot(data=data['registration_year'].unique(), fill=True , color = \"Orange\", common_grid=True)\n",
    "\n",
    "plt.title('Аномалии в году выпуска')\n",
    "plt.xlabel('Год')\n",
    "plt.ylabel('Количество')\n",
    "plt.show();"
   ]
  },
  {
   "cell_type": "markdown",
   "metadata": {},
   "source": [
    "У нас есть очевидные аномалии - слишком старые автомобили и выпуска 4000, 6000 и тд годов. Сделаем выборку для нашей задачи только из адекватных годов выпуска. Автомобили старше 30 лет считаются раритетными, то есть цены и спрос на них уже строиться по другим законам. Поэтому возьмем промежуток с 1989 по 2019 год. Так как дальше 2019 у нас только аномалии. "
   ]
  },
  {
   "cell_type": "code",
   "execution_count": 30,
   "metadata": {},
   "outputs": [
    {
     "data": {
      "text/plain": [
       "array([1993, 2004, 2001, 2008, 1995, 2014, 2005, 2011, 2007, 2009, 2002,\n",
       "       1997, 1990, 2003, 2016, 2006, 1999, 1998, 2012, 2010, 2000, 1992,\n",
       "       2013, 1994, 1991, 1996, 1989, 2015])"
      ]
     },
     "execution_count": 30,
     "metadata": {},
     "output_type": "execute_result"
    }
   ],
   "source": [
    "# выделим года с 1989 по 2017\n",
    "\n",
    "data = data.query('registration_year >= 1989 & registration_year < 2017')\n",
    "data['registration_year'].unique()"
   ]
  },
  {
   "cell_type": "code",
   "execution_count": 31,
   "metadata": {},
   "outputs": [
    {
     "name": "stdout",
     "output_type": "stream",
     "text": [
      "[ 0  8  6  7 10 12 11  3  2  1  4  5  9]\n",
      "\n",
      "registration_month\n",
      "0      795\n",
      "1     1193\n",
      "2     1166\n",
      "3     1403\n",
      "4     1357\n",
      "5     1323\n",
      "6     1363\n",
      "7     1290\n",
      "8     1233\n",
      "9     1269\n",
      "10    1287\n",
      "11    1270\n",
      "12    1238\n",
      "Name: price, dtype: int64\n"
     ]
    }
   ],
   "source": [
    "# проверим месяц выпуска автомобилей и количесто авто в эти месяца\n",
    "\n",
    "print(data['registration_month'].unique())\n",
    "print()\n",
    "print(data.groupby('registration_month')['price'].nunique())"
   ]
  },
  {
   "cell_type": "code",
   "execution_count": 32,
   "metadata": {},
   "outputs": [
    {
     "data": {
      "text/html": [
       "<div>\n",
       "<style scoped>\n",
       "    .dataframe tbody tr th:only-of-type {\n",
       "        vertical-align: middle;\n",
       "    }\n",
       "\n",
       "    .dataframe tbody tr th {\n",
       "        vertical-align: top;\n",
       "    }\n",
       "\n",
       "    .dataframe thead th {\n",
       "        text-align: right;\n",
       "    }\n",
       "</style>\n",
       "<table border=\"1\" class=\"dataframe\">\n",
       "  <thead>\n",
       "    <tr style=\"text-align: right;\">\n",
       "      <th></th>\n",
       "      <th>price</th>\n",
       "      <th>vehicle_type</th>\n",
       "      <th>registration_year</th>\n",
       "      <th>gearbox</th>\n",
       "      <th>power</th>\n",
       "      <th>model</th>\n",
       "      <th>kilometer</th>\n",
       "      <th>registration_month</th>\n",
       "      <th>fuel_type</th>\n",
       "      <th>brand</th>\n",
       "      <th>repaired</th>\n",
       "    </tr>\n",
       "  </thead>\n",
       "  <tbody>\n",
       "    <tr>\n",
       "      <th>0</th>\n",
       "      <td>480</td>\n",
       "      <td>not_indicated</td>\n",
       "      <td>1993</td>\n",
       "      <td>manual</td>\n",
       "      <td>0</td>\n",
       "      <td>golf</td>\n",
       "      <td>150000</td>\n",
       "      <td>0</td>\n",
       "      <td>petrol</td>\n",
       "      <td>volkswagen</td>\n",
       "      <td>not_specified</td>\n",
       "    </tr>\n",
       "    <tr>\n",
       "      <th>80</th>\n",
       "      <td>250</td>\n",
       "      <td>wagon</td>\n",
       "      <td>2000</td>\n",
       "      <td>manual</td>\n",
       "      <td>155</td>\n",
       "      <td>156</td>\n",
       "      <td>150000</td>\n",
       "      <td>0</td>\n",
       "      <td>petrol</td>\n",
       "      <td>alfa_romeo</td>\n",
       "      <td>yes</td>\n",
       "    </tr>\n",
       "    <tr>\n",
       "      <th>129</th>\n",
       "      <td>300</td>\n",
       "      <td>small</td>\n",
       "      <td>2000</td>\n",
       "      <td>manual</td>\n",
       "      <td>54</td>\n",
       "      <td>corsa</td>\n",
       "      <td>150000</td>\n",
       "      <td>0</td>\n",
       "      <td>petrol</td>\n",
       "      <td>opel</td>\n",
       "      <td>not_specified</td>\n",
       "    </tr>\n",
       "    <tr>\n",
       "      <th>168</th>\n",
       "      <td>950</td>\n",
       "      <td>sedan</td>\n",
       "      <td>1995</td>\n",
       "      <td>manual</td>\n",
       "      <td>115</td>\n",
       "      <td>5er</td>\n",
       "      <td>150000</td>\n",
       "      <td>0</td>\n",
       "      <td>petrol</td>\n",
       "      <td>bmw</td>\n",
       "      <td>not_specified</td>\n",
       "    </tr>\n",
       "    <tr>\n",
       "      <th>181</th>\n",
       "      <td>3000</td>\n",
       "      <td>not_indicated</td>\n",
       "      <td>2016</td>\n",
       "      <td>auto</td>\n",
       "      <td>75</td>\n",
       "      <td>fabia</td>\n",
       "      <td>150000</td>\n",
       "      <td>0</td>\n",
       "      <td>petrol</td>\n",
       "      <td>skoda</td>\n",
       "      <td>not_specified</td>\n",
       "    </tr>\n",
       "    <tr>\n",
       "      <th>...</th>\n",
       "      <td>...</td>\n",
       "      <td>...</td>\n",
       "      <td>...</td>\n",
       "      <td>...</td>\n",
       "      <td>...</td>\n",
       "      <td>...</td>\n",
       "      <td>...</td>\n",
       "      <td>...</td>\n",
       "      <td>...</td>\n",
       "      <td>...</td>\n",
       "      <td>...</td>\n",
       "    </tr>\n",
       "    <tr>\n",
       "      <th>354204</th>\n",
       "      <td>250</td>\n",
       "      <td>wagon</td>\n",
       "      <td>1993</td>\n",
       "      <td>manual</td>\n",
       "      <td>75</td>\n",
       "      <td>golf</td>\n",
       "      <td>150000</td>\n",
       "      <td>0</td>\n",
       "      <td>petrol</td>\n",
       "      <td>volkswagen</td>\n",
       "      <td>no</td>\n",
       "    </tr>\n",
       "    <tr>\n",
       "      <th>354206</th>\n",
       "      <td>1700</td>\n",
       "      <td>sedan</td>\n",
       "      <td>1997</td>\n",
       "      <td>manual</td>\n",
       "      <td>101</td>\n",
       "      <td>a4</td>\n",
       "      <td>150000</td>\n",
       "      <td>0</td>\n",
       "      <td>petrol</td>\n",
       "      <td>audi</td>\n",
       "      <td>yes</td>\n",
       "    </tr>\n",
       "    <tr>\n",
       "      <th>354270</th>\n",
       "      <td>9000</td>\n",
       "      <td>wagon</td>\n",
       "      <td>2005</td>\n",
       "      <td>manual</td>\n",
       "      <td>0</td>\n",
       "      <td>a6</td>\n",
       "      <td>150000</td>\n",
       "      <td>0</td>\n",
       "      <td>gasoline</td>\n",
       "      <td>audi</td>\n",
       "      <td>not_specified</td>\n",
       "    </tr>\n",
       "    <tr>\n",
       "      <th>354297</th>\n",
       "      <td>400</td>\n",
       "      <td>wagon</td>\n",
       "      <td>1996</td>\n",
       "      <td>manual</td>\n",
       "      <td>150</td>\n",
       "      <td>a4</td>\n",
       "      <td>150000</td>\n",
       "      <td>0</td>\n",
       "      <td>petrol</td>\n",
       "      <td>audi</td>\n",
       "      <td>not_specified</td>\n",
       "    </tr>\n",
       "    <tr>\n",
       "      <th>354318</th>\n",
       "      <td>400</td>\n",
       "      <td>wagon</td>\n",
       "      <td>1991</td>\n",
       "      <td>manual</td>\n",
       "      <td>0</td>\n",
       "      <td>legacy</td>\n",
       "      <td>150000</td>\n",
       "      <td>0</td>\n",
       "      <td>petrol</td>\n",
       "      <td>subaru</td>\n",
       "      <td>not_specified</td>\n",
       "    </tr>\n",
       "  </tbody>\n",
       "</table>\n",
       "<p>15229 rows × 11 columns</p>\n",
       "</div>"
      ],
      "text/plain": [
       "        price   vehicle_type  registration_year gearbox  power   model  \\\n",
       "0         480  not_indicated               1993  manual      0    golf   \n",
       "80        250          wagon               2000  manual    155     156   \n",
       "129       300          small               2000  manual     54   corsa   \n",
       "168       950          sedan               1995  manual    115     5er   \n",
       "181      3000  not_indicated               2016    auto     75   fabia   \n",
       "...       ...            ...                ...     ...    ...     ...   \n",
       "354204    250          wagon               1993  manual     75    golf   \n",
       "354206   1700          sedan               1997  manual    101      a4   \n",
       "354270   9000          wagon               2005  manual      0      a6   \n",
       "354297    400          wagon               1996  manual    150      a4   \n",
       "354318    400          wagon               1991  manual      0  legacy   \n",
       "\n",
       "        kilometer  registration_month fuel_type       brand       repaired  \n",
       "0          150000                   0    petrol  volkswagen  not_specified  \n",
       "80         150000                   0    petrol  alfa_romeo            yes  \n",
       "129        150000                   0    petrol        opel  not_specified  \n",
       "168        150000                   0    petrol         bmw  not_specified  \n",
       "181        150000                   0    petrol       skoda  not_specified  \n",
       "...           ...                 ...       ...         ...            ...  \n",
       "354204     150000                   0    petrol  volkswagen             no  \n",
       "354206     150000                   0    petrol        audi            yes  \n",
       "354270     150000                   0  gasoline        audi  not_specified  \n",
       "354297     150000                   0    petrol        audi  not_specified  \n",
       "354318     150000                   0    petrol      subaru  not_specified  \n",
       "\n",
       "[15229 rows x 11 columns]"
      ]
     },
     "execution_count": 32,
     "metadata": {},
     "output_type": "execute_result"
    }
   ],
   "source": [
    "# выведем нулевой месяц и посомтрим на другие данные\n",
    "\n",
    "data[data['registration_month'] == 0]"
   ]
  },
  {
   "cell_type": "markdown",
   "metadata": {},
   "source": [
    "Для нулевых месяцев указан год выпуска, этого вполне достаточно для наших целей. Оставляем все как есть."
   ]
  },
  {
   "cell_type": "code",
   "execution_count": 33,
   "metadata": {},
   "outputs": [
    {
     "data": {
      "text/plain": [
       "array(['volkswagen', 'jeep', 'skoda', 'bmw', 'peugeot', 'ford', 'mazda',\n",
       "       'nissan', 'renault', 'mercedes_benz', 'seat', 'honda', 'fiat',\n",
       "       'mini', 'smart', 'opel', 'audi', 'alfa_romeo', 'subaru', 'volvo',\n",
       "       'mitsubishi', 'kia', 'hyundai', 'lancia', 'citroen', 'toyota',\n",
       "       'chevrolet', 'dacia', 'suzuki', 'daihatsu', 'chrysler', 'jaguar',\n",
       "       'daewoo', 'rover', 'porsche', 'saab', 'land_rover', 'trabant',\n",
       "       'lada'], dtype=object)"
      ]
     },
     "execution_count": 33,
     "metadata": {},
     "output_type": "execute_result"
    }
   ],
   "source": [
    "# проверим мощность на аномалии\n",
    "\n",
    "data['brand'].unique()"
   ]
  },
  {
   "cell_type": "code",
   "execution_count": 34,
   "metadata": {
    "scrolled": false
   },
   "outputs": [
    {
     "data": {
      "text/plain": [
       "array(['golf', 'grand', 'fabia', '3er', '2_reihe', 'c_max', '3_reihe',\n",
       "       'passat', 'navara', 'twingo', 'a_klasse', 'scirocco', '5er',\n",
       "       'arosa', 'other', 'civic', 'punto', 'e_klasse', 'clio', 'one',\n",
       "       'fortwo', '1er', 'b_klasse', 'astra', 'a8', 'jetta', 'polo',\n",
       "       'fiesta', 'c_klasse', 'micra', 'vito', 'sprinter', '156', 'escort',\n",
       "       'forester', 'xc_reihe', 'scenic', 'a4', 'a1', 'combo', 'focus',\n",
       "       'tt', 'a6', 'jazz', 'transporter', 'slk', '7er', 'corsa', '80',\n",
       "       '147', 'meriva', 'z_reihe', 'sorento', 'v40', 'ibiza', 'mustang',\n",
       "       'eos', 'touran', 'getz', 'insignia', 'ka', 'almera', 'megane',\n",
       "       'a3', 'lupo', 'r19', 'mondeo', 'colt', 'vectra', 'berlingo',\n",
       "       'tiguan', 'sharan', '6_reihe', 'c4', 'panda', 'up', 'i_reihe',\n",
       "       'ceed', 'kangoo', '5_reihe', 'yeti', 'octavia', 'zafira', 'mii',\n",
       "       'rx_reihe', 'modus', 'fox', 'matiz', 'beetle', 'rio', 'touareg',\n",
       "       'logan', 'caddy', 'omega', 'cuore', 's_max', 'a2', 'galaxy', 'c3',\n",
       "       'viano', 's_klasse', '1_reihe', 'avensis', 'roomster', 'santa',\n",
       "       'cooper', 'leon', 'a5', 'sportage', 'ptcruiser', 'clk', 'primera',\n",
       "       '4_reihe', 'espace', 'x_reihe', 'exeo', 'transit', 'juke',\n",
       "       'qashqai', 'carisma', 'accord', 'corolla', 'lanos', 'phaeton',\n",
       "       'cordoba', 'verso', 'swift', 'rav', '159', 'picanto', 'boxster',\n",
       "       'stilo', 'alhambra', 'laguna', 'roadster', 'ypsilon', 'galant',\n",
       "       'justy', '90', 'sirion', 'signum', 'crossfire', 'agila', 'duster',\n",
       "       'v50', 'mx_reihe', 'c_reihe', 'v_klasse', 'm_klasse', 'yaris',\n",
       "       'c5', 'aygo', 'seicento', 'cc', '911', 'bora', 'forfour',\n",
       "       'm_reihe', '100', 'cl', 'tigra', '300c', '500', 'cr_reihe',\n",
       "       'spark', 'kuga', 'impreza', 'x_type', 'ducato', 's_type',\n",
       "       'x_trail', 'toledo', 'altea', 'voyager', 'carnival', 'v70',\n",
       "       'bravo', 'antara', 'c1', 'citigo', 'jimny', 'cayenne', 'wrangler',\n",
       "       'lybra', 'q7', 'lancer', 'kadett', 'captiva', 'fusion', 'sl',\n",
       "       'discovery', 'sandero', 'note', 'spider', 'cherokee', 'clubman',\n",
       "       'samara', 'cx_reihe', 'legacy', 'pajero', 'auris', 'c2', 'niva',\n",
       "       's60', '900', 'nubira', 'vivaro', 'tucson', 'g_klasse',\n",
       "       'freelander', 'lodgy', '850', 'range_rover', 'superb', 'q3',\n",
       "       'calibra', 'glk', 'charade', 'croma', 'outlander', 'kaefer',\n",
       "       'doblo', 'musa', 'move', '601', '9000', 'kalos', 'v60', '145',\n",
       "       '6er', 'defender', 'b_max', 'range_rover_sport', 'aveo', 'terios',\n",
       "       'rangerover', 'q5', 'range_rover_evoque', 'materia', 'gl',\n",
       "       'kalina', 'elefantino', '200', 'delta', 'i3', 'amarok', 'kappa'],\n",
       "      dtype=object)"
      ]
     },
     "execution_count": 34,
     "metadata": {},
     "output_type": "execute_result"
    }
   ],
   "source": [
    "# проверим мощность на аномалии\n",
    "\n",
    "data['model'].unique()"
   ]
  },
  {
   "cell_type": "markdown",
   "metadata": {},
   "source": [
    "С маркой и моделями все в порядке. Опираясь на них можно сделать вывод об аномалиях в мощностях."
   ]
  },
  {
   "cell_type": "code",
   "execution_count": 35,
   "metadata": {
    "scrolled": false
   },
   "outputs": [
    {
     "data": {
      "text/plain": [
       "array([    0,   163,    75,    69,   102,   109,   125,   105,   140,\n",
       "         115,   190,   136,   160,   231,    50,   118,   193,    99,\n",
       "          60,   113,   218,   122,   129,    95,    61,   177,   170,\n",
       "         143,   101,   232,   156,    80,    82,    90,   155,   150,\n",
       "         185,    87,    86,   131,   224,   235,   200,   178,   265,\n",
       "          77,   110,   120,    54,   286,   116,   184,   204,    88,\n",
       "         194,    64,   305,   197,   179,   250,   313,    45,    98,\n",
       "         130,   114,   211,    56,   201,   213,   107,   174,   100,\n",
       "         220,    73,    41,   192,    66,    74,    58,    52,   147,\n",
       "          71,    97,    65,   239,    68,   203,   144,   300,   103,\n",
       "          85,   258,   320,    63,    81,   148,    83,    70,   145,\n",
       "          55,   180,   280,   260,   104,   306,   188,   333,   117,\n",
       "         141,   132,   165,   234,   158,    39,    92,    51,   135,\n",
       "          59,   230,    53,    84,   209,    43,   146,    67,   106,\n",
       "         276,   344,   237,   245,   111,   299,   326,   279,   138,\n",
       "         175,   226,   126,   301,   166,   334,   128,   133,   124,\n",
       "          33,   219,   241,   167,   182,   196,   238,  1398,   228,\n",
       "          48,    96,   272,   139,   240,    79,   256,   243,   252,\n",
       "          72,   340,   121,    44,   289,   222,   198,   284,   450,\n",
       "         233,   387,   347,   172,   137,    94,   212,   476,   314,\n",
       "         173,   290,   207,   205,    78,    91,    89,   349,   186,\n",
       "         108,    76,   953,   171,    93,   142,   199,   112,   310,\n",
       "         152,    57,   367,   208,   210,    46,   435,  1001,   225,\n",
       "         127,   176,   161,    40,   603,   307,   354,    35,   206,\n",
       "         771,   355,   273,   223,   255,   151,   123,   154,   149,\n",
       "        7515,   268,   620,   400,   275,    26,     2,   242,  1779,\n",
       "         162,  1753,   329,   285,   420,   247,   164,   168, 10317,\n",
       "          47,   215,   360,   330,   500,    62,   325,    37,   214,\n",
       "         183,   254,   134,    15,   321,   315,   952,   169,   328,\n",
       "          18,   119,   426,   379,   264,    22,   157,    42,   195,\n",
       "         343,   309,   507,   381,   271,   440,   401,   189,  2729,\n",
       "         181,   249,  1240,   521,     1,  1900,   292,   303,    38,\n",
       "        1993,    14,   216,   504,   267,   331,   261,   270,   253,\n",
       "         696, 10520,   376,   227,   311,   217,   350,  1999,    11,\n",
       "          34,   394,    12,   298,   296,    49,   515,     4,   294,\n",
       "         187,   246,     5,    17,  1625,   368,   363,   221,  1367,\n",
       "         259,    24,  1597,   266,   374,     9,    25,   405,     8,\n",
       "         411,   900,   600,     7,   159, 10218,  7544,   287,    19,\n",
       "         457,   236,   282,   385,   388,   335,  1360,  3750,  1062,\n",
       "          10,  1024, 11530,  1796,   460,  1780, 12012, 17932,   316,\n",
       "        2005,  1800,  1399,   191,   278,   396,   380,   257,   449,\n",
       "         295,   153,    27,  1653,   520,   560,   202,   281,  1500,\n",
       "         386,    32,  1202,  2016,   430,  1436,  1405,   671,   274,\n",
       "        1288,  1055, 15016,  6226,  1115,   277,  1105,   341,  1223,\n",
       "         392,  8404,  1968,   338,   445,  1920,   517,  4400, 10522,\n",
       "           6,   431,  1164,   371,  1501,   269,   428, 11635,   304,\n",
       "         390,   348,  1703,   370,  1910,   579,   580,   408,    31,\n",
       "        1403,   489,  5575,   262, 19211,   585,   960,   353,   490,\n",
       "         283,   352,  1000,   550,  3199,  1312,    20,   950,  4700,\n",
       "        1600,  3454,   251,   850,   337,   700,  8011,  2331,  2789,\n",
       "         487,    36,   519,  2461,    29,  6006,  5815,  1781,   612,\n",
       "         288,  1506,  5809, 15020,  1300,  5867,  1598, 17410,  1363,\n",
       "         584,   322,    23,  1054,   382,   318,   510,   525,  1700,\n",
       "        1151,   685,   317,    30,   703,  1771, 15001,   514,   332,\n",
       "        6045,   308,  6010,   475,   903,   640,  2000,   362,   248,\n",
       "         651,  2799, 17011,   505,   606,  1521,   601,   398,   599,\n",
       "        1998, 10311,   409,  1230, 17019,  8259,  1895,   871,   324,\n",
       "        1595,   776,  1400, 17700, 11011,   351,  1199,   357,  1162,\n",
       "         327, 15033,  1896,   339,  6512,   454,   604,   999, 16312,\n",
       "         336, 20000,   416,  1021,  1870,  1401, 13636,  9710,   323,\n",
       "        1158,  2009,  6062,  1275,   572,   399,  1016,  1221,   345,\n",
       "        2402,  1362,   544,   907,   702,  1995,  1003,  1432,  9013,\n",
       "       15017,   540,  2018, 11025,  1433,  1701,  2792,  1502,  1239,\n",
       "        1390,  1160,  1783,   229,  9007,  1149,   754,  2017,  5420,\n",
       "         365,   356,   364, 12512,    16,  7511,  1011,  1299,  1079,\n",
       "         998,    13,  1100,   346,  1933,   508, 16311,   551,  7529,\n",
       "        2200,  1707,  1416,  8500,  1012,   293,   485,  1503, 10110,\n",
       "         421,  4507,  1631,  7518,  1250,   377,  1004,  1799,  9012,\n",
       "        2007,  1548,  1241,   650,     3])"
      ]
     },
     "execution_count": 35,
     "metadata": {},
     "output_type": "execute_result"
    }
   ],
   "source": [
    "# проверим мощность на аномалии\n",
    "\n",
    "data['power'].unique()"
   ]
  },
  {
   "cell_type": "code",
   "execution_count": 36,
   "metadata": {},
   "outputs": [
    {
     "data": {
      "image/png": "[encoded data removed]",
      "text/plain": [
       "<Figure size 2700x1200 with 1 Axes>"
      ]
     },
     "metadata": {
      "needs_background": "light"
     },
     "output_type": "display_data"
    }
   ],
   "source": [
    "# построим график мощностей\n",
    "\n",
    "plt.figure(figsize=(18, 8), dpi=150); \n",
    "\n",
    "sns.kdeplot(data=data['power'].unique(), fill=True , color = \"Orange\", common_grid=True)\n",
    "\n",
    "plt.title('Аномалии в году выпуска')\n",
    "plt.xlabel('Год')\n",
    "plt.ylabel('Количество')\n",
    "plt.show();"
   ]
  },
  {
   "cell_type": "code",
   "execution_count": 37,
   "metadata": {},
   "outputs": [
    {
     "data": {
      "image/png": "[encoded data removed]",
      "text/plain": [
       "<Figure size 3000x1050 with 1 Axes>"
      ]
     },
     "metadata": {
      "needs_background": "light"
     },
     "output_type": "display_data"
    }
   ],
   "source": [
    "# построим график ящик с усами для мощностей\n",
    "\n",
    "plt.figure(figsize=(20, 7), dpi=150); \n",
    "\n",
    "sns.boxplot(data['power'], color = \"Orange\")\n",
    "\n",
    "plt.title('Аномалии в цене')\n",
    "plt.show()"
   ]
  },
  {
   "cell_type": "markdown",
   "metadata": {},
   "source": [
    "Итак, мы видим аномалии. Среди марок у нас нет автомобилей типа ламборджини или буггати, значит лошадиных сил у нашей подборки будет стандартное количество. Из поиска в интернете я нашла, что 27 лет назад можно было купить автомобиль чуть меньше 50 л.с. И что свыше 1100 л.с. уже идут автомобили серийного производства. Идеально было бы прокнсулироваться с коллегой, предоставившим данные, но в учебных целях доверимся интернету. Исходя из этого наш интервал от 50 л.с. до 1100 л.с. "
   ]
  },
  {
   "cell_type": "code",
   "execution_count": 38,
   "metadata": {
    "scrolled": false
   },
   "outputs": [
    {
     "data": {
      "text/plain": [
       "array([ 163,   75,   69,  102,  109,  125,  105,  140,  115,  190,  136,\n",
       "        160,  231,   50,  118,  193,   99,   60,  113,  218,  122,  129,\n",
       "         95,   61,  177,  170,  143,  101,  232,  156,   80,   82,   90,\n",
       "        155,  150,  185,   87,   86,  131,  224,  235,  200,  178,  265,\n",
       "         77,  110,  120,   54,  286,  116,  184,  204,   88,  194,   64,\n",
       "        305,  197,  179,  250,  313,   98,  130,  114,  211,   56,  201,\n",
       "        213,  107,  174,  100,  220,   73,  192,   66,   74,   58,   52,\n",
       "        147,   71,   97,   65,  239,   68,  203,  144,  300,  103,   85,\n",
       "        258,  320,   63,   81,  148,   83,   70,  145,   55,  180,  280,\n",
       "        260,  104,  306,  188,  333,  117,  141,  132,  165,  234,  158,\n",
       "         92,   51,  135,   59,  230,   53,   84,  209,  146,   67,  106,\n",
       "        276,  344,  237,  245,  111,  299,  326,  279,  138,  175,  226,\n",
       "        126,  301,  166,  334,  128,  133,  124,  219,  241,  167,  182,\n",
       "        196,  238,  228,   96,  272,  139,  240,   79,  256,  243,  252,\n",
       "         72,  340,  121,  289,  222,  198,  284,  450,  233,  387,  347,\n",
       "        172,  137,   94,  212,  476,  314,  173,  290,  207,  205,   78,\n",
       "         91,   89,  349,  186,  108,   76,  953,  171,   93,  142,  199,\n",
       "        112,  310,  152,   57,  367,  208,  210,  435, 1001,  225,  127,\n",
       "        176,  161,  603,  307,  354,  206,  771,  355,  273,  223,  255,\n",
       "        151,  123,  154,  149,  268,  620,  400,  275,  242,  162,  329,\n",
       "        285,  420,  247,  164,  168,  215,  360,  330,  500,   62,  325,\n",
       "        214,  183,  254,  134,  321,  315,  952,  169,  328,  119,  426,\n",
       "        379,  264,  157,  195,  343,  309,  507,  381,  271,  440,  401,\n",
       "        189,  181,  249,  521,  292,  303,  216,  504,  267,  331,  261,\n",
       "        270,  253,  696,  376,  227,  311,  217,  350,  394,  298,  296,\n",
       "        515,  294,  187,  246,  368,  363,  221,  259,  266,  374,  405,\n",
       "        411,  900,  600,  159,  287,  457,  236,  282,  385,  388,  335,\n",
       "       1062, 1024,  460,  316,  191,  278,  396,  380,  257,  449,  295,\n",
       "        153,  520,  560,  202,  281,  386,  430,  671,  274, 1055,  277,\n",
       "        341,  392,  338,  445,  517,  431,  371,  269,  428,  304,  390,\n",
       "        348,  370,  579,  580,  408,  489,  262,  585,  960,  353,  490,\n",
       "        283,  352, 1000,  550,  950,  251,  850,  337,  700,  487,  519,\n",
       "        612,  288,  584,  322, 1054,  382,  318,  510,  525,  685,  317,\n",
       "        703,  514,  332,  308,  475,  903,  640,  362,  248,  651,  505,\n",
       "        606,  601,  398,  599,  409,  871,  324,  776,  351,  357,  327,\n",
       "        339,  454,  604,  999,  336,  416, 1021,  323,  572,  399, 1016,\n",
       "        345,  544,  907,  702, 1003,  540,  229,  754,  365,  356,  364,\n",
       "       1011, 1079,  998,  346,  508,  551, 1012,  293,  485,  421,  377,\n",
       "       1004,  650])"
      ]
     },
     "execution_count": 38,
     "metadata": {},
     "output_type": "execute_result"
    }
   ],
   "source": [
    "# выделим л.с. от 50 до 1100\n",
    "\n",
    "data = data.query('power >= 50 & power < 1100')\n",
    "data['power'].unique()"
   ]
  },
  {
   "cell_type": "code",
   "execution_count": 39,
   "metadata": {},
   "outputs": [
    {
     "data": {
      "text/plain": [
       "array([125000, 150000,  90000,  30000,  70000, 100000,  60000,  20000,\n",
       "        80000,  50000,  40000,   5000,  10000])"
      ]
     },
     "execution_count": 39,
     "metadata": {},
     "output_type": "execute_result"
    }
   ],
   "source": [
    "# проверим пробег на аномалии\n",
    "\n",
    "data['kilometer'].unique()"
   ]
  },
  {
   "cell_type": "markdown",
   "metadata": {},
   "source": [
    "Конечно, пробег в 5-20-30000 вызывает вопросы, но это может быть автомобиль, который в основном стоит в гараже. Оставим эти данные."
   ]
  },
  {
   "cell_type": "code",
   "execution_count": 40,
   "metadata": {},
   "outputs": [
    {
     "name": "stdout",
     "output_type": "stream",
     "text": [
      "[ 9800  1500  3600 ... 12395 18429 10985]\n",
      "\n",
      "8188        1\n",
      "3440        1\n",
      "5775        1\n",
      "9333        1\n",
      "11380       1\n",
      "         ... \n",
      "1200     2896\n",
      "2500     2909\n",
      "500      3298\n",
      "1500     3440\n",
      "0        3727\n",
      "Name: price, Length: 3464, dtype: int64\n"
     ]
    }
   ],
   "source": [
    "# проверим цены на аномалии\n",
    "\n",
    "print(data['price'].unique())\n",
    "print()\n",
    "print(data['price'].value_counts().sort_values())"
   ]
  },
  {
   "cell_type": "code",
   "execution_count": 41,
   "metadata": {},
   "outputs": [
    {
     "data": {
      "image/png": "[encoded data removed]",
      "text/plain": [
       "<Figure size 2700x1200 with 1 Axes>"
      ]
     },
     "metadata": {
      "needs_background": "light"
     },
     "output_type": "display_data"
    }
   ],
   "source": [
    "# построим график цен\n",
    "\n",
    "plt.figure(figsize=(18, 8), dpi=150); \n",
    "\n",
    "sns.kdeplot(data=data['price'].unique(), fill=True , color = \"Orange\", common_grid=True)\n",
    "\n",
    "plt.title('Аномалии в году выпуска')\n",
    "plt.xlabel('Год')\n",
    "plt.ylabel('Количество')\n",
    "plt.show();"
   ]
  },
  {
   "cell_type": "code",
   "execution_count": 42,
   "metadata": {},
   "outputs": [
    {
     "data": {
      "image/png": "[encoded data removed]",
      "text/plain": [
       "<Figure size 3000x1050 with 1 Axes>"
      ]
     },
     "metadata": {
      "needs_background": "light"
     },
     "output_type": "display_data"
    }
   ],
   "source": [
    "# посмотрим аномалии в цене на графике ящик с усами\n",
    "\n",
    "plt.figure(figsize=(20, 7), dpi=150); \n",
    "\n",
    "sns.boxplot(data['price'], color = \"Orange\")\n",
    "\n",
    "plt.title('Аномалии в цене')\n",
    "plt.show()"
   ]
  },
  {
   "cell_type": "markdown",
   "metadata": {},
   "source": [
    "У нас есть цены 0 и ниже него, а это не возможно. И дальше мы видим выбросы около 20000 евро. В принципе даже на сегодняшний день 20000 евро это 1 600 000 с чем-то, что вполне может быть правдой для наших данных. Но мы все же видим выбромы на графике с учами. Поэтому оставим данные от 1000 до 15000 евро"
   ]
  },
  {
   "cell_type": "code",
   "execution_count": 43,
   "metadata": {},
   "outputs": [],
   "source": [
    "# выделим цены от 1000 до 18000\n",
    "\n",
    "data = data.query('price >= 1000 & price < 15000')"
   ]
  },
  {
   "cell_type": "markdown",
   "metadata": {},
   "source": [
    "Мы проверили все столбцы на пропуски и аномалии и обработали их. Посмотрим теперь, что у нас отсалость в данных."
   ]
  },
  {
   "cell_type": "code",
   "execution_count": 44,
   "metadata": {},
   "outputs": [
    {
     "data": {
      "text/html": [
       "<div>\n",
       "<style scoped>\n",
       "    .dataframe tbody tr th:only-of-type {\n",
       "        vertical-align: middle;\n",
       "    }\n",
       "\n",
       "    .dataframe tbody tr th {\n",
       "        vertical-align: top;\n",
       "    }\n",
       "\n",
       "    .dataframe thead th {\n",
       "        text-align: right;\n",
       "    }\n",
       "</style>\n",
       "<table border=\"1\" class=\"dataframe\">\n",
       "  <thead>\n",
       "    <tr style=\"text-align: right;\">\n",
       "      <th></th>\n",
       "      <th>price</th>\n",
       "      <th>vehicle_type</th>\n",
       "      <th>registration_year</th>\n",
       "      <th>gearbox</th>\n",
       "      <th>power</th>\n",
       "      <th>model</th>\n",
       "      <th>kilometer</th>\n",
       "      <th>registration_month</th>\n",
       "      <th>fuel_type</th>\n",
       "      <th>brand</th>\n",
       "      <th>repaired</th>\n",
       "    </tr>\n",
       "  </thead>\n",
       "  <tbody>\n",
       "    <tr>\n",
       "      <th>2</th>\n",
       "      <td>9800</td>\n",
       "      <td>suv</td>\n",
       "      <td>2004</td>\n",
       "      <td>auto</td>\n",
       "      <td>163</td>\n",
       "      <td>grand</td>\n",
       "      <td>125000</td>\n",
       "      <td>8</td>\n",
       "      <td>gasoline</td>\n",
       "      <td>jeep</td>\n",
       "      <td>not_specified</td>\n",
       "    </tr>\n",
       "    <tr>\n",
       "      <th>3</th>\n",
       "      <td>1500</td>\n",
       "      <td>small</td>\n",
       "      <td>2001</td>\n",
       "      <td>manual</td>\n",
       "      <td>75</td>\n",
       "      <td>golf</td>\n",
       "      <td>150000</td>\n",
       "      <td>6</td>\n",
       "      <td>petrol</td>\n",
       "      <td>volkswagen</td>\n",
       "      <td>no</td>\n",
       "    </tr>\n",
       "    <tr>\n",
       "      <th>4</th>\n",
       "      <td>3600</td>\n",
       "      <td>small</td>\n",
       "      <td>2008</td>\n",
       "      <td>manual</td>\n",
       "      <td>69</td>\n",
       "      <td>fabia</td>\n",
       "      <td>90000</td>\n",
       "      <td>7</td>\n",
       "      <td>gasoline</td>\n",
       "      <td>skoda</td>\n",
       "      <td>no</td>\n",
       "    </tr>\n",
       "    <tr>\n",
       "      <th>6</th>\n",
       "      <td>2200</td>\n",
       "      <td>convertible</td>\n",
       "      <td>2004</td>\n",
       "      <td>manual</td>\n",
       "      <td>109</td>\n",
       "      <td>2_reihe</td>\n",
       "      <td>150000</td>\n",
       "      <td>8</td>\n",
       "      <td>petrol</td>\n",
       "      <td>peugeot</td>\n",
       "      <td>no</td>\n",
       "    </tr>\n",
       "    <tr>\n",
       "      <th>8</th>\n",
       "      <td>14500</td>\n",
       "      <td>bus</td>\n",
       "      <td>2014</td>\n",
       "      <td>manual</td>\n",
       "      <td>125</td>\n",
       "      <td>c_max</td>\n",
       "      <td>30000</td>\n",
       "      <td>8</td>\n",
       "      <td>petrol</td>\n",
       "      <td>ford</td>\n",
       "      <td>not_specified</td>\n",
       "    </tr>\n",
       "    <tr>\n",
       "      <th>10</th>\n",
       "      <td>2000</td>\n",
       "      <td>sedan</td>\n",
       "      <td>2004</td>\n",
       "      <td>manual</td>\n",
       "      <td>105</td>\n",
       "      <td>3_reihe</td>\n",
       "      <td>150000</td>\n",
       "      <td>12</td>\n",
       "      <td>petrol</td>\n",
       "      <td>mazda</td>\n",
       "      <td>no</td>\n",
       "    </tr>\n",
       "    <tr>\n",
       "      <th>11</th>\n",
       "      <td>2799</td>\n",
       "      <td>wagon</td>\n",
       "      <td>2005</td>\n",
       "      <td>manual</td>\n",
       "      <td>140</td>\n",
       "      <td>passat</td>\n",
       "      <td>150000</td>\n",
       "      <td>12</td>\n",
       "      <td>gasoline</td>\n",
       "      <td>volkswagen</td>\n",
       "      <td>yes</td>\n",
       "    </tr>\n",
       "    <tr>\n",
       "      <th>17</th>\n",
       "      <td>1750</td>\n",
       "      <td>small</td>\n",
       "      <td>2004</td>\n",
       "      <td>auto</td>\n",
       "      <td>75</td>\n",
       "      <td>twingo</td>\n",
       "      <td>150000</td>\n",
       "      <td>2</td>\n",
       "      <td>petrol</td>\n",
       "      <td>renault</td>\n",
       "      <td>no</td>\n",
       "    </tr>\n",
       "    <tr>\n",
       "      <th>18</th>\n",
       "      <td>7550</td>\n",
       "      <td>bus</td>\n",
       "      <td>2007</td>\n",
       "      <td>manual</td>\n",
       "      <td>136</td>\n",
       "      <td>c_max</td>\n",
       "      <td>150000</td>\n",
       "      <td>6</td>\n",
       "      <td>gasoline</td>\n",
       "      <td>ford</td>\n",
       "      <td>no</td>\n",
       "    </tr>\n",
       "    <tr>\n",
       "      <th>19</th>\n",
       "      <td>1850</td>\n",
       "      <td>bus</td>\n",
       "      <td>2004</td>\n",
       "      <td>manual</td>\n",
       "      <td>102</td>\n",
       "      <td>a_klasse</td>\n",
       "      <td>150000</td>\n",
       "      <td>1</td>\n",
       "      <td>petrol</td>\n",
       "      <td>mercedes_benz</td>\n",
       "      <td>no</td>\n",
       "    </tr>\n",
       "  </tbody>\n",
       "</table>\n",
       "</div>"
      ],
      "text/plain": [
       "    price vehicle_type  registration_year gearbox  power     model  kilometer  \\\n",
       "2    9800          suv               2004    auto    163     grand     125000   \n",
       "3    1500        small               2001  manual     75      golf     150000   \n",
       "4    3600        small               2008  manual     69     fabia      90000   \n",
       "6    2200  convertible               2004  manual    109   2_reihe     150000   \n",
       "8   14500          bus               2014  manual    125     c_max      30000   \n",
       "10   2000        sedan               2004  manual    105   3_reihe     150000   \n",
       "11   2799        wagon               2005  manual    140    passat     150000   \n",
       "17   1750        small               2004    auto     75    twingo     150000   \n",
       "18   7550          bus               2007  manual    136     c_max     150000   \n",
       "19   1850          bus               2004  manual    102  a_klasse     150000   \n",
       "\n",
       "    registration_month fuel_type          brand       repaired  \n",
       "2                    8  gasoline           jeep  not_specified  \n",
       "3                    6    petrol     volkswagen             no  \n",
       "4                    7  gasoline          skoda             no  \n",
       "6                    8    petrol        peugeot             no  \n",
       "8                    8    petrol           ford  not_specified  \n",
       "10                  12    petrol          mazda             no  \n",
       "11                  12  gasoline     volkswagen            yes  \n",
       "17                   2    petrol        renault             no  \n",
       "18                   6  gasoline           ford             no  \n",
       "19                   1    petrol  mercedes_benz             no  "
      ]
     },
     "execution_count": 44,
     "metadata": {},
     "output_type": "execute_result"
    }
   ],
   "source": [
    "# выведем 10 первых строк\n",
    "\n",
    "data.head(10)"
   ]
  },
  {
   "cell_type": "code",
   "execution_count": 45,
   "metadata": {
    "scrolled": true
   },
   "outputs": [
    {
     "name": "stdout",
     "output_type": "stream",
     "text": [
      "<class 'pandas.core.frame.DataFrame'>\n",
      "Int64Index: 186368 entries, 2 to 354368\n",
      "Data columns (total 11 columns):\n",
      " #   Column              Non-Null Count   Dtype \n",
      "---  ------              --------------   ----- \n",
      " 0   price               186368 non-null  int64 \n",
      " 1   vehicle_type        186368 non-null  object\n",
      " 2   registration_year   186368 non-null  int64 \n",
      " 3   gearbox             186368 non-null  object\n",
      " 4   power               186368 non-null  int64 \n",
      " 5   model               186368 non-null  object\n",
      " 6   kilometer           186368 non-null  int64 \n",
      " 7   registration_month  186368 non-null  int64 \n",
      " 8   fuel_type           186368 non-null  object\n",
      " 9   brand               186368 non-null  object\n",
      " 10  repaired            186368 non-null  object\n",
      "dtypes: int64(5), object(6)\n",
      "memory usage: 17.1+ MB\n"
     ]
    }
   ],
   "source": [
    "# выведем информацию о данных\n",
    "\n",
    "data.info()"
   ]
  },
  {
   "cell_type": "markdown",
   "metadata": {},
   "source": [
    "### 2.4 Вывод по изучению данных   "
   ]
  },
  {
   "cell_type": "markdown",
   "metadata": {},
   "source": [
    "Мы загрузили и изучили данные. На этом этапе:  \n",
    "  \n",
    "- удалены неинформативные признаки: дата скачивания анкеты, дата создания анкеты, количество фотографий автомобиля, почтовый индекс, дата последней активности пользователя\n",
    "- наименования столбцов приведены к змеиному регистру\n",
    "- обработаны пропуски в данных\n",
    "- изучены и обработаны аномалии в данных  \n",
    "   \n",
    "В итоге мы получили датафрейм из 11 столбцов и 166318 строк. "
   ]
  },
  {
   "cell_type": "markdown",
   "metadata": {},
   "source": [
    "## 3 Подготовка данных для обучения моделей"
   ]
  },
  {
   "cell_type": "markdown",
   "metadata": {},
   "source": [
    "На этом этапе мы подготовим данные для дальнейшей работы с моделями. Поскольку тестировать мы будем линейную модель, дерево и градиентный бустинг, то данные нужно подготовить для каждой из них."
   ]
  },
  {
   "cell_type": "markdown",
   "metadata": {},
   "source": [
    "### 3.1 Признаки и выборки "
   ]
  },
  {
   "cell_type": "code",
   "execution_count": 46,
   "metadata": {},
   "outputs": [],
   "source": [
    "# выделим признаки и целевой признак\n",
    "\n",
    "features = data.drop(['price'], axis=1)\n",
    "target = data['price']"
   ]
  },
  {
   "cell_type": "code",
   "execution_count": 47,
   "metadata": {},
   "outputs": [],
   "source": [
    "# разобьем на обучающую и тестовую выборки\n",
    "\n",
    "features_train, features_test, target_train, target_test = train_test_split(features,\n",
    "                                                                            target,\n",
    "                                                                            test_size=.25,\n",
    "                                                                            random_state=12345)"
   ]
  },
  {
   "cell_type": "code",
   "execution_count": 48,
   "metadata": {},
   "outputs": [
    {
     "name": "stdout",
     "output_type": "stream",
     "text": [
      "(139776, 10)\n",
      "(46592, 10)\n",
      "(139776,)\n",
      "(46592,)\n"
     ]
    }
   ],
   "source": [
    "# проверим размеры выборок\n",
    "\n",
    "for data in [features_train, features_test, target_train, target_test]:\n",
    "    print(data.shape)"
   ]
  },
  {
   "cell_type": "markdown",
   "metadata": {},
   "source": [
    "### 3.2 OHE кодирование для линейной модели"
   ]
  },
  {
   "cell_type": "code",
   "execution_count": 49,
   "metadata": {},
   "outputs": [],
   "source": [
    "# разобьем на обучающую и тестовую выборки\n",
    "\n",
    "features_train_ohe, features_test_ohe, target_train_ohe, target_test_ohe = train_test_split(features,\n",
    "                                                                                            target,\n",
    "                                                                                            test_size=.25,\n",
    "                                                                                            random_state=12345)"
   ]
  },
  {
   "cell_type": "code",
   "execution_count": 50,
   "metadata": {},
   "outputs": [
    {
     "name": "stdout",
     "output_type": "stream",
     "text": [
      "(139776, 10)\n",
      "(46592, 10)\n",
      "(139776,)\n",
      "(46592,)\n"
     ]
    }
   ],
   "source": [
    "# проверим размеры выборок\n",
    "\n",
    "for data in [features_train_ohe, features_test_ohe, target_train_ohe, target_test_ohe]:\n",
    "    print(data.shape)"
   ]
  },
  {
   "cell_type": "code",
   "execution_count": 51,
   "metadata": {},
   "outputs": [],
   "source": [
    "# выполним прямое кодирование для линейных моделей\n",
    "\n",
    "features_train_ohe = pd.get_dummies(features_train_ohe, drop_first=True)\n",
    "features_test_ohe = pd.get_dummies(features_test_ohe, drop_first=True)"
   ]
  },
  {
   "cell_type": "code",
   "execution_count": 52,
   "metadata": {},
   "outputs": [
    {
     "name": "stdout",
     "output_type": "stream",
     "text": [
      "(139776, 303)\n",
      "(46592, 294)\n"
     ]
    }
   ],
   "source": [
    "# проверим размеры выборок\n",
    "\n",
    "for data in [features_train_ohe, features_test_ohe]:\n",
    "    print(data.shape)"
   ]
  },
  {
   "cell_type": "code",
   "execution_count": 53,
   "metadata": {},
   "outputs": [
    {
     "name": "stdout",
     "output_type": "stream",
     "text": [
      "<class 'pandas.core.frame.DataFrame'>\n",
      "Int64Index: 139776 entries, 154620 to 139748\n",
      "Data columns (total 9 columns):\n",
      " #   Column                    Non-Null Count   Dtype\n",
      "---  ------                    --------------   -----\n",
      " 0   model_amarok              139776 non-null  uint8\n",
      " 1   model_charade             139776 non-null  uint8\n",
      " 2   model_elefantino          139776 non-null  uint8\n",
      " 3   model_kalina              139776 non-null  uint8\n",
      " 4   model_move                139776 non-null  uint8\n",
      " 5   model_q3                  139776 non-null  uint8\n",
      " 6   model_range_rover_evoque  139776 non-null  uint8\n",
      " 7   model_rangerover          139776 non-null  uint8\n",
      " 8   model_samara              139776 non-null  uint8\n",
      "dtypes: uint8(9)\n",
      "memory usage: 2.3 MB\n"
     ]
    }
   ],
   "source": [
    "# после прямого кодирования кол-во признаков в выборках отличается\n",
    "# поэтому выведем признаки, которых нет в тетостовой выборке\n",
    "\n",
    "not_in_test_ohe = features_train_ohe.drop(columns=list(features_test_ohe.columns))\n",
    "not_in_test_ohe.info()"
   ]
  },
  {
   "cell_type": "code",
   "execution_count": 54,
   "metadata": {},
   "outputs": [],
   "source": [
    "# поэтому удалим лишние признаки в обучающей выборке\n",
    "\n",
    "features_train_ohe = features_train_ohe.drop(columns=list(not_in_test_ohe.columns))"
   ]
  },
  {
   "cell_type": "code",
   "execution_count": 55,
   "metadata": {},
   "outputs": [
    {
     "name": "stdout",
     "output_type": "stream",
     "text": [
      "(139776, 294)\n",
      "(46592, 294)\n"
     ]
    }
   ],
   "source": [
    "# проверим размеры выборок\n",
    "\n",
    "for data in [features_train_ohe, features_test_ohe]:\n",
    "    print(data.shape)"
   ]
  },
  {
   "cell_type": "markdown",
   "metadata": {},
   "source": [
    "### 3.3 OE кодирование для модели дерева"
   ]
  },
  {
   "cell_type": "code",
   "execution_count": 56,
   "metadata": {},
   "outputs": [],
   "source": [
    "# закодируем с помощью OrdinalEcoder категориальные признаки\n",
    "\n",
    "\n",
    "encoder = OrdinalEncoder()\n",
    "cat_columns = ['repaired', 'vehicle_type', 'gearbox', 'fuel_type', 'brand', 'model']\n",
    "encoder.fit(features_train[cat_columns])\n",
    "\n",
    "features_train_oe = features_train.copy()\n",
    "features_test_oe = features_test.copy()\n",
    "\n",
    "features_train_oe[cat_columns] = encoder.transform(features_train_oe[cat_columns])\n",
    "features_test_oe[cat_columns] = encoder.transform(features_test_oe[cat_columns])\n",
    "\n",
    "target_train_oe = target_train.copy()\n",
    "target_test_oe = target_test.copy()"
   ]
  },
  {
   "cell_type": "code",
   "execution_count": 57,
   "metadata": {},
   "outputs": [
    {
     "name": "stdout",
     "output_type": "stream",
     "text": [
      "(139776, 10)\n",
      "(46592, 10)\n",
      "(139776,)\n",
      "(46592,)\n"
     ]
    }
   ],
   "source": [
    "# проверим размеры выборок\n",
    "\n",
    "for data in [features_train_oe, features_test_oe, target_train_oe, target_test_oe]:\n",
    "    print(data.shape)"
   ]
  },
  {
   "cell_type": "markdown",
   "metadata": {},
   "source": [
    "###  3.4 Масштабирование численных признаков"
   ]
  },
  {
   "cell_type": "code",
   "execution_count": 58,
   "metadata": {},
   "outputs": [],
   "source": [
    "# стандартизируем численные признаки в обучающей выборке\n",
    "\n",
    "numeric = ['power', \n",
    "           'kilometer', \n",
    "           'registration_year', \n",
    "           'registration_month']\n",
    "\n",
    "scaler = StandardScaler()\n",
    "\n",
    "scaler.fit(features_train[numeric])\n",
    "scaler.fit(features_train_ohe[numeric])\n",
    "scaler.fit(features_train_oe[numeric])\n",
    "\n",
    "features_train[numeric] = scaler.transform(features_train[numeric])\n",
    "features_test[numeric] = scaler.transform(features_test[numeric])\n",
    "\n",
    "features_train_ohe[numeric] = scaler.transform(features_train_ohe[numeric])\n",
    "features_test_ohe[numeric] = scaler.transform(features_test_ohe[numeric])\n",
    "\n",
    "features_train[numeric] = scaler.transform(features_train_oe[numeric])\n",
    "features_test[numeric] = scaler.transform(features_test_oe[numeric])"
   ]
  },
  {
   "cell_type": "markdown",
   "metadata": {},
   "source": [
    "### 3.5 Вывод по подготовке данных"
   ]
  },
  {
   "cell_type": "markdown",
   "metadata": {},
   "source": [
    "На этом этапе мы:    \n",
    "    \n",
    "- разделили данные на признаки и целевой признак\n",
    "- провели OHE кодирование для категориальных данных, с которыми в дальнейшем работали в линейной регрессии\n",
    "- провели OE кодирование для категориальных данных, с которыми в дальнейшем работали в решающем дереве\n",
    "- масштабировали численные признаки "
   ]
  },
  {
   "cell_type": "markdown",
   "metadata": {},
   "source": [
    "## 4 Обучение моделей"
   ]
  },
  {
   "cell_type": "markdown",
   "metadata": {},
   "source": [
    "### 4.1 Линейная регрессия"
   ]
  },
  {
   "cell_type": "code",
   "execution_count": 59,
   "metadata": {},
   "outputs": [
    {
     "name": "stdout",
     "output_type": "stream",
     "text": [
      "RMSE: 1888\n",
      "Время обучения: 10.79\n",
      "Время предсказания: 0.13\n",
      "CPU times: user 6.41 s, sys: 4.4 s, total: 10.8 s\n",
      "Wall time: 10.8 s\n"
     ]
    }
   ],
   "source": [
    "%%time\n",
    "\n",
    "# обучим модель линейной регрессии\n",
    "\n",
    "start = time.time()\n",
    "\n",
    "model_lin_reg = LinearRegression()\n",
    "model_lin_reg.fit(features_train_ohe, target_train_ohe)\n",
    "\n",
    "start_p = time.time()\n",
    "prediction_lin_reg = model_lin_reg.predict(features_test_ohe)\n",
    "predict_time_lin_reg = time.time() - start_p\n",
    "\n",
    "rmse_lin_reg = mean_squared_error(target_test_ohe, prediction_lin_reg) ** .5\n",
    "\n",
    "train_time_lin_reg = time.time() - start\n",
    "\n",
    "print('RMSE:', round(rmse_lin_reg))\n",
    "print('Время обучения:', round(train_time_lin_reg,2))\n",
    "print('Время предсказания:', round(predict_time_lin_reg,2))"
   ]
  },
  {
   "cell_type": "code",
   "execution_count": 60,
   "metadata": {},
   "outputs": [
    {
     "name": "stdout",
     "output_type": "stream",
     "text": [
      "RMSE: 1908\n",
      "Время обучения: 37.71\n",
      "Время предсказания: 37.71\n",
      "CPU times: user 24.1 s, sys: 13.4 s, total: 37.5 s\n",
      "Wall time: 37.7 s\n"
     ]
    }
   ],
   "source": [
    "%%time\n",
    "\n",
    "# обучим модель линейной регрессии с кросс-валидацией\n",
    "\n",
    "start = time.time()\n",
    "\n",
    "model_lin_reg_cv = LinearRegression()\n",
    "\n",
    "start_p = time.time()\n",
    "\n",
    "scores_lin_reg_cv = cross_val_score(model_lin_reg_cv,\n",
    "                                    features_train_ohe, \n",
    "                                    target_train_ohe, \n",
    "                                    scoring='neg_root_mean_squared_error',\n",
    "                                    cv=5)\n",
    "\n",
    "predict_time_lin_reg_cv = time.time() - start_p\n",
    "\n",
    "rmse_lin_reg_cv = np.mean(abs(scores_lin_reg_cv))\n",
    "\n",
    "train_time_lin_reg_cv = time.time() - start\n",
    "\n",
    "print('RMSE:', round(rmse_lin_reg_cv))\n",
    "print('Время обучения:', round(train_time_lin_reg_cv,2))\n",
    "print('Время предсказания:', round(predict_time_lin_reg_cv,2))"
   ]
  },
  {
   "cell_type": "markdown",
   "metadata": {},
   "source": [
    "Для линейной регрессии мы получили:  \n",
    "  \n",
    "- стандартная модель RMSE 1888\n",
    "- с кросс-валидацией RMSE 1908\n",
    "  \n",
    "Разница не большая, но адекватнее использовать вариант с кросс-валидацией, так как ранее мы не выделяли валидационную выборку. "
   ]
  },
  {
   "cell_type": "markdown",
   "metadata": {},
   "source": [
    "### 4.2 Дерево решений"
   ]
  },
  {
   "cell_type": "code",
   "execution_count": 61,
   "metadata": {},
   "outputs": [],
   "source": [
    "state = RandomState(12345)"
   ]
  },
  {
   "cell_type": "code",
   "execution_count": 62,
   "metadata": {},
   "outputs": [
    {
     "name": "stdout",
     "output_type": "stream",
     "text": [
      "Параметры лучшей модели: DecisionTreeRegressor(max_depth=14,\n",
      "                      random_state=RandomState(MT19937) at 0x7EFD80521940)\n",
      "\n",
      "RMSE: 1582\n",
      "\n",
      "Время обучения: 10.9\n",
      "Время предсказания: 0.02\n",
      "CPU times: user 10.8 s, sys: 72.3 ms, total: 10.9 s\n",
      "Wall time: 10.9 s\n"
     ]
    }
   ],
   "source": [
    "%%time\n",
    "\n",
    "# обучим модель дерево решений\n",
    "\n",
    "start = time.time()\n",
    "\n",
    "best_model_tree = None\n",
    "best_result_tree = 3000\n",
    "\n",
    "for depth in range(1, 30, 1):\n",
    "    \n",
    "    model_tree = DecisionTreeRegressor(random_state=state, max_depth=depth)\n",
    "    model_tree.fit(features_train_oe, target_train_oe) \n",
    "    \n",
    "    start_p = time.time()\n",
    "    \n",
    "    prediction_tree = model_tree.predict(features_test_oe) \n",
    "    \n",
    "    predict_time_tree = time.time() - start_p\n",
    "    \n",
    "    rmse_tree = (mean_squared_error(target_test_oe,prediction_tree))**0.5\n",
    "    \n",
    "    if rmse_tree < best_result_tree:\n",
    "        best_model_tree = model_tree\n",
    "        best_result_tree = rmse_tree\n",
    "\n",
    "train_time_tree = time.time() - start\n",
    "\n",
    "print('Параметры лучшей модели:', best_model_tree)\n",
    "print()\n",
    "print('RMSE:', round(best_result_tree))\n",
    "print()\n",
    "print('Время обучения:', round(train_time_tree,2))\n",
    "print('Время предсказания:', round(predict_time_tree,2))"
   ]
  },
  {
   "cell_type": "code",
   "execution_count": 63,
   "metadata": {},
   "outputs": [
    {
     "name": "stdout",
     "output_type": "stream",
     "text": [
      "Параметры лучшей модели: DecisionTreeRegressor(max_depth=13,\n",
      "                      random_state=RandomState(MT19937) at 0x7EFD80521940)\n",
      "\n",
      "RMSE: 1635\n",
      "\n",
      "Время обучения: 44.02\n",
      "Время предсказания: 2.29\n",
      "CPU times: user 43.6 s, sys: 176 ms, total: 43.8 s\n",
      "Wall time: 44 s\n"
     ]
    }
   ],
   "source": [
    "%%time\n",
    "\n",
    "# обучим модель дерево решений с кросс-валидацией\n",
    "\n",
    "start = time.time()\n",
    "\n",
    "best_model_tree_cv = None\n",
    "best_result_tree_cv = 3000\n",
    "\n",
    "scores_tree_cv = []\n",
    "\n",
    "for depth in range(1, 30, 1):\n",
    "    \n",
    "    model_tree_cv = DecisionTreeRegressor(max_depth=depth, random_state=state)\n",
    "    \n",
    "    start_p = time.time()\n",
    "    scores_tree_cv = cross_val_score(model_tree_cv,\n",
    "                                     features_train_oe,\n",
    "                                     target_train_oe,\n",
    "                                     scoring='neg_root_mean_squared_error',\n",
    "                                     cv=5)\n",
    "    predict_time_tree_cv = time.time() - start_p\n",
    "\n",
    "    rmse_tree_cv = np.mean(scores_tree_cv) * -1\n",
    "    \n",
    "    if rmse_tree_cv < best_result_tree_cv:\n",
    "        best_model_tree_cv = model_tree_cv\n",
    "        best_result_tree_cv = rmse_tree_cv\n",
    "    \n",
    "train_time_tree_cv = time.time() - start\n",
    "\n",
    "print('Параметры лучшей модели:', best_model_tree_cv)\n",
    "print()\n",
    "print('RMSE:', round(best_result_tree_cv))\n",
    "print()\n",
    "print('Время обучения:', round(train_time_tree_cv,2))\n",
    "print('Время предсказания:', round(predict_time_tree_cv,2))"
   ]
  },
  {
   "cell_type": "markdown",
   "metadata": {},
   "source": [
    "Для модели дерево решений получили:  \n",
    "  \n",
    "- стандартная модель RMSE 1582 с глубиной дерева 14\n",
    "- с кросс-валидацией RMSE 1635 с глубиной дерева 13\n",
    "  \n",
    "Стандартнное обучение показало лучший результат. Разница так же не большая, но использовать лучше вариант с кросс-валидацией, так как ранее мы не выделяли валидационную выборку."
   ]
  },
  {
   "cell_type": "markdown",
   "metadata": {},
   "source": [
    "### 4.3 CatBoost"
   ]
  },
  {
   "cell_type": "code",
   "execution_count": 64,
   "metadata": {},
   "outputs": [],
   "source": [
    "# выделим валидационную выборку\n",
    "\n",
    "features_train, features_valid, target_train, target_valid = train_test_split(features_train, target_train,\n",
    "                                                                              test_size=0.25, random_state=12345)"
   ]
  },
  {
   "cell_type": "code",
   "execution_count": 65,
   "metadata": {},
   "outputs": [
    {
     "name": "stdout",
     "output_type": "stream",
     "text": [
      "(104832, 10)\n",
      "(34944, 10)\n",
      "(104832,)\n",
      "(34944,)\n"
     ]
    }
   ],
   "source": [
    "# проверим размеры выборок\n",
    "\n",
    "for data in [features_train, features_valid, target_train, target_valid]:\n",
    "    print(data.shape)"
   ]
  },
  {
   "cell_type": "code",
   "execution_count": 66,
   "metadata": {},
   "outputs": [],
   "source": [
    "# выделим категориальные признаки\n",
    "\n",
    "cat_features = ['repaired', 'vehicle_type', 'gearbox', \n",
    "                'fuel_type', 'brand', 'model']"
   ]
  },
  {
   "cell_type": "code",
   "execution_count": 67,
   "metadata": {},
   "outputs": [
    {
     "name": "stdout",
     "output_type": "stream",
     "text": [
      "0:\tlearn: 2813.9654444\ttotal: 172ms\tremaining: 34.2s\n",
      "50:\tlearn: 1431.1618792\ttotal: 4.63s\tremaining: 13.5s\n",
      "100:\tlearn: 1382.8838751\ttotal: 8.95s\tremaining: 8.77s\n",
      "150:\tlearn: 1352.6268944\ttotal: 13.3s\tremaining: 4.32s\n",
      "199:\tlearn: 1335.3551090\ttotal: 17.5s\tremaining: 0us\n",
      "RMSE: 1412\n",
      "Время обучения: 20.45\n",
      "Время предсказания: 0.08\n",
      "CPU times: user 17.7 s, sys: 259 ms, total: 17.9 s\n",
      "Wall time: 20.4 s\n"
     ]
    }
   ],
   "source": [
    "%%time\n",
    "\n",
    "# обучим модель CatBoostRegressor\n",
    "\n",
    "start = time.time()\n",
    "\n",
    "model_cat = CatBoostRegressor(n_estimators = 200,  \n",
    "                              learning_rate=0.4,\n",
    "                              random_state=12345)\n",
    "model_cat.fit(features_train, target_train, cat_features=cat_features, verbose=50)\n",
    "\n",
    "start_p = time.time()\n",
    "prediction_cat = model_cat.predict(features_valid)\n",
    "predict_time_cat = time.time() - start_p\n",
    "\n",
    "rmse_cat = mean_squared_error(target_valid, prediction_cat) ** .5\n",
    "\n",
    "train_time_cat = time.time() - start\n",
    "\n",
    "print('RMSE:', round(rmse_cat))\n",
    "print('Время обучения:', round(train_time_cat,2))\n",
    "print('Время предсказания:', round(predict_time_cat,2))"
   ]
  },
  {
   "cell_type": "markdown",
   "metadata": {},
   "source": [
    "Модель градиентного бустинга CatBoostRegressor при обучение имеет RMSE 1412.   \n",
    "Значение RMSE ниже, чем у простых моделей. "
   ]
  },
  {
   "cell_type": "markdown",
   "metadata": {},
   "source": [
    "### 4.4 LightGBM"
   ]
  },
  {
   "cell_type": "code",
   "execution_count": 68,
   "metadata": {},
   "outputs": [],
   "source": [
    "# приведем категориальные признаки во всех выборках к категориальному типу данных\n",
    "\n",
    "features_train[cat_features] = features_train[cat_features].astype('category')\n",
    "features_test[cat_features] = features_test[cat_features].astype('category')\n",
    "features_valid[cat_features] = features_valid[cat_features].astype('category')"
   ]
  },
  {
   "cell_type": "code",
   "execution_count": 69,
   "metadata": {},
   "outputs": [
    {
     "name": "stdout",
     "output_type": "stream",
     "text": [
      "RMSE: 1402\n",
      "Время обучения: 4.17\n",
      "Время предсказания: 0.41\n",
      "CPU times: user 4.18 s, sys: 0 ns, total: 4.18 s\n",
      "Wall time: 4.17 s\n"
     ]
    }
   ],
   "source": [
    "%%time\n",
    "\n",
    "# обучим модель LightGBMRegressor\n",
    "\n",
    "start = time.time()\n",
    "\n",
    "model_lgbm = lgb.LGBMRegressor()\n",
    "model_lgbm.fit(features_train, target_train, eval_metric='rmse')\n",
    "\n",
    "start_p = time.time()\n",
    "prediction_lgbm= model_lgbm.predict(features_valid)\n",
    "predict_time_lgbm = time.time() - start_p\n",
    "\n",
    "rmse_lgbm = mean_squared_error(target_valid, prediction_lgbm) ** .5\n",
    "\n",
    "train_time_lgbm = time.time() - start\n",
    "\n",
    "print('RMSE:', round(rmse_lgbm))\n",
    "print('Время обучения:', round(train_time_lgbm,2))\n",
    "print('Время предсказания:', round(predict_time_lgbm,2))"
   ]
  },
  {
   "cell_type": "markdown",
   "metadata": {},
   "source": [
    "Молель LGBMRegressor  при обучении имеет RMSE 1402.  "
   ]
  },
  {
   "cell_type": "markdown",
   "metadata": {},
   "source": [
    "### 4.5 Константная Dummy модель"
   ]
  },
  {
   "cell_type": "code",
   "execution_count": 70,
   "metadata": {},
   "outputs": [
    {
     "name": "stdout",
     "output_type": "stream",
     "text": [
      "RMSE valid: 3644\n",
      "RMSE test: 3607\n"
     ]
    }
   ],
   "source": [
    "# проверим адекватность на константной модели \n",
    "\n",
    "model_dummy = DummyRegressor(strategy=\"mean\")\n",
    "model_dummy.fit(features_train, target_train)\n",
    "prediction_dummy_v = model_dummy.predict(features_valid)\n",
    "prediction_dummy_t = model_dummy.predict(features_test)\n",
    "\n",
    "rmse_dummy_v = mean_squared_error(target_valid, prediction_dummy_v) ** .5\n",
    "rmse_dummy_t = mean_squared_error(target_test, prediction_dummy_t) ** .5\n",
    "print('RMSE valid:', round(rmse_dummy_v))\n",
    "print('RMSE test:', round(rmse_dummy_t))"
   ]
  },
  {
   "cell_type": "markdown",
   "metadata": {},
   "source": [
    "Итак, на константной модели имеет:  \n",
    "  \n",
    "- RMSE с предсказанием на валидационной выборке 3644\n",
    "- RMSE с предсказанием на тестовой выборке 3607  \n",
    "  \n",
    "Значения близкие друг к другу. Но больше,чем дали наши модели, значит они работают лучше, чем константная модель. "
   ]
  },
  {
   "cell_type": "markdown",
   "metadata": {},
   "source": [
    "### 4.6 Вывод по обучению моделей"
   ]
  },
  {
   "cell_type": "markdown",
   "metadata": {},
   "source": [
    "Мы получили следующие результаты обучения моделей:  \n",
    "  \n",
    "   - Линейная регрессия RMSE 1908\n",
    "   - Дерево решений RMSE 1635\n",
    "   - CatBoost RMSE 1412\n",
    "   - LightGBM RMSE 1402\n",
    "   - Dummy модель RMSE 3644, что подтвердило адекватность наших моделей"
   ]
  },
  {
   "cell_type": "markdown",
   "metadata": {},
   "source": [
    "## 5 Анализ моделей"
   ]
  },
  {
   "cell_type": "code",
   "execution_count": 71,
   "metadata": {},
   "outputs": [
    {
     "data": {
      "text/html": [
       "<div>\n",
       "<style scoped>\n",
       "    .dataframe tbody tr th:only-of-type {\n",
       "        vertical-align: middle;\n",
       "    }\n",
       "\n",
       "    .dataframe tbody tr th {\n",
       "        vertical-align: top;\n",
       "    }\n",
       "\n",
       "    .dataframe thead th {\n",
       "        text-align: right;\n",
       "    }\n",
       "</style>\n",
       "<table border=\"1\" class=\"dataframe\">\n",
       "  <thead>\n",
       "    <tr style=\"text-align: right;\">\n",
       "      <th></th>\n",
       "      <th>RMSE</th>\n",
       "      <th>Время обучения</th>\n",
       "      <th>Время предсказания</th>\n",
       "    </tr>\n",
       "  </thead>\n",
       "  <tbody>\n",
       "    <tr>\n",
       "      <th>Linear Regression</th>\n",
       "      <td>1908</td>\n",
       "      <td>37.71</td>\n",
       "      <td>37.71</td>\n",
       "    </tr>\n",
       "    <tr>\n",
       "      <th>Decision Tree Regressor</th>\n",
       "      <td>1635</td>\n",
       "      <td>44.02</td>\n",
       "      <td>2.29</td>\n",
       "    </tr>\n",
       "    <tr>\n",
       "      <th>Cat Boost Regressor</th>\n",
       "      <td>1412</td>\n",
       "      <td>20.45</td>\n",
       "      <td>0.08</td>\n",
       "    </tr>\n",
       "    <tr>\n",
       "      <th>LGBM Regressor</th>\n",
       "      <td>1402</td>\n",
       "      <td>4.17</td>\n",
       "      <td>0.41</td>\n",
       "    </tr>\n",
       "  </tbody>\n",
       "</table>\n",
       "</div>"
      ],
      "text/plain": [
       "                         RMSE  Время обучения  Время предсказания\n",
       "Linear Regression        1908           37.71               37.71\n",
       "Decision Tree Regressor  1635           44.02                2.29\n",
       "Cat Boost Regressor      1412           20.45                0.08\n",
       "LGBM Regressor           1402            4.17                0.41"
      ]
     },
     "execution_count": 71,
     "metadata": {},
     "output_type": "execute_result"
    }
   ],
   "source": [
    "# создадим сводную таблицу \n",
    "\n",
    "index = ['Linear Regression',\n",
    "         'Decision Tree Regressor',\n",
    "         'Cat Boost Regressor',\n",
    "         'LGBM Regressor']\n",
    "\n",
    "data = {'RMSE':[round(rmse_lin_reg_cv),\n",
    "                round(best_result_tree_cv),\n",
    "                round(rmse_cat),\n",
    "                round(rmse_lgbm)],\n",
    "        \n",
    "        'Время обучения':[round(train_time_lin_reg_cv,2),\n",
    "                                 round(train_time_tree_cv,2),\n",
    "                                 round(train_time_cat,2),\n",
    "                                 round(train_time_lgbm,2)],\n",
    "        \n",
    "        'Время предсказания':[round(predict_time_lin_reg_cv,2),\n",
    "                                     round(predict_time_tree_cv,2),\n",
    "                                     round(predict_time_cat,2),\n",
    "                                     round(predict_time_lgbm,2)]\n",
    "       }\n",
    "\n",
    "kpi_data = pd.DataFrame(data=data, index=index)\n",
    "kpi_data"
   ]
  },
  {
   "cell_type": "markdown",
   "metadata": {},
   "source": [
    "По сводной таблице видно, что наилучшие результаты дала модель LightGBM с RMSE 1402, с временем обучения 4 секунды и временем предсказания 0.41 секунду.    \n",
    "  \n",
    "При этом модель Cat Boost дала RMSE 1412, что чуть больше, но зато время обучения 20 секунд и время предсказания 0.08 секунд.   \n",
    "В данном случае можно отталкиваться от совокупности времени и RMSE и проверить обе модели на тестовых данных для финального вывода."
   ]
  },
  {
   "cell_type": "markdown",
   "metadata": {},
   "source": [
    "## 6 Тестирование лучшей модели"
   ]
  },
  {
   "cell_type": "code",
   "execution_count": 72,
   "metadata": {},
   "outputs": [
    {
     "name": "stdout",
     "output_type": "stream",
     "text": [
      "0:\tlearn: 2789.3071061\ttotal: 59.9ms\tremaining: 11.9s\n",
      "50:\tlearn: 1410.9152787\ttotal: 2.14s\tremaining: 6.24s\n",
      "100:\tlearn: 1352.8114099\ttotal: 3.92s\tremaining: 3.84s\n",
      "150:\tlearn: 1314.2562770\ttotal: 5.96s\tremaining: 1.94s\n",
      "199:\tlearn: 1288.6885624\ttotal: 7.83s\tremaining: 0us\n",
      "RMSE: 1441\n",
      "Время обучения: 11.14\n",
      "Время предсказания: 0.08\n",
      "CPU times: user 8.02 s, sys: 54.4 ms, total: 8.07 s\n",
      "Wall time: 11.1 s\n"
     ]
    }
   ],
   "source": [
    "%%time\n",
    "\n",
    "# проверим выбранную модель на тестовой выборке\n",
    "\n",
    "start = time.time()\n",
    "\n",
    "model_cat = CatBoostRegressor(n_estimators = 200,  \n",
    "                              learning_rate=0.4,\n",
    "                              random_state=12345)\n",
    "model_cat.fit(features_test, target_test, cat_features=cat_features, verbose=50)\n",
    "\n",
    "start_p = time.time()\n",
    "prediction_cat = model_cat.predict(features_valid)\n",
    "predict_time_cat = time.time() - start_p\n",
    "\n",
    "rmse_cat = mean_squared_error(target_valid, prediction_cat) ** .5\n",
    "\n",
    "train_time_cat = time.time() - start\n",
    "\n",
    "print('RMSE:', round(rmse_cat))\n",
    "print('Время обучения:', round(train_time_cat,2))\n",
    "print('Время предсказания:', round(predict_time_cat,2))"
   ]
  },
  {
   "cell_type": "code",
   "execution_count": 73,
   "metadata": {},
   "outputs": [
    {
     "name": "stdout",
     "output_type": "stream",
     "text": [
      "RMSE: 1425\n",
      "Время обучения: 32.92\n",
      "Время предсказания: 0.5\n",
      "CPU times: user 32.8 s, sys: 0 ns, total: 32.8 s\n",
      "Wall time: 32.9 s\n"
     ]
    }
   ],
   "source": [
    "%%time\n",
    "\n",
    "# проверим выбранную модель на тестовой выборке\n",
    "\n",
    "start = time.time()\n",
    "\n",
    "model_lgbm = lgb.LGBMRegressor()\n",
    "model_lgbm.fit(features_test, target_test, eval_metric='rmse')\n",
    "\n",
    "start_p = time.time()\n",
    "prediction_lgbm= model_lgbm.predict(features_valid)\n",
    "predict_time_lgbm = time.time() - start_p\n",
    "\n",
    "rmse_lgbm = mean_squared_error(target_valid, prediction_lgbm) ** .5\n",
    "\n",
    "train_time_lgbm = time.time() - start\n",
    "\n",
    "print('RMSE:', round(rmse_lgbm))\n",
    "print('Время обучения:', round(train_time_lgbm,2))\n",
    "print('Время предсказания:', round(predict_time_lgbm,2))"
   ]
  },
  {
   "cell_type": "markdown",
   "metadata": {},
   "source": [
    "На тестовой выборке модель CatBoostRegressor показала результат RMSE 1441, что лишь немного выше значения на обучающей выборке. По времени обучения имеем 11 секунд и 0.08 секунд по предсказанию. Модель соотвествует критериям задачи.\n",
    "\n",
    "На тестовой выборке модель LGBMRegressor показала результат RMSE 1425, что лишь немного выше значения на обучающей выборке. По времени обучения имеем 33 секунды  и 0.5 секунд по предсказанию. По времени обучения и предсказания модель превышает CatBoostRegressor. А нам по задаче нужно наити самую быструю модель.  \n",
    "  \n",
    "Поэтому финально можно сказать, что лучшая модель для наших данных CatBoostRegressor. У нее хороший показатель RMSE и быстрые рассчеты, что как раз отвечает поставленной перед нами задаче."
   ]
  },
  {
   "cell_type": "markdown",
   "metadata": {},
   "source": [
    "## 7 Итоговый вывод"
   ]
  },
  {
   "cell_type": "markdown",
   "metadata": {},
   "source": [
    "Задача построить модель для определения рыночной стоимости автомобиля для сервиса по продаже автомобилей с пробегом «Не бит, не крашен», который разрабатывает приложение для привлечегния новых клиентов. В нашем распоряжении были исторические данные: технические характеристики, комплектации и цены автомобилей.\n",
    "\n",
    "На выходе заказчику важны следующие параметры модели:\n",
    "\n",
    "- качество предсказания;\n",
    "- скорость предсказания;\n",
    "- время обучения.  \n",
    "  \n",
    "В ходе работы мы: \n",
    "\n",
    "**1. Проанализировали данные:** \n",
    "       \n",
    "   - удалены неинформативные признаки: дата скачивания анкеты, дата создания анкеты, количество фотографий автомобиля, почтовый индекс, дата последней активности пользователя\n",
    "   - наименования столбцов приведены к змеиному регистру\n",
    "   - обработаны пропуски в данных\n",
    "   - изучены и обработаны аномалии в данных  \n",
    "   \n",
    "   В итоге мы получили датафрейм из 11 столбцов и 166318 строк.  \n",
    "     \n",
    "**2. Подготовили данные для обучения:**\n",
    "  \n",
    "   - разделили данные на признаки и целевой признак\n",
    "   - провели OHE кодирование для категориальных данных, с которыми в дальнейшем работали в линейной регрессии\n",
    "   - провели OE кодирование для категориальных данных, с которыми в дальнейшем работали в решающем дереве\n",
    "   - масштабировали численные признаки  \n",
    "     \n",
    "**3. Обучили модели и получили следующий результат:**   \n",
    "  \n",
    "   - Линейная регрессия RMSE 1908\n",
    "   - Дерево решений RMSE 1635\n",
    "   - CatBoost RMSE 1412\n",
    "   - LightGBM RMSE 1402\n",
    "   - проверили на адекватность с помощью константной Dummy модели, которая дала RMSE 3644, что подтвердило адекватность наших моделей\n",
    "  \n",
    "**4. Проанализировали модели по RMSE и времени обучения, предсказания:**\n",
    "  \n",
    "   - лучшие результаты дала модель LightGBM с RMSE 1402, но с временем обучения около 16 минут.\n",
    "   - при этом модель Cat Boost дала RMSE 1412, что чуть больше, но зато время обучения насчитывает секунды.\n",
    "\n",
    "**5. Проверили модель на тестовой выборке:**\n",
    "  \n",
    "   - при этом модель Cat Boost дала RMSE 1441, время обучения насчитывает секунды.\n",
    "\n",
    "**Вывод:** модель для определения рыночной стоимости автомобиля лучше всего подходит CatBoostRegressor с хорошим показателем RMSE и небольшим временем обучения и предсказания. \n",
    "  "
   ]
  }
 ],
 "metadata": {
  "ExecuteTimeLog": [
   {
    "duration": 423,
    "start_time": "2023-03-07T12:34:23.367Z"
   },
   {
    "duration": 1196,
    "start_time": "2023-03-07T12:36:34.403Z"
   },
   {
    "duration": 4,
    "start_time": "2023-03-07T12:36:49.565Z"
   },
   {
    "duration": 895,
    "start_time": "2023-03-07T12:36:49.818Z"
   },
   {
    "duration": 22,
    "start_time": "2023-03-07T12:37:05.296Z"
   },
   {
    "duration": 19,
    "start_time": "2023-03-07T12:48:56.170Z"
   },
   {
    "duration": 72,
    "start_time": "2023-03-07T12:49:18.243Z"
   },
   {
    "duration": 12,
    "start_time": "2023-03-07T12:50:15.762Z"
   },
   {
    "duration": 42,
    "start_time": "2023-03-07T12:50:26.796Z"
   },
   {
    "duration": 3,
    "start_time": "2023-03-07T12:50:36.571Z"
   },
   {
    "duration": 822,
    "start_time": "2023-03-07T12:50:36.576Z"
   },
   {
    "duration": 16,
    "start_time": "2023-03-07T12:50:37.400Z"
   },
   {
    "duration": 59,
    "start_time": "2023-03-07T12:50:37.420Z"
   },
   {
    "duration": 21,
    "start_time": "2023-03-07T12:51:11.794Z"
   },
   {
    "duration": 4,
    "start_time": "2023-03-07T12:51:21.194Z"
   },
   {
    "duration": 14,
    "start_time": "2023-03-07T12:51:32.193Z"
   },
   {
    "duration": 17,
    "start_time": "2023-03-07T12:51:41.172Z"
   },
   {
    "duration": 6,
    "start_time": "2023-03-07T12:51:44.712Z"
   },
   {
    "duration": 369,
    "start_time": "2023-03-07T12:53:21.654Z"
   },
   {
    "duration": 832,
    "start_time": "2023-03-07T12:53:22.026Z"
   },
   {
    "duration": 21,
    "start_time": "2023-03-07T12:53:22.859Z"
   },
   {
    "duration": 37,
    "start_time": "2023-03-07T12:53:22.882Z"
   },
   {
    "duration": 7,
    "start_time": "2023-03-07T12:53:22.921Z"
   },
   {
    "duration": 4,
    "start_time": "2023-03-07T12:53:48.297Z"
   },
   {
    "duration": 78,
    "start_time": "2023-03-07T12:53:50.173Z"
   },
   {
    "duration": 4,
    "start_time": "2023-03-07T12:53:56.880Z"
   },
   {
    "duration": 3,
    "start_time": "2023-03-07T12:54:00.916Z"
   },
   {
    "duration": 878,
    "start_time": "2023-03-07T12:54:01.295Z"
   },
   {
    "duration": 27,
    "start_time": "2023-03-07T12:54:02.175Z"
   },
   {
    "duration": 26,
    "start_time": "2023-03-07T12:54:02.767Z"
   },
   {
    "duration": 5,
    "start_time": "2023-03-07T12:54:03.625Z"
   },
   {
    "duration": 16,
    "start_time": "2023-03-07T12:54:19.907Z"
   },
   {
    "duration": 3,
    "start_time": "2023-03-07T12:55:05.074Z"
   },
   {
    "duration": 5,
    "start_time": "2023-03-07T12:57:01.659Z"
   },
   {
    "duration": 36,
    "start_time": "2023-03-07T12:58:33.628Z"
   },
   {
    "duration": 4,
    "start_time": "2023-03-07T12:58:39.240Z"
   },
   {
    "duration": 47,
    "start_time": "2023-03-07T12:58:56.170Z"
   },
   {
    "duration": 8,
    "start_time": "2023-03-07T13:00:19.531Z"
   },
   {
    "duration": 108,
    "start_time": "2023-03-07T13:00:24.728Z"
   },
   {
    "duration": 110,
    "start_time": "2023-03-07T13:01:08.570Z"
   },
   {
    "duration": 211,
    "start_time": "2023-03-07T13:01:18.426Z"
   },
   {
    "duration": 209,
    "start_time": "2023-03-07T13:04:13.108Z"
   },
   {
    "duration": 401,
    "start_time": "2023-03-07T13:04:38.834Z"
   },
   {
    "duration": 365,
    "start_time": "2023-03-07T13:04:44.837Z"
   },
   {
    "duration": 363,
    "start_time": "2023-03-07T13:05:05.898Z"
   },
   {
    "duration": 9,
    "start_time": "2023-03-07T13:06:23.192Z"
   },
   {
    "duration": 212,
    "start_time": "2023-03-07T13:06:56.244Z"
   },
   {
    "duration": 365,
    "start_time": "2023-03-07T13:07:10.287Z"
   },
   {
    "duration": 354,
    "start_time": "2023-03-07T13:07:14.230Z"
   },
   {
    "duration": 43,
    "start_time": "2023-03-07T13:09:40.201Z"
   },
   {
    "duration": 27,
    "start_time": "2023-03-07T13:11:29.620Z"
   },
   {
    "duration": 21,
    "start_time": "2023-03-07T13:12:26.548Z"
   },
   {
    "duration": 15,
    "start_time": "2023-03-07T13:12:52.480Z"
   },
   {
    "duration": 15,
    "start_time": "2023-03-07T13:13:03.218Z"
   },
   {
    "duration": 23,
    "start_time": "2023-03-07T13:13:07.689Z"
   },
   {
    "duration": 30,
    "start_time": "2023-03-07T13:19:43.900Z"
   },
   {
    "duration": 37,
    "start_time": "2023-03-07T13:19:50.414Z"
   },
   {
    "duration": 67,
    "start_time": "2023-03-07T13:20:13.688Z"
   },
   {
    "duration": 22,
    "start_time": "2023-03-07T13:21:24.222Z"
   },
   {
    "duration": 22,
    "start_time": "2023-03-07T13:21:35.586Z"
   },
   {
    "duration": 31,
    "start_time": "2023-03-07T13:21:58.095Z"
   },
   {
    "duration": 62,
    "start_time": "2023-03-07T13:23:21.615Z"
   },
   {
    "duration": 25,
    "start_time": "2023-03-07T13:24:17.586Z"
   },
   {
    "duration": 32,
    "start_time": "2023-03-07T13:24:41.310Z"
   },
   {
    "duration": 63,
    "start_time": "2023-03-07T13:28:05.796Z"
   },
   {
    "duration": 14,
    "start_time": "2023-03-07T13:28:28.807Z"
   },
   {
    "duration": 8,
    "start_time": "2023-03-07T13:28:35.955Z"
   },
   {
    "duration": 7,
    "start_time": "2023-03-07T13:28:41.507Z"
   },
   {
    "duration": 10,
    "start_time": "2023-03-07T13:28:46.297Z"
   },
   {
    "duration": 17,
    "start_time": "2023-03-07T13:30:35.998Z"
   },
   {
    "duration": 8,
    "start_time": "2023-03-07T13:30:42.030Z"
   },
   {
    "duration": 8,
    "start_time": "2023-03-07T13:30:49.036Z"
   },
   {
    "duration": 8,
    "start_time": "2023-03-07T13:30:49.430Z"
   },
   {
    "duration": 4,
    "start_time": "2023-03-07T13:30:54.094Z"
   },
   {
    "duration": 921,
    "start_time": "2023-03-07T13:30:54.109Z"
   },
   {
    "duration": 16,
    "start_time": "2023-03-07T13:30:55.032Z"
   },
   {
    "duration": 28,
    "start_time": "2023-03-07T13:30:55.050Z"
   },
   {
    "duration": 6,
    "start_time": "2023-03-07T13:30:55.081Z"
   },
   {
    "duration": 20,
    "start_time": "2023-03-07T13:30:55.089Z"
   },
   {
    "duration": 52,
    "start_time": "2023-03-07T13:30:55.114Z"
   },
   {
    "duration": 369,
    "start_time": "2023-03-07T13:30:55.168Z"
   },
   {
    "duration": 433,
    "start_time": "2023-03-07T13:30:55.538Z"
   },
   {
    "duration": 19,
    "start_time": "2023-03-07T13:30:55.973Z"
   },
   {
    "duration": 30,
    "start_time": "2023-03-07T13:30:56.003Z"
   },
   {
    "duration": 46,
    "start_time": "2023-03-07T13:30:56.037Z"
   },
   {
    "duration": 31,
    "start_time": "2023-03-07T13:30:56.085Z"
   },
   {
    "duration": 35,
    "start_time": "2023-03-07T13:30:56.120Z"
   },
   {
    "duration": 50,
    "start_time": "2023-03-07T13:30:56.157Z"
   },
   {
    "duration": 35,
    "start_time": "2023-03-07T13:30:56.209Z"
   },
   {
    "duration": 20,
    "start_time": "2023-03-07T13:30:56.246Z"
   },
   {
    "duration": 81,
    "start_time": "2023-03-07T13:30:56.268Z"
   },
   {
    "duration": 48,
    "start_time": "2023-03-07T13:31:09.328Z"
   },
   {
    "duration": 46,
    "start_time": "2023-03-07T13:31:17.150Z"
   },
   {
    "duration": 8,
    "start_time": "2023-03-07T13:31:36.885Z"
   },
   {
    "duration": 5,
    "start_time": "2023-03-07T13:31:41.340Z"
   },
   {
    "duration": 1001,
    "start_time": "2023-03-07T13:31:41.349Z"
   },
   {
    "duration": 15,
    "start_time": "2023-03-07T13:31:42.352Z"
   },
   {
    "duration": 37,
    "start_time": "2023-03-07T13:31:42.369Z"
   },
   {
    "duration": 4,
    "start_time": "2023-03-07T13:31:42.417Z"
   },
   {
    "duration": 13,
    "start_time": "2023-03-07T13:31:42.425Z"
   },
   {
    "duration": 59,
    "start_time": "2023-03-07T13:31:42.441Z"
   },
   {
    "duration": 390,
    "start_time": "2023-03-07T13:31:42.502Z"
   },
   {
    "duration": 427,
    "start_time": "2023-03-07T13:31:42.894Z"
   },
   {
    "duration": 31,
    "start_time": "2023-03-07T13:31:43.323Z"
   },
   {
    "duration": 17,
    "start_time": "2023-03-07T13:31:43.356Z"
   },
   {
    "duration": 85,
    "start_time": "2023-03-07T13:31:43.375Z"
   },
   {
    "duration": 23,
    "start_time": "2023-03-07T13:31:43.462Z"
   },
   {
    "duration": 27,
    "start_time": "2023-03-07T13:31:43.509Z"
   },
   {
    "duration": 72,
    "start_time": "2023-03-07T13:31:43.538Z"
   },
   {
    "duration": 31,
    "start_time": "2023-03-07T13:31:43.615Z"
   },
   {
    "duration": 45,
    "start_time": "2023-03-07T13:31:43.648Z"
   },
   {
    "duration": 101,
    "start_time": "2023-03-07T13:31:43.695Z"
   },
   {
    "duration": 8,
    "start_time": "2023-03-07T13:32:00.543Z"
   },
   {
    "duration": 4,
    "start_time": "2023-03-07T13:32:04.131Z"
   },
   {
    "duration": 949,
    "start_time": "2023-03-07T13:32:04.139Z"
   },
   {
    "duration": 23,
    "start_time": "2023-03-07T13:32:05.091Z"
   },
   {
    "duration": 42,
    "start_time": "2023-03-07T13:32:05.116Z"
   },
   {
    "duration": 16,
    "start_time": "2023-03-07T13:32:05.160Z"
   },
   {
    "duration": 13,
    "start_time": "2023-03-07T13:32:05.178Z"
   },
   {
    "duration": 80,
    "start_time": "2023-03-07T13:32:05.194Z"
   },
   {
    "duration": 347,
    "start_time": "2023-03-07T13:32:05.275Z"
   },
   {
    "duration": 414,
    "start_time": "2023-03-07T13:32:05.624Z"
   },
   {
    "duration": 37,
    "start_time": "2023-03-07T13:32:06.041Z"
   },
   {
    "duration": 35,
    "start_time": "2023-03-07T13:32:06.080Z"
   },
   {
    "duration": 56,
    "start_time": "2023-03-07T13:32:06.118Z"
   },
   {
    "duration": 20,
    "start_time": "2023-03-07T13:32:06.175Z"
   },
   {
    "duration": 32,
    "start_time": "2023-03-07T13:32:06.207Z"
   },
   {
    "duration": 67,
    "start_time": "2023-03-07T13:32:06.243Z"
   },
   {
    "duration": 34,
    "start_time": "2023-03-07T13:32:06.316Z"
   },
   {
    "duration": 16,
    "start_time": "2023-03-07T13:32:06.352Z"
   },
   {
    "duration": 79,
    "start_time": "2023-03-07T13:32:06.370Z"
   },
   {
    "duration": 62,
    "start_time": "2023-03-07T13:37:43.293Z"
   },
   {
    "duration": 41,
    "start_time": "2023-03-07T13:37:43.592Z"
   },
   {
    "duration": 62,
    "start_time": "2023-03-07T13:37:51.031Z"
   },
   {
    "duration": 4,
    "start_time": "2023-03-07T13:38:00.732Z"
   },
   {
    "duration": 1042,
    "start_time": "2023-03-07T13:38:00.738Z"
   },
   {
    "duration": 16,
    "start_time": "2023-03-07T13:38:01.781Z"
   },
   {
    "duration": 71,
    "start_time": "2023-03-07T13:38:01.798Z"
   },
   {
    "duration": 13,
    "start_time": "2023-03-07T13:38:01.872Z"
   },
   {
    "duration": 56,
    "start_time": "2023-03-07T13:38:01.886Z"
   },
   {
    "duration": 47,
    "start_time": "2023-03-07T13:38:01.944Z"
   },
   {
    "duration": 393,
    "start_time": "2023-03-07T13:38:01.994Z"
   },
   {
    "duration": 417,
    "start_time": "2023-03-07T13:38:02.389Z"
   },
   {
    "duration": 36,
    "start_time": "2023-03-07T13:38:02.817Z"
   },
   {
    "duration": 24,
    "start_time": "2023-03-07T13:38:02.855Z"
   },
   {
    "duration": 135,
    "start_time": "2023-03-07T13:38:02.881Z"
   },
   {
    "duration": 34,
    "start_time": "2023-03-07T13:38:03.018Z"
   },
   {
    "duration": 15,
    "start_time": "2023-03-07T13:38:03.055Z"
   },
   {
    "duration": 74,
    "start_time": "2023-03-07T13:38:03.072Z"
   },
   {
    "duration": 21,
    "start_time": "2023-03-07T13:38:03.149Z"
   },
   {
    "duration": 40,
    "start_time": "2023-03-07T13:38:03.173Z"
   },
   {
    "duration": 80,
    "start_time": "2023-03-07T13:38:03.214Z"
   },
   {
    "duration": 45,
    "start_time": "2023-03-07T13:39:01.130Z"
   },
   {
    "duration": 30,
    "start_time": "2023-03-07T13:39:23.786Z"
   },
   {
    "duration": 77,
    "start_time": "2023-03-07T13:41:00.490Z"
   },
   {
    "duration": 20,
    "start_time": "2023-03-07T13:41:41.232Z"
   },
   {
    "duration": 36,
    "start_time": "2023-03-07T13:41:57.207Z"
   },
   {
    "duration": 58,
    "start_time": "2023-03-07T13:47:01.128Z"
   },
   {
    "duration": 69,
    "start_time": "2023-03-07T13:47:31.831Z"
   },
   {
    "duration": 433,
    "start_time": "2023-03-07T15:12:44.793Z"
   },
   {
    "duration": 1315,
    "start_time": "2023-03-07T15:12:45.228Z"
   },
   {
    "duration": 22,
    "start_time": "2023-03-07T15:12:46.545Z"
   },
   {
    "duration": 24,
    "start_time": "2023-03-07T15:12:46.569Z"
   },
   {
    "duration": 13,
    "start_time": "2023-03-07T15:12:46.602Z"
   },
   {
    "duration": 8,
    "start_time": "2023-03-07T15:12:46.618Z"
   },
   {
    "duration": 45,
    "start_time": "2023-03-07T15:12:46.628Z"
   },
   {
    "duration": 373,
    "start_time": "2023-03-07T15:12:46.675Z"
   },
   {
    "duration": 437,
    "start_time": "2023-03-07T15:12:47.050Z"
   },
   {
    "duration": 32,
    "start_time": "2023-03-07T15:12:47.489Z"
   },
   {
    "duration": 17,
    "start_time": "2023-03-07T15:12:47.522Z"
   },
   {
    "duration": 43,
    "start_time": "2023-03-07T15:12:47.540Z"
   },
   {
    "duration": 34,
    "start_time": "2023-03-07T15:12:47.585Z"
   },
   {
    "duration": 14,
    "start_time": "2023-03-07T15:12:47.622Z"
   },
   {
    "duration": 76,
    "start_time": "2023-03-07T15:12:47.638Z"
   },
   {
    "duration": 32,
    "start_time": "2023-03-07T15:12:47.718Z"
   },
   {
    "duration": 23,
    "start_time": "2023-03-07T15:12:47.752Z"
   },
   {
    "duration": 78,
    "start_time": "2023-03-07T15:12:47.777Z"
   },
   {
    "duration": 17,
    "start_time": "2023-03-07T15:12:47.857Z"
   },
   {
    "duration": 27,
    "start_time": "2023-03-07T15:12:47.875Z"
   },
   {
    "duration": 63,
    "start_time": "2023-03-07T15:12:47.904Z"
   },
   {
    "duration": 15,
    "start_time": "2023-03-07T15:12:47.969Z"
   },
   {
    "duration": 37,
    "start_time": "2023-03-07T15:12:48.005Z"
   },
   {
    "duration": 45,
    "start_time": "2023-03-07T15:12:48.043Z"
   },
   {
    "duration": 68,
    "start_time": "2023-03-07T15:12:48.090Z"
   },
   {
    "duration": 6,
    "start_time": "2023-03-07T15:13:35.726Z"
   },
   {
    "duration": 64,
    "start_time": "2023-03-07T15:13:45.624Z"
   },
   {
    "duration": 6,
    "start_time": "2023-03-07T15:13:54.694Z"
   },
   {
    "duration": 6,
    "start_time": "2023-03-07T15:15:00.675Z"
   },
   {
    "duration": 9,
    "start_time": "2023-03-07T15:15:11.185Z"
   },
   {
    "duration": 8,
    "start_time": "2023-03-07T15:15:17.559Z"
   },
   {
    "duration": 1281,
    "start_time": "2023-03-07T15:16:00.373Z"
   },
   {
    "duration": 218,
    "start_time": "2023-03-07T15:16:06.248Z"
   },
   {
    "duration": 1674,
    "start_time": "2023-03-07T15:21:19.999Z"
   },
   {
    "duration": 34,
    "start_time": "2023-03-07T15:21:32.737Z"
   },
   {
    "duration": 1618,
    "start_time": "2023-03-07T15:21:33.350Z"
   },
   {
    "duration": 32,
    "start_time": "2023-03-07T15:23:11.022Z"
   },
   {
    "duration": 45,
    "start_time": "2023-03-07T15:27:30.993Z"
   },
   {
    "duration": 335,
    "start_time": "2023-03-07T15:31:29.950Z"
   },
   {
    "duration": 344,
    "start_time": "2023-03-07T15:32:06.840Z"
   },
   {
    "duration": 379,
    "start_time": "2023-03-07T15:32:18.779Z"
   },
   {
    "duration": 376,
    "start_time": "2023-03-07T15:32:24.662Z"
   },
   {
    "duration": 252,
    "start_time": "2023-03-07T15:32:32.470Z"
   },
   {
    "duration": 217,
    "start_time": "2023-03-07T15:32:40.182Z"
   },
   {
    "duration": 233,
    "start_time": "2023-03-07T15:32:49.020Z"
   },
   {
    "duration": 258,
    "start_time": "2023-03-07T15:32:53.335Z"
   },
   {
    "duration": 127,
    "start_time": "2023-03-07T15:32:58.033Z"
   },
   {
    "duration": 179,
    "start_time": "2023-03-07T15:33:05.638Z"
   },
   {
    "duration": 151,
    "start_time": "2023-03-07T15:33:20.144Z"
   },
   {
    "duration": 156,
    "start_time": "2023-03-07T15:33:25.624Z"
   },
   {
    "duration": 177,
    "start_time": "2023-03-07T15:33:29.220Z"
   },
   {
    "duration": 236,
    "start_time": "2023-03-07T15:33:38.610Z"
   },
   {
    "duration": 223,
    "start_time": "2023-03-07T15:33:43.323Z"
   },
   {
    "duration": 217,
    "start_time": "2023-03-07T15:33:50.558Z"
   },
   {
    "duration": 242,
    "start_time": "2023-03-07T15:33:54.025Z"
   },
   {
    "duration": 650,
    "start_time": "2023-03-07T15:34:22.445Z"
   },
   {
    "duration": 946,
    "start_time": "2023-03-07T15:34:30.477Z"
   },
   {
    "duration": 869,
    "start_time": "2023-03-07T15:34:59.944Z"
   },
   {
    "duration": 529,
    "start_time": "2023-03-07T15:35:11.327Z"
   },
   {
    "duration": 447,
    "start_time": "2023-03-07T15:35:21.095Z"
   },
   {
    "duration": 354,
    "start_time": "2023-03-07T15:35:28.718Z"
   },
   {
    "duration": 26,
    "start_time": "2023-03-07T15:35:39.880Z"
   },
   {
    "duration": 362,
    "start_time": "2023-03-07T15:35:47.456Z"
   },
   {
    "duration": 340,
    "start_time": "2023-03-07T15:35:53.991Z"
   },
   {
    "duration": 77,
    "start_time": "2023-03-07T15:35:59.824Z"
   },
   {
    "duration": 337,
    "start_time": "2023-03-07T15:36:07.151Z"
   },
   {
    "duration": 360,
    "start_time": "2023-03-07T15:36:13.304Z"
   },
   {
    "duration": 368,
    "start_time": "2023-03-07T15:36:18.471Z"
   },
   {
    "duration": 418,
    "start_time": "2023-03-07T15:36:34.567Z"
   },
   {
    "duration": 461,
    "start_time": "2023-03-07T15:36:46.213Z"
   },
   {
    "duration": 382,
    "start_time": "2023-03-07T15:37:05.721Z"
   },
   {
    "duration": 9,
    "start_time": "2023-03-07T15:39:15.472Z"
   },
   {
    "duration": 28,
    "start_time": "2023-03-07T15:40:47.393Z"
   },
   {
    "duration": 29,
    "start_time": "2023-03-07T15:40:53.398Z"
   },
   {
    "duration": 26,
    "start_time": "2023-03-07T15:40:58.661Z"
   },
   {
    "duration": 13,
    "start_time": "2023-03-07T15:41:15.471Z"
   },
   {
    "duration": 10,
    "start_time": "2023-03-07T15:42:35.098Z"
   },
   {
    "duration": 5,
    "start_time": "2023-03-07T15:42:43.218Z"
   },
   {
    "duration": 4,
    "start_time": "2023-03-07T15:44:32.986Z"
   },
   {
    "duration": 5,
    "start_time": "2023-03-07T15:44:37.340Z"
   },
   {
    "duration": 4,
    "start_time": "2023-03-07T15:44:43.626Z"
   },
   {
    "duration": 10,
    "start_time": "2023-03-07T15:44:48.199Z"
   },
   {
    "duration": 113,
    "start_time": "2023-03-07T15:45:04.124Z"
   },
   {
    "duration": 9,
    "start_time": "2023-03-07T15:45:07.075Z"
   },
   {
    "duration": 9,
    "start_time": "2023-03-07T15:45:13.603Z"
   },
   {
    "duration": 246,
    "start_time": "2023-03-07T15:46:41.828Z"
   },
   {
    "duration": 15,
    "start_time": "2023-03-07T15:47:34.801Z"
   },
   {
    "duration": 201,
    "start_time": "2023-03-07T15:48:24.499Z"
   },
   {
    "duration": 223,
    "start_time": "2023-03-07T15:48:29.919Z"
   },
   {
    "duration": 452,
    "start_time": "2023-03-07T15:49:15.489Z"
   },
   {
    "duration": 460,
    "start_time": "2023-03-07T15:49:33.875Z"
   },
   {
    "duration": 405,
    "start_time": "2023-03-07T15:49:49.715Z"
   },
   {
    "duration": 398,
    "start_time": "2023-03-07T15:49:54.955Z"
   },
   {
    "duration": 482,
    "start_time": "2023-03-07T15:50:18.316Z"
   },
   {
    "duration": 477,
    "start_time": "2023-03-07T15:50:29.457Z"
   },
   {
    "duration": 408,
    "start_time": "2023-03-07T15:51:10.299Z"
   },
   {
    "duration": 428,
    "start_time": "2023-03-07T15:55:39.826Z"
   },
   {
    "duration": 451,
    "start_time": "2023-03-07T15:56:26.133Z"
   },
   {
    "duration": 27,
    "start_time": "2023-03-07T15:56:36.536Z"
   },
   {
    "duration": 499,
    "start_time": "2023-03-07T15:56:40.499Z"
   },
   {
    "duration": 18,
    "start_time": "2023-03-07T15:56:54.625Z"
   },
   {
    "duration": 442,
    "start_time": "2023-03-07T15:56:59.114Z"
   },
   {
    "duration": 461,
    "start_time": "2023-03-07T16:01:35.032Z"
   },
   {
    "duration": 1862,
    "start_time": "2023-03-07T16:02:36.733Z"
   },
   {
    "duration": 519,
    "start_time": "2023-03-07T16:02:44.927Z"
   },
   {
    "duration": 28,
    "start_time": "2023-03-07T16:08:00.332Z"
   },
   {
    "duration": 32,
    "start_time": "2023-03-07T16:08:22.325Z"
   },
   {
    "duration": 34,
    "start_time": "2023-03-07T16:08:38.758Z"
   },
   {
    "duration": 28,
    "start_time": "2023-03-07T16:08:44.429Z"
   },
   {
    "duration": 30,
    "start_time": "2023-03-07T16:09:24.208Z"
   },
   {
    "duration": 24,
    "start_time": "2023-03-07T16:09:54.473Z"
   },
   {
    "duration": 5,
    "start_time": "2023-03-07T16:10:35.149Z"
   },
   {
    "duration": 9,
    "start_time": "2023-03-07T16:11:48.231Z"
   },
   {
    "duration": 44,
    "start_time": "2023-03-07T16:11:52.324Z"
   },
   {
    "duration": 62,
    "start_time": "2023-03-07T16:12:26.426Z"
   },
   {
    "duration": 42,
    "start_time": "2023-03-07T16:13:36.333Z"
   },
   {
    "duration": 3203,
    "start_time": "2023-03-07T16:14:11.738Z"
   },
   {
    "duration": 4,
    "start_time": "2023-03-07T16:14:25.936Z"
   },
   {
    "duration": 2593,
    "start_time": "2023-03-07T16:14:30.977Z"
   },
   {
    "duration": 50,
    "start_time": "2023-03-07T16:14:55.851Z"
   },
   {
    "duration": 21,
    "start_time": "2023-03-07T16:15:10.542Z"
   },
   {
    "duration": 375,
    "start_time": "2023-03-07T16:17:09.022Z"
   },
   {
    "duration": 6,
    "start_time": "2023-03-07T16:18:06.154Z"
   },
   {
    "duration": 414,
    "start_time": "2023-03-07T16:23:57.444Z"
   },
   {
    "duration": 16,
    "start_time": "2023-03-07T16:31:58.074Z"
   },
   {
    "duration": 18,
    "start_time": "2023-03-07T16:32:25.447Z"
   },
   {
    "duration": 9,
    "start_time": "2023-03-07T16:33:20.273Z"
   },
   {
    "duration": 407,
    "start_time": "2023-03-07T16:34:26.128Z"
   },
   {
    "duration": 34,
    "start_time": "2023-03-07T16:42:24.427Z"
   },
   {
    "duration": 32,
    "start_time": "2023-03-07T16:43:36.629Z"
   },
   {
    "duration": 6,
    "start_time": "2023-03-07T16:44:44.763Z"
   },
   {
    "duration": 4,
    "start_time": "2023-03-07T16:47:07.091Z"
   },
   {
    "duration": 6,
    "start_time": "2023-03-07T16:48:22.191Z"
   },
   {
    "duration": 538,
    "start_time": "2023-03-07T16:49:37.730Z"
   },
   {
    "duration": 28,
    "start_time": "2023-03-07T16:55:36.029Z"
   },
   {
    "duration": 22,
    "start_time": "2023-03-07T16:55:39.730Z"
   },
   {
    "duration": 25,
    "start_time": "2023-03-07T16:56:42.526Z"
   },
   {
    "duration": 9,
    "start_time": "2023-03-07T16:57:15.427Z"
   },
   {
    "duration": 10,
    "start_time": "2023-03-07T16:57:33.694Z"
   },
   {
    "duration": 31,
    "start_time": "2023-03-07T16:58:21.840Z"
   },
   {
    "duration": 21,
    "start_time": "2023-03-07T17:00:10.629Z"
   },
   {
    "duration": 13,
    "start_time": "2023-03-07T17:01:29.972Z"
   },
   {
    "duration": 50,
    "start_time": "2023-03-07T17:01:52.966Z"
   },
   {
    "duration": 1294,
    "start_time": "2023-03-09T10:17:47.867Z"
   },
   {
    "duration": 2900,
    "start_time": "2023-03-09T10:17:49.162Z"
   },
   {
    "duration": 21,
    "start_time": "2023-03-09T10:17:52.064Z"
   },
   {
    "duration": 34,
    "start_time": "2023-03-09T10:17:52.087Z"
   },
   {
    "duration": 12,
    "start_time": "2023-03-09T10:17:52.123Z"
   },
   {
    "duration": 12,
    "start_time": "2023-03-09T10:17:52.136Z"
   },
   {
    "duration": 54,
    "start_time": "2023-03-09T10:17:52.150Z"
   },
   {
    "duration": 410,
    "start_time": "2023-03-09T10:17:52.206Z"
   },
   {
    "duration": 457,
    "start_time": "2023-03-09T10:17:52.618Z"
   },
   {
    "duration": 21,
    "start_time": "2023-03-09T10:17:53.077Z"
   },
   {
    "duration": 22,
    "start_time": "2023-03-09T10:17:53.100Z"
   },
   {
    "duration": 78,
    "start_time": "2023-03-09T10:17:53.123Z"
   },
   {
    "duration": 39,
    "start_time": "2023-03-09T10:17:53.204Z"
   },
   {
    "duration": 33,
    "start_time": "2023-03-09T10:17:53.245Z"
   },
   {
    "duration": 19,
    "start_time": "2023-03-09T10:17:53.280Z"
   },
   {
    "duration": 90,
    "start_time": "2023-03-09T10:17:53.301Z"
   },
   {
    "duration": 23,
    "start_time": "2023-03-09T10:17:53.393Z"
   },
   {
    "duration": 18,
    "start_time": "2023-03-09T10:17:53.418Z"
   },
   {
    "duration": 80,
    "start_time": "2023-03-09T10:17:53.437Z"
   },
   {
    "duration": 19,
    "start_time": "2023-03-09T10:17:53.519Z"
   },
   {
    "duration": 34,
    "start_time": "2023-03-09T10:17:53.539Z"
   },
   {
    "duration": 77,
    "start_time": "2023-03-09T10:17:53.575Z"
   },
   {
    "duration": 35,
    "start_time": "2023-03-09T10:17:53.654Z"
   },
   {
    "duration": 18,
    "start_time": "2023-03-09T10:17:53.691Z"
   },
   {
    "duration": 64,
    "start_time": "2023-03-09T10:17:53.711Z"
   },
   {
    "duration": 61,
    "start_time": "2023-03-09T10:17:53.777Z"
   },
   {
    "duration": 5,
    "start_time": "2023-03-09T10:17:53.840Z"
   },
   {
    "duration": 436,
    "start_time": "2023-03-09T10:17:53.849Z"
   },
   {
    "duration": 31,
    "start_time": "2023-03-09T10:17:54.287Z"
   },
   {
    "duration": 49,
    "start_time": "2023-03-09T10:17:54.320Z"
   },
   {
    "duration": 20,
    "start_time": "2023-03-09T10:17:54.371Z"
   },
   {
    "duration": 17,
    "start_time": "2023-03-09T10:17:54.393Z"
   },
   {
    "duration": 18,
    "start_time": "2023-03-09T10:17:54.411Z"
   },
   {
    "duration": 7,
    "start_time": "2023-03-09T10:17:54.431Z"
   },
   {
    "duration": 369,
    "start_time": "2023-03-09T10:17:54.470Z"
   },
   {
    "duration": 318,
    "start_time": "2023-03-09T10:17:54.840Z"
   },
   {
    "duration": 31,
    "start_time": "2023-03-09T10:17:55.160Z"
   },
   {
    "duration": 5,
    "start_time": "2023-03-09T10:17:55.193Z"
   },
   {
    "duration": 10,
    "start_time": "2023-03-09T10:17:55.199Z"
   },
   {
    "duration": 395,
    "start_time": "2023-03-09T10:17:55.210Z"
   },
   {
    "duration": 318,
    "start_time": "2023-03-09T10:17:55.607Z"
   },
   {
    "duration": 18,
    "start_time": "2023-03-09T10:17:55.927Z"
   },
   {
    "duration": 12,
    "start_time": "2023-03-09T10:17:55.946Z"
   },
   {
    "duration": 45,
    "start_time": "2023-03-09T10:17:55.970Z"
   },
   {
    "duration": 25,
    "start_time": "2023-03-09T10:20:53.745Z"
   },
   {
    "duration": 17,
    "start_time": "2023-03-09T10:21:42.807Z"
   },
   {
    "duration": 20,
    "start_time": "2023-03-09T10:21:54.214Z"
   },
   {
    "duration": 11,
    "start_time": "2023-03-09T10:21:57.432Z"
   },
   {
    "duration": 3,
    "start_time": "2023-03-09T10:22:13.904Z"
   },
   {
    "duration": 782,
    "start_time": "2023-03-09T10:22:13.909Z"
   },
   {
    "duration": 13,
    "start_time": "2023-03-09T10:22:14.693Z"
   },
   {
    "duration": 19,
    "start_time": "2023-03-09T10:22:14.707Z"
   },
   {
    "duration": 4,
    "start_time": "2023-03-09T10:22:14.728Z"
   },
   {
    "duration": 12,
    "start_time": "2023-03-09T10:22:14.733Z"
   },
   {
    "duration": 50,
    "start_time": "2023-03-09T10:22:14.746Z"
   },
   {
    "duration": 346,
    "start_time": "2023-03-09T10:22:14.797Z"
   },
   {
    "duration": 342,
    "start_time": "2023-03-09T10:22:15.145Z"
   },
   {
    "duration": 19,
    "start_time": "2023-03-09T10:22:15.488Z"
   },
   {
    "duration": 21,
    "start_time": "2023-03-09T10:22:15.509Z"
   },
   {
    "duration": 56,
    "start_time": "2023-03-09T10:22:15.532Z"
   },
   {
    "duration": 36,
    "start_time": "2023-03-09T10:22:15.590Z"
   },
   {
    "duration": 18,
    "start_time": "2023-03-09T10:22:15.628Z"
   },
   {
    "duration": 36,
    "start_time": "2023-03-09T10:22:15.647Z"
   },
   {
    "duration": 51,
    "start_time": "2023-03-09T10:22:15.685Z"
   },
   {
    "duration": 33,
    "start_time": "2023-03-09T10:22:15.738Z"
   },
   {
    "duration": 33,
    "start_time": "2023-03-09T10:22:15.773Z"
   },
   {
    "duration": 57,
    "start_time": "2023-03-09T10:22:15.808Z"
   },
   {
    "duration": 18,
    "start_time": "2023-03-09T10:22:15.866Z"
   },
   {
    "duration": 15,
    "start_time": "2023-03-09T10:22:15.885Z"
   },
   {
    "duration": 47,
    "start_time": "2023-03-09T10:22:15.902Z"
   },
   {
    "duration": 29,
    "start_time": "2023-03-09T10:22:15.951Z"
   },
   {
    "duration": 17,
    "start_time": "2023-03-09T10:22:15.982Z"
   },
   {
    "duration": 48,
    "start_time": "2023-03-09T10:22:16.001Z"
   },
   {
    "duration": 75,
    "start_time": "2023-03-09T10:22:16.050Z"
   },
   {
    "duration": 6,
    "start_time": "2023-03-09T10:22:16.126Z"
   },
   {
    "duration": 375,
    "start_time": "2023-03-09T10:22:16.133Z"
   },
   {
    "duration": 22,
    "start_time": "2023-03-09T10:22:16.511Z"
   },
   {
    "duration": 55,
    "start_time": "2023-03-09T10:22:16.535Z"
   },
   {
    "duration": 20,
    "start_time": "2023-03-09T10:22:16.592Z"
   },
   {
    "duration": 15,
    "start_time": "2023-03-09T10:22:16.614Z"
   },
   {
    "duration": 39,
    "start_time": "2023-03-09T10:22:16.631Z"
   },
   {
    "duration": 6,
    "start_time": "2023-03-09T10:22:16.672Z"
   },
   {
    "duration": 347,
    "start_time": "2023-03-09T10:22:16.679Z"
   },
   {
    "duration": 292,
    "start_time": "2023-03-09T10:22:17.027Z"
   },
   {
    "duration": 23,
    "start_time": "2023-03-09T10:22:17.320Z"
   },
   {
    "duration": 5,
    "start_time": "2023-03-09T10:22:17.344Z"
   },
   {
    "duration": 35,
    "start_time": "2023-03-09T10:22:17.351Z"
   },
   {
    "duration": 388,
    "start_time": "2023-03-09T10:22:17.387Z"
   },
   {
    "duration": 366,
    "start_time": "2023-03-09T10:22:17.777Z"
   },
   {
    "duration": 28,
    "start_time": "2023-03-09T10:22:18.145Z"
   },
   {
    "duration": 18,
    "start_time": "2023-03-09T10:22:18.175Z"
   },
   {
    "duration": 14,
    "start_time": "2023-03-09T10:22:18.194Z"
   },
   {
    "duration": 67,
    "start_time": "2023-03-09T10:22:18.209Z"
   },
   {
    "duration": 10,
    "start_time": "2023-03-09T10:22:42.398Z"
   },
   {
    "duration": 12,
    "start_time": "2023-03-09T10:23:15.380Z"
   },
   {
    "duration": 193,
    "start_time": "2023-03-09T10:26:02.005Z"
   },
   {
    "duration": 113,
    "start_time": "2023-03-09T10:29:53.301Z"
   },
   {
    "duration": 10,
    "start_time": "2023-03-09T10:30:08.703Z"
   },
   {
    "duration": 4,
    "start_time": "2023-03-09T10:31:08.560Z"
   },
   {
    "duration": 4,
    "start_time": "2023-03-09T10:38:18.775Z"
   },
   {
    "duration": 63,
    "start_time": "2023-03-09T10:41:53.390Z"
   },
   {
    "duration": 14,
    "start_time": "2023-03-09T10:42:04.871Z"
   },
   {
    "duration": 100,
    "start_time": "2023-03-09T10:43:34.529Z"
   },
   {
    "duration": 12,
    "start_time": "2023-03-09T10:43:35.006Z"
   },
   {
    "duration": 103,
    "start_time": "2023-03-09T10:44:54.417Z"
   },
   {
    "duration": 11,
    "start_time": "2023-03-09T10:44:54.945Z"
   },
   {
    "duration": 13,
    "start_time": "2023-03-09T10:44:59.449Z"
   },
   {
    "duration": 101,
    "start_time": "2023-03-09T10:45:54.200Z"
   },
   {
    "duration": 12,
    "start_time": "2023-03-09T10:45:54.814Z"
   },
   {
    "duration": 103,
    "start_time": "2023-03-09T10:46:06.929Z"
   },
   {
    "duration": 12,
    "start_time": "2023-03-09T10:46:07.482Z"
   },
   {
    "duration": 9,
    "start_time": "2023-03-09T10:46:15.687Z"
   },
   {
    "duration": 13,
    "start_time": "2023-03-09T10:46:16.283Z"
   },
   {
    "duration": 6612,
    "start_time": "2023-03-09T10:47:40.605Z"
   },
   {
    "duration": 12,
    "start_time": "2023-03-09T10:47:47.219Z"
   },
   {
    "duration": 13,
    "start_time": "2023-03-09T10:48:05.591Z"
   },
   {
    "duration": 51,
    "start_time": "2023-03-09T10:48:08.776Z"
   },
   {
    "duration": 142,
    "start_time": "2023-03-09T10:48:42.349Z"
   },
   {
    "duration": 13,
    "start_time": "2023-03-09T10:48:44.382Z"
   },
   {
    "duration": 92,
    "start_time": "2023-03-09T10:49:47.186Z"
   },
   {
    "duration": 12,
    "start_time": "2023-03-09T10:49:47.701Z"
   },
   {
    "duration": 10,
    "start_time": "2023-03-09T10:51:11.388Z"
   },
   {
    "duration": 3,
    "start_time": "2023-03-09T10:51:11.883Z"
   },
   {
    "duration": 18,
    "start_time": "2023-03-09T10:54:28.132Z"
   },
   {
    "duration": 35,
    "start_time": "2023-03-09T10:54:39.525Z"
   },
   {
    "duration": 33,
    "start_time": "2023-03-09T11:05:59.549Z"
   },
   {
    "duration": 4,
    "start_time": "2023-03-09T11:06:19.493Z"
   },
   {
    "duration": 20,
    "start_time": "2023-03-09T11:10:12.524Z"
   },
   {
    "duration": 108,
    "start_time": "2023-03-09T11:10:51.386Z"
   },
   {
    "duration": 76,
    "start_time": "2023-03-09T11:13:19.339Z"
   },
   {
    "duration": 3,
    "start_time": "2023-03-09T12:10:21.922Z"
   },
   {
    "duration": 938,
    "start_time": "2023-03-09T12:10:21.927Z"
   },
   {
    "duration": 26,
    "start_time": "2023-03-09T12:10:22.867Z"
   },
   {
    "duration": 30,
    "start_time": "2023-03-09T12:10:22.898Z"
   },
   {
    "duration": 8,
    "start_time": "2023-03-09T12:10:22.931Z"
   },
   {
    "duration": 17,
    "start_time": "2023-03-09T12:10:22.941Z"
   },
   {
    "duration": 65,
    "start_time": "2023-03-09T12:10:22.959Z"
   },
   {
    "duration": 436,
    "start_time": "2023-03-09T12:10:23.026Z"
   },
   {
    "duration": 439,
    "start_time": "2023-03-09T12:10:23.464Z"
   },
   {
    "duration": 28,
    "start_time": "2023-03-09T12:10:23.906Z"
   },
   {
    "duration": 39,
    "start_time": "2023-03-09T12:10:23.936Z"
   },
   {
    "duration": 85,
    "start_time": "2023-03-09T12:10:23.978Z"
   },
   {
    "duration": 64,
    "start_time": "2023-03-09T12:10:24.067Z"
   },
   {
    "duration": 26,
    "start_time": "2023-03-09T12:10:24.133Z"
   },
   {
    "duration": 49,
    "start_time": "2023-03-09T12:10:24.169Z"
   },
   {
    "duration": 95,
    "start_time": "2023-03-09T12:10:24.220Z"
   },
   {
    "duration": 23,
    "start_time": "2023-03-09T12:10:24.317Z"
   },
   {
    "duration": 22,
    "start_time": "2023-03-09T12:10:24.342Z"
   },
   {
    "duration": 74,
    "start_time": "2023-03-09T12:10:24.369Z"
   },
   {
    "duration": 29,
    "start_time": "2023-03-09T12:10:24.445Z"
   },
   {
    "duration": 37,
    "start_time": "2023-03-09T12:10:24.476Z"
   },
   {
    "duration": 72,
    "start_time": "2023-03-09T12:10:24.515Z"
   },
   {
    "duration": 19,
    "start_time": "2023-03-09T12:10:24.596Z"
   },
   {
    "duration": 16,
    "start_time": "2023-03-09T12:10:24.617Z"
   },
   {
    "duration": 66,
    "start_time": "2023-03-09T12:10:24.635Z"
   },
   {
    "duration": 59,
    "start_time": "2023-03-09T12:10:24.703Z"
   },
   {
    "duration": 7,
    "start_time": "2023-03-09T12:10:24.763Z"
   },
   {
    "duration": 527,
    "start_time": "2023-03-09T12:10:24.772Z"
   },
   {
    "duration": 25,
    "start_time": "2023-03-09T12:10:25.301Z"
   },
   {
    "duration": 79,
    "start_time": "2023-03-09T12:10:25.328Z"
   },
   {
    "duration": 21,
    "start_time": "2023-03-09T12:10:25.408Z"
   },
   {
    "duration": 16,
    "start_time": "2023-03-09T12:10:25.431Z"
   },
   {
    "duration": 42,
    "start_time": "2023-03-09T12:10:25.449Z"
   },
   {
    "duration": 15,
    "start_time": "2023-03-09T12:10:25.496Z"
   },
   {
    "duration": 447,
    "start_time": "2023-03-09T12:10:25.512Z"
   },
   {
    "duration": 364,
    "start_time": "2023-03-09T12:10:25.961Z"
   },
   {
    "duration": 22,
    "start_time": "2023-03-09T12:10:26.329Z"
   },
   {
    "duration": 21,
    "start_time": "2023-03-09T12:10:26.353Z"
   },
   {
    "duration": 10,
    "start_time": "2023-03-09T12:10:26.376Z"
   },
   {
    "duration": 465,
    "start_time": "2023-03-09T12:10:26.388Z"
   },
   {
    "duration": 373,
    "start_time": "2023-03-09T12:10:26.855Z"
   },
   {
    "duration": 16,
    "start_time": "2023-03-09T12:10:27.230Z"
   },
   {
    "duration": 43,
    "start_time": "2023-03-09T12:10:27.248Z"
   },
   {
    "duration": 76,
    "start_time": "2023-03-09T12:10:27.295Z"
   },
   {
    "duration": 105,
    "start_time": "2023-03-09T12:10:27.384Z"
   },
   {
    "duration": 14,
    "start_time": "2023-03-09T12:10:27.491Z"
   },
   {
    "duration": 17,
    "start_time": "2023-03-09T12:10:27.508Z"
   },
   {
    "duration": 4,
    "start_time": "2023-03-09T12:10:27.526Z"
   },
   {
    "duration": 51,
    "start_time": "2023-03-09T12:10:27.531Z"
   },
   {
    "duration": 14,
    "start_time": "2023-03-09T12:10:27.586Z"
   },
   {
    "duration": 103,
    "start_time": "2023-03-09T12:10:27.602Z"
   },
   {
    "duration": 88,
    "start_time": "2023-03-09T12:25:10.912Z"
   },
   {
    "duration": 5,
    "start_time": "2023-03-09T12:25:21.254Z"
   },
   {
    "duration": 162,
    "start_time": "2023-03-09T12:25:43.726Z"
   },
   {
    "duration": 118,
    "start_time": "2023-03-09T12:28:39.753Z"
   },
   {
    "duration": 124,
    "start_time": "2023-03-09T12:30:24.852Z"
   },
   {
    "duration": 72,
    "start_time": "2023-03-09T12:30:30.933Z"
   },
   {
    "duration": 175,
    "start_time": "2023-03-09T12:32:53.371Z"
   },
   {
    "duration": 81,
    "start_time": "2023-03-09T12:32:56.042Z"
   },
   {
    "duration": 65,
    "start_time": "2023-03-09T12:39:11.566Z"
   },
   {
    "duration": 6,
    "start_time": "2023-03-09T12:40:48.093Z"
   },
   {
    "duration": 50,
    "start_time": "2023-03-09T12:40:56.126Z"
   },
   {
    "duration": 64,
    "start_time": "2023-03-09T12:41:01.686Z"
   },
   {
    "duration": 60,
    "start_time": "2023-03-09T12:41:31.636Z"
   },
   {
    "duration": 6,
    "start_time": "2023-03-09T12:41:40.657Z"
   },
   {
    "duration": 1042,
    "start_time": "2023-03-09T12:41:40.665Z"
   },
   {
    "duration": 19,
    "start_time": "2023-03-09T12:41:41.709Z"
   },
   {
    "duration": 20,
    "start_time": "2023-03-09T12:41:41.730Z"
   },
   {
    "duration": 19,
    "start_time": "2023-03-09T12:41:41.752Z"
   },
   {
    "duration": 13,
    "start_time": "2023-03-09T12:41:41.775Z"
   },
   {
    "duration": 63,
    "start_time": "2023-03-09T12:41:41.790Z"
   },
   {
    "duration": 442,
    "start_time": "2023-03-09T12:41:41.855Z"
   },
   {
    "duration": 441,
    "start_time": "2023-03-09T12:41:42.301Z"
   },
   {
    "duration": 32,
    "start_time": "2023-03-09T12:41:42.746Z"
   },
   {
    "duration": 55,
    "start_time": "2023-03-09T12:41:42.781Z"
   },
   {
    "duration": 94,
    "start_time": "2023-03-09T12:41:42.838Z"
   },
   {
    "duration": 69,
    "start_time": "2023-03-09T12:41:42.934Z"
   },
   {
    "duration": 25,
    "start_time": "2023-03-09T12:41:43.013Z"
   },
   {
    "duration": 20,
    "start_time": "2023-03-09T12:41:43.040Z"
   },
   {
    "duration": 82,
    "start_time": "2023-03-09T12:41:43.062Z"
   },
   {
    "duration": 20,
    "start_time": "2023-03-09T12:41:43.146Z"
   },
   {
    "duration": 68,
    "start_time": "2023-03-09T12:41:43.168Z"
   },
   {
    "duration": 93,
    "start_time": "2023-03-09T12:41:43.237Z"
   },
   {
    "duration": 26,
    "start_time": "2023-03-09T12:41:43.332Z"
   },
   {
    "duration": 44,
    "start_time": "2023-03-09T12:41:43.360Z"
   },
   {
    "duration": 124,
    "start_time": "2023-03-09T12:41:43.407Z"
   },
   {
    "duration": 16,
    "start_time": "2023-03-09T12:41:43.533Z"
   },
   {
    "duration": 22,
    "start_time": "2023-03-09T12:41:43.551Z"
   },
   {
    "duration": 91,
    "start_time": "2023-03-09T12:41:43.575Z"
   },
   {
    "duration": 87,
    "start_time": "2023-03-09T12:41:43.668Z"
   },
   {
    "duration": 21,
    "start_time": "2023-03-09T12:41:43.757Z"
   },
   {
    "duration": 545,
    "start_time": "2023-03-09T12:41:43.785Z"
   },
   {
    "duration": 25,
    "start_time": "2023-03-09T12:41:44.332Z"
   },
   {
    "duration": 72,
    "start_time": "2023-03-09T12:41:44.373Z"
   },
   {
    "duration": 31,
    "start_time": "2023-03-09T12:41:44.447Z"
   },
   {
    "duration": 45,
    "start_time": "2023-03-09T12:41:44.480Z"
   },
   {
    "duration": 27,
    "start_time": "2023-03-09T12:41:44.527Z"
   },
   {
    "duration": 6,
    "start_time": "2023-03-09T12:41:44.556Z"
   },
   {
    "duration": 691,
    "start_time": "2023-03-09T12:41:44.564Z"
   },
   {
    "duration": 393,
    "start_time": "2023-03-09T12:41:45.257Z"
   },
   {
    "duration": 51,
    "start_time": "2023-03-09T12:41:45.652Z"
   },
   {
    "duration": 32,
    "start_time": "2023-03-09T12:41:45.705Z"
   },
   {
    "duration": 10,
    "start_time": "2023-03-09T12:41:45.739Z"
   },
   {
    "duration": 537,
    "start_time": "2023-03-09T12:41:45.750Z"
   },
   {
    "duration": 388,
    "start_time": "2023-03-09T12:41:46.295Z"
   },
   {
    "duration": 24,
    "start_time": "2023-03-09T12:41:46.685Z"
   },
   {
    "duration": 21,
    "start_time": "2023-03-09T12:41:46.712Z"
   },
   {
    "duration": 83,
    "start_time": "2023-03-09T12:41:46.735Z"
   },
   {
    "duration": 6,
    "start_time": "2023-03-09T12:41:46.820Z"
   },
   {
    "duration": 84,
    "start_time": "2023-03-09T12:41:46.828Z"
   },
   {
    "duration": 143,
    "start_time": "2023-03-09T12:41:46.915Z"
   },
   {
    "duration": 27,
    "start_time": "2023-03-09T12:41:47.060Z"
   },
   {
    "duration": 77,
    "start_time": "2023-03-09T12:41:47.090Z"
   },
   {
    "duration": 51,
    "start_time": "2023-03-09T12:41:47.169Z"
   },
   {
    "duration": 4,
    "start_time": "2023-03-09T12:41:47.222Z"
   },
   {
    "duration": 55,
    "start_time": "2023-03-09T12:41:47.228Z"
   },
   {
    "duration": 8,
    "start_time": "2023-03-09T12:41:47.296Z"
   },
   {
    "duration": 237,
    "start_time": "2023-03-09T12:41:47.306Z"
   },
   {
    "duration": 86,
    "start_time": "2023-03-09T12:41:47.545Z"
   },
   {
    "duration": 82,
    "start_time": "2023-03-09T12:42:01.760Z"
   },
   {
    "duration": 4,
    "start_time": "2023-03-09T12:44:01.227Z"
   },
   {
    "duration": 1067,
    "start_time": "2023-03-09T12:44:01.233Z"
   },
   {
    "duration": 17,
    "start_time": "2023-03-09T12:44:02.302Z"
   },
   {
    "duration": 31,
    "start_time": "2023-03-09T12:44:02.321Z"
   },
   {
    "duration": 43,
    "start_time": "2023-03-09T12:44:02.353Z"
   },
   {
    "duration": 25,
    "start_time": "2023-03-09T12:44:02.398Z"
   },
   {
    "duration": 51,
    "start_time": "2023-03-09T12:44:02.425Z"
   },
   {
    "duration": 403,
    "start_time": "2023-03-09T12:44:02.488Z"
   },
   {
    "duration": 417,
    "start_time": "2023-03-09T12:44:02.896Z"
   },
   {
    "duration": 25,
    "start_time": "2023-03-09T12:44:03.317Z"
   },
   {
    "duration": 60,
    "start_time": "2023-03-09T12:44:03.344Z"
   },
   {
    "duration": 72,
    "start_time": "2023-03-09T12:44:03.411Z"
   },
   {
    "duration": 53,
    "start_time": "2023-03-09T12:44:03.485Z"
   },
   {
    "duration": 20,
    "start_time": "2023-03-09T12:44:03.539Z"
   },
   {
    "duration": 74,
    "start_time": "2023-03-09T12:44:03.561Z"
   },
   {
    "duration": 93,
    "start_time": "2023-03-09T12:44:03.637Z"
   },
   {
    "duration": 66,
    "start_time": "2023-03-09T12:44:03.733Z"
   },
   {
    "duration": 28,
    "start_time": "2023-03-09T12:44:03.808Z"
   },
   {
    "duration": 82,
    "start_time": "2023-03-09T12:44:03.838Z"
   },
   {
    "duration": 24,
    "start_time": "2023-03-09T12:44:03.922Z"
   },
   {
    "duration": 51,
    "start_time": "2023-03-09T12:44:03.949Z"
   },
   {
    "duration": 127,
    "start_time": "2023-03-09T12:44:04.003Z"
   },
   {
    "duration": 22,
    "start_time": "2023-03-09T12:44:04.133Z"
   },
   {
    "duration": 80,
    "start_time": "2023-03-09T12:44:04.157Z"
   },
   {
    "duration": 107,
    "start_time": "2023-03-09T12:44:04.240Z"
   },
   {
    "duration": 112,
    "start_time": "2023-03-09T12:44:04.349Z"
   },
   {
    "duration": 69,
    "start_time": "2023-03-09T12:44:04.463Z"
   },
   {
    "duration": 581,
    "start_time": "2023-03-09T12:44:04.537Z"
   },
   {
    "duration": 29,
    "start_time": "2023-03-09T12:44:05.125Z"
   },
   {
    "duration": 133,
    "start_time": "2023-03-09T12:44:05.157Z"
   },
   {
    "duration": 42,
    "start_time": "2023-03-09T12:44:05.294Z"
   },
   {
    "duration": 61,
    "start_time": "2023-03-09T12:44:05.338Z"
   },
   {
    "duration": 42,
    "start_time": "2023-03-09T12:44:05.407Z"
   },
   {
    "duration": 15,
    "start_time": "2023-03-09T12:44:05.451Z"
   },
   {
    "duration": 549,
    "start_time": "2023-03-09T12:44:05.468Z"
   },
   {
    "duration": 378,
    "start_time": "2023-03-09T12:44:06.019Z"
   },
   {
    "duration": 27,
    "start_time": "2023-03-09T12:44:06.399Z"
   },
   {
    "duration": 6,
    "start_time": "2023-03-09T12:44:06.428Z"
   },
   {
    "duration": 17,
    "start_time": "2023-03-09T12:44:06.436Z"
   },
   {
    "duration": 490,
    "start_time": "2023-03-09T12:44:06.455Z"
   },
   {
    "duration": 404,
    "start_time": "2023-03-09T12:44:06.946Z"
   },
   {
    "duration": 48,
    "start_time": "2023-03-09T12:44:07.351Z"
   },
   {
    "duration": 37,
    "start_time": "2023-03-09T12:44:07.401Z"
   },
   {
    "duration": 65,
    "start_time": "2023-03-09T12:44:07.440Z"
   },
   {
    "duration": 9,
    "start_time": "2023-03-09T12:44:07.507Z"
   },
   {
    "duration": 13,
    "start_time": "2023-03-09T12:44:07.517Z"
   },
   {
    "duration": 7,
    "start_time": "2023-03-09T12:44:07.531Z"
   },
   {
    "duration": 12,
    "start_time": "2023-03-09T12:44:07.539Z"
   },
   {
    "duration": 3,
    "start_time": "2023-03-09T12:44:07.553Z"
   },
   {
    "duration": 64,
    "start_time": "2023-03-09T12:44:07.558Z"
   },
   {
    "duration": 4,
    "start_time": "2023-03-09T12:44:07.624Z"
   },
   {
    "duration": 19,
    "start_time": "2023-03-09T12:44:07.630Z"
   },
   {
    "duration": 0,
    "start_time": "2023-03-09T12:44:07.651Z"
   },
   {
    "duration": 172,
    "start_time": "2023-03-09T12:44:22.757Z"
   },
   {
    "duration": 68,
    "start_time": "2023-03-09T12:44:24.765Z"
   },
   {
    "duration": 100,
    "start_time": "2023-03-09T12:47:57.173Z"
   },
   {
    "duration": 219,
    "start_time": "2023-03-09T12:52:29.239Z"
   },
   {
    "duration": 5,
    "start_time": "2023-03-09T12:53:53.610Z"
   },
   {
    "duration": 1092,
    "start_time": "2023-03-09T12:53:53.618Z"
   },
   {
    "duration": 16,
    "start_time": "2023-03-09T12:53:54.713Z"
   },
   {
    "duration": 42,
    "start_time": "2023-03-09T12:53:54.731Z"
   },
   {
    "duration": 7,
    "start_time": "2023-03-09T12:53:54.778Z"
   },
   {
    "duration": 20,
    "start_time": "2023-03-09T12:53:54.787Z"
   },
   {
    "duration": 50,
    "start_time": "2023-03-09T12:53:54.809Z"
   },
   {
    "duration": 467,
    "start_time": "2023-03-09T12:53:54.861Z"
   },
   {
    "duration": 445,
    "start_time": "2023-03-09T12:53:55.331Z"
   },
   {
    "duration": 23,
    "start_time": "2023-03-09T12:53:55.782Z"
   },
   {
    "duration": 23,
    "start_time": "2023-03-09T12:53:55.806Z"
   },
   {
    "duration": 85,
    "start_time": "2023-03-09T12:53:55.831Z"
   },
   {
    "duration": 64,
    "start_time": "2023-03-09T12:53:55.918Z"
   },
   {
    "duration": 24,
    "start_time": "2023-03-09T12:53:55.988Z"
   },
   {
    "duration": 26,
    "start_time": "2023-03-09T12:53:56.014Z"
   },
   {
    "duration": 76,
    "start_time": "2023-03-09T12:53:56.041Z"
   },
   {
    "duration": 22,
    "start_time": "2023-03-09T12:53:56.119Z"
   },
   {
    "duration": 37,
    "start_time": "2023-03-09T12:53:56.143Z"
   },
   {
    "duration": 74,
    "start_time": "2023-03-09T12:53:56.182Z"
   },
   {
    "duration": 40,
    "start_time": "2023-03-09T12:53:56.258Z"
   },
   {
    "duration": 17,
    "start_time": "2023-03-09T12:53:56.300Z"
   },
   {
    "duration": 82,
    "start_time": "2023-03-09T12:53:56.319Z"
   },
   {
    "duration": 32,
    "start_time": "2023-03-09T12:53:56.403Z"
   },
   {
    "duration": 51,
    "start_time": "2023-03-09T12:53:56.438Z"
   },
   {
    "duration": 53,
    "start_time": "2023-03-09T12:53:56.491Z"
   },
   {
    "duration": 77,
    "start_time": "2023-03-09T12:53:56.546Z"
   },
   {
    "duration": 8,
    "start_time": "2023-03-09T12:53:56.625Z"
   },
   {
    "duration": 495,
    "start_time": "2023-03-09T12:53:56.635Z"
   },
   {
    "duration": 42,
    "start_time": "2023-03-09T12:53:57.131Z"
   },
   {
    "duration": 52,
    "start_time": "2023-03-09T12:53:57.179Z"
   },
   {
    "duration": 61,
    "start_time": "2023-03-09T12:53:57.233Z"
   },
   {
    "duration": 38,
    "start_time": "2023-03-09T12:53:57.296Z"
   },
   {
    "duration": 18,
    "start_time": "2023-03-09T12:53:57.336Z"
   },
   {
    "duration": 27,
    "start_time": "2023-03-09T12:53:57.356Z"
   },
   {
    "duration": 409,
    "start_time": "2023-03-09T12:53:57.387Z"
   },
   {
    "duration": 343,
    "start_time": "2023-03-09T12:53:57.798Z"
   },
   {
    "duration": 49,
    "start_time": "2023-03-09T12:53:58.144Z"
   },
   {
    "duration": 8,
    "start_time": "2023-03-09T12:53:58.195Z"
   },
   {
    "duration": 15,
    "start_time": "2023-03-09T12:53:58.205Z"
   },
   {
    "duration": 517,
    "start_time": "2023-03-09T12:53:58.222Z"
   },
   {
    "duration": 348,
    "start_time": "2023-03-09T12:53:58.744Z"
   },
   {
    "duration": 16,
    "start_time": "2023-03-09T12:53:59.094Z"
   },
   {
    "duration": 12,
    "start_time": "2023-03-09T12:53:59.113Z"
   },
   {
    "duration": 84,
    "start_time": "2023-03-09T12:53:59.126Z"
   },
   {
    "duration": 132,
    "start_time": "2023-03-09T12:53:59.213Z"
   },
   {
    "duration": 18,
    "start_time": "2023-03-09T12:53:59.347Z"
   },
   {
    "duration": 50,
    "start_time": "2023-03-09T12:53:59.367Z"
   },
   {
    "duration": 20,
    "start_time": "2023-03-09T12:53:59.419Z"
   },
   {
    "duration": 21,
    "start_time": "2023-03-09T12:53:59.441Z"
   },
   {
    "duration": 78,
    "start_time": "2023-03-09T12:53:59.464Z"
   },
   {
    "duration": 3,
    "start_time": "2023-03-09T12:53:59.544Z"
   },
   {
    "duration": 198,
    "start_time": "2023-03-09T12:53:59.549Z"
   },
   {
    "duration": 5,
    "start_time": "2023-03-09T12:53:59.749Z"
   },
   {
    "duration": 300,
    "start_time": "2023-03-09T12:53:59.756Z"
   },
   {
    "duration": 57,
    "start_time": "2023-03-09T12:56:26.785Z"
   },
   {
    "duration": 259,
    "start_time": "2023-03-09T12:58:04.060Z"
   },
   {
    "duration": 4,
    "start_time": "2023-03-09T13:09:33.445Z"
   },
   {
    "duration": 46,
    "start_time": "2023-03-09T13:09:39.994Z"
   },
   {
    "duration": 26,
    "start_time": "2023-03-09T13:10:02.254Z"
   },
   {
    "duration": 5,
    "start_time": "2023-03-09T13:10:06.557Z"
   },
   {
    "duration": 5,
    "start_time": "2023-03-09T13:10:19.318Z"
   },
   {
    "duration": 1546,
    "start_time": "2023-03-09T13:10:19.325Z"
   },
   {
    "duration": 42,
    "start_time": "2023-03-09T13:10:20.874Z"
   },
   {
    "duration": 24,
    "start_time": "2023-03-09T13:10:20.919Z"
   },
   {
    "duration": 8,
    "start_time": "2023-03-09T13:10:20.945Z"
   },
   {
    "duration": 10,
    "start_time": "2023-03-09T13:10:20.955Z"
   },
   {
    "duration": 99,
    "start_time": "2023-03-09T13:10:20.977Z"
   },
   {
    "duration": 570,
    "start_time": "2023-03-09T13:10:21.079Z"
   },
   {
    "duration": 581,
    "start_time": "2023-03-09T13:10:21.651Z"
   },
   {
    "duration": 43,
    "start_time": "2023-03-09T13:10:22.234Z"
   },
   {
    "duration": 95,
    "start_time": "2023-03-09T13:10:22.280Z"
   },
   {
    "duration": 152,
    "start_time": "2023-03-09T13:10:22.382Z"
   },
   {
    "duration": 69,
    "start_time": "2023-03-09T13:10:22.539Z"
   },
   {
    "duration": 52,
    "start_time": "2023-03-09T13:10:22.615Z"
   },
   {
    "duration": 66,
    "start_time": "2023-03-09T13:10:22.673Z"
   },
   {
    "duration": 124,
    "start_time": "2023-03-09T13:10:22.742Z"
   },
   {
    "duration": 49,
    "start_time": "2023-03-09T13:10:22.869Z"
   },
   {
    "duration": 75,
    "start_time": "2023-03-09T13:10:22.921Z"
   },
   {
    "duration": 123,
    "start_time": "2023-03-09T13:10:22.999Z"
   },
   {
    "duration": 23,
    "start_time": "2023-03-09T13:10:23.124Z"
   },
   {
    "duration": 39,
    "start_time": "2023-03-09T13:10:23.150Z"
   },
   {
    "duration": 140,
    "start_time": "2023-03-09T13:10:23.192Z"
   },
   {
    "duration": 28,
    "start_time": "2023-03-09T13:10:23.334Z"
   },
   {
    "duration": 100,
    "start_time": "2023-03-09T13:10:23.364Z"
   },
   {
    "duration": 100,
    "start_time": "2023-03-09T13:10:23.467Z"
   },
   {
    "duration": 104,
    "start_time": "2023-03-09T13:10:23.573Z"
   },
   {
    "duration": 8,
    "start_time": "2023-03-09T13:10:23.679Z"
   },
   {
    "duration": 653,
    "start_time": "2023-03-09T13:10:23.689Z"
   },
   {
    "duration": 33,
    "start_time": "2023-03-09T13:10:24.345Z"
   },
   {
    "duration": 156,
    "start_time": "2023-03-09T13:10:24.380Z"
   },
   {
    "duration": 31,
    "start_time": "2023-03-09T13:10:24.539Z"
   },
   {
    "duration": 28,
    "start_time": "2023-03-09T13:10:24.573Z"
   },
   {
    "duration": 140,
    "start_time": "2023-03-09T13:10:24.603Z"
   },
   {
    "duration": 9,
    "start_time": "2023-03-09T13:10:24.746Z"
   },
   {
    "duration": 554,
    "start_time": "2023-03-09T13:10:24.758Z"
   },
   {
    "duration": 444,
    "start_time": "2023-03-09T13:10:25.314Z"
   },
   {
    "duration": 33,
    "start_time": "2023-03-09T13:10:25.763Z"
   },
   {
    "duration": 41,
    "start_time": "2023-03-09T13:10:25.798Z"
   },
   {
    "duration": 16,
    "start_time": "2023-03-09T13:10:25.841Z"
   },
   {
    "duration": 503,
    "start_time": "2023-03-09T13:10:25.859Z"
   },
   {
    "duration": 601,
    "start_time": "2023-03-09T13:10:26.365Z"
   },
   {
    "duration": 35,
    "start_time": "2023-03-09T13:10:26.980Z"
   },
   {
    "duration": 21,
    "start_time": "2023-03-09T13:10:27.017Z"
   },
   {
    "duration": 71,
    "start_time": "2023-03-09T13:10:27.039Z"
   },
   {
    "duration": 6,
    "start_time": "2023-03-09T13:10:27.119Z"
   },
   {
    "duration": 41,
    "start_time": "2023-03-09T13:10:27.127Z"
   },
   {
    "duration": 72,
    "start_time": "2023-03-09T13:10:27.170Z"
   },
   {
    "duration": 79,
    "start_time": "2023-03-09T13:10:27.244Z"
   },
   {
    "duration": 22,
    "start_time": "2023-03-09T13:10:27.325Z"
   },
   {
    "duration": 5,
    "start_time": "2023-03-09T13:10:27.349Z"
   },
   {
    "duration": 59,
    "start_time": "2023-03-09T13:10:27.356Z"
   },
   {
    "duration": 8,
    "start_time": "2023-03-09T13:10:27.418Z"
   },
   {
    "duration": 153,
    "start_time": "2023-03-09T13:10:27.427Z"
   },
   {
    "duration": 59,
    "start_time": "2023-03-09T13:10:27.588Z"
   },
   {
    "duration": 0,
    "start_time": "2023-03-09T13:10:27.649Z"
   },
   {
    "duration": 84,
    "start_time": "2023-03-09T13:10:52.621Z"
   },
   {
    "duration": 6,
    "start_time": "2023-03-09T13:12:12.940Z"
   },
   {
    "duration": 28,
    "start_time": "2023-03-09T13:12:13.364Z"
   },
   {
    "duration": 10,
    "start_time": "2023-03-09T13:12:13.681Z"
   },
   {
    "duration": 52,
    "start_time": "2023-03-09T13:12:14.502Z"
   },
   {
    "duration": 4,
    "start_time": "2023-03-09T13:12:14.994Z"
   },
   {
    "duration": 210,
    "start_time": "2023-03-09T13:12:15.516Z"
   },
   {
    "duration": 70,
    "start_time": "2023-03-09T13:12:17.612Z"
   },
   {
    "duration": 6,
    "start_time": "2023-03-09T13:12:28.094Z"
   },
   {
    "duration": 1075,
    "start_time": "2023-03-09T13:12:28.102Z"
   },
   {
    "duration": 20,
    "start_time": "2023-03-09T13:12:29.180Z"
   },
   {
    "duration": 27,
    "start_time": "2023-03-09T13:12:29.202Z"
   },
   {
    "duration": 5,
    "start_time": "2023-03-09T13:12:29.231Z"
   },
   {
    "duration": 6,
    "start_time": "2023-03-09T13:12:29.238Z"
   },
   {
    "duration": 56,
    "start_time": "2023-03-09T13:12:29.245Z"
   },
   {
    "duration": 503,
    "start_time": "2023-03-09T13:12:29.303Z"
   },
   {
    "duration": 409,
    "start_time": "2023-03-09T13:12:29.809Z"
   },
   {
    "duration": 19,
    "start_time": "2023-03-09T13:12:30.220Z"
   },
   {
    "duration": 72,
    "start_time": "2023-03-09T13:12:30.243Z"
   },
   {
    "duration": 102,
    "start_time": "2023-03-09T13:12:30.317Z"
   },
   {
    "duration": 37,
    "start_time": "2023-03-09T13:12:30.421Z"
   },
   {
    "duration": 52,
    "start_time": "2023-03-09T13:12:30.460Z"
   },
   {
    "duration": 48,
    "start_time": "2023-03-09T13:12:30.513Z"
   },
   {
    "duration": 96,
    "start_time": "2023-03-09T13:12:30.563Z"
   },
   {
    "duration": 29,
    "start_time": "2023-03-09T13:12:30.661Z"
   },
   {
    "duration": 58,
    "start_time": "2023-03-09T13:12:30.692Z"
   },
   {
    "duration": 108,
    "start_time": "2023-03-09T13:12:30.752Z"
   },
   {
    "duration": 33,
    "start_time": "2023-03-09T13:12:30.862Z"
   },
   {
    "duration": 49,
    "start_time": "2023-03-09T13:12:30.898Z"
   },
   {
    "duration": 113,
    "start_time": "2023-03-09T13:12:30.949Z"
   },
   {
    "duration": 38,
    "start_time": "2023-03-09T13:12:31.064Z"
   },
   {
    "duration": 47,
    "start_time": "2023-03-09T13:12:31.106Z"
   },
   {
    "duration": 140,
    "start_time": "2023-03-09T13:12:31.155Z"
   },
   {
    "duration": 83,
    "start_time": "2023-03-09T13:12:31.297Z"
   },
   {
    "duration": 52,
    "start_time": "2023-03-09T13:12:31.383Z"
   },
   {
    "duration": 507,
    "start_time": "2023-03-09T13:12:31.436Z"
   },
   {
    "duration": 34,
    "start_time": "2023-03-09T13:12:31.948Z"
   },
   {
    "duration": 55,
    "start_time": "2023-03-09T13:12:31.984Z"
   },
   {
    "duration": 50,
    "start_time": "2023-03-09T13:12:32.041Z"
   },
   {
    "duration": 28,
    "start_time": "2023-03-09T13:12:32.093Z"
   },
   {
    "duration": 25,
    "start_time": "2023-03-09T13:12:32.123Z"
   },
   {
    "duration": 23,
    "start_time": "2023-03-09T13:12:32.150Z"
   },
   {
    "duration": 464,
    "start_time": "2023-03-09T13:12:32.174Z"
   },
   {
    "duration": 381,
    "start_time": "2023-03-09T13:12:32.639Z"
   },
   {
    "duration": 24,
    "start_time": "2023-03-09T13:12:33.022Z"
   },
   {
    "duration": 6,
    "start_time": "2023-03-09T13:12:33.048Z"
   },
   {
    "duration": 26,
    "start_time": "2023-03-09T13:12:33.055Z"
   },
   {
    "duration": 492,
    "start_time": "2023-03-09T13:12:33.084Z"
   },
   {
    "duration": 382,
    "start_time": "2023-03-09T13:12:33.578Z"
   },
   {
    "duration": 21,
    "start_time": "2023-03-09T13:12:33.962Z"
   },
   {
    "duration": 52,
    "start_time": "2023-03-09T13:12:33.985Z"
   },
   {
    "duration": 92,
    "start_time": "2023-03-09T13:12:34.039Z"
   },
   {
    "duration": 5,
    "start_time": "2023-03-09T13:12:34.133Z"
   },
   {
    "duration": 75,
    "start_time": "2023-03-09T13:12:34.141Z"
   },
   {
    "duration": 29,
    "start_time": "2023-03-09T13:12:34.218Z"
   },
   {
    "duration": 78,
    "start_time": "2023-03-09T13:12:34.249Z"
   },
   {
    "duration": 59,
    "start_time": "2023-03-09T13:12:34.329Z"
   },
   {
    "duration": 27,
    "start_time": "2023-03-09T13:12:34.393Z"
   },
   {
    "duration": 29,
    "start_time": "2023-03-09T13:12:34.423Z"
   },
   {
    "duration": 22,
    "start_time": "2023-03-09T13:12:34.454Z"
   },
   {
    "duration": 84,
    "start_time": "2023-03-09T13:12:34.478Z"
   },
   {
    "duration": 10,
    "start_time": "2023-03-09T13:12:34.565Z"
   },
   {
    "duration": 279,
    "start_time": "2023-03-09T13:12:34.577Z"
   },
   {
    "duration": 83,
    "start_time": "2023-03-09T13:12:34.858Z"
   },
   {
    "duration": 0,
    "start_time": "2023-03-09T13:12:34.943Z"
   },
   {
    "duration": 263,
    "start_time": "2023-03-09T13:17:40.935Z"
   },
   {
    "duration": 53,
    "start_time": "2023-03-09T13:21:30.614Z"
   },
   {
    "duration": 6,
    "start_time": "2023-03-09T13:21:36.294Z"
   },
   {
    "duration": 11,
    "start_time": "2023-03-09T13:23:32.972Z"
   },
   {
    "duration": 4,
    "start_time": "2023-03-09T13:23:55.596Z"
   },
   {
    "duration": 13,
    "start_time": "2023-03-09T13:24:04.066Z"
   },
   {
    "duration": 5,
    "start_time": "2023-03-09T13:24:04.529Z"
   },
   {
    "duration": 18,
    "start_time": "2023-03-09T13:24:11.518Z"
   },
   {
    "duration": 5,
    "start_time": "2023-03-09T13:24:12.093Z"
   },
   {
    "duration": 35,
    "start_time": "2023-03-09T13:24:32.438Z"
   },
   {
    "duration": 11,
    "start_time": "2023-03-09T13:27:44.651Z"
   },
   {
    "duration": 488,
    "start_time": "2023-03-09T13:27:52.475Z"
   },
   {
    "duration": 4,
    "start_time": "2023-03-09T13:29:20.106Z"
   },
   {
    "duration": 13410,
    "start_time": "2023-03-09T13:30:12.770Z"
   },
   {
    "duration": 15883,
    "start_time": "2023-03-09T13:30:33.795Z"
   },
   {
    "duration": 34407,
    "start_time": "2023-03-09T13:31:40.489Z"
   },
   {
    "duration": 129,
    "start_time": "2023-03-09T13:33:02.120Z"
   },
   {
    "duration": 5,
    "start_time": "2023-03-09T13:33:03.055Z"
   },
   {
    "duration": 18018,
    "start_time": "2023-03-09T13:33:07.759Z"
   },
   {
    "duration": 22388,
    "start_time": "2023-03-09T13:33:48.992Z"
   },
   {
    "duration": 58318,
    "start_time": "2023-03-09T13:35:11.664Z"
   },
   {
    "duration": 84,
    "start_time": "2023-03-09T13:44:01.553Z"
   },
   {
    "duration": 70,
    "start_time": "2023-03-09T13:44:11.984Z"
   },
   {
    "duration": 16,
    "start_time": "2023-03-09T13:44:28.609Z"
   },
   {
    "duration": 61270,
    "start_time": "2023-03-09T13:46:15.706Z"
   },
   {
    "duration": 68946,
    "start_time": "2023-03-09T13:47:34.224Z"
   },
   {
    "duration": 65067,
    "start_time": "2023-03-09T13:49:36.704Z"
   },
   {
    "duration": 71212,
    "start_time": "2023-03-09T13:51:12.367Z"
   },
   {
    "duration": 2233,
    "start_time": "2023-03-09T14:34:33.273Z"
   },
   {
    "duration": 3053,
    "start_time": "2023-03-09T14:34:35.509Z"
   },
   {
    "duration": 21,
    "start_time": "2023-03-09T14:34:38.564Z"
   },
   {
    "duration": 29,
    "start_time": "2023-03-09T14:34:38.587Z"
   },
   {
    "duration": 9,
    "start_time": "2023-03-09T14:34:38.618Z"
   },
   {
    "duration": 10,
    "start_time": "2023-03-09T14:34:38.629Z"
   },
   {
    "duration": 62,
    "start_time": "2023-03-09T14:34:38.640Z"
   },
   {
    "duration": 389,
    "start_time": "2023-03-09T14:34:38.704Z"
   },
   {
    "duration": 469,
    "start_time": "2023-03-09T14:34:39.096Z"
   },
   {
    "duration": 20,
    "start_time": "2023-03-09T14:34:39.566Z"
   },
   {
    "duration": 23,
    "start_time": "2023-03-09T14:34:39.588Z"
   },
   {
    "duration": 62,
    "start_time": "2023-03-09T14:34:39.612Z"
   },
   {
    "duration": 39,
    "start_time": "2023-03-09T14:34:39.676Z"
   },
   {
    "duration": 19,
    "start_time": "2023-03-09T14:34:39.718Z"
   },
   {
    "duration": 48,
    "start_time": "2023-03-09T14:34:39.738Z"
   },
   {
    "duration": 82,
    "start_time": "2023-03-09T14:34:39.788Z"
   },
   {
    "duration": 22,
    "start_time": "2023-03-09T14:34:39.872Z"
   },
   {
    "duration": 27,
    "start_time": "2023-03-09T14:34:39.897Z"
   },
   {
    "duration": 84,
    "start_time": "2023-03-09T14:34:39.927Z"
   },
   {
    "duration": 23,
    "start_time": "2023-03-09T14:34:40.013Z"
   },
   {
    "duration": 37,
    "start_time": "2023-03-09T14:34:40.038Z"
   },
   {
    "duration": 69,
    "start_time": "2023-03-09T14:34:40.077Z"
   },
   {
    "duration": 39,
    "start_time": "2023-03-09T14:34:40.148Z"
   },
   {
    "duration": 17,
    "start_time": "2023-03-09T14:34:40.189Z"
   },
   {
    "duration": 63,
    "start_time": "2023-03-09T14:34:40.208Z"
   },
   {
    "duration": 55,
    "start_time": "2023-03-09T14:34:40.272Z"
   },
   {
    "duration": 5,
    "start_time": "2023-03-09T14:34:40.329Z"
   },
   {
    "duration": 401,
    "start_time": "2023-03-09T14:34:40.336Z"
   },
   {
    "duration": 33,
    "start_time": "2023-03-09T14:34:40.738Z"
   },
   {
    "duration": 42,
    "start_time": "2023-03-09T14:34:40.773Z"
   },
   {
    "duration": 20,
    "start_time": "2023-03-09T14:34:40.817Z"
   },
   {
    "duration": 37,
    "start_time": "2023-03-09T14:34:40.839Z"
   },
   {
    "duration": 16,
    "start_time": "2023-03-09T14:34:40.878Z"
   },
   {
    "duration": 15,
    "start_time": "2023-03-09T14:34:40.895Z"
   },
   {
    "duration": 393,
    "start_time": "2023-03-09T14:34:40.912Z"
   },
   {
    "duration": 318,
    "start_time": "2023-03-09T14:34:41.307Z"
   },
   {
    "duration": 28,
    "start_time": "2023-03-09T14:34:41.628Z"
   },
   {
    "duration": 6,
    "start_time": "2023-03-09T14:34:41.670Z"
   },
   {
    "duration": 13,
    "start_time": "2023-03-09T14:34:41.678Z"
   },
   {
    "duration": 411,
    "start_time": "2023-03-09T14:34:41.693Z"
   },
   {
    "duration": 402,
    "start_time": "2023-03-09T14:34:42.109Z"
   },
   {
    "duration": 17,
    "start_time": "2023-03-09T14:34:42.513Z"
   },
   {
    "duration": 12,
    "start_time": "2023-03-09T14:34:42.532Z"
   },
   {
    "duration": 63,
    "start_time": "2023-03-09T14:34:42.546Z"
   },
   {
    "duration": 4,
    "start_time": "2023-03-09T14:34:42.611Z"
   },
   {
    "duration": 22,
    "start_time": "2023-03-09T14:34:42.617Z"
   },
   {
    "duration": 15,
    "start_time": "2023-03-09T14:34:42.641Z"
   },
   {
    "duration": 12,
    "start_time": "2023-03-09T14:34:42.658Z"
   },
   {
    "duration": 21,
    "start_time": "2023-03-09T14:34:42.672Z"
   },
   {
    "duration": 9,
    "start_time": "2023-03-09T14:34:42.696Z"
   },
   {
    "duration": 17,
    "start_time": "2023-03-09T14:34:42.707Z"
   },
   {
    "duration": 12,
    "start_time": "2023-03-09T14:34:42.726Z"
   },
   {
    "duration": 19,
    "start_time": "2023-03-09T14:34:42.739Z"
   },
   {
    "duration": 290,
    "start_time": "2023-03-09T14:34:42.760Z"
   },
   {
    "duration": 191,
    "start_time": "2023-03-09T14:34:43.052Z"
   },
   {
    "duration": 130,
    "start_time": "2023-03-09T14:34:43.245Z"
   },
   {
    "duration": 5,
    "start_time": "2023-03-09T14:34:43.376Z"
   },
   {
    "duration": 14490,
    "start_time": "2023-03-09T14:34:43.382Z"
   },
   {
    "duration": 60694,
    "start_time": "2023-03-09T14:34:57.875Z"
   },
   {
    "duration": 14614,
    "start_time": "2023-03-09T14:43:12.557Z"
   },
   {
    "duration": 56899,
    "start_time": "2023-03-09T14:43:27.173Z"
   },
   {
    "duration": 14960,
    "start_time": "2023-03-09T14:47:15.817Z"
   },
   {
    "duration": 3,
    "start_time": "2023-03-09T14:49:43.253Z"
   },
   {
    "duration": 572,
    "start_time": "2023-03-09T14:49:43.821Z"
   },
   {
    "duration": 484,
    "start_time": "2023-03-09T14:49:56.422Z"
   },
   {
    "duration": 282740,
    "start_time": "2023-03-09T14:50:23.895Z"
   },
   {
    "duration": 283992,
    "start_time": "2023-03-09T14:57:42.810Z"
   },
   {
    "duration": 72855,
    "start_time": "2023-03-09T15:02:26.804Z"
   },
   {
    "duration": 289148,
    "start_time": "2023-03-09T15:05:00.062Z"
   },
   {
    "duration": 74702,
    "start_time": "2023-03-09T15:09:49.212Z"
   },
   {
    "duration": 95,
    "start_time": "2023-03-09T15:21:09.157Z"
   },
   {
    "duration": 5,
    "start_time": "2023-03-09T15:21:42.060Z"
   },
   {
    "duration": 4,
    "start_time": "2023-03-09T15:23:25.883Z"
   },
   {
    "duration": 61,
    "start_time": "2023-03-09T15:24:35.090Z"
   },
   {
    "duration": 5,
    "start_time": "2023-03-09T15:25:47.346Z"
   },
   {
    "duration": 52,
    "start_time": "2023-03-09T15:37:37.711Z"
   },
   {
    "duration": 3,
    "start_time": "2023-03-09T15:37:41.604Z"
   },
   {
    "duration": 69,
    "start_time": "2023-03-09T15:37:42.059Z"
   },
   {
    "duration": 71,
    "start_time": "2023-03-09T15:38:19.851Z"
   },
   {
    "duration": 4,
    "start_time": "2023-03-09T15:38:19.924Z"
   },
   {
    "duration": 7,
    "start_time": "2023-03-09T15:38:19.930Z"
   },
   {
    "duration": 71,
    "start_time": "2023-03-09T15:38:19.939Z"
   },
   {
    "duration": 4,
    "start_time": "2023-03-09T15:41:55.033Z"
   },
   {
    "duration": 11049,
    "start_time": "2023-03-09T15:42:43.672Z"
   },
   {
    "duration": 4,
    "start_time": "2023-03-09T15:44:53.855Z"
   },
   {
    "duration": 4,
    "start_time": "2023-03-09T15:44:54.031Z"
   },
   {
    "duration": 4,
    "start_time": "2023-03-09T15:44:54.057Z"
   },
   {
    "duration": 11077,
    "start_time": "2023-03-09T15:44:55.535Z"
   },
   {
    "duration": 10500,
    "start_time": "2023-03-09T15:47:24.542Z"
   },
   {
    "duration": 10824,
    "start_time": "2023-03-09T15:47:47.853Z"
   },
   {
    "duration": 10738,
    "start_time": "2023-03-09T15:48:08.005Z"
   },
   {
    "duration": 10708,
    "start_time": "2023-03-09T15:48:43.393Z"
   },
   {
    "duration": 10862,
    "start_time": "2023-03-09T15:49:01.597Z"
   },
   {
    "duration": 10833,
    "start_time": "2023-03-09T15:51:34.373Z"
   },
   {
    "duration": 11038,
    "start_time": "2023-03-09T15:52:14.203Z"
   },
   {
    "duration": 43,
    "start_time": "2023-03-09T15:53:22.355Z"
   },
   {
    "duration": 11058,
    "start_time": "2023-03-09T15:53:25.395Z"
   },
   {
    "duration": 61,
    "start_time": "2023-03-09T16:02:41.574Z"
   },
   {
    "duration": 4,
    "start_time": "2023-03-09T16:02:47.592Z"
   },
   {
    "duration": 410,
    "start_time": "2023-03-09T16:05:07.013Z"
   },
   {
    "duration": 60,
    "start_time": "2023-03-09T16:05:33.370Z"
   },
   {
    "duration": 417,
    "start_time": "2023-03-09T16:05:49.845Z"
   },
   {
    "duration": 424,
    "start_time": "2023-03-09T16:05:56.691Z"
   },
   {
    "duration": 428,
    "start_time": "2023-03-09T16:06:03.988Z"
   },
   {
    "duration": 4,
    "start_time": "2023-03-09T16:06:21.553Z"
   },
   {
    "duration": 442,
    "start_time": "2023-03-09T16:06:22.164Z"
   },
   {
    "duration": 10997,
    "start_time": "2023-03-09T16:06:22.608Z"
   },
   {
    "duration": 8305,
    "start_time": "2023-03-09T16:10:49.388Z"
   },
   {
    "duration": 3,
    "start_time": "2023-03-09T16:10:57.695Z"
   },
   {
    "duration": 8089,
    "start_time": "2023-03-09T16:12:12.184Z"
   },
   {
    "duration": 8238,
    "start_time": "2023-03-09T16:14:21.935Z"
   },
   {
    "duration": 55,
    "start_time": "2023-03-09T16:15:15.902Z"
   },
   {
    "duration": 46,
    "start_time": "2023-03-09T16:15:31.291Z"
   },
   {
    "duration": 26,
    "start_time": "2023-03-09T16:19:47.815Z"
   },
   {
    "duration": 4,
    "start_time": "2023-03-09T16:19:51.108Z"
   },
   {
    "duration": 11618,
    "start_time": "2023-03-09T16:22:48.693Z"
   },
   {
    "duration": 11605,
    "start_time": "2023-03-09T16:23:05.993Z"
   },
   {
    "duration": 11492,
    "start_time": "2023-03-09T16:23:41.818Z"
   },
   {
    "duration": 10875,
    "start_time": "2023-03-09T16:32:01.603Z"
   },
   {
    "duration": 10850,
    "start_time": "2023-03-09T16:32:26.629Z"
   },
   {
    "duration": 1001,
    "start_time": "2023-03-09T16:38:20.703Z"
   },
   {
    "duration": 397,
    "start_time": "2023-03-09T16:38:37.769Z"
   },
   {
    "duration": 1071,
    "start_time": "2023-03-09T16:39:23.676Z"
   },
   {
    "duration": 1944,
    "start_time": "2023-03-09T16:39:30.226Z"
   },
   {
    "duration": 2261,
    "start_time": "2023-03-09T16:39:39.984Z"
   },
   {
    "duration": 2929,
    "start_time": "2023-03-09T16:39:52.317Z"
   },
   {
    "duration": 2894,
    "start_time": "2023-03-09T16:40:32.717Z"
   },
   {
    "duration": 10650,
    "start_time": "2023-03-09T16:40:44.864Z"
   },
   {
    "duration": 10385,
    "start_time": "2023-03-09T16:43:54.768Z"
   },
   {
    "duration": 10442,
    "start_time": "2023-03-09T16:44:58.670Z"
   },
   {
    "duration": 1585,
    "start_time": "2023-03-10T07:53:36.708Z"
   },
   {
    "duration": 1315,
    "start_time": "2023-03-10T07:53:38.294Z"
   },
   {
    "duration": 16,
    "start_time": "2023-03-10T07:53:39.611Z"
   },
   {
    "duration": 22,
    "start_time": "2023-03-10T07:53:39.629Z"
   },
   {
    "duration": 8,
    "start_time": "2023-03-10T07:53:39.653Z"
   },
   {
    "duration": 5,
    "start_time": "2023-03-10T07:53:39.663Z"
   },
   {
    "duration": 49,
    "start_time": "2023-03-10T07:53:39.670Z"
   },
   {
    "duration": 328,
    "start_time": "2023-03-10T07:53:39.722Z"
   },
   {
    "duration": 398,
    "start_time": "2023-03-10T07:53:40.052Z"
   },
   {
    "duration": 17,
    "start_time": "2023-03-10T07:53:40.451Z"
   },
   {
    "duration": 33,
    "start_time": "2023-03-10T07:53:40.481Z"
   },
   {
    "duration": 40,
    "start_time": "2023-03-10T07:53:40.516Z"
   },
   {
    "duration": 53,
    "start_time": "2023-03-10T07:53:40.557Z"
   },
   {
    "duration": 20,
    "start_time": "2023-03-10T07:53:40.613Z"
   },
   {
    "duration": 17,
    "start_time": "2023-03-10T07:53:40.635Z"
   },
   {
    "duration": 76,
    "start_time": "2023-03-10T07:53:40.653Z"
   },
   {
    "duration": 19,
    "start_time": "2023-03-10T07:53:40.731Z"
   },
   {
    "duration": 58,
    "start_time": "2023-03-10T07:53:40.751Z"
   },
   {
    "duration": 62,
    "start_time": "2023-03-10T07:53:40.811Z"
   },
   {
    "duration": 40,
    "start_time": "2023-03-10T07:53:40.874Z"
   },
   {
    "duration": 22,
    "start_time": "2023-03-10T07:53:40.916Z"
   },
   {
    "duration": 85,
    "start_time": "2023-03-10T07:53:40.939Z"
   },
   {
    "duration": 22,
    "start_time": "2023-03-10T07:53:41.026Z"
   },
   {
    "duration": 15,
    "start_time": "2023-03-10T07:53:41.050Z"
   },
   {
    "duration": 64,
    "start_time": "2023-03-10T07:53:41.067Z"
   },
   {
    "duration": 46,
    "start_time": "2023-03-10T07:53:41.132Z"
   },
   {
    "duration": 24,
    "start_time": "2023-03-10T07:53:41.186Z"
   },
   {
    "duration": 434,
    "start_time": "2023-03-10T07:53:41.212Z"
   },
   {
    "duration": 22,
    "start_time": "2023-03-10T07:53:41.648Z"
   },
   {
    "duration": 45,
    "start_time": "2023-03-10T07:53:41.671Z"
   },
   {
    "duration": 16,
    "start_time": "2023-03-10T07:53:41.718Z"
   },
   {
    "duration": 15,
    "start_time": "2023-03-10T07:53:41.736Z"
   },
   {
    "duration": 41,
    "start_time": "2023-03-10T07:53:41.752Z"
   },
   {
    "duration": 24,
    "start_time": "2023-03-10T07:53:41.794Z"
   },
   {
    "duration": 396,
    "start_time": "2023-03-10T07:53:41.820Z"
   },
   {
    "duration": 319,
    "start_time": "2023-03-10T07:53:42.218Z"
   },
   {
    "duration": 21,
    "start_time": "2023-03-10T07:53:42.539Z"
   },
   {
    "duration": 4,
    "start_time": "2023-03-10T07:53:42.561Z"
   },
   {
    "duration": 20,
    "start_time": "2023-03-10T07:53:42.579Z"
   },
   {
    "duration": 398,
    "start_time": "2023-03-10T07:53:42.606Z"
   },
   {
    "duration": 405,
    "start_time": "2023-03-10T07:53:43.008Z"
   },
   {
    "duration": 19,
    "start_time": "2023-03-10T07:53:43.415Z"
   },
   {
    "duration": 33,
    "start_time": "2023-03-10T07:53:43.436Z"
   },
   {
    "duration": 57,
    "start_time": "2023-03-10T07:53:43.470Z"
   },
   {
    "duration": 3,
    "start_time": "2023-03-10T07:53:43.528Z"
   },
   {
    "duration": 6,
    "start_time": "2023-03-10T07:53:43.533Z"
   },
   {
    "duration": 4,
    "start_time": "2023-03-10T07:53:43.540Z"
   },
   {
    "duration": 4,
    "start_time": "2023-03-10T07:53:43.546Z"
   },
   {
    "duration": 53,
    "start_time": "2023-03-10T07:53:43.552Z"
   },
   {
    "duration": 10,
    "start_time": "2023-03-10T07:53:43.606Z"
   },
   {
    "duration": 6,
    "start_time": "2023-03-10T07:53:43.617Z"
   },
   {
    "duration": 5,
    "start_time": "2023-03-10T07:53:43.624Z"
   },
   {
    "duration": 12,
    "start_time": "2023-03-10T07:53:43.631Z"
   },
   {
    "duration": 255,
    "start_time": "2023-03-10T07:53:43.644Z"
   },
   {
    "duration": 161,
    "start_time": "2023-03-10T07:53:43.906Z"
   },
   {
    "duration": 124,
    "start_time": "2023-03-10T07:53:44.069Z"
   },
   {
    "duration": 6,
    "start_time": "2023-03-10T07:53:44.206Z"
   },
   {
    "duration": 46592,
    "start_time": "2023-03-10T07:53:44.214Z"
   },
   {
    "duration": 201410,
    "start_time": "2023-03-10T07:54:30.807Z"
   },
   {
    "duration": 3,
    "start_time": "2023-03-10T07:57:52.219Z"
   },
   {
    "duration": 62277,
    "start_time": "2023-03-10T07:57:52.224Z"
   },
   {
    "duration": 227648,
    "start_time": "2023-03-10T07:58:54.502Z"
   },
   {
    "duration": 4,
    "start_time": "2023-03-10T08:02:42.151Z"
   },
   {
    "duration": 137,
    "start_time": "2023-03-10T08:02:42.156Z"
   },
   {
    "duration": 0,
    "start_time": "2023-03-10T08:02:42.294Z"
   },
   {
    "duration": 140,
    "start_time": "2023-03-10T08:03:38.164Z"
   },
   {
    "duration": 3,
    "start_time": "2023-03-10T08:03:43.244Z"
   },
   {
    "duration": 18297,
    "start_time": "2023-03-10T08:03:44.696Z"
   },
   {
    "duration": 53,
    "start_time": "2023-03-10T10:24:15.919Z"
   },
   {
    "duration": 1871,
    "start_time": "2023-03-10T10:24:29.287Z"
   },
   {
    "duration": 3467,
    "start_time": "2023-03-10T10:24:31.161Z"
   },
   {
    "duration": 19,
    "start_time": "2023-03-10T10:24:34.629Z"
   },
   {
    "duration": 22,
    "start_time": "2023-03-10T10:24:34.649Z"
   },
   {
    "duration": 5,
    "start_time": "2023-03-10T10:24:34.673Z"
   },
   {
    "duration": 20,
    "start_time": "2023-03-10T10:24:34.679Z"
   },
   {
    "duration": 41,
    "start_time": "2023-03-10T10:24:34.701Z"
   },
   {
    "duration": 328,
    "start_time": "2023-03-10T10:24:34.744Z"
   },
   {
    "duration": 359,
    "start_time": "2023-03-10T10:24:35.073Z"
   },
   {
    "duration": 26,
    "start_time": "2023-03-10T10:24:35.434Z"
   },
   {
    "duration": 18,
    "start_time": "2023-03-10T10:24:35.462Z"
   },
   {
    "duration": 46,
    "start_time": "2023-03-10T10:24:35.482Z"
   },
   {
    "duration": 56,
    "start_time": "2023-03-10T10:24:35.530Z"
   },
   {
    "duration": 18,
    "start_time": "2023-03-10T10:24:35.589Z"
   },
   {
    "duration": 26,
    "start_time": "2023-03-10T10:24:35.609Z"
   },
   {
    "duration": 54,
    "start_time": "2023-03-10T10:24:35.653Z"
   },
   {
    "duration": 20,
    "start_time": "2023-03-10T10:24:35.709Z"
   },
   {
    "duration": 31,
    "start_time": "2023-03-10T10:24:35.731Z"
   },
   {
    "duration": 56,
    "start_time": "2023-03-10T10:24:35.764Z"
   },
   {
    "duration": 34,
    "start_time": "2023-03-10T10:24:35.821Z"
   },
   {
    "duration": 14,
    "start_time": "2023-03-10T10:24:35.857Z"
   },
   {
    "duration": 62,
    "start_time": "2023-03-10T10:24:35.873Z"
   },
   {
    "duration": 33,
    "start_time": "2023-03-10T10:24:35.937Z"
   },
   {
    "duration": 27,
    "start_time": "2023-03-10T10:24:35.971Z"
   },
   {
    "duration": 42,
    "start_time": "2023-03-10T10:24:35.999Z"
   },
   {
    "duration": 52,
    "start_time": "2023-03-10T10:24:36.043Z"
   },
   {
    "duration": 5,
    "start_time": "2023-03-10T10:24:36.097Z"
   },
   {
    "duration": 452,
    "start_time": "2023-03-10T10:24:36.103Z"
   },
   {
    "duration": 25,
    "start_time": "2023-03-10T10:24:36.558Z"
   },
   {
    "duration": 43,
    "start_time": "2023-03-10T10:24:36.585Z"
   },
   {
    "duration": 42,
    "start_time": "2023-03-10T10:24:36.629Z"
   },
   {
    "duration": 16,
    "start_time": "2023-03-10T10:24:36.672Z"
   },
   {
    "duration": 25,
    "start_time": "2023-03-10T10:24:36.690Z"
   },
   {
    "duration": 7,
    "start_time": "2023-03-10T10:24:36.716Z"
   },
   {
    "duration": 391,
    "start_time": "2023-03-10T10:24:36.725Z"
   },
   {
    "duration": 331,
    "start_time": "2023-03-10T10:24:37.118Z"
   },
   {
    "duration": 30,
    "start_time": "2023-03-10T10:24:37.453Z"
   },
   {
    "duration": 6,
    "start_time": "2023-03-10T10:24:37.485Z"
   },
   {
    "duration": 15,
    "start_time": "2023-03-10T10:24:37.492Z"
   },
   {
    "duration": 418,
    "start_time": "2023-03-10T10:24:37.509Z"
   },
   {
    "duration": 429,
    "start_time": "2023-03-10T10:24:37.931Z"
   },
   {
    "duration": 17,
    "start_time": "2023-03-10T10:24:38.362Z"
   },
   {
    "duration": 15,
    "start_time": "2023-03-10T10:24:38.381Z"
   },
   {
    "duration": 65,
    "start_time": "2023-03-10T10:24:38.397Z"
   },
   {
    "duration": 4,
    "start_time": "2023-03-10T10:24:38.466Z"
   },
   {
    "duration": 9,
    "start_time": "2023-03-10T10:24:38.471Z"
   },
   {
    "duration": 7,
    "start_time": "2023-03-10T10:24:38.481Z"
   },
   {
    "duration": 7,
    "start_time": "2023-03-10T10:24:38.489Z"
   },
   {
    "duration": 7,
    "start_time": "2023-03-10T10:24:38.498Z"
   },
   {
    "duration": 7,
    "start_time": "2023-03-10T10:24:38.507Z"
   },
   {
    "duration": 7,
    "start_time": "2023-03-10T10:24:38.515Z"
   },
   {
    "duration": 7,
    "start_time": "2023-03-10T10:24:38.523Z"
   },
   {
    "duration": 14,
    "start_time": "2023-03-10T10:24:38.553Z"
   },
   {
    "duration": 84,
    "start_time": "2023-03-10T10:24:38.569Z"
   },
   {
    "duration": 0,
    "start_time": "2023-03-10T10:24:38.655Z"
   },
   {
    "duration": 0,
    "start_time": "2023-03-10T10:24:38.656Z"
   },
   {
    "duration": 0,
    "start_time": "2023-03-10T10:24:38.658Z"
   },
   {
    "duration": 0,
    "start_time": "2023-03-10T10:24:38.659Z"
   },
   {
    "duration": 0,
    "start_time": "2023-03-10T10:24:38.660Z"
   },
   {
    "duration": 0,
    "start_time": "2023-03-10T10:24:38.661Z"
   },
   {
    "duration": 0,
    "start_time": "2023-03-10T10:24:38.663Z"
   },
   {
    "duration": 0,
    "start_time": "2023-03-10T10:24:38.664Z"
   },
   {
    "duration": 0,
    "start_time": "2023-03-10T10:24:38.665Z"
   },
   {
    "duration": 0,
    "start_time": "2023-03-10T10:24:38.666Z"
   },
   {
    "duration": 0,
    "start_time": "2023-03-10T10:24:38.667Z"
   },
   {
    "duration": 0,
    "start_time": "2023-03-10T10:24:38.668Z"
   },
   {
    "duration": 0,
    "start_time": "2023-03-10T10:24:38.669Z"
   },
   {
    "duration": 0,
    "start_time": "2023-03-10T10:24:38.670Z"
   },
   {
    "duration": 42,
    "start_time": "2023-03-10T10:24:54.735Z"
   },
   {
    "duration": 147,
    "start_time": "2023-03-10T10:24:55.461Z"
   },
   {
    "duration": 143,
    "start_time": "2023-03-10T10:25:16.270Z"
   },
   {
    "duration": 110,
    "start_time": "2023-03-10T10:25:39.875Z"
   },
   {
    "duration": 28,
    "start_time": "2023-03-10T10:25:44.411Z"
   },
   {
    "duration": 176,
    "start_time": "2023-03-10T10:26:14.124Z"
   },
   {
    "duration": 18,
    "start_time": "2023-03-10T10:26:15.591Z"
   },
   {
    "duration": 4,
    "start_time": "2023-03-10T10:29:09.811Z"
   },
   {
    "duration": 44,
    "start_time": "2023-03-10T10:30:23.234Z"
   },
   {
    "duration": 6,
    "start_time": "2023-03-10T10:30:56.091Z"
   },
   {
    "duration": 38,
    "start_time": "2023-03-10T10:31:17.664Z"
   },
   {
    "duration": 5,
    "start_time": "2023-03-10T10:31:17.833Z"
   },
   {
    "duration": 179,
    "start_time": "2023-03-10T10:31:20.426Z"
   },
   {
    "duration": 26,
    "start_time": "2023-03-10T10:31:20.847Z"
   },
   {
    "duration": 49,
    "start_time": "2023-03-10T10:31:21.544Z"
   },
   {
    "duration": 4,
    "start_time": "2023-03-10T10:31:22.123Z"
   },
   {
    "duration": 85,
    "start_time": "2023-03-10T10:34:10.743Z"
   },
   {
    "duration": 57,
    "start_time": "2023-03-10T10:39:13.428Z"
   },
   {
    "duration": 9,
    "start_time": "2023-03-10T10:39:28.492Z"
   },
   {
    "duration": 140,
    "start_time": "2023-03-10T10:41:00.261Z"
   },
   {
    "duration": 13,
    "start_time": "2023-03-10T10:41:02.235Z"
   },
   {
    "duration": 119,
    "start_time": "2023-03-10T10:41:39.555Z"
   },
   {
    "duration": 5042,
    "start_time": "2023-03-10T10:46:14.444Z"
   },
   {
    "duration": 0,
    "start_time": "2023-03-10T10:46:19.488Z"
   },
   {
    "duration": 4655,
    "start_time": "2023-03-10T10:46:54.129Z"
   },
   {
    "duration": 4716,
    "start_time": "2023-03-10T10:47:38.911Z"
   },
   {
    "duration": 6183,
    "start_time": "2023-03-10T10:47:57.048Z"
   },
   {
    "duration": 6049,
    "start_time": "2023-03-10T10:48:10.500Z"
   },
   {
    "duration": 10,
    "start_time": "2023-03-10T10:48:20.880Z"
   },
   {
    "duration": 5,
    "start_time": "2023-03-10T10:48:59.432Z"
   },
   {
    "duration": 44,
    "start_time": "2023-03-10T10:49:27.238Z"
   },
   {
    "duration": 7043,
    "start_time": "2023-03-10T10:49:31.286Z"
   },
   {
    "duration": 14,
    "start_time": "2023-03-10T10:49:38.337Z"
   },
   {
    "duration": 6203,
    "start_time": "2023-03-10T10:50:14.875Z"
   },
   {
    "duration": 5,
    "start_time": "2023-03-10T10:50:22.112Z"
   },
   {
    "duration": 18,
    "start_time": "2023-03-10T10:50:31.087Z"
   },
   {
    "duration": 6730,
    "start_time": "2023-03-10T10:51:03.070Z"
   },
   {
    "duration": 14,
    "start_time": "2023-03-10T10:51:10.821Z"
   },
   {
    "duration": 8,
    "start_time": "2023-03-10T10:51:25.311Z"
   },
   {
    "duration": 42,
    "start_time": "2023-03-10T10:52:32.247Z"
   },
   {
    "duration": 5,
    "start_time": "2023-03-10T10:52:33.524Z"
   },
   {
    "duration": 135,
    "start_time": "2023-03-10T10:56:41.642Z"
   },
   {
    "duration": 303,
    "start_time": "2023-03-10T10:57:59.044Z"
   },
   {
    "duration": 509,
    "start_time": "2023-03-10T10:59:40.210Z"
   },
   {
    "duration": 493,
    "start_time": "2023-03-10T11:00:18.880Z"
   },
   {
    "duration": 50,
    "start_time": "2023-03-10T11:00:56.010Z"
   },
   {
    "duration": 3,
    "start_time": "2023-03-10T11:01:03.373Z"
   },
   {
    "duration": 5880,
    "start_time": "2023-03-10T11:01:06.594Z"
   },
   {
    "duration": 92,
    "start_time": "2023-03-10T11:01:32.379Z"
   },
   {
    "duration": 108,
    "start_time": "2023-03-10T11:02:03.076Z"
   },
   {
    "duration": 12,
    "start_time": "2023-03-10T11:03:20.118Z"
   },
   {
    "duration": 11,
    "start_time": "2023-03-10T11:03:41.015Z"
   },
   {
    "duration": 819,
    "start_time": "2023-03-10T11:03:41.028Z"
   },
   {
    "duration": 18,
    "start_time": "2023-03-10T11:03:41.848Z"
   },
   {
    "duration": 23,
    "start_time": "2023-03-10T11:03:41.867Z"
   },
   {
    "duration": 6,
    "start_time": "2023-03-10T11:03:41.891Z"
   },
   {
    "duration": 5,
    "start_time": "2023-03-10T11:03:41.899Z"
   },
   {
    "duration": 60,
    "start_time": "2023-03-10T11:03:41.906Z"
   },
   {
    "duration": 296,
    "start_time": "2023-03-10T11:03:41.968Z"
   },
   {
    "duration": 339,
    "start_time": "2023-03-10T11:03:42.267Z"
   },
   {
    "duration": 18,
    "start_time": "2023-03-10T11:03:42.608Z"
   },
   {
    "duration": 29,
    "start_time": "2023-03-10T11:03:42.627Z"
   },
   {
    "duration": 42,
    "start_time": "2023-03-10T11:03:42.658Z"
   },
   {
    "duration": 54,
    "start_time": "2023-03-10T11:03:42.702Z"
   },
   {
    "duration": 60,
    "start_time": "2023-03-10T11:03:42.757Z"
   },
   {
    "duration": 34,
    "start_time": "2023-03-10T11:03:42.819Z"
   },
   {
    "duration": 14,
    "start_time": "2023-03-10T11:03:42.855Z"
   },
   {
    "duration": 4,
    "start_time": "2023-03-10T11:04:15.539Z"
   },
   {
    "duration": 807,
    "start_time": "2023-03-10T11:04:15.546Z"
   },
   {
    "duration": 14,
    "start_time": "2023-03-10T11:04:16.355Z"
   },
   {
    "duration": 22,
    "start_time": "2023-03-10T11:04:16.371Z"
   },
   {
    "duration": 12,
    "start_time": "2023-03-10T11:04:16.396Z"
   },
   {
    "duration": 5,
    "start_time": "2023-03-10T11:04:16.410Z"
   },
   {
    "duration": 55,
    "start_time": "2023-03-10T11:04:16.416Z"
   },
   {
    "duration": 307,
    "start_time": "2023-03-10T11:04:16.473Z"
   },
   {
    "duration": 332,
    "start_time": "2023-03-10T11:04:16.781Z"
   },
   {
    "duration": 18,
    "start_time": "2023-03-10T11:04:17.115Z"
   },
   {
    "duration": 22,
    "start_time": "2023-03-10T11:04:17.135Z"
   },
   {
    "duration": 42,
    "start_time": "2023-03-10T11:04:17.159Z"
   },
   {
    "duration": 59,
    "start_time": "2023-03-10T11:04:17.203Z"
   },
   {
    "duration": 52,
    "start_time": "2023-03-10T11:04:17.265Z"
   },
   {
    "duration": 18,
    "start_time": "2023-03-10T11:04:17.319Z"
   },
   {
    "duration": 16,
    "start_time": "2023-03-10T11:04:17.354Z"
   },
   {
    "duration": 81,
    "start_time": "2023-03-10T11:04:17.372Z"
   },
   {
    "duration": 20,
    "start_time": "2023-03-10T11:04:17.455Z"
   },
   {
    "duration": 15,
    "start_time": "2023-03-10T11:04:17.477Z"
   },
   {
    "duration": 71,
    "start_time": "2023-03-10T11:04:17.493Z"
   },
   {
    "duration": 17,
    "start_time": "2023-03-10T11:04:17.565Z"
   },
   {
    "duration": 15,
    "start_time": "2023-03-10T11:04:17.584Z"
   },
   {
    "duration": 62,
    "start_time": "2023-03-10T11:04:17.601Z"
   },
   {
    "duration": 16,
    "start_time": "2023-03-10T11:04:17.665Z"
   },
   {
    "duration": 19,
    "start_time": "2023-03-10T11:04:17.683Z"
   },
   {
    "duration": 60,
    "start_time": "2023-03-10T11:04:17.704Z"
   },
   {
    "duration": 47,
    "start_time": "2023-03-10T11:04:17.766Z"
   },
   {
    "duration": 5,
    "start_time": "2023-03-10T11:04:17.815Z"
   },
   {
    "duration": 419,
    "start_time": "2023-03-10T11:04:17.822Z"
   },
   {
    "duration": 30,
    "start_time": "2023-03-10T11:04:18.243Z"
   },
   {
    "duration": 42,
    "start_time": "2023-03-10T11:04:18.275Z"
   },
   {
    "duration": 45,
    "start_time": "2023-03-10T11:04:18.319Z"
   },
   {
    "duration": 16,
    "start_time": "2023-03-10T11:04:18.366Z"
   },
   {
    "duration": 17,
    "start_time": "2023-03-10T11:04:18.383Z"
   },
   {
    "duration": 6,
    "start_time": "2023-03-10T11:04:18.402Z"
   },
   {
    "duration": 367,
    "start_time": "2023-03-10T11:04:18.410Z"
   },
   {
    "duration": 299,
    "start_time": "2023-03-10T11:04:18.779Z"
   },
   {
    "duration": 24,
    "start_time": "2023-03-10T11:04:19.080Z"
   },
   {
    "duration": 82,
    "start_time": "2023-03-10T11:04:19.105Z"
   },
   {
    "duration": 8,
    "start_time": "2023-03-10T11:04:19.189Z"
   },
   {
    "duration": 385,
    "start_time": "2023-03-10T11:04:19.201Z"
   },
   {
    "duration": 344,
    "start_time": "2023-03-10T11:04:19.588Z"
   },
   {
    "duration": 27,
    "start_time": "2023-03-10T11:04:19.934Z"
   },
   {
    "duration": 17,
    "start_time": "2023-03-10T11:04:19.963Z"
   },
   {
    "duration": 84,
    "start_time": "2023-03-10T11:04:19.981Z"
   },
   {
    "duration": 12,
    "start_time": "2023-03-10T11:04:20.067Z"
   },
   {
    "duration": 39,
    "start_time": "2023-03-10T11:04:20.081Z"
   },
   {
    "duration": 32,
    "start_time": "2023-03-10T11:04:20.122Z"
   },
   {
    "duration": 196,
    "start_time": "2023-03-10T11:04:20.157Z"
   },
   {
    "duration": 45,
    "start_time": "2023-03-10T11:04:20.355Z"
   },
   {
    "duration": 4,
    "start_time": "2023-03-10T11:04:20.402Z"
   },
   {
    "duration": 6613,
    "start_time": "2023-03-10T11:04:20.409Z"
   },
   {
    "duration": 48,
    "start_time": "2023-03-10T11:04:27.023Z"
   },
   {
    "duration": 4,
    "start_time": "2023-03-10T11:04:27.073Z"
   },
   {
    "duration": 311,
    "start_time": "2023-03-10T11:04:27.079Z"
   },
   {
    "duration": 6,
    "start_time": "2023-03-10T11:04:27.392Z"
   },
   {
    "duration": 551,
    "start_time": "2023-03-10T11:04:27.400Z"
   },
   {
    "duration": 3,
    "start_time": "2023-03-10T11:04:27.953Z"
   },
   {
    "duration": 97,
    "start_time": "2023-03-10T11:04:27.958Z"
   },
   {
    "duration": 6648,
    "start_time": "2023-03-10T11:04:28.057Z"
   },
   {
    "duration": 4,
    "start_time": "2023-03-10T11:04:34.707Z"
   },
   {
    "duration": 14,
    "start_time": "2023-03-10T11:04:34.713Z"
   },
   {
    "duration": 31,
    "start_time": "2023-03-10T11:04:34.729Z"
   },
   {
    "duration": 39,
    "start_time": "2023-03-10T11:04:34.762Z"
   },
   {
    "duration": 6552,
    "start_time": "2023-03-10T11:04:48.207Z"
   },
   {
    "duration": 373,
    "start_time": "2023-03-10T11:06:31.263Z"
   },
   {
    "duration": 293,
    "start_time": "2023-03-10T11:06:52.805Z"
   },
   {
    "duration": 296,
    "start_time": "2023-03-10T11:07:09.413Z"
   },
   {
    "duration": 16,
    "start_time": "2023-03-10T11:09:51.580Z"
   },
   {
    "duration": 14,
    "start_time": "2023-03-10T11:10:18.449Z"
   },
   {
    "duration": 17,
    "start_time": "2023-03-10T11:10:23.201Z"
   },
   {
    "duration": 5,
    "start_time": "2023-03-10T11:10:32.774Z"
   },
   {
    "duration": 825,
    "start_time": "2023-03-10T11:10:32.782Z"
   },
   {
    "duration": 14,
    "start_time": "2023-03-10T11:10:33.609Z"
   },
   {
    "duration": 43,
    "start_time": "2023-03-10T11:10:33.625Z"
   },
   {
    "duration": 8,
    "start_time": "2023-03-10T11:10:33.670Z"
   },
   {
    "duration": 15,
    "start_time": "2023-03-10T11:10:33.679Z"
   },
   {
    "duration": 48,
    "start_time": "2023-03-10T11:10:33.696Z"
   },
   {
    "duration": 388,
    "start_time": "2023-03-10T11:10:33.752Z"
   },
   {
    "duration": 357,
    "start_time": "2023-03-10T11:10:34.142Z"
   },
   {
    "duration": 19,
    "start_time": "2023-03-10T11:10:34.501Z"
   },
   {
    "duration": 22,
    "start_time": "2023-03-10T11:10:34.521Z"
   },
   {
    "duration": 45,
    "start_time": "2023-03-10T11:10:34.552Z"
   },
   {
    "duration": 66,
    "start_time": "2023-03-10T11:10:34.599Z"
   },
   {
    "duration": 53,
    "start_time": "2023-03-10T11:10:34.668Z"
   },
   {
    "duration": 35,
    "start_time": "2023-03-10T11:10:34.723Z"
   },
   {
    "duration": 39,
    "start_time": "2023-03-10T11:10:34.760Z"
   },
   {
    "duration": 99,
    "start_time": "2023-03-10T11:10:34.801Z"
   },
   {
    "duration": 24,
    "start_time": "2023-03-10T11:10:34.902Z"
   },
   {
    "duration": 34,
    "start_time": "2023-03-10T11:10:34.928Z"
   },
   {
    "duration": 99,
    "start_time": "2023-03-10T11:10:34.964Z"
   },
   {
    "duration": 19,
    "start_time": "2023-03-10T11:10:35.065Z"
   },
   {
    "duration": 64,
    "start_time": "2023-03-10T11:10:35.086Z"
   },
   {
    "duration": 59,
    "start_time": "2023-03-10T11:10:35.152Z"
   },
   {
    "duration": 17,
    "start_time": "2023-03-10T11:10:35.212Z"
   },
   {
    "duration": 24,
    "start_time": "2023-03-10T11:10:35.230Z"
   },
   {
    "duration": 52,
    "start_time": "2023-03-10T11:10:35.257Z"
   },
   {
    "duration": 62,
    "start_time": "2023-03-10T11:10:35.311Z"
   },
   {
    "duration": 18,
    "start_time": "2023-03-10T11:10:35.375Z"
   },
   {
    "duration": 418,
    "start_time": "2023-03-10T11:10:35.395Z"
   },
   {
    "duration": 24,
    "start_time": "2023-03-10T11:10:35.814Z"
   },
   {
    "duration": 54,
    "start_time": "2023-03-10T11:10:35.840Z"
   },
   {
    "duration": 24,
    "start_time": "2023-03-10T11:10:35.896Z"
   },
   {
    "duration": 36,
    "start_time": "2023-03-10T11:10:35.922Z"
   },
   {
    "duration": 31,
    "start_time": "2023-03-10T11:10:35.960Z"
   },
   {
    "duration": 31,
    "start_time": "2023-03-10T11:10:35.993Z"
   },
   {
    "duration": 399,
    "start_time": "2023-03-10T11:10:36.026Z"
   },
   {
    "duration": 351,
    "start_time": "2023-03-10T11:10:36.427Z"
   },
   {
    "duration": 23,
    "start_time": "2023-03-10T11:10:36.780Z"
   },
   {
    "duration": 5,
    "start_time": "2023-03-10T11:10:36.805Z"
   },
   {
    "duration": 14,
    "start_time": "2023-03-10T11:10:36.812Z"
   },
   {
    "duration": 387,
    "start_time": "2023-03-10T11:10:36.853Z"
   },
   {
    "duration": 376,
    "start_time": "2023-03-10T11:10:37.242Z"
   },
   {
    "duration": 18,
    "start_time": "2023-03-10T11:10:37.620Z"
   },
   {
    "duration": 28,
    "start_time": "2023-03-10T11:10:37.640Z"
   },
   {
    "duration": 78,
    "start_time": "2023-03-10T11:10:37.670Z"
   },
   {
    "duration": 11,
    "start_time": "2023-03-10T11:10:37.751Z"
   },
   {
    "duration": 67,
    "start_time": "2023-03-10T11:10:37.764Z"
   },
   {
    "duration": 5,
    "start_time": "2023-03-10T11:10:37.833Z"
   },
   {
    "duration": 340,
    "start_time": "2023-03-10T11:10:37.839Z"
   },
   {
    "duration": 15,
    "start_time": "2023-03-10T11:10:38.181Z"
   },
   {
    "duration": 17,
    "start_time": "2023-03-10T11:12:20.595Z"
   },
   {
    "duration": 96,
    "start_time": "2023-03-10T11:13:03.764Z"
   },
   {
    "duration": 6,
    "start_time": "2023-03-10T11:14:42.251Z"
   },
   {
    "duration": 870,
    "start_time": "2023-03-10T11:14:42.259Z"
   },
   {
    "duration": 17,
    "start_time": "2023-03-10T11:14:43.130Z"
   },
   {
    "duration": 22,
    "start_time": "2023-03-10T11:14:43.155Z"
   },
   {
    "duration": 5,
    "start_time": "2023-03-10T11:14:43.180Z"
   },
   {
    "duration": 6,
    "start_time": "2023-03-10T11:14:43.187Z"
   },
   {
    "duration": 70,
    "start_time": "2023-03-10T11:14:43.195Z"
   },
   {
    "duration": 397,
    "start_time": "2023-03-10T11:14:43.268Z"
   },
   {
    "duration": 375,
    "start_time": "2023-03-10T11:14:43.667Z"
   },
   {
    "duration": 31,
    "start_time": "2023-03-10T11:14:44.053Z"
   },
   {
    "duration": 27,
    "start_time": "2023-03-10T11:14:44.088Z"
   },
   {
    "duration": 83,
    "start_time": "2023-03-10T11:14:44.117Z"
   },
   {
    "duration": 62,
    "start_time": "2023-03-10T11:14:44.203Z"
   },
   {
    "duration": 70,
    "start_time": "2023-03-10T11:14:44.268Z"
   },
   {
    "duration": 25,
    "start_time": "2023-03-10T11:14:44.340Z"
   },
   {
    "duration": 34,
    "start_time": "2023-03-10T11:14:44.367Z"
   },
   {
    "duration": 94,
    "start_time": "2023-03-10T11:14:44.403Z"
   },
   {
    "duration": 19,
    "start_time": "2023-03-10T11:14:44.499Z"
   },
   {
    "duration": 36,
    "start_time": "2023-03-10T11:14:44.520Z"
   },
   {
    "duration": 97,
    "start_time": "2023-03-10T11:14:44.558Z"
   },
   {
    "duration": 749,
    "start_time": "2023-03-10T11:14:44.657Z"
   },
   {
    "duration": 0,
    "start_time": "2023-03-10T11:14:45.411Z"
   },
   {
    "duration": 0,
    "start_time": "2023-03-10T11:14:45.412Z"
   },
   {
    "duration": 0,
    "start_time": "2023-03-10T11:14:45.414Z"
   },
   {
    "duration": 0,
    "start_time": "2023-03-10T11:14:45.416Z"
   },
   {
    "duration": 0,
    "start_time": "2023-03-10T11:14:45.418Z"
   },
   {
    "duration": 0,
    "start_time": "2023-03-10T11:14:45.420Z"
   },
   {
    "duration": 0,
    "start_time": "2023-03-10T11:14:45.422Z"
   },
   {
    "duration": 0,
    "start_time": "2023-03-10T11:14:45.424Z"
   },
   {
    "duration": 0,
    "start_time": "2023-03-10T11:14:45.426Z"
   },
   {
    "duration": 0,
    "start_time": "2023-03-10T11:14:45.427Z"
   },
   {
    "duration": 0,
    "start_time": "2023-03-10T11:14:45.429Z"
   },
   {
    "duration": 0,
    "start_time": "2023-03-10T11:14:45.430Z"
   },
   {
    "duration": 0,
    "start_time": "2023-03-10T11:14:45.432Z"
   },
   {
    "duration": 0,
    "start_time": "2023-03-10T11:14:45.433Z"
   },
   {
    "duration": 0,
    "start_time": "2023-03-10T11:14:45.434Z"
   },
   {
    "duration": 0,
    "start_time": "2023-03-10T11:14:45.436Z"
   },
   {
    "duration": 0,
    "start_time": "2023-03-10T11:14:45.437Z"
   },
   {
    "duration": 0,
    "start_time": "2023-03-10T11:14:45.438Z"
   },
   {
    "duration": 0,
    "start_time": "2023-03-10T11:14:45.439Z"
   },
   {
    "duration": 0,
    "start_time": "2023-03-10T11:14:45.441Z"
   },
   {
    "duration": 0,
    "start_time": "2023-03-10T11:14:45.442Z"
   },
   {
    "duration": 0,
    "start_time": "2023-03-10T11:14:45.443Z"
   },
   {
    "duration": 0,
    "start_time": "2023-03-10T11:14:45.445Z"
   },
   {
    "duration": 0,
    "start_time": "2023-03-10T11:14:45.446Z"
   },
   {
    "duration": 0,
    "start_time": "2023-03-10T11:14:45.447Z"
   },
   {
    "duration": 0,
    "start_time": "2023-03-10T11:14:45.448Z"
   },
   {
    "duration": 0,
    "start_time": "2023-03-10T11:14:45.449Z"
   },
   {
    "duration": 0,
    "start_time": "2023-03-10T11:14:45.450Z"
   },
   {
    "duration": 0,
    "start_time": "2023-03-10T11:14:45.452Z"
   },
   {
    "duration": 0,
    "start_time": "2023-03-10T11:14:45.453Z"
   },
   {
    "duration": 0,
    "start_time": "2023-03-10T11:14:45.454Z"
   },
   {
    "duration": 0,
    "start_time": "2023-03-10T11:14:45.455Z"
   },
   {
    "duration": 0,
    "start_time": "2023-03-10T11:14:45.456Z"
   },
   {
    "duration": 0,
    "start_time": "2023-03-10T11:14:45.457Z"
   },
   {
    "duration": 0,
    "start_time": "2023-03-10T11:14:45.458Z"
   },
   {
    "duration": 0,
    "start_time": "2023-03-10T11:14:45.459Z"
   },
   {
    "duration": 0,
    "start_time": "2023-03-10T11:14:45.460Z"
   },
   {
    "duration": 0,
    "start_time": "2023-03-10T11:14:45.462Z"
   },
   {
    "duration": 0,
    "start_time": "2023-03-10T11:14:45.463Z"
   },
   {
    "duration": 0,
    "start_time": "2023-03-10T11:14:45.464Z"
   },
   {
    "duration": 0,
    "start_time": "2023-03-10T11:14:45.465Z"
   },
   {
    "duration": 0,
    "start_time": "2023-03-10T11:14:45.466Z"
   },
   {
    "duration": 0,
    "start_time": "2023-03-10T11:14:45.467Z"
   },
   {
    "duration": 0,
    "start_time": "2023-03-10T11:14:45.468Z"
   },
   {
    "duration": 20,
    "start_time": "2023-03-10T11:15:04.185Z"
   },
   {
    "duration": 740,
    "start_time": "2023-03-10T11:15:04.449Z"
   },
   {
    "duration": 14,
    "start_time": "2023-03-10T11:15:08.808Z"
   },
   {
    "duration": 51,
    "start_time": "2023-03-10T11:15:16.681Z"
   },
   {
    "duration": 7067,
    "start_time": "2023-03-10T11:16:10.146Z"
   },
   {
    "duration": 393,
    "start_time": "2023-03-10T11:16:17.215Z"
   },
   {
    "duration": 5,
    "start_time": "2023-03-10T11:16:17.625Z"
   },
   {
    "duration": 20,
    "start_time": "2023-03-10T11:16:33.200Z"
   },
   {
    "duration": 17,
    "start_time": "2023-03-10T11:17:24.073Z"
   },
   {
    "duration": 6,
    "start_time": "2023-03-10T11:17:28.466Z"
   },
   {
    "duration": 817,
    "start_time": "2023-03-10T11:17:28.474Z"
   },
   {
    "duration": 16,
    "start_time": "2023-03-10T11:17:29.293Z"
   },
   {
    "duration": 45,
    "start_time": "2023-03-10T11:17:29.311Z"
   },
   {
    "duration": 6,
    "start_time": "2023-03-10T11:17:29.359Z"
   },
   {
    "duration": 6,
    "start_time": "2023-03-10T11:17:29.367Z"
   },
   {
    "duration": 52,
    "start_time": "2023-03-10T11:17:29.376Z"
   },
   {
    "duration": 367,
    "start_time": "2023-03-10T11:17:29.429Z"
   },
   {
    "duration": 361,
    "start_time": "2023-03-10T11:17:29.798Z"
   },
   {
    "duration": 32,
    "start_time": "2023-03-10T11:17:30.160Z"
   },
   {
    "duration": 55,
    "start_time": "2023-03-10T11:17:30.194Z"
   },
   {
    "duration": 118,
    "start_time": "2023-03-10T11:17:30.252Z"
   },
   {
    "duration": 49,
    "start_time": "2023-03-10T11:17:30.372Z"
   },
   {
    "duration": 86,
    "start_time": "2023-03-10T11:17:30.425Z"
   },
   {
    "duration": 21,
    "start_time": "2023-03-10T11:17:30.514Z"
   },
   {
    "duration": 92,
    "start_time": "2023-03-10T11:17:30.537Z"
   },
   {
    "duration": 123,
    "start_time": "2023-03-10T11:17:30.631Z"
   },
   {
    "duration": 84,
    "start_time": "2023-03-10T11:17:30.756Z"
   },
   {
    "duration": 66,
    "start_time": "2023-03-10T11:17:30.842Z"
   },
   {
    "duration": 156,
    "start_time": "2023-03-10T11:17:30.910Z"
   },
   {
    "duration": 31,
    "start_time": "2023-03-10T11:17:31.068Z"
   },
   {
    "duration": 48,
    "start_time": "2023-03-10T11:17:31.102Z"
   },
   {
    "duration": 117,
    "start_time": "2023-03-10T11:17:31.152Z"
   },
   {
    "duration": 224,
    "start_time": "2023-03-10T11:17:31.271Z"
   },
   {
    "duration": 67,
    "start_time": "2023-03-10T11:17:31.497Z"
   },
   {
    "duration": 119,
    "start_time": "2023-03-10T11:17:31.566Z"
   },
   {
    "duration": 110,
    "start_time": "2023-03-10T11:17:31.688Z"
   },
   {
    "duration": 62,
    "start_time": "2023-03-10T11:17:31.800Z"
   },
   {
    "duration": 458,
    "start_time": "2023-03-10T11:17:31.864Z"
   },
   {
    "duration": 44,
    "start_time": "2023-03-10T11:17:32.324Z"
   },
   {
    "duration": 52,
    "start_time": "2023-03-10T11:17:32.371Z"
   },
   {
    "duration": 50,
    "start_time": "2023-03-10T11:17:32.425Z"
   },
   {
    "duration": 18,
    "start_time": "2023-03-10T11:17:32.477Z"
   },
   {
    "duration": 66,
    "start_time": "2023-03-10T11:17:32.497Z"
   },
   {
    "duration": 15,
    "start_time": "2023-03-10T11:17:32.568Z"
   },
   {
    "duration": 436,
    "start_time": "2023-03-10T11:17:32.585Z"
   },
   {
    "duration": 333,
    "start_time": "2023-03-10T11:17:33.023Z"
   },
   {
    "duration": 26,
    "start_time": "2023-03-10T11:17:33.358Z"
   },
   {
    "duration": 5,
    "start_time": "2023-03-10T11:17:33.386Z"
   },
   {
    "duration": 15,
    "start_time": "2023-03-10T11:17:33.393Z"
   },
   {
    "duration": 423,
    "start_time": "2023-03-10T11:17:33.414Z"
   },
   {
    "duration": 367,
    "start_time": "2023-03-10T11:17:33.839Z"
   },
   {
    "duration": 19,
    "start_time": "2023-03-10T11:17:34.208Z"
   },
   {
    "duration": 29,
    "start_time": "2023-03-10T11:17:34.229Z"
   },
   {
    "duration": 70,
    "start_time": "2023-03-10T11:17:34.260Z"
   },
   {
    "duration": 10,
    "start_time": "2023-03-10T11:17:34.332Z"
   },
   {
    "duration": 41,
    "start_time": "2023-03-10T11:17:34.353Z"
   },
   {
    "duration": 5,
    "start_time": "2023-03-10T11:17:34.396Z"
   },
   {
    "duration": 335,
    "start_time": "2023-03-10T11:17:34.405Z"
   },
   {
    "duration": 246,
    "start_time": "2023-03-10T11:17:34.743Z"
   },
   {
    "duration": 5,
    "start_time": "2023-03-10T11:17:48.031Z"
   },
   {
    "duration": 790,
    "start_time": "2023-03-10T11:17:48.039Z"
   },
   {
    "duration": 22,
    "start_time": "2023-03-10T11:17:48.831Z"
   },
   {
    "duration": 23,
    "start_time": "2023-03-10T11:17:48.855Z"
   },
   {
    "duration": 6,
    "start_time": "2023-03-10T11:17:48.880Z"
   },
   {
    "duration": 9,
    "start_time": "2023-03-10T11:17:48.888Z"
   },
   {
    "duration": 61,
    "start_time": "2023-03-10T11:17:48.899Z"
   },
   {
    "duration": 326,
    "start_time": "2023-03-10T11:17:48.962Z"
   },
   {
    "duration": 348,
    "start_time": "2023-03-10T11:17:49.289Z"
   },
   {
    "duration": 27,
    "start_time": "2023-03-10T11:17:49.639Z"
   },
   {
    "duration": 37,
    "start_time": "2023-03-10T11:17:49.668Z"
   },
   {
    "duration": 87,
    "start_time": "2023-03-10T11:17:49.707Z"
   },
   {
    "duration": 43,
    "start_time": "2023-03-10T11:17:49.797Z"
   },
   {
    "duration": 55,
    "start_time": "2023-03-10T11:17:49.852Z"
   },
   {
    "duration": 18,
    "start_time": "2023-03-10T11:17:49.909Z"
   },
   {
    "duration": 39,
    "start_time": "2023-03-10T11:17:49.929Z"
   },
   {
    "duration": 64,
    "start_time": "2023-03-10T11:17:49.970Z"
   },
   {
    "duration": 24,
    "start_time": "2023-03-10T11:17:50.036Z"
   },
   {
    "duration": 20,
    "start_time": "2023-03-10T11:17:50.062Z"
   },
   {
    "duration": 82,
    "start_time": "2023-03-10T11:17:50.083Z"
   },
   {
    "duration": 24,
    "start_time": "2023-03-10T11:17:50.167Z"
   },
   {
    "duration": 28,
    "start_time": "2023-03-10T11:17:50.193Z"
   },
   {
    "duration": 80,
    "start_time": "2023-03-10T11:17:50.223Z"
   },
   {
    "duration": 29,
    "start_time": "2023-03-10T11:17:50.305Z"
   },
   {
    "duration": 27,
    "start_time": "2023-03-10T11:17:50.336Z"
   },
   {
    "duration": 46,
    "start_time": "2023-03-10T11:17:50.365Z"
   },
   {
    "duration": 70,
    "start_time": "2023-03-10T11:17:50.413Z"
   },
   {
    "duration": 6,
    "start_time": "2023-03-10T11:17:50.485Z"
   },
   {
    "duration": 456,
    "start_time": "2023-03-10T11:17:50.493Z"
   },
   {
    "duration": 26,
    "start_time": "2023-03-10T11:17:50.955Z"
   },
   {
    "duration": 48,
    "start_time": "2023-03-10T11:17:50.983Z"
   },
   {
    "duration": 25,
    "start_time": "2023-03-10T11:17:51.053Z"
   },
   {
    "duration": 21,
    "start_time": "2023-03-10T11:17:51.079Z"
   },
   {
    "duration": 52,
    "start_time": "2023-03-10T11:17:51.103Z"
   },
   {
    "duration": 8,
    "start_time": "2023-03-10T11:17:51.157Z"
   },
   {
    "duration": 427,
    "start_time": "2023-03-10T11:17:51.167Z"
   },
   {
    "duration": 321,
    "start_time": "2023-03-10T11:17:51.595Z"
   },
   {
    "duration": 23,
    "start_time": "2023-03-10T11:17:51.918Z"
   },
   {
    "duration": 12,
    "start_time": "2023-03-10T11:17:51.943Z"
   },
   {
    "duration": 75,
    "start_time": "2023-03-10T11:17:51.956Z"
   },
   {
    "duration": 395,
    "start_time": "2023-03-10T11:17:52.034Z"
   },
   {
    "duration": 322,
    "start_time": "2023-03-10T11:17:52.431Z"
   },
   {
    "duration": 21,
    "start_time": "2023-03-10T11:17:52.754Z"
   },
   {
    "duration": 12,
    "start_time": "2023-03-10T11:17:52.776Z"
   },
   {
    "duration": 63,
    "start_time": "2023-03-10T11:17:52.790Z"
   },
   {
    "duration": 13,
    "start_time": "2023-03-10T11:17:52.855Z"
   },
   {
    "duration": 37,
    "start_time": "2023-03-10T11:17:52.870Z"
   },
   {
    "duration": 5,
    "start_time": "2023-03-10T11:17:52.909Z"
   },
   {
    "duration": 4,
    "start_time": "2023-03-10T11:17:52.916Z"
   },
   {
    "duration": 277,
    "start_time": "2023-03-10T11:17:52.922Z"
   },
   {
    "duration": 95,
    "start_time": "2023-03-10T11:17:53.201Z"
   },
   {
    "duration": 27,
    "start_time": "2023-03-10T11:18:06.616Z"
   },
   {
    "duration": 2289,
    "start_time": "2023-03-10T11:19:10.632Z"
   },
   {
    "duration": 23,
    "start_time": "2023-03-10T11:19:12.923Z"
   },
   {
    "duration": 515,
    "start_time": "2023-03-10T11:19:12.954Z"
   },
   {
    "duration": 504,
    "start_time": "2023-03-10T11:19:29.192Z"
   },
   {
    "duration": 5,
    "start_time": "2023-03-10T11:19:29.718Z"
   },
   {
    "duration": 6958,
    "start_time": "2023-03-10T11:19:46.457Z"
   },
   {
    "duration": 339,
    "start_time": "2023-03-10T11:19:53.417Z"
   },
   {
    "duration": 4,
    "start_time": "2023-03-10T11:19:53.772Z"
   },
   {
    "duration": 14,
    "start_time": "2023-03-10T11:20:09.104Z"
   },
   {
    "duration": 292,
    "start_time": "2023-03-10T11:20:21.814Z"
   },
   {
    "duration": 1241,
    "start_time": "2023-03-10T11:20:25.422Z"
   },
   {
    "duration": 86,
    "start_time": "2023-03-10T11:20:51.538Z"
   },
   {
    "duration": 57,
    "start_time": "2023-03-10T11:22:09.641Z"
   },
   {
    "duration": 313,
    "start_time": "2023-03-10T11:22:14.479Z"
   },
   {
    "duration": 14,
    "start_time": "2023-03-10T11:22:16.582Z"
   },
   {
    "duration": 183,
    "start_time": "2023-03-10T11:22:17.878Z"
   },
   {
    "duration": 4,
    "start_time": "2023-03-10T11:22:18.785Z"
   },
   {
    "duration": 87,
    "start_time": "2023-03-10T11:23:21.285Z"
   },
   {
    "duration": 61656,
    "start_time": "2023-03-10T11:23:25.102Z"
   },
   {
    "duration": 11806,
    "start_time": "2023-03-10T11:24:48.062Z"
   },
   {
    "duration": 93,
    "start_time": "2023-03-10T11:27:12.827Z"
   },
   {
    "duration": 6830,
    "start_time": "2023-03-10T11:27:58.107Z"
   },
   {
    "duration": 73,
    "start_time": "2023-03-10T11:28:04.939Z"
   },
   {
    "duration": 4,
    "start_time": "2023-03-10T11:28:05.013Z"
   },
   {
    "duration": 100,
    "start_time": "2023-03-10T11:28:18.314Z"
   },
   {
    "duration": 6157,
    "start_time": "2023-03-10T11:28:51.977Z"
   },
   {
    "duration": 50,
    "start_time": "2023-03-10T11:30:16.714Z"
   },
   {
    "duration": 6411,
    "start_time": "2023-03-10T11:30:31.513Z"
   },
   {
    "duration": 6250,
    "start_time": "2023-03-10T11:31:00.858Z"
   },
   {
    "duration": 6047,
    "start_time": "2023-03-10T11:31:11.768Z"
   },
   {
    "duration": 75764,
    "start_time": "2023-03-10T11:33:28.388Z"
   },
   {
    "duration": 5502,
    "start_time": "2023-03-10T11:36:24.871Z"
   },
   {
    "duration": 2,
    "start_time": "2023-03-10T11:37:44.238Z"
   },
   {
    "duration": 10,
    "start_time": "2023-03-10T11:47:43.424Z"
   },
   {
    "duration": 47,
    "start_time": "2023-03-10T11:47:54.488Z"
   },
   {
    "duration": 52,
    "start_time": "2023-03-10T11:48:00.616Z"
   },
   {
    "duration": 547,
    "start_time": "2023-03-10T11:49:45.608Z"
   },
   {
    "duration": 354,
    "start_time": "2023-03-10T11:50:17.151Z"
   },
   {
    "duration": 17,
    "start_time": "2023-03-10T11:50:28.041Z"
   },
   {
    "duration": 5,
    "start_time": "2023-03-10T11:50:57.813Z"
   },
   {
    "duration": 779,
    "start_time": "2023-03-10T11:50:57.821Z"
   },
   {
    "duration": 15,
    "start_time": "2023-03-10T11:50:58.602Z"
   },
   {
    "duration": 35,
    "start_time": "2023-03-10T11:50:58.619Z"
   },
   {
    "duration": 30,
    "start_time": "2023-03-10T11:50:58.655Z"
   },
   {
    "duration": 17,
    "start_time": "2023-03-10T11:50:58.687Z"
   },
   {
    "duration": 38,
    "start_time": "2023-03-10T11:50:58.706Z"
   },
   {
    "duration": 287,
    "start_time": "2023-03-10T11:50:58.746Z"
   },
   {
    "duration": 342,
    "start_time": "2023-03-10T11:50:59.035Z"
   },
   {
    "duration": 20,
    "start_time": "2023-03-10T11:50:59.380Z"
   },
   {
    "duration": 28,
    "start_time": "2023-03-10T11:50:59.403Z"
   },
   {
    "duration": 63,
    "start_time": "2023-03-10T11:50:59.433Z"
   },
   {
    "duration": 39,
    "start_time": "2023-03-10T11:50:59.499Z"
   },
   {
    "duration": 66,
    "start_time": "2023-03-10T11:50:59.539Z"
   },
   {
    "duration": 19,
    "start_time": "2023-03-10T11:50:59.606Z"
   },
   {
    "duration": 47,
    "start_time": "2023-03-10T11:50:59.627Z"
   },
   {
    "duration": 55,
    "start_time": "2023-03-10T11:50:59.675Z"
   },
   {
    "duration": 23,
    "start_time": "2023-03-10T11:50:59.732Z"
   },
   {
    "duration": 13,
    "start_time": "2023-03-10T11:50:59.757Z"
   },
   {
    "duration": 69,
    "start_time": "2023-03-10T11:50:59.772Z"
   },
   {
    "duration": 23,
    "start_time": "2023-03-10T11:50:59.843Z"
   },
   {
    "duration": 16,
    "start_time": "2023-03-10T11:50:59.868Z"
   },
   {
    "duration": 62,
    "start_time": "2023-03-10T11:50:59.885Z"
   },
   {
    "duration": 16,
    "start_time": "2023-03-10T11:50:59.949Z"
   },
   {
    "duration": 35,
    "start_time": "2023-03-10T11:50:59.967Z"
   },
   {
    "duration": 50,
    "start_time": "2023-03-10T11:51:00.003Z"
   },
   {
    "duration": 51,
    "start_time": "2023-03-10T11:51:00.055Z"
   },
   {
    "duration": 23,
    "start_time": "2023-03-10T11:51:00.110Z"
   },
   {
    "duration": 477,
    "start_time": "2023-03-10T11:51:00.135Z"
   },
   {
    "duration": 24,
    "start_time": "2023-03-10T11:51:00.615Z"
   },
   {
    "duration": 47,
    "start_time": "2023-03-10T11:51:00.654Z"
   },
   {
    "duration": 20,
    "start_time": "2023-03-10T11:51:00.703Z"
   },
   {
    "duration": 43,
    "start_time": "2023-03-10T11:51:00.725Z"
   },
   {
    "duration": 21,
    "start_time": "2023-03-10T11:51:00.770Z"
   },
   {
    "duration": 24,
    "start_time": "2023-03-10T11:51:00.793Z"
   },
   {
    "duration": 370,
    "start_time": "2023-03-10T11:51:00.819Z"
   },
   {
    "duration": 347,
    "start_time": "2023-03-10T11:51:01.191Z"
   },
   {
    "duration": 26,
    "start_time": "2023-03-10T11:51:01.541Z"
   },
   {
    "duration": 6,
    "start_time": "2023-03-10T11:51:01.568Z"
   },
   {
    "duration": 35,
    "start_time": "2023-03-10T11:51:01.576Z"
   },
   {
    "duration": 423,
    "start_time": "2023-03-10T11:51:01.613Z"
   },
   {
    "duration": 329,
    "start_time": "2023-03-10T11:51:02.038Z"
   },
   {
    "duration": 17,
    "start_time": "2023-03-10T11:51:02.369Z"
   },
   {
    "duration": 22,
    "start_time": "2023-03-10T11:51:02.388Z"
   },
   {
    "duration": 79,
    "start_time": "2023-03-10T11:51:02.412Z"
   },
   {
    "duration": 9,
    "start_time": "2023-03-10T11:51:02.493Z"
   },
   {
    "duration": 60,
    "start_time": "2023-03-10T11:51:02.504Z"
   },
   {
    "duration": 16,
    "start_time": "2023-03-10T11:51:02.566Z"
   },
   {
    "duration": 328,
    "start_time": "2023-03-10T11:51:02.583Z"
   },
   {
    "duration": 14,
    "start_time": "2023-03-10T11:51:02.913Z"
   },
   {
    "duration": 204,
    "start_time": "2023-03-10T11:51:02.929Z"
   },
   {
    "duration": 4,
    "start_time": "2023-03-10T11:51:03.134Z"
   },
   {
    "duration": 507,
    "start_time": "2023-03-10T11:51:03.140Z"
   },
   {
    "duration": 17,
    "start_time": "2023-03-10T11:51:03.650Z"
   },
   {
    "duration": 41,
    "start_time": "2023-03-10T11:51:03.669Z"
   },
   {
    "duration": 4,
    "start_time": "2023-03-10T11:51:03.712Z"
   },
   {
    "duration": 362,
    "start_time": "2023-03-10T11:52:03.959Z"
   },
   {
    "duration": 152,
    "start_time": "2023-03-10T11:52:24.496Z"
   },
   {
    "duration": 6,
    "start_time": "2023-03-10T11:52:56.560Z"
   },
   {
    "duration": 13631,
    "start_time": "2023-03-10T11:53:09.713Z"
   },
   {
    "duration": 434,
    "start_time": "2023-03-10T11:55:13.838Z"
   },
   {
    "duration": 18,
    "start_time": "2023-03-10T11:55:14.468Z"
   },
   {
    "duration": 391,
    "start_time": "2023-03-10T11:56:30.084Z"
   },
   {
    "duration": 19,
    "start_time": "2023-03-10T11:56:31.988Z"
   },
   {
    "duration": 1450,
    "start_time": "2023-03-10T11:58:17.188Z"
   },
   {
    "duration": 857,
    "start_time": "2023-03-10T11:58:18.640Z"
   },
   {
    "duration": 18,
    "start_time": "2023-03-10T11:58:19.499Z"
   },
   {
    "duration": 34,
    "start_time": "2023-03-10T11:58:19.519Z"
   },
   {
    "duration": 3,
    "start_time": "2023-03-10T11:58:19.556Z"
   },
   {
    "duration": 5,
    "start_time": "2023-03-10T11:58:19.561Z"
   },
   {
    "duration": 46,
    "start_time": "2023-03-10T11:58:19.568Z"
   },
   {
    "duration": 371,
    "start_time": "2023-03-10T11:58:19.616Z"
   },
   {
    "duration": 455,
    "start_time": "2023-03-10T11:58:19.989Z"
   },
   {
    "duration": 23,
    "start_time": "2023-03-10T11:58:20.446Z"
   },
   {
    "duration": 17,
    "start_time": "2023-03-10T11:58:20.471Z"
   },
   {
    "duration": 66,
    "start_time": "2023-03-10T11:58:20.490Z"
   },
   {
    "duration": 41,
    "start_time": "2023-03-10T11:58:20.558Z"
   },
   {
    "duration": 92,
    "start_time": "2023-03-10T11:58:20.601Z"
   },
   {
    "duration": 18,
    "start_time": "2023-03-10T11:58:20.695Z"
   },
   {
    "duration": 17,
    "start_time": "2023-03-10T11:58:20.714Z"
   },
   {
    "duration": 70,
    "start_time": "2023-03-10T11:58:20.732Z"
   },
   {
    "duration": 19,
    "start_time": "2023-03-10T11:58:20.804Z"
   },
   {
    "duration": 31,
    "start_time": "2023-03-10T11:58:20.825Z"
   },
   {
    "duration": 65,
    "start_time": "2023-03-10T11:58:20.858Z"
   },
   {
    "duration": 32,
    "start_time": "2023-03-10T11:58:20.925Z"
   },
   {
    "duration": 26,
    "start_time": "2023-03-10T11:58:20.959Z"
   },
   {
    "duration": 52,
    "start_time": "2023-03-10T11:58:20.987Z"
   },
   {
    "duration": 28,
    "start_time": "2023-03-10T11:58:21.041Z"
   },
   {
    "duration": 28,
    "start_time": "2023-03-10T11:58:21.072Z"
   },
   {
    "duration": 53,
    "start_time": "2023-03-10T11:58:21.103Z"
   },
   {
    "duration": 53,
    "start_time": "2023-03-10T11:58:21.159Z"
   },
   {
    "duration": 7,
    "start_time": "2023-03-10T11:58:21.214Z"
   },
   {
    "duration": 484,
    "start_time": "2023-03-10T11:58:21.223Z"
   },
   {
    "duration": 26,
    "start_time": "2023-03-10T11:58:21.709Z"
   },
   {
    "duration": 44,
    "start_time": "2023-03-10T11:58:21.737Z"
   },
   {
    "duration": 22,
    "start_time": "2023-03-10T11:58:21.783Z"
   },
   {
    "duration": 24,
    "start_time": "2023-03-10T11:58:21.807Z"
   },
   {
    "duration": 25,
    "start_time": "2023-03-10T11:58:21.854Z"
   },
   {
    "duration": 7,
    "start_time": "2023-03-10T11:58:21.881Z"
   },
   {
    "duration": 394,
    "start_time": "2023-03-10T11:58:21.890Z"
   },
   {
    "duration": 310,
    "start_time": "2023-03-10T11:58:22.285Z"
   },
   {
    "duration": 23,
    "start_time": "2023-03-10T11:58:22.597Z"
   },
   {
    "duration": 5,
    "start_time": "2023-03-10T11:58:22.622Z"
   },
   {
    "duration": 30,
    "start_time": "2023-03-10T11:58:22.628Z"
   },
   {
    "duration": 408,
    "start_time": "2023-03-10T11:58:22.662Z"
   },
   {
    "duration": 420,
    "start_time": "2023-03-10T11:58:23.071Z"
   },
   {
    "duration": 22,
    "start_time": "2023-03-10T11:58:23.492Z"
   },
   {
    "duration": 14,
    "start_time": "2023-03-10T11:58:23.515Z"
   },
   {
    "duration": 62,
    "start_time": "2023-03-10T11:58:23.530Z"
   },
   {
    "duration": 9,
    "start_time": "2023-03-10T11:58:23.594Z"
   },
   {
    "duration": 60,
    "start_time": "2023-03-10T11:58:23.605Z"
   },
   {
    "duration": 4,
    "start_time": "2023-03-10T11:58:23.667Z"
   },
   {
    "duration": 351,
    "start_time": "2023-03-10T11:58:23.672Z"
   },
   {
    "duration": 31,
    "start_time": "2023-03-10T11:58:24.026Z"
   },
   {
    "duration": 224,
    "start_time": "2023-03-10T11:58:24.060Z"
   },
   {
    "duration": 4,
    "start_time": "2023-03-10T11:58:24.285Z"
   },
   {
    "duration": 8,
    "start_time": "2023-03-10T11:58:24.291Z"
   },
   {
    "duration": 345,
    "start_time": "2023-03-10T11:58:24.301Z"
   },
   {
    "duration": 0,
    "start_time": "2023-03-10T11:58:24.648Z"
   },
   {
    "duration": 0,
    "start_time": "2023-03-10T11:58:24.653Z"
   },
   {
    "duration": 0,
    "start_time": "2023-03-10T11:58:24.655Z"
   },
   {
    "duration": 0,
    "start_time": "2023-03-10T11:58:24.656Z"
   },
   {
    "duration": 0,
    "start_time": "2023-03-10T11:58:24.658Z"
   },
   {
    "duration": 0,
    "start_time": "2023-03-10T11:58:24.659Z"
   },
   {
    "duration": 0,
    "start_time": "2023-03-10T11:58:24.660Z"
   },
   {
    "duration": 0,
    "start_time": "2023-03-10T11:58:24.662Z"
   },
   {
    "duration": 0,
    "start_time": "2023-03-10T11:58:24.663Z"
   },
   {
    "duration": 0,
    "start_time": "2023-03-10T11:58:24.665Z"
   },
   {
    "duration": 0,
    "start_time": "2023-03-10T11:58:24.666Z"
   },
   {
    "duration": 0,
    "start_time": "2023-03-10T11:58:24.667Z"
   },
   {
    "duration": 0,
    "start_time": "2023-03-10T11:58:24.669Z"
   },
   {
    "duration": 493,
    "start_time": "2023-03-10T11:59:07.068Z"
   },
   {
    "duration": 354,
    "start_time": "2023-03-10T11:59:25.331Z"
   },
   {
    "duration": 363,
    "start_time": "2023-03-10T12:00:18.929Z"
   },
   {
    "duration": 14,
    "start_time": "2023-03-10T12:00:21.450Z"
   },
   {
    "duration": 28,
    "start_time": "2023-03-10T12:00:26.969Z"
   },
   {
    "duration": 4,
    "start_time": "2023-03-10T12:00:27.537Z"
   },
   {
    "duration": 322,
    "start_time": "2023-03-10T12:00:33.453Z"
   },
   {
    "duration": 55,
    "start_time": "2023-03-10T12:00:38.193Z"
   },
   {
    "duration": 3,
    "start_time": "2023-03-10T12:00:42.697Z"
   },
   {
    "duration": 39621,
    "start_time": "2023-03-10T12:00:45.088Z"
   },
   {
    "duration": 9797,
    "start_time": "2023-03-10T12:01:45.474Z"
   },
   {
    "duration": 600,
    "start_time": "2023-03-10T12:06:03.578Z"
   },
   {
    "duration": 480,
    "start_time": "2023-03-10T12:06:17.993Z"
   },
   {
    "duration": 1350,
    "start_time": "2023-03-10T12:07:30.006Z"
   },
   {
    "duration": 443,
    "start_time": "2023-03-10T12:08:38.091Z"
   },
   {
    "duration": 1690,
    "start_time": "2023-03-10T12:08:56.720Z"
   },
   {
    "duration": 766,
    "start_time": "2023-03-10T12:09:32.884Z"
   },
   {
    "duration": 553,
    "start_time": "2023-03-10T12:10:10.739Z"
   },
   {
    "duration": 560,
    "start_time": "2023-03-10T12:10:55.021Z"
   },
   {
    "duration": 568,
    "start_time": "2023-03-10T12:11:06.420Z"
   },
   {
    "duration": 70,
    "start_time": "2023-03-10T12:11:23.951Z"
   },
   {
    "duration": 8,
    "start_time": "2023-03-10T12:11:25.809Z"
   },
   {
    "duration": 1415,
    "start_time": "2023-03-10T12:11:42.412Z"
   },
   {
    "duration": 3065,
    "start_time": "2023-03-10T12:11:43.829Z"
   },
   {
    "duration": 19,
    "start_time": "2023-03-10T12:11:46.897Z"
   },
   {
    "duration": 29,
    "start_time": "2023-03-10T12:11:46.918Z"
   },
   {
    "duration": 5,
    "start_time": "2023-03-10T12:11:46.953Z"
   },
   {
    "duration": 7,
    "start_time": "2023-03-10T12:11:46.960Z"
   },
   {
    "duration": 51,
    "start_time": "2023-03-10T12:11:46.969Z"
   },
   {
    "duration": 363,
    "start_time": "2023-03-10T12:11:47.022Z"
   },
   {
    "duration": 408,
    "start_time": "2023-03-10T12:11:47.387Z"
   },
   {
    "duration": 31,
    "start_time": "2023-03-10T12:11:47.796Z"
   },
   {
    "duration": 31,
    "start_time": "2023-03-10T12:11:47.829Z"
   },
   {
    "duration": 71,
    "start_time": "2023-03-10T12:11:47.861Z"
   },
   {
    "duration": 41,
    "start_time": "2023-03-10T12:11:47.933Z"
   },
   {
    "duration": 76,
    "start_time": "2023-03-10T12:11:47.977Z"
   },
   {
    "duration": 17,
    "start_time": "2023-03-10T12:11:48.055Z"
   },
   {
    "duration": 28,
    "start_time": "2023-03-10T12:11:48.074Z"
   },
   {
    "duration": 56,
    "start_time": "2023-03-10T12:11:48.104Z"
   },
   {
    "duration": 20,
    "start_time": "2023-03-10T12:11:48.162Z"
   },
   {
    "duration": 15,
    "start_time": "2023-03-10T12:11:48.184Z"
   },
   {
    "duration": 77,
    "start_time": "2023-03-10T12:11:48.201Z"
   },
   {
    "duration": 17,
    "start_time": "2023-03-10T12:11:48.280Z"
   },
   {
    "duration": 14,
    "start_time": "2023-03-10T12:11:48.299Z"
   },
   {
    "duration": 68,
    "start_time": "2023-03-10T12:11:48.314Z"
   },
   {
    "duration": 16,
    "start_time": "2023-03-10T12:11:48.383Z"
   },
   {
    "duration": 18,
    "start_time": "2023-03-10T12:11:48.401Z"
   },
   {
    "duration": 75,
    "start_time": "2023-03-10T12:11:48.421Z"
   },
   {
    "duration": 56,
    "start_time": "2023-03-10T12:11:48.497Z"
   },
   {
    "duration": 6,
    "start_time": "2023-03-10T12:11:48.555Z"
   },
   {
    "duration": 461,
    "start_time": "2023-03-10T12:11:48.562Z"
   },
   {
    "duration": 28,
    "start_time": "2023-03-10T12:11:49.026Z"
   },
   {
    "duration": 48,
    "start_time": "2023-03-10T12:11:49.056Z"
   },
   {
    "duration": 23,
    "start_time": "2023-03-10T12:11:49.107Z"
   },
   {
    "duration": 18,
    "start_time": "2023-03-10T12:11:49.153Z"
   },
   {
    "duration": 35,
    "start_time": "2023-03-10T12:11:49.173Z"
   },
   {
    "duration": 6,
    "start_time": "2023-03-10T12:11:49.210Z"
   },
   {
    "duration": 420,
    "start_time": "2023-03-10T12:11:49.219Z"
   },
   {
    "duration": 354,
    "start_time": "2023-03-10T12:11:49.642Z"
   },
   {
    "duration": 26,
    "start_time": "2023-03-10T12:11:49.999Z"
   },
   {
    "duration": 7,
    "start_time": "2023-03-10T12:11:50.027Z"
   },
   {
    "duration": 12,
    "start_time": "2023-03-10T12:11:50.054Z"
   },
   {
    "duration": 458,
    "start_time": "2023-03-10T12:11:50.071Z"
   },
   {
    "duration": 433,
    "start_time": "2023-03-10T12:11:50.531Z"
   },
   {
    "duration": 23,
    "start_time": "2023-03-10T12:11:50.966Z"
   },
   {
    "duration": 39,
    "start_time": "2023-03-10T12:11:50.991Z"
   },
   {
    "duration": 58,
    "start_time": "2023-03-10T12:11:51.032Z"
   },
   {
    "duration": 11,
    "start_time": "2023-03-10T12:11:51.092Z"
   },
   {
    "duration": 57,
    "start_time": "2023-03-10T12:11:51.105Z"
   },
   {
    "duration": 4,
    "start_time": "2023-03-10T12:11:51.165Z"
   },
   {
    "duration": 728,
    "start_time": "2023-03-10T12:11:51.171Z"
   },
   {
    "duration": 1680,
    "start_time": "2023-03-10T12:11:51.900Z"
   },
   {
    "duration": 44,
    "start_time": "2023-03-10T12:12:25.091Z"
   },
   {
    "duration": 1407,
    "start_time": "2023-03-10T12:12:31.577Z"
   },
   {
    "duration": 71,
    "start_time": "2023-03-10T12:12:52.597Z"
   },
   {
    "duration": 4,
    "start_time": "2023-03-10T12:13:04.433Z"
   },
   {
    "duration": 499,
    "start_time": "2023-03-10T12:13:50.361Z"
   },
   {
    "duration": 4,
    "start_time": "2023-03-10T12:13:51.011Z"
   },
   {
    "duration": 2185,
    "start_time": "2023-03-10T12:13:56.947Z"
   },
   {
    "duration": 9355,
    "start_time": "2023-03-10T12:14:06.545Z"
   },
   {
    "duration": 1205,
    "start_time": "2023-03-10T12:14:45.210Z"
   },
   {
    "duration": 4,
    "start_time": "2023-03-10T12:14:47.922Z"
   },
   {
    "duration": 1427,
    "start_time": "2023-03-10T12:15:07.051Z"
   },
   {
    "duration": 4,
    "start_time": "2023-03-10T12:15:11.161Z"
   },
   {
    "duration": 111,
    "start_time": "2023-03-10T12:15:28.097Z"
   },
   {
    "duration": 1512,
    "start_time": "2023-03-10T12:15:47.696Z"
   },
   {
    "duration": 2977,
    "start_time": "2023-03-10T12:15:49.211Z"
   },
   {
    "duration": 18,
    "start_time": "2023-03-10T12:15:52.190Z"
   },
   {
    "duration": 23,
    "start_time": "2023-03-10T12:15:52.209Z"
   },
   {
    "duration": 6,
    "start_time": "2023-03-10T12:15:52.235Z"
   },
   {
    "duration": 11,
    "start_time": "2023-03-10T12:15:52.243Z"
   },
   {
    "duration": 51,
    "start_time": "2023-03-10T12:15:52.256Z"
   },
   {
    "duration": 295,
    "start_time": "2023-03-10T12:15:52.308Z"
   },
   {
    "duration": 354,
    "start_time": "2023-03-10T12:15:52.604Z"
   },
   {
    "duration": 17,
    "start_time": "2023-03-10T12:15:52.959Z"
   },
   {
    "duration": 16,
    "start_time": "2023-03-10T12:15:52.977Z"
   },
   {
    "duration": 39,
    "start_time": "2023-03-10T12:15:52.994Z"
   },
   {
    "duration": 35,
    "start_time": "2023-03-10T12:15:53.053Z"
   },
   {
    "duration": 66,
    "start_time": "2023-03-10T12:15:53.091Z"
   },
   {
    "duration": 17,
    "start_time": "2023-03-10T12:15:53.159Z"
   },
   {
    "duration": 15,
    "start_time": "2023-03-10T12:15:53.178Z"
   },
   {
    "duration": 73,
    "start_time": "2023-03-10T12:15:53.196Z"
   },
   {
    "duration": 18,
    "start_time": "2023-03-10T12:15:53.270Z"
   },
   {
    "duration": 13,
    "start_time": "2023-03-10T12:15:53.290Z"
   },
   {
    "duration": 77,
    "start_time": "2023-03-10T12:15:53.305Z"
   },
   {
    "duration": 18,
    "start_time": "2023-03-10T12:15:53.383Z"
   },
   {
    "duration": 17,
    "start_time": "2023-03-10T12:15:53.403Z"
   },
   {
    "duration": 67,
    "start_time": "2023-03-10T12:15:53.422Z"
   },
   {
    "duration": 18,
    "start_time": "2023-03-10T12:15:53.490Z"
   },
   {
    "duration": 19,
    "start_time": "2023-03-10T12:15:53.509Z"
   },
   {
    "duration": 61,
    "start_time": "2023-03-10T12:15:53.530Z"
   },
   {
    "duration": 61,
    "start_time": "2023-03-10T12:15:53.593Z"
   },
   {
    "duration": 6,
    "start_time": "2023-03-10T12:15:53.655Z"
   },
   {
    "duration": 457,
    "start_time": "2023-03-10T12:15:53.662Z"
   },
   {
    "duration": 28,
    "start_time": "2023-03-10T12:15:54.122Z"
   },
   {
    "duration": 43,
    "start_time": "2023-03-10T12:15:54.151Z"
   },
   {
    "duration": 21,
    "start_time": "2023-03-10T12:15:54.195Z"
   },
   {
    "duration": 16,
    "start_time": "2023-03-10T12:15:54.217Z"
   },
   {
    "duration": 33,
    "start_time": "2023-03-10T12:15:54.235Z"
   },
   {
    "duration": 7,
    "start_time": "2023-03-10T12:15:54.270Z"
   },
   {
    "duration": 360,
    "start_time": "2023-03-10T12:15:54.279Z"
   },
   {
    "duration": 342,
    "start_time": "2023-03-10T12:15:54.641Z"
   },
   {
    "duration": 27,
    "start_time": "2023-03-10T12:15:54.985Z"
   },
   {
    "duration": 5,
    "start_time": "2023-03-10T12:15:55.014Z"
   },
   {
    "duration": 18,
    "start_time": "2023-03-10T12:15:55.021Z"
   },
   {
    "duration": 422,
    "start_time": "2023-03-10T12:15:55.056Z"
   },
   {
    "duration": 390,
    "start_time": "2023-03-10T12:15:55.480Z"
   },
   {
    "duration": 20,
    "start_time": "2023-03-10T12:15:55.872Z"
   },
   {
    "duration": 13,
    "start_time": "2023-03-10T12:15:55.894Z"
   },
   {
    "duration": 53,
    "start_time": "2023-03-10T12:15:55.909Z"
   },
   {
    "duration": 21,
    "start_time": "2023-03-10T12:15:55.964Z"
   },
   {
    "duration": 45,
    "start_time": "2023-03-10T12:15:55.987Z"
   },
   {
    "duration": 4,
    "start_time": "2023-03-10T12:15:56.033Z"
   },
   {
    "duration": 680,
    "start_time": "2023-03-10T12:15:56.038Z"
   },
   {
    "duration": 1355,
    "start_time": "2023-03-10T12:15:56.719Z"
   },
   {
    "duration": 4,
    "start_time": "2023-03-10T12:15:58.076Z"
   },
   {
    "duration": 481,
    "start_time": "2023-03-10T12:15:58.083Z"
   },
   {
    "duration": 3,
    "start_time": "2023-03-10T12:15:58.566Z"
   },
   {
    "duration": 484,
    "start_time": "2023-03-10T12:15:58.570Z"
   },
   {
    "duration": 13,
    "start_time": "2023-03-10T12:15:59.056Z"
   },
   {
    "duration": 31,
    "start_time": "2023-03-10T12:15:59.071Z"
   },
   {
    "duration": 3,
    "start_time": "2023-03-10T12:15:59.104Z"
   },
   {
    "duration": 338,
    "start_time": "2023-03-10T12:15:59.110Z"
   },
   {
    "duration": 459,
    "start_time": "2023-03-10T12:15:59.453Z"
   },
   {
    "duration": 125,
    "start_time": "2023-03-10T12:16:03.706Z"
   },
   {
    "duration": 1023,
    "start_time": "2023-03-10T12:16:17.556Z"
   },
   {
    "duration": 2334,
    "start_time": "2023-03-10T12:16:43.938Z"
   },
   {
    "duration": 5,
    "start_time": "2023-03-10T12:16:50.131Z"
   },
   {
    "duration": 470,
    "start_time": "2023-03-10T12:16:55.095Z"
   },
   {
    "duration": 3,
    "start_time": "2023-03-10T12:16:56.273Z"
   },
   {
    "duration": 2299,
    "start_time": "2023-03-10T12:19:07.939Z"
   },
   {
    "duration": 25,
    "start_time": "2023-03-10T12:19:38.914Z"
   },
   {
    "duration": 4,
    "start_time": "2023-03-10T12:20:05.497Z"
   },
   {
    "duration": 5,
    "start_time": "2023-03-10T12:20:10.543Z"
   },
   {
    "duration": 795,
    "start_time": "2023-03-10T12:20:10.551Z"
   },
   {
    "duration": 17,
    "start_time": "2023-03-10T12:20:11.348Z"
   },
   {
    "duration": 21,
    "start_time": "2023-03-10T12:20:11.367Z"
   },
   {
    "duration": 5,
    "start_time": "2023-03-10T12:20:11.390Z"
   },
   {
    "duration": 11,
    "start_time": "2023-03-10T12:20:11.396Z"
   },
   {
    "duration": 68,
    "start_time": "2023-03-10T12:20:11.409Z"
   },
   {
    "duration": 307,
    "start_time": "2023-03-10T12:20:11.480Z"
   },
   {
    "duration": 328,
    "start_time": "2023-03-10T12:20:11.788Z"
   },
   {
    "duration": 18,
    "start_time": "2023-03-10T12:20:12.118Z"
   },
   {
    "duration": 29,
    "start_time": "2023-03-10T12:20:12.138Z"
   },
   {
    "duration": 41,
    "start_time": "2023-03-10T12:20:12.169Z"
   },
   {
    "duration": 54,
    "start_time": "2023-03-10T12:20:12.212Z"
   },
   {
    "duration": 56,
    "start_time": "2023-03-10T12:20:12.269Z"
   },
   {
    "duration": 36,
    "start_time": "2023-03-10T12:20:12.328Z"
   },
   {
    "duration": 15,
    "start_time": "2023-03-10T12:20:12.366Z"
   },
   {
    "duration": 71,
    "start_time": "2023-03-10T12:20:12.383Z"
   },
   {
    "duration": 18,
    "start_time": "2023-03-10T12:20:12.456Z"
   },
   {
    "duration": 19,
    "start_time": "2023-03-10T12:20:12.475Z"
   },
   {
    "duration": 63,
    "start_time": "2023-03-10T12:20:12.496Z"
   },
   {
    "duration": 17,
    "start_time": "2023-03-10T12:20:12.560Z"
   },
   {
    "duration": 14,
    "start_time": "2023-03-10T12:20:12.579Z"
   },
   {
    "duration": 61,
    "start_time": "2023-03-10T12:20:12.594Z"
   },
   {
    "duration": 14,
    "start_time": "2023-03-10T12:20:12.657Z"
   },
   {
    "duration": 13,
    "start_time": "2023-03-10T12:20:12.673Z"
   },
   {
    "duration": 40,
    "start_time": "2023-03-10T12:20:12.688Z"
   },
   {
    "duration": 64,
    "start_time": "2023-03-10T12:20:12.729Z"
   },
   {
    "duration": 5,
    "start_time": "2023-03-10T12:20:12.795Z"
   },
   {
    "duration": 385,
    "start_time": "2023-03-10T12:20:12.802Z"
   },
   {
    "duration": 23,
    "start_time": "2023-03-10T12:20:13.189Z"
   },
   {
    "duration": 59,
    "start_time": "2023-03-10T12:20:13.214Z"
   },
   {
    "duration": 20,
    "start_time": "2023-03-10T12:20:13.275Z"
   },
   {
    "duration": 15,
    "start_time": "2023-03-10T12:20:13.296Z"
   },
   {
    "duration": 15,
    "start_time": "2023-03-10T12:20:13.313Z"
   },
   {
    "duration": 7,
    "start_time": "2023-03-10T12:20:13.354Z"
   },
   {
    "duration": 352,
    "start_time": "2023-03-10T12:20:13.363Z"
   },
   {
    "duration": 330,
    "start_time": "2023-03-10T12:20:13.717Z"
   },
   {
    "duration": 27,
    "start_time": "2023-03-10T12:20:14.053Z"
   },
   {
    "duration": 7,
    "start_time": "2023-03-10T12:20:14.082Z"
   },
   {
    "duration": 15,
    "start_time": "2023-03-10T12:20:14.092Z"
   },
   {
    "duration": 400,
    "start_time": "2023-03-10T12:20:14.113Z"
   },
   {
    "duration": 321,
    "start_time": "2023-03-10T12:20:14.515Z"
   },
   {
    "duration": 26,
    "start_time": "2023-03-10T12:20:14.838Z"
   },
   {
    "duration": 16,
    "start_time": "2023-03-10T12:20:14.866Z"
   },
   {
    "duration": 48,
    "start_time": "2023-03-10T12:20:14.884Z"
   },
   {
    "duration": 21,
    "start_time": "2023-03-10T12:20:14.934Z"
   },
   {
    "duration": 37,
    "start_time": "2023-03-10T12:20:14.956Z"
   },
   {
    "duration": 3,
    "start_time": "2023-03-10T12:20:14.996Z"
   },
   {
    "duration": 385,
    "start_time": "2023-03-10T12:20:15.002Z"
   },
   {
    "duration": 4,
    "start_time": "2023-03-10T12:20:27.217Z"
   },
   {
    "duration": 191,
    "start_time": "2023-03-10T12:20:27.902Z"
   },
   {
    "duration": 4,
    "start_time": "2023-03-10T12:20:29.192Z"
   },
   {
    "duration": 508,
    "start_time": "2023-03-10T12:20:47.679Z"
   },
   {
    "duration": 14,
    "start_time": "2023-03-10T12:20:49.078Z"
   },
   {
    "duration": 25,
    "start_time": "2023-03-10T12:20:49.927Z"
   },
   {
    "duration": 4,
    "start_time": "2023-03-10T12:20:50.038Z"
   },
   {
    "duration": 342,
    "start_time": "2023-03-10T12:20:53.615Z"
   },
   {
    "duration": 9438,
    "start_time": "2023-03-10T12:20:59.119Z"
   },
   {
    "duration": 39795,
    "start_time": "2023-03-10T12:21:11.488Z"
   },
   {
    "duration": 670,
    "start_time": "2023-03-10T13:11:50.550Z"
   },
   {
    "duration": 2781,
    "start_time": "2023-03-10T13:12:14.800Z"
   },
   {
    "duration": 4,
    "start_time": "2023-03-10T13:12:24.596Z"
   },
   {
    "duration": 4,
    "start_time": "2023-03-10T13:13:28.066Z"
   },
   {
    "duration": 488,
    "start_time": "2023-03-10T13:13:28.655Z"
   },
   {
    "duration": 5,
    "start_time": "2023-03-10T13:13:29.217Z"
   },
   {
    "duration": 13317,
    "start_time": "2023-03-10T13:13:35.537Z"
   },
   {
    "duration": 95,
    "start_time": "2023-03-10T13:13:58.849Z"
   },
   {
    "duration": 1540,
    "start_time": "2023-03-10T13:14:06.519Z"
   },
   {
    "duration": 3220,
    "start_time": "2023-03-10T13:14:08.061Z"
   },
   {
    "duration": 23,
    "start_time": "2023-03-10T13:14:11.284Z"
   },
   {
    "duration": 27,
    "start_time": "2023-03-10T13:14:11.309Z"
   },
   {
    "duration": 16,
    "start_time": "2023-03-10T13:14:11.339Z"
   },
   {
    "duration": 6,
    "start_time": "2023-03-10T13:14:11.357Z"
   },
   {
    "duration": 51,
    "start_time": "2023-03-10T13:14:11.365Z"
   },
   {
    "duration": 410,
    "start_time": "2023-03-10T13:14:11.417Z"
   },
   {
    "duration": 401,
    "start_time": "2023-03-10T13:14:11.828Z"
   },
   {
    "duration": 33,
    "start_time": "2023-03-10T13:14:12.231Z"
   },
   {
    "duration": 24,
    "start_time": "2023-03-10T13:14:12.267Z"
   },
   {
    "duration": 79,
    "start_time": "2023-03-10T13:14:12.293Z"
   },
   {
    "duration": 55,
    "start_time": "2023-03-10T13:14:12.375Z"
   },
   {
    "duration": 83,
    "start_time": "2023-03-10T13:14:12.434Z"
   },
   {
    "duration": 18,
    "start_time": "2023-03-10T13:14:12.519Z"
   },
   {
    "duration": 16,
    "start_time": "2023-03-10T13:14:12.553Z"
   },
   {
    "duration": 54,
    "start_time": "2023-03-10T13:14:12.571Z"
   },
   {
    "duration": 34,
    "start_time": "2023-03-10T13:14:12.627Z"
   },
   {
    "duration": 15,
    "start_time": "2023-03-10T13:14:12.664Z"
   },
   {
    "duration": 81,
    "start_time": "2023-03-10T13:14:12.681Z"
   },
   {
    "duration": 20,
    "start_time": "2023-03-10T13:14:12.766Z"
   },
   {
    "duration": 29,
    "start_time": "2023-03-10T13:14:12.787Z"
   },
   {
    "duration": 61,
    "start_time": "2023-03-10T13:14:12.818Z"
   },
   {
    "duration": 17,
    "start_time": "2023-03-10T13:14:12.880Z"
   },
   {
    "duration": 26,
    "start_time": "2023-03-10T13:14:12.899Z"
   },
   {
    "duration": 55,
    "start_time": "2023-03-10T13:14:12.927Z"
   },
   {
    "duration": 53,
    "start_time": "2023-03-10T13:14:12.984Z"
   },
   {
    "duration": 16,
    "start_time": "2023-03-10T13:14:13.039Z"
   },
   {
    "duration": 493,
    "start_time": "2023-03-10T13:14:13.058Z"
   },
   {
    "duration": 26,
    "start_time": "2023-03-10T13:14:13.554Z"
   },
   {
    "duration": 45,
    "start_time": "2023-03-10T13:14:13.581Z"
   },
   {
    "duration": 50,
    "start_time": "2023-03-10T13:14:13.628Z"
   },
   {
    "duration": 19,
    "start_time": "2023-03-10T13:14:13.680Z"
   },
   {
    "duration": 17,
    "start_time": "2023-03-10T13:14:13.701Z"
   },
   {
    "duration": 38,
    "start_time": "2023-03-10T13:14:13.720Z"
   },
   {
    "duration": 492,
    "start_time": "2023-03-10T13:14:13.761Z"
   },
   {
    "duration": 349,
    "start_time": "2023-03-10T13:14:14.256Z"
   },
   {
    "duration": 26,
    "start_time": "2023-03-10T13:14:14.607Z"
   },
   {
    "duration": 24,
    "start_time": "2023-03-10T13:14:14.635Z"
   },
   {
    "duration": 14,
    "start_time": "2023-03-10T13:14:14.662Z"
   },
   {
    "duration": 427,
    "start_time": "2023-03-10T13:14:14.681Z"
   },
   {
    "duration": 407,
    "start_time": "2023-03-10T13:14:15.110Z"
   },
   {
    "duration": 18,
    "start_time": "2023-03-10T13:14:15.519Z"
   },
   {
    "duration": 13,
    "start_time": "2023-03-10T13:14:15.553Z"
   },
   {
    "duration": 42,
    "start_time": "2023-03-10T13:14:15.567Z"
   },
   {
    "duration": 10,
    "start_time": "2023-03-10T13:14:15.611Z"
   },
   {
    "duration": 77,
    "start_time": "2023-03-10T13:14:15.623Z"
   },
   {
    "duration": 5,
    "start_time": "2023-03-10T13:14:15.702Z"
   },
   {
    "duration": 2685,
    "start_time": "2023-03-10T13:14:15.709Z"
   },
   {
    "duration": 7,
    "start_time": "2023-03-10T13:14:18.396Z"
   },
   {
    "duration": 510,
    "start_time": "2023-03-10T13:14:18.404Z"
   },
   {
    "duration": 4,
    "start_time": "2023-03-10T13:14:18.919Z"
   },
   {
    "duration": 612,
    "start_time": "2023-03-10T13:14:18.926Z"
   },
   {
    "duration": 23,
    "start_time": "2023-03-10T13:14:19.540Z"
   },
   {
    "duration": 37,
    "start_time": "2023-03-10T13:14:19.566Z"
   },
   {
    "duration": 4,
    "start_time": "2023-03-10T13:14:19.606Z"
   },
   {
    "duration": 459,
    "start_time": "2023-03-10T13:14:19.613Z"
   },
   {
    "duration": 5,
    "start_time": "2023-03-10T13:55:01.288Z"
   },
   {
    "duration": 830,
    "start_time": "2023-03-10T13:55:01.295Z"
   },
   {
    "duration": 15,
    "start_time": "2023-03-10T13:55:02.127Z"
   },
   {
    "duration": 42,
    "start_time": "2023-03-10T13:55:02.154Z"
   },
   {
    "duration": 13,
    "start_time": "2023-03-10T13:55:02.197Z"
   },
   {
    "duration": 113,
    "start_time": "2023-03-10T13:55:02.211Z"
   },
   {
    "duration": 94,
    "start_time": "2023-03-10T13:55:02.326Z"
   },
   {
    "duration": 282,
    "start_time": "2023-03-10T13:55:02.422Z"
   },
   {
    "duration": 313,
    "start_time": "2023-03-10T13:55:02.706Z"
   },
   {
    "duration": 18,
    "start_time": "2023-03-10T13:55:03.021Z"
   },
   {
    "duration": 29,
    "start_time": "2023-03-10T13:55:03.040Z"
   },
   {
    "duration": 47,
    "start_time": "2023-03-10T13:55:03.070Z"
   },
   {
    "duration": 52,
    "start_time": "2023-03-10T13:55:03.119Z"
   },
   {
    "duration": 59,
    "start_time": "2023-03-10T13:55:03.173Z"
   },
   {
    "duration": 36,
    "start_time": "2023-03-10T13:55:03.234Z"
   },
   {
    "duration": 20,
    "start_time": "2023-03-10T13:55:03.272Z"
   },
   {
    "duration": 74,
    "start_time": "2023-03-10T13:55:03.294Z"
   },
   {
    "duration": 20,
    "start_time": "2023-03-10T13:55:03.370Z"
   },
   {
    "duration": 34,
    "start_time": "2023-03-10T13:55:03.392Z"
   },
   {
    "duration": 60,
    "start_time": "2023-03-10T13:55:03.428Z"
   },
   {
    "duration": 20,
    "start_time": "2023-03-10T13:55:03.489Z"
   },
   {
    "duration": 42,
    "start_time": "2023-03-10T13:55:03.510Z"
   },
   {
    "duration": 62,
    "start_time": "2023-03-10T13:55:03.554Z"
   },
   {
    "duration": 16,
    "start_time": "2023-03-10T13:55:03.617Z"
   },
   {
    "duration": 23,
    "start_time": "2023-03-10T13:55:03.634Z"
   },
   {
    "duration": 44,
    "start_time": "2023-03-10T13:55:03.659Z"
   },
   {
    "duration": 52,
    "start_time": "2023-03-10T13:55:03.705Z"
   },
   {
    "duration": 5,
    "start_time": "2023-03-10T13:55:03.761Z"
   },
   {
    "duration": 452,
    "start_time": "2023-03-10T13:55:03.768Z"
   },
   {
    "duration": 35,
    "start_time": "2023-03-10T13:55:04.222Z"
   },
   {
    "duration": 56,
    "start_time": "2023-03-10T13:55:04.260Z"
   },
   {
    "duration": 41,
    "start_time": "2023-03-10T13:55:04.318Z"
   },
   {
    "duration": 16,
    "start_time": "2023-03-10T13:55:04.361Z"
   },
   {
    "duration": 16,
    "start_time": "2023-03-10T13:55:04.378Z"
   },
   {
    "duration": 5,
    "start_time": "2023-03-10T13:55:04.396Z"
   },
   {
    "duration": 372,
    "start_time": "2023-03-10T13:55:04.403Z"
   },
   {
    "duration": 300,
    "start_time": "2023-03-10T13:55:04.777Z"
   },
   {
    "duration": 23,
    "start_time": "2023-03-10T13:55:05.079Z"
   },
   {
    "duration": 6,
    "start_time": "2023-03-10T13:55:05.104Z"
   },
   {
    "duration": 9,
    "start_time": "2023-03-10T13:55:05.111Z"
   },
   {
    "duration": 414,
    "start_time": "2023-03-10T13:55:05.122Z"
   },
   {
    "duration": 300,
    "start_time": "2023-03-10T13:55:05.538Z"
   },
   {
    "duration": 24,
    "start_time": "2023-03-10T13:55:05.839Z"
   },
   {
    "duration": 12,
    "start_time": "2023-03-10T13:55:05.865Z"
   },
   {
    "duration": 45,
    "start_time": "2023-03-10T13:55:05.879Z"
   },
   {
    "duration": 27,
    "start_time": "2023-03-10T13:55:05.926Z"
   },
   {
    "duration": 36,
    "start_time": "2023-03-10T13:55:05.955Z"
   },
   {
    "duration": 4,
    "start_time": "2023-03-10T13:55:05.992Z"
   },
   {
    "duration": 3047,
    "start_time": "2023-03-10T13:55:05.998Z"
   },
   {
    "duration": 8,
    "start_time": "2023-03-10T13:55:09.046Z"
   },
   {
    "duration": 477,
    "start_time": "2023-03-10T13:55:09.056Z"
   },
   {
    "duration": 4,
    "start_time": "2023-03-10T13:55:09.535Z"
   },
   {
    "duration": 578,
    "start_time": "2023-03-10T13:55:09.541Z"
   },
   {
    "duration": 18,
    "start_time": "2023-03-10T13:55:10.121Z"
   },
   {
    "duration": 42,
    "start_time": "2023-03-10T13:55:10.141Z"
   },
   {
    "duration": 5,
    "start_time": "2023-03-10T13:55:10.185Z"
   },
   {
    "duration": 364,
    "start_time": "2023-03-10T13:55:10.192Z"
   },
   {
    "duration": 11060,
    "start_time": "2023-03-10T13:55:21.102Z"
   },
   {
    "duration": 41349,
    "start_time": "2023-03-10T13:55:34.616Z"
   },
   {
    "duration": 10143,
    "start_time": "2023-03-10T13:56:54.611Z"
   },
   {
    "duration": 41199,
    "start_time": "2023-03-10T13:57:24.161Z"
   },
   {
    "duration": 49957,
    "start_time": "2023-03-10T13:58:20.004Z"
   },
   {
    "duration": 42713,
    "start_time": "2023-03-10T14:03:01.148Z"
   },
   {
    "duration": 52,
    "start_time": "2023-03-10T14:06:06.928Z"
   },
   {
    "duration": 5,
    "start_time": "2023-03-10T14:06:08.946Z"
   },
   {
    "duration": 1633,
    "start_time": "2023-03-10T14:06:30.535Z"
   },
   {
    "duration": 2966,
    "start_time": "2023-03-10T14:06:32.170Z"
   },
   {
    "duration": 18,
    "start_time": "2023-03-10T14:06:35.138Z"
   },
   {
    "duration": 27,
    "start_time": "2023-03-10T14:06:35.157Z"
   },
   {
    "duration": 14,
    "start_time": "2023-03-10T14:06:35.187Z"
   },
   {
    "duration": 12,
    "start_time": "2023-03-10T14:06:35.202Z"
   },
   {
    "duration": 50,
    "start_time": "2023-03-10T14:06:35.215Z"
   },
   {
    "duration": 336,
    "start_time": "2023-03-10T14:06:35.267Z"
   },
   {
    "duration": 368,
    "start_time": "2023-03-10T14:06:35.605Z"
   },
   {
    "duration": 18,
    "start_time": "2023-03-10T14:06:35.975Z"
   },
   {
    "duration": 16,
    "start_time": "2023-03-10T14:06:35.995Z"
   },
   {
    "duration": 59,
    "start_time": "2023-03-10T14:06:36.012Z"
   },
   {
    "duration": 38,
    "start_time": "2023-03-10T14:06:36.073Z"
   },
   {
    "duration": 83,
    "start_time": "2023-03-10T14:06:36.114Z"
   },
   {
    "duration": 17,
    "start_time": "2023-03-10T14:06:36.199Z"
   },
   {
    "duration": 17,
    "start_time": "2023-03-10T14:06:36.218Z"
   },
   {
    "duration": 65,
    "start_time": "2023-03-10T14:06:36.237Z"
   },
   {
    "duration": 19,
    "start_time": "2023-03-10T14:06:36.304Z"
   },
   {
    "duration": 31,
    "start_time": "2023-03-10T14:06:36.325Z"
   },
   {
    "duration": 51,
    "start_time": "2023-03-10T14:06:36.358Z"
   },
   {
    "duration": 17,
    "start_time": "2023-03-10T14:06:36.411Z"
   },
   {
    "duration": 31,
    "start_time": "2023-03-10T14:06:36.429Z"
   },
   {
    "duration": 63,
    "start_time": "2023-03-10T14:06:36.461Z"
   },
   {
    "duration": 15,
    "start_time": "2023-03-10T14:06:36.525Z"
   },
   {
    "duration": 23,
    "start_time": "2023-03-10T14:06:36.542Z"
   },
   {
    "duration": 49,
    "start_time": "2023-03-10T14:06:36.566Z"
   },
   {
    "duration": 64,
    "start_time": "2023-03-10T14:06:36.616Z"
   },
   {
    "duration": 9,
    "start_time": "2023-03-10T14:06:36.681Z"
   },
   {
    "duration": 443,
    "start_time": "2023-03-10T14:06:36.692Z"
   },
   {
    "duration": 23,
    "start_time": "2023-03-10T14:06:37.137Z"
   },
   {
    "duration": 43,
    "start_time": "2023-03-10T14:06:37.162Z"
   },
   {
    "duration": 20,
    "start_time": "2023-03-10T14:06:37.207Z"
   },
   {
    "duration": 30,
    "start_time": "2023-03-10T14:06:37.229Z"
   },
   {
    "duration": 18,
    "start_time": "2023-03-10T14:06:37.260Z"
   },
   {
    "duration": 7,
    "start_time": "2023-03-10T14:06:37.280Z"
   },
   {
    "duration": 384,
    "start_time": "2023-03-10T14:06:37.289Z"
   },
   {
    "duration": 315,
    "start_time": "2023-03-10T14:06:37.675Z"
   },
   {
    "duration": 24,
    "start_time": "2023-03-10T14:06:37.991Z"
   },
   {
    "duration": 5,
    "start_time": "2023-03-10T14:06:38.017Z"
   },
   {
    "duration": 30,
    "start_time": "2023-03-10T14:06:38.023Z"
   },
   {
    "duration": 404,
    "start_time": "2023-03-10T14:06:38.057Z"
   },
   {
    "duration": 377,
    "start_time": "2023-03-10T14:06:38.464Z"
   },
   {
    "duration": 27,
    "start_time": "2023-03-10T14:06:38.842Z"
   },
   {
    "duration": 12,
    "start_time": "2023-03-10T14:06:38.871Z"
   },
   {
    "duration": 40,
    "start_time": "2023-03-10T14:06:38.885Z"
   },
   {
    "duration": 29,
    "start_time": "2023-03-10T14:06:38.926Z"
   },
   {
    "duration": 38,
    "start_time": "2023-03-10T14:06:38.956Z"
   },
   {
    "duration": 4,
    "start_time": "2023-03-10T14:06:38.996Z"
   },
   {
    "duration": 8389,
    "start_time": "2023-03-10T14:06:43.110Z"
   },
   {
    "duration": 4,
    "start_time": "2023-03-10T14:06:59.028Z"
   },
   {
    "duration": 1097,
    "start_time": "2023-03-10T14:07:28.037Z"
   },
   {
    "duration": 4,
    "start_time": "2023-03-10T14:07:29.136Z"
   },
   {
    "duration": 1468,
    "start_time": "2023-03-10T14:08:02.569Z"
   },
   {
    "duration": 2860,
    "start_time": "2023-03-10T14:08:04.040Z"
   },
   {
    "duration": 18,
    "start_time": "2023-03-10T14:08:06.901Z"
   },
   {
    "duration": 26,
    "start_time": "2023-03-10T14:08:06.921Z"
   },
   {
    "duration": 4,
    "start_time": "2023-03-10T14:08:06.952Z"
   },
   {
    "duration": 6,
    "start_time": "2023-03-10T14:08:06.958Z"
   },
   {
    "duration": 51,
    "start_time": "2023-03-10T14:08:06.966Z"
   },
   {
    "duration": 339,
    "start_time": "2023-03-10T14:08:07.018Z"
   },
   {
    "duration": 411,
    "start_time": "2023-03-10T14:08:07.359Z"
   },
   {
    "duration": 21,
    "start_time": "2023-03-10T14:08:07.771Z"
   },
   {
    "duration": 26,
    "start_time": "2023-03-10T14:08:07.794Z"
   },
   {
    "duration": 58,
    "start_time": "2023-03-10T14:08:07.822Z"
   },
   {
    "duration": 42,
    "start_time": "2023-03-10T14:08:07.882Z"
   },
   {
    "duration": 89,
    "start_time": "2023-03-10T14:08:07.927Z"
   },
   {
    "duration": 18,
    "start_time": "2023-03-10T14:08:08.018Z"
   },
   {
    "duration": 17,
    "start_time": "2023-03-10T14:08:08.052Z"
   },
   {
    "duration": 62,
    "start_time": "2023-03-10T14:08:08.071Z"
   },
   {
    "duration": 30,
    "start_time": "2023-03-10T14:08:08.135Z"
   },
   {
    "duration": 15,
    "start_time": "2023-03-10T14:08:08.166Z"
   },
   {
    "duration": 71,
    "start_time": "2023-03-10T14:08:08.183Z"
   },
   {
    "duration": 16,
    "start_time": "2023-03-10T14:08:08.256Z"
   },
   {
    "duration": 17,
    "start_time": "2023-03-10T14:08:08.274Z"
   },
   {
    "duration": 62,
    "start_time": "2023-03-10T14:08:08.292Z"
   },
   {
    "duration": 14,
    "start_time": "2023-03-10T14:08:08.356Z"
   },
   {
    "duration": 13,
    "start_time": "2023-03-10T14:08:08.372Z"
   },
   {
    "duration": 41,
    "start_time": "2023-03-10T14:08:08.387Z"
   },
   {
    "duration": 64,
    "start_time": "2023-03-10T14:08:08.430Z"
   },
   {
    "duration": 5,
    "start_time": "2023-03-10T14:08:08.496Z"
   },
   {
    "duration": 416,
    "start_time": "2023-03-10T14:08:08.503Z"
   },
   {
    "duration": 25,
    "start_time": "2023-03-10T14:08:08.921Z"
   },
   {
    "duration": 41,
    "start_time": "2023-03-10T14:08:08.948Z"
   },
   {
    "duration": 21,
    "start_time": "2023-03-10T14:08:08.991Z"
   },
   {
    "duration": 15,
    "start_time": "2023-03-10T14:08:09.014Z"
   },
   {
    "duration": 30,
    "start_time": "2023-03-10T14:08:09.031Z"
   },
   {
    "duration": 32,
    "start_time": "2023-03-10T14:08:09.063Z"
   },
   {
    "duration": 357,
    "start_time": "2023-03-10T14:08:09.096Z"
   },
   {
    "duration": 325,
    "start_time": "2023-03-10T14:08:09.456Z"
   },
   {
    "duration": 24,
    "start_time": "2023-03-10T14:08:09.783Z"
   },
   {
    "duration": 5,
    "start_time": "2023-03-10T14:08:09.809Z"
   },
   {
    "duration": 15,
    "start_time": "2023-03-10T14:08:09.815Z"
   },
   {
    "duration": 421,
    "start_time": "2023-03-10T14:08:09.852Z"
   },
   {
    "duration": 424,
    "start_time": "2023-03-10T14:08:10.275Z"
   },
   {
    "duration": 21,
    "start_time": "2023-03-10T14:08:10.700Z"
   },
   {
    "duration": 13,
    "start_time": "2023-03-10T14:08:10.723Z"
   },
   {
    "duration": 56,
    "start_time": "2023-03-10T14:08:10.737Z"
   },
   {
    "duration": 11,
    "start_time": "2023-03-10T14:08:10.795Z"
   },
   {
    "duration": 62,
    "start_time": "2023-03-10T14:08:10.807Z"
   },
   {
    "duration": 4,
    "start_time": "2023-03-10T14:08:10.871Z"
   },
   {
    "duration": 8352,
    "start_time": "2023-03-10T14:08:10.877Z"
   },
   {
    "duration": 5,
    "start_time": "2023-03-10T14:08:19.230Z"
   },
   {
    "duration": 1141,
    "start_time": "2023-03-10T14:08:19.236Z"
   },
   {
    "duration": 4,
    "start_time": "2023-03-10T14:08:20.379Z"
   },
   {
    "duration": 572,
    "start_time": "2023-03-10T14:08:20.384Z"
   },
   {
    "duration": 14,
    "start_time": "2023-03-10T14:08:20.958Z"
   },
   {
    "duration": 27,
    "start_time": "2023-03-10T14:08:20.973Z"
   },
   {
    "duration": 4,
    "start_time": "2023-03-10T14:08:21.002Z"
   },
   {
    "duration": 396,
    "start_time": "2023-03-10T14:08:21.007Z"
   },
   {
    "duration": 55,
    "start_time": "2023-03-10T14:08:48.095Z"
   },
   {
    "duration": 1518,
    "start_time": "2023-03-10T14:09:01.350Z"
   },
   {
    "duration": 2976,
    "start_time": "2023-03-10T14:09:02.870Z"
   },
   {
    "duration": 18,
    "start_time": "2023-03-10T14:09:05.848Z"
   },
   {
    "duration": 41,
    "start_time": "2023-03-10T14:09:05.867Z"
   },
   {
    "duration": 11,
    "start_time": "2023-03-10T14:09:05.910Z"
   },
   {
    "duration": 22,
    "start_time": "2023-03-10T14:09:05.922Z"
   },
   {
    "duration": 99,
    "start_time": "2023-03-10T14:09:05.946Z"
   },
   {
    "duration": 367,
    "start_time": "2023-03-10T14:09:06.047Z"
   },
   {
    "duration": 448,
    "start_time": "2023-03-10T14:09:06.416Z"
   },
   {
    "duration": 18,
    "start_time": "2023-03-10T14:09:06.865Z"
   },
   {
    "duration": 48,
    "start_time": "2023-03-10T14:09:06.884Z"
   },
   {
    "duration": 45,
    "start_time": "2023-03-10T14:09:06.934Z"
   },
   {
    "duration": 43,
    "start_time": "2023-03-10T14:09:06.981Z"
   },
   {
    "duration": 89,
    "start_time": "2023-03-10T14:09:07.028Z"
   },
   {
    "duration": 34,
    "start_time": "2023-03-10T14:09:07.119Z"
   },
   {
    "duration": 21,
    "start_time": "2023-03-10T14:09:07.155Z"
   },
   {
    "duration": 69,
    "start_time": "2023-03-10T14:09:07.178Z"
   },
   {
    "duration": 24,
    "start_time": "2023-03-10T14:09:07.249Z"
   },
   {
    "duration": 18,
    "start_time": "2023-03-10T14:09:07.275Z"
   },
   {
    "duration": 77,
    "start_time": "2023-03-10T14:09:07.295Z"
   },
   {
    "duration": 17,
    "start_time": "2023-03-10T14:09:07.374Z"
   },
   {
    "duration": 15,
    "start_time": "2023-03-10T14:09:07.392Z"
   },
   {
    "duration": 66,
    "start_time": "2023-03-10T14:09:07.409Z"
   },
   {
    "duration": 15,
    "start_time": "2023-03-10T14:09:07.477Z"
   },
   {
    "duration": 13,
    "start_time": "2023-03-10T14:09:07.494Z"
   },
   {
    "duration": 62,
    "start_time": "2023-03-10T14:09:07.509Z"
   },
   {
    "duration": 57,
    "start_time": "2023-03-10T14:09:07.573Z"
   },
   {
    "duration": 22,
    "start_time": "2023-03-10T14:09:07.632Z"
   },
   {
    "duration": 431,
    "start_time": "2023-03-10T14:09:07.656Z"
   },
   {
    "duration": 25,
    "start_time": "2023-03-10T14:09:08.089Z"
   },
   {
    "duration": 47,
    "start_time": "2023-03-10T14:09:08.115Z"
   },
   {
    "duration": 22,
    "start_time": "2023-03-10T14:09:08.163Z"
   },
   {
    "duration": 16,
    "start_time": "2023-03-10T14:09:08.186Z"
   },
   {
    "duration": 17,
    "start_time": "2023-03-10T14:09:08.204Z"
   },
   {
    "duration": 35,
    "start_time": "2023-03-10T14:09:08.222Z"
   },
   {
    "duration": 377,
    "start_time": "2023-03-10T14:09:08.259Z"
   },
   {
    "duration": 315,
    "start_time": "2023-03-10T14:09:08.638Z"
   },
   {
    "duration": 24,
    "start_time": "2023-03-10T14:09:08.955Z"
   },
   {
    "duration": 6,
    "start_time": "2023-03-10T14:09:08.981Z"
   },
   {
    "duration": 12,
    "start_time": "2023-03-10T14:09:08.989Z"
   },
   {
    "duration": 403,
    "start_time": "2023-03-10T14:09:09.005Z"
   },
   {
    "duration": 388,
    "start_time": "2023-03-10T14:09:09.409Z"
   },
   {
    "duration": 21,
    "start_time": "2023-03-10T14:09:09.799Z"
   },
   {
    "duration": 12,
    "start_time": "2023-03-10T14:09:09.821Z"
   },
   {
    "duration": 56,
    "start_time": "2023-03-10T14:09:09.835Z"
   },
   {
    "duration": 10,
    "start_time": "2023-03-10T14:09:09.892Z"
   },
   {
    "duration": 63,
    "start_time": "2023-03-10T14:09:09.903Z"
   },
   {
    "duration": 4,
    "start_time": "2023-03-10T14:09:09.967Z"
   },
   {
    "duration": 355,
    "start_time": "2023-03-10T14:09:09.973Z"
   },
   {
    "duration": 4,
    "start_time": "2023-03-10T14:09:10.330Z"
   },
   {
    "duration": 204,
    "start_time": "2023-03-10T14:09:10.335Z"
   },
   {
    "duration": 4,
    "start_time": "2023-03-10T14:09:10.541Z"
   },
   {
    "duration": 529,
    "start_time": "2023-03-10T14:09:10.552Z"
   },
   {
    "duration": 13,
    "start_time": "2023-03-10T14:09:11.083Z"
   },
   {
    "duration": 30,
    "start_time": "2023-03-10T14:09:11.098Z"
   },
   {
    "duration": 4,
    "start_time": "2023-03-10T14:09:11.130Z"
   },
   {
    "duration": 343,
    "start_time": "2023-03-10T14:09:11.152Z"
   },
   {
    "duration": 9662,
    "start_time": "2023-03-10T14:09:11.496Z"
   },
   {
    "duration": 41990,
    "start_time": "2023-03-10T14:09:21.163Z"
   },
   {
    "duration": 6,
    "start_time": "2023-03-10T14:10:03.156Z"
   },
   {
    "duration": 9840,
    "start_time": "2023-03-10T14:10:03.165Z"
   },
   {
    "duration": 39604,
    "start_time": "2023-03-10T14:10:13.007Z"
   },
   {
    "duration": 4,
    "start_time": "2023-03-10T14:10:52.613Z"
   },
   {
    "duration": 10,
    "start_time": "2023-03-10T14:10:52.619Z"
   },
   {
    "duration": 7,
    "start_time": "2023-03-10T14:10:52.631Z"
   },
   {
    "duration": 45,
    "start_time": "2023-03-10T14:10:52.639Z"
   },
   {
    "duration": 1693,
    "start_time": "2023-03-10T14:12:48.307Z"
   },
   {
    "duration": 32,
    "start_time": "2023-03-10T14:13:29.752Z"
   },
   {
    "duration": 4,
    "start_time": "2023-03-10T14:13:31.581Z"
   },
   {
    "duration": 1635,
    "start_time": "2023-03-10T14:13:33.105Z"
   },
   {
    "duration": 1583,
    "start_time": "2023-03-10T14:13:51.666Z"
   },
   {
    "duration": 4,
    "start_time": "2023-03-10T14:14:10.682Z"
   },
   {
    "duration": 1666,
    "start_time": "2023-03-10T14:14:13.825Z"
   },
   {
    "duration": 5,
    "start_time": "2023-03-10T14:14:40.691Z"
   },
   {
    "duration": 1953,
    "start_time": "2023-03-11T13:16:58.299Z"
   },
   {
    "duration": 1285,
    "start_time": "2023-03-11T13:17:00.254Z"
   },
   {
    "duration": 19,
    "start_time": "2023-03-11T13:17:01.541Z"
   },
   {
    "duration": 61,
    "start_time": "2023-03-11T13:17:01.561Z"
   },
   {
    "duration": 25,
    "start_time": "2023-03-11T13:17:01.625Z"
   },
   {
    "duration": 41,
    "start_time": "2023-03-11T13:17:01.652Z"
   },
   {
    "duration": 74,
    "start_time": "2023-03-11T13:17:01.696Z"
   },
   {
    "duration": 415,
    "start_time": "2023-03-11T13:17:01.772Z"
   },
   {
    "duration": 460,
    "start_time": "2023-03-11T13:17:02.190Z"
   },
   {
    "duration": 19,
    "start_time": "2023-03-11T13:17:02.651Z"
   },
   {
    "duration": 32,
    "start_time": "2023-03-11T13:17:02.672Z"
   },
   {
    "duration": 53,
    "start_time": "2023-03-11T13:17:02.707Z"
   },
   {
    "duration": 56,
    "start_time": "2023-03-11T13:17:02.762Z"
   },
   {
    "duration": 55,
    "start_time": "2023-03-11T13:17:02.821Z"
   },
   {
    "duration": 38,
    "start_time": "2023-03-11T13:17:02.878Z"
   },
   {
    "duration": 19,
    "start_time": "2023-03-11T13:17:02.918Z"
   },
   {
    "duration": 67,
    "start_time": "2023-03-11T13:17:02.939Z"
   },
   {
    "duration": 26,
    "start_time": "2023-03-11T13:17:03.008Z"
   },
   {
    "duration": 18,
    "start_time": "2023-03-11T13:17:03.035Z"
   },
   {
    "duration": 83,
    "start_time": "2023-03-11T13:17:03.055Z"
   },
   {
    "duration": 18,
    "start_time": "2023-03-11T13:17:03.140Z"
   },
   {
    "duration": 19,
    "start_time": "2023-03-11T13:17:03.160Z"
   },
   {
    "duration": 72,
    "start_time": "2023-03-11T13:17:03.180Z"
   },
   {
    "duration": 16,
    "start_time": "2023-03-11T13:17:03.254Z"
   },
   {
    "duration": 33,
    "start_time": "2023-03-11T13:17:03.272Z"
   },
   {
    "duration": 59,
    "start_time": "2023-03-11T13:17:03.307Z"
   },
   {
    "duration": 72,
    "start_time": "2023-03-11T13:17:03.368Z"
   },
   {
    "duration": 8,
    "start_time": "2023-03-11T13:17:03.442Z"
   },
   {
    "duration": 499,
    "start_time": "2023-03-11T13:17:03.451Z"
   },
   {
    "duration": 22,
    "start_time": "2023-03-11T13:17:03.951Z"
   },
   {
    "duration": 53,
    "start_time": "2023-03-11T13:17:03.975Z"
   },
   {
    "duration": 20,
    "start_time": "2023-03-11T13:17:04.030Z"
   },
   {
    "duration": 16,
    "start_time": "2023-03-11T13:17:04.051Z"
   },
   {
    "duration": 39,
    "start_time": "2023-03-11T13:17:04.069Z"
   },
   {
    "duration": 12,
    "start_time": "2023-03-11T13:17:04.110Z"
   },
   {
    "duration": 442,
    "start_time": "2023-03-11T13:17:04.124Z"
   },
   {
    "duration": 345,
    "start_time": "2023-03-11T13:17:04.567Z"
   },
   {
    "duration": 24,
    "start_time": "2023-03-11T13:17:04.915Z"
   },
   {
    "duration": 5,
    "start_time": "2023-03-11T13:17:04.940Z"
   },
   {
    "duration": 10,
    "start_time": "2023-03-11T13:17:04.947Z"
   },
   {
    "duration": 501,
    "start_time": "2023-03-11T13:17:04.961Z"
   },
   {
    "duration": 456,
    "start_time": "2023-03-11T13:17:05.464Z"
   },
   {
    "duration": 19,
    "start_time": "2023-03-11T13:17:05.922Z"
   },
   {
    "duration": 11,
    "start_time": "2023-03-11T13:17:05.943Z"
   },
   {
    "duration": 83,
    "start_time": "2023-03-11T13:17:05.956Z"
   },
   {
    "duration": 8,
    "start_time": "2023-03-11T13:17:06.041Z"
   },
   {
    "duration": 40,
    "start_time": "2023-03-11T13:17:06.051Z"
   },
   {
    "duration": 4,
    "start_time": "2023-03-11T13:17:06.093Z"
   },
   {
    "duration": 291,
    "start_time": "2023-03-11T13:17:06.110Z"
   },
   {
    "duration": 4,
    "start_time": "2023-03-11T13:17:06.403Z"
   },
   {
    "duration": 234,
    "start_time": "2023-03-11T13:17:06.409Z"
   },
   {
    "duration": 5,
    "start_time": "2023-03-11T13:17:06.645Z"
   },
   {
    "duration": 611,
    "start_time": "2023-03-11T13:17:06.653Z"
   },
   {
    "duration": 11,
    "start_time": "2023-03-11T13:17:07.266Z"
   },
   {
    "duration": 40,
    "start_time": "2023-03-11T13:17:07.279Z"
   },
   {
    "duration": 4,
    "start_time": "2023-03-11T13:17:07.321Z"
   },
   {
    "duration": 347,
    "start_time": "2023-03-11T13:17:07.327Z"
   },
   {
    "duration": 25329,
    "start_time": "2023-03-11T13:17:07.675Z"
   },
   {
    "duration": 135688,
    "start_time": "2023-03-11T13:17:33.007Z"
   },
   {
    "duration": 2,
    "start_time": "2023-03-11T13:19:48.697Z"
   },
   {
    "duration": 11170,
    "start_time": "2023-03-11T13:19:48.702Z"
   },
   {
    "duration": 41250,
    "start_time": "2023-03-11T13:19:59.873Z"
   },
   {
    "duration": 25,
    "start_time": "2023-03-11T13:20:41.124Z"
   },
   {
    "duration": 12,
    "start_time": "2023-03-11T13:20:41.151Z"
   },
   {
    "duration": 22,
    "start_time": "2023-03-11T13:20:41.165Z"
   },
   {
    "duration": 261,
    "start_time": "2023-03-11T13:31:14.329Z"
   },
   {
    "duration": 4,
    "start_time": "2023-03-11T13:31:19.320Z"
   },
   {
    "duration": 139,
    "start_time": "2023-03-11T13:31:19.809Z"
   },
   {
    "duration": 1370,
    "start_time": "2023-03-11T13:31:49.521Z"
   },
   {
    "duration": 107730,
    "start_time": "2023-03-11T13:32:05.727Z"
   },
   {
    "duration": 16121,
    "start_time": "2023-03-11T13:34:42.070Z"
   },
   {
    "duration": 29765,
    "start_time": "2023-03-11T13:35:19.190Z"
   },
   {
    "duration": 38113,
    "start_time": "2023-03-11T13:36:52.191Z"
   },
   {
    "duration": 21746,
    "start_time": "2023-03-11T13:37:44.870Z"
   },
   {
    "duration": 6,
    "start_time": "2023-03-11T14:00:26.455Z"
   },
   {
    "duration": 12,
    "start_time": "2023-03-11T14:03:38.041Z"
   },
   {
    "duration": 21,
    "start_time": "2023-03-11T14:03:47.468Z"
   },
   {
    "duration": 18,
    "start_time": "2023-03-11T14:18:44.443Z"
   },
   {
    "duration": 18,
    "start_time": "2023-03-11T14:18:57.751Z"
   },
   {
    "duration": 85,
    "start_time": "2023-03-11T14:22:26.028Z"
   },
   {
    "duration": 64,
    "start_time": "2023-03-11T14:22:44.796Z"
   },
   {
    "duration": 1851,
    "start_time": "2023-03-11T14:28:25.179Z"
   },
   {
    "duration": 1036,
    "start_time": "2023-03-11T14:28:27.033Z"
   },
   {
    "duration": 30,
    "start_time": "2023-03-11T14:28:28.071Z"
   },
   {
    "duration": 54,
    "start_time": "2023-03-11T14:28:28.106Z"
   },
   {
    "duration": 59,
    "start_time": "2023-03-11T14:28:28.162Z"
   },
   {
    "duration": 25,
    "start_time": "2023-03-11T14:28:28.223Z"
   },
   {
    "duration": 65,
    "start_time": "2023-03-11T14:28:28.250Z"
   },
   {
    "duration": 552,
    "start_time": "2023-03-11T14:28:28.317Z"
   },
   {
    "duration": 553,
    "start_time": "2023-03-11T14:28:28.871Z"
   },
   {
    "duration": 36,
    "start_time": "2023-03-11T14:28:29.430Z"
   },
   {
    "duration": 52,
    "start_time": "2023-03-11T14:28:29.468Z"
   },
   {
    "duration": 99,
    "start_time": "2023-03-11T14:28:29.526Z"
   },
   {
    "duration": 50,
    "start_time": "2023-03-11T14:28:29.628Z"
   },
   {
    "duration": 93,
    "start_time": "2023-03-11T14:28:29.680Z"
   },
   {
    "duration": 39,
    "start_time": "2023-03-11T14:28:29.775Z"
   },
   {
    "duration": 45,
    "start_time": "2023-03-11T14:28:29.818Z"
   },
   {
    "duration": 98,
    "start_time": "2023-03-11T14:28:29.865Z"
   },
   {
    "duration": 28,
    "start_time": "2023-03-11T14:28:29.965Z"
   },
   {
    "duration": 61,
    "start_time": "2023-03-11T14:28:29.998Z"
   },
   {
    "duration": 103,
    "start_time": "2023-03-11T14:28:30.062Z"
   },
   {
    "duration": 18,
    "start_time": "2023-03-11T14:28:30.167Z"
   },
   {
    "duration": 60,
    "start_time": "2023-03-11T14:28:30.189Z"
   },
   {
    "duration": 90,
    "start_time": "2023-03-11T14:28:30.251Z"
   },
   {
    "duration": 27,
    "start_time": "2023-03-11T14:28:30.343Z"
   },
   {
    "duration": 35,
    "start_time": "2023-03-11T14:28:30.372Z"
   },
   {
    "duration": 114,
    "start_time": "2023-03-11T14:28:30.414Z"
   },
   {
    "duration": 81,
    "start_time": "2023-03-11T14:28:30.532Z"
   },
   {
    "duration": 53,
    "start_time": "2023-03-11T14:28:30.621Z"
   },
   {
    "duration": 646,
    "start_time": "2023-03-11T14:28:30.676Z"
   },
   {
    "duration": 31,
    "start_time": "2023-03-11T14:28:31.326Z"
   },
   {
    "duration": 64,
    "start_time": "2023-03-11T14:28:31.359Z"
   },
   {
    "duration": 27,
    "start_time": "2023-03-11T14:28:31.427Z"
   },
   {
    "duration": 22,
    "start_time": "2023-03-11T14:28:31.456Z"
   },
   {
    "duration": 58,
    "start_time": "2023-03-11T14:28:31.492Z"
   },
   {
    "duration": 12,
    "start_time": "2023-03-11T14:28:31.552Z"
   },
   {
    "duration": 515,
    "start_time": "2023-03-11T14:28:31.566Z"
   },
   {
    "duration": 447,
    "start_time": "2023-03-11T14:28:32.083Z"
   },
   {
    "duration": 30,
    "start_time": "2023-03-11T14:28:32.532Z"
   },
   {
    "duration": 29,
    "start_time": "2023-03-11T14:28:32.563Z"
   },
   {
    "duration": 43,
    "start_time": "2023-03-11T14:28:32.594Z"
   },
   {
    "duration": 509,
    "start_time": "2023-03-11T14:28:32.639Z"
   },
   {
    "duration": 510,
    "start_time": "2023-03-11T14:28:33.150Z"
   },
   {
    "duration": 17,
    "start_time": "2023-03-11T14:28:33.662Z"
   },
   {
    "duration": 20,
    "start_time": "2023-03-11T14:28:33.681Z"
   },
   {
    "duration": 102,
    "start_time": "2023-03-11T14:28:33.703Z"
   },
   {
    "duration": 33,
    "start_time": "2023-03-11T14:28:33.808Z"
   },
   {
    "duration": 52,
    "start_time": "2023-03-11T14:28:33.843Z"
   },
   {
    "duration": 4,
    "start_time": "2023-03-11T14:28:33.911Z"
   },
   {
    "duration": 371,
    "start_time": "2023-03-11T14:28:33.917Z"
   },
   {
    "duration": 19,
    "start_time": "2023-03-11T14:28:34.291Z"
   },
   {
    "duration": 288,
    "start_time": "2023-03-11T14:28:34.312Z"
   },
   {
    "duration": 6,
    "start_time": "2023-03-11T14:28:34.602Z"
   },
   {
    "duration": 879,
    "start_time": "2023-03-11T14:28:34.610Z"
   },
   {
    "duration": 16,
    "start_time": "2023-03-11T14:28:35.491Z"
   },
   {
    "duration": 52,
    "start_time": "2023-03-11T14:28:35.508Z"
   },
   {
    "duration": 4,
    "start_time": "2023-03-11T14:28:35.562Z"
   },
   {
    "duration": 441,
    "start_time": "2023-03-11T14:28:35.568Z"
   },
   {
    "duration": 31283,
    "start_time": "2023-03-11T14:28:36.011Z"
   },
   {
    "duration": 1764,
    "start_time": "2023-03-11T14:33:10.947Z"
   },
   {
    "duration": 1074,
    "start_time": "2023-03-11T14:33:12.713Z"
   },
   {
    "duration": 35,
    "start_time": "2023-03-11T14:33:13.789Z"
   },
   {
    "duration": 41,
    "start_time": "2023-03-11T14:33:13.826Z"
   },
   {
    "duration": 5,
    "start_time": "2023-03-11T14:33:13.870Z"
   },
   {
    "duration": 14,
    "start_time": "2023-03-11T14:33:13.877Z"
   },
   {
    "duration": 74,
    "start_time": "2023-03-11T14:33:13.896Z"
   },
   {
    "duration": 535,
    "start_time": "2023-03-11T14:33:13.971Z"
   },
   {
    "duration": 605,
    "start_time": "2023-03-11T14:33:14.508Z"
   },
   {
    "duration": 35,
    "start_time": "2023-03-11T14:33:15.114Z"
   },
   {
    "duration": 60,
    "start_time": "2023-03-11T14:33:15.151Z"
   },
   {
    "duration": 83,
    "start_time": "2023-03-11T14:33:15.214Z"
   },
   {
    "duration": 63,
    "start_time": "2023-03-11T14:33:15.300Z"
   },
   {
    "duration": 102,
    "start_time": "2023-03-11T14:33:15.367Z"
   },
   {
    "duration": 54,
    "start_time": "2023-03-11T14:33:15.470Z"
   },
   {
    "duration": 31,
    "start_time": "2023-03-11T14:33:15.526Z"
   },
   {
    "duration": 82,
    "start_time": "2023-03-11T14:33:15.559Z"
   },
   {
    "duration": 29,
    "start_time": "2023-03-11T14:33:15.643Z"
   },
   {
    "duration": 40,
    "start_time": "2023-03-11T14:33:15.674Z"
   },
   {
    "duration": 117,
    "start_time": "2023-03-11T14:33:15.716Z"
   },
   {
    "duration": 29,
    "start_time": "2023-03-11T14:33:15.835Z"
   },
   {
    "duration": 32,
    "start_time": "2023-03-11T14:33:15.866Z"
   },
   {
    "duration": 98,
    "start_time": "2023-03-11T14:33:15.900Z"
   },
   {
    "duration": 29,
    "start_time": "2023-03-11T14:33:16.000Z"
   },
   {
    "duration": 23,
    "start_time": "2023-03-11T14:33:16.031Z"
   },
   {
    "duration": 68,
    "start_time": "2023-03-11T14:33:16.056Z"
   },
   {
    "duration": 94,
    "start_time": "2023-03-11T14:33:16.125Z"
   },
   {
    "duration": 7,
    "start_time": "2023-03-11T14:33:16.225Z"
   },
   {
    "duration": 609,
    "start_time": "2023-03-11T14:33:16.233Z"
   },
   {
    "duration": 29,
    "start_time": "2023-03-11T14:33:16.845Z"
   },
   {
    "duration": 52,
    "start_time": "2023-03-11T14:33:16.876Z"
   },
   {
    "duration": 29,
    "start_time": "2023-03-11T14:33:16.930Z"
   },
   {
    "duration": 20,
    "start_time": "2023-03-11T14:33:16.961Z"
   },
   {
    "duration": 29,
    "start_time": "2023-03-11T14:33:16.990Z"
   },
   {
    "duration": 18,
    "start_time": "2023-03-11T14:33:17.021Z"
   },
   {
    "duration": 495,
    "start_time": "2023-03-11T14:33:17.041Z"
   },
   {
    "duration": 431,
    "start_time": "2023-03-11T14:33:17.538Z"
   },
   {
    "duration": 42,
    "start_time": "2023-03-11T14:33:17.971Z"
   },
   {
    "duration": 8,
    "start_time": "2023-03-11T14:33:18.020Z"
   },
   {
    "duration": 14,
    "start_time": "2023-03-11T14:33:18.030Z"
   },
   {
    "duration": 572,
    "start_time": "2023-03-11T14:33:18.049Z"
   },
   {
    "duration": 563,
    "start_time": "2023-03-11T14:33:18.625Z"
   },
   {
    "duration": 42,
    "start_time": "2023-03-11T14:33:19.195Z"
   },
   {
    "duration": 27,
    "start_time": "2023-03-11T14:33:19.240Z"
   },
   {
    "duration": 83,
    "start_time": "2023-03-11T14:33:19.269Z"
   },
   {
    "duration": 13,
    "start_time": "2023-03-11T14:33:19.354Z"
   },
   {
    "duration": 68,
    "start_time": "2023-03-11T14:33:19.370Z"
   },
   {
    "duration": 5,
    "start_time": "2023-03-11T14:33:19.441Z"
   },
   {
    "duration": 376,
    "start_time": "2023-03-11T14:33:19.448Z"
   },
   {
    "duration": 5,
    "start_time": "2023-03-11T14:33:19.828Z"
   },
   {
    "duration": 231,
    "start_time": "2023-03-11T14:33:19.835Z"
   },
   {
    "duration": 4,
    "start_time": "2023-03-11T14:33:20.069Z"
   },
   {
    "duration": 802,
    "start_time": "2023-03-11T14:33:20.075Z"
   },
   {
    "duration": 21,
    "start_time": "2023-03-11T14:33:20.879Z"
   },
   {
    "duration": 38,
    "start_time": "2023-03-11T14:33:20.917Z"
   },
   {
    "duration": 5,
    "start_time": "2023-03-11T14:33:20.957Z"
   },
   {
    "duration": 455,
    "start_time": "2023-03-11T14:33:20.964Z"
   },
   {
    "duration": 57397,
    "start_time": "2023-03-11T14:33:21.421Z"
   },
   {
    "duration": 1746,
    "start_time": "2023-03-11T14:39:26.224Z"
   },
   {
    "duration": 1252,
    "start_time": "2023-03-11T14:39:27.972Z"
   },
   {
    "duration": 26,
    "start_time": "2023-03-11T14:39:29.226Z"
   },
   {
    "duration": 41,
    "start_time": "2023-03-11T14:39:29.253Z"
   },
   {
    "duration": 18,
    "start_time": "2023-03-11T14:39:29.297Z"
   },
   {
    "duration": 16,
    "start_time": "2023-03-11T14:39:29.321Z"
   },
   {
    "duration": 61,
    "start_time": "2023-03-11T14:39:29.339Z"
   },
   {
    "duration": 587,
    "start_time": "2023-03-11T14:39:29.402Z"
   },
   {
    "duration": 631,
    "start_time": "2023-03-11T14:39:29.994Z"
   },
   {
    "duration": 39,
    "start_time": "2023-03-11T14:39:30.627Z"
   },
   {
    "duration": 79,
    "start_time": "2023-03-11T14:39:30.669Z"
   },
   {
    "duration": 100,
    "start_time": "2023-03-11T14:39:30.750Z"
   },
   {
    "duration": 65,
    "start_time": "2023-03-11T14:39:30.853Z"
   },
   {
    "duration": 139,
    "start_time": "2023-03-11T14:39:30.923Z"
   },
   {
    "duration": 46,
    "start_time": "2023-03-11T14:39:31.065Z"
   },
   {
    "duration": 66,
    "start_time": "2023-03-11T14:39:31.113Z"
   },
   {
    "duration": 174,
    "start_time": "2023-03-11T14:39:31.181Z"
   },
   {
    "duration": 30,
    "start_time": "2023-03-11T14:39:31.358Z"
   },
   {
    "duration": 60,
    "start_time": "2023-03-11T14:39:31.395Z"
   },
   {
    "duration": 86,
    "start_time": "2023-03-11T14:39:31.457Z"
   },
   {
    "duration": 34,
    "start_time": "2023-03-11T14:39:31.545Z"
   },
   {
    "duration": 65,
    "start_time": "2023-03-11T14:39:31.592Z"
   },
   {
    "duration": 79,
    "start_time": "2023-03-11T14:39:31.659Z"
   },
   {
    "duration": 24,
    "start_time": "2023-03-11T14:39:31.739Z"
   },
   {
    "duration": 60,
    "start_time": "2023-03-11T14:39:31.768Z"
   },
   {
    "duration": 95,
    "start_time": "2023-03-11T14:39:31.833Z"
   },
   {
    "duration": 101,
    "start_time": "2023-03-11T14:39:31.932Z"
   },
   {
    "duration": 16,
    "start_time": "2023-03-11T14:39:32.034Z"
   },
   {
    "duration": 689,
    "start_time": "2023-03-11T14:39:32.053Z"
   },
   {
    "duration": 31,
    "start_time": "2023-03-11T14:39:32.744Z"
   },
   {
    "duration": 66,
    "start_time": "2023-03-11T14:39:32.778Z"
   },
   {
    "duration": 27,
    "start_time": "2023-03-11T14:39:32.848Z"
   },
   {
    "duration": 43,
    "start_time": "2023-03-11T14:39:32.877Z"
   },
   {
    "duration": 35,
    "start_time": "2023-03-11T14:39:32.923Z"
   },
   {
    "duration": 8,
    "start_time": "2023-03-11T14:39:32.960Z"
   },
   {
    "duration": 504,
    "start_time": "2023-03-11T14:39:32.971Z"
   },
   {
    "duration": 434,
    "start_time": "2023-03-11T14:39:33.477Z"
   },
   {
    "duration": 33,
    "start_time": "2023-03-11T14:39:33.923Z"
   },
   {
    "duration": 7,
    "start_time": "2023-03-11T14:39:33.958Z"
   },
   {
    "duration": 33,
    "start_time": "2023-03-11T14:39:33.967Z"
   },
   {
    "duration": 667,
    "start_time": "2023-03-11T14:39:34.006Z"
   },
   {
    "duration": 557,
    "start_time": "2023-03-11T14:39:34.675Z"
   },
   {
    "duration": 27,
    "start_time": "2023-03-11T14:39:35.233Z"
   },
   {
    "duration": 18,
    "start_time": "2023-03-11T14:39:35.263Z"
   },
   {
    "duration": 100,
    "start_time": "2023-03-11T14:39:35.283Z"
   },
   {
    "duration": 12,
    "start_time": "2023-03-11T14:39:35.385Z"
   },
   {
    "duration": 85,
    "start_time": "2023-03-11T14:39:35.399Z"
   },
   {
    "duration": 5,
    "start_time": "2023-03-11T14:39:35.485Z"
   },
   {
    "duration": 362,
    "start_time": "2023-03-11T14:39:35.497Z"
   },
   {
    "duration": 4,
    "start_time": "2023-03-11T14:39:35.861Z"
   },
   {
    "duration": 241,
    "start_time": "2023-03-11T14:39:35.867Z"
   },
   {
    "duration": 4,
    "start_time": "2023-03-11T14:39:36.110Z"
   },
   {
    "duration": 871,
    "start_time": "2023-03-11T14:39:36.115Z"
   },
   {
    "duration": 24,
    "start_time": "2023-03-11T14:39:36.988Z"
   },
   {
    "duration": 62,
    "start_time": "2023-03-11T14:39:37.014Z"
   },
   {
    "duration": 9,
    "start_time": "2023-03-11T14:39:37.078Z"
   },
   {
    "duration": 469,
    "start_time": "2023-03-11T14:39:37.089Z"
   },
   {
    "duration": 56654,
    "start_time": "2023-03-11T14:39:37.561Z"
   },
   {
    "duration": 4,
    "start_time": "2023-03-11T14:52:21.674Z"
   },
   {
    "duration": 1107,
    "start_time": "2023-03-11T14:52:21.680Z"
   },
   {
    "duration": 49,
    "start_time": "2023-03-11T14:52:22.788Z"
   },
   {
    "duration": 29,
    "start_time": "2023-03-11T14:52:22.839Z"
   },
   {
    "duration": 5,
    "start_time": "2023-03-11T14:52:22.871Z"
   },
   {
    "duration": 41,
    "start_time": "2023-03-11T14:52:22.877Z"
   },
   {
    "duration": 76,
    "start_time": "2023-03-11T14:52:22.923Z"
   },
   {
    "duration": 536,
    "start_time": "2023-03-11T14:52:23.002Z"
   },
   {
    "duration": 474,
    "start_time": "2023-03-11T14:52:23.542Z"
   },
   {
    "duration": 28,
    "start_time": "2023-03-11T14:52:24.026Z"
   },
   {
    "duration": 17,
    "start_time": "2023-03-11T14:52:24.056Z"
   },
   {
    "duration": 89,
    "start_time": "2023-03-11T14:52:24.074Z"
   },
   {
    "duration": 47,
    "start_time": "2023-03-11T14:52:24.165Z"
   },
   {
    "duration": 131,
    "start_time": "2023-03-11T14:52:24.215Z"
   },
   {
    "duration": 23,
    "start_time": "2023-03-11T14:52:24.349Z"
   },
   {
    "duration": 96,
    "start_time": "2023-03-11T14:52:24.374Z"
   },
   {
    "duration": 145,
    "start_time": "2023-03-11T14:52:24.472Z"
   },
   {
    "duration": 47,
    "start_time": "2023-03-11T14:52:24.619Z"
   },
   {
    "duration": 51,
    "start_time": "2023-03-11T14:52:24.668Z"
   },
   {
    "duration": 103,
    "start_time": "2023-03-11T14:52:24.721Z"
   },
   {
    "duration": 39,
    "start_time": "2023-03-11T14:52:24.826Z"
   },
   {
    "duration": 17,
    "start_time": "2023-03-11T14:52:24.866Z"
   },
   {
    "duration": 94,
    "start_time": "2023-03-11T14:52:24.886Z"
   },
   {
    "duration": 53,
    "start_time": "2023-03-11T14:52:24.982Z"
   },
   {
    "duration": 23,
    "start_time": "2023-03-11T14:52:25.038Z"
   },
   {
    "duration": 79,
    "start_time": "2023-03-11T14:52:25.063Z"
   },
   {
    "duration": 99,
    "start_time": "2023-03-11T14:52:25.147Z"
   },
   {
    "duration": 7,
    "start_time": "2023-03-11T14:52:25.248Z"
   },
   {
    "duration": 531,
    "start_time": "2023-03-11T14:52:25.257Z"
   },
   {
    "duration": 40,
    "start_time": "2023-03-11T14:52:25.801Z"
   },
   {
    "duration": 82,
    "start_time": "2023-03-11T14:52:25.845Z"
   },
   {
    "duration": 27,
    "start_time": "2023-03-11T14:52:25.936Z"
   },
   {
    "duration": 17,
    "start_time": "2023-03-11T14:52:25.965Z"
   },
   {
    "duration": 44,
    "start_time": "2023-03-11T14:52:25.984Z"
   },
   {
    "duration": 16,
    "start_time": "2023-03-11T14:52:26.035Z"
   },
   {
    "duration": 510,
    "start_time": "2023-03-11T14:52:26.053Z"
   },
   {
    "duration": 462,
    "start_time": "2023-03-11T14:52:26.565Z"
   },
   {
    "duration": 35,
    "start_time": "2023-03-11T14:52:27.031Z"
   },
   {
    "duration": 7,
    "start_time": "2023-03-11T14:52:27.070Z"
   },
   {
    "duration": 31,
    "start_time": "2023-03-11T14:52:27.078Z"
   },
   {
    "duration": 543,
    "start_time": "2023-03-11T14:52:27.118Z"
   },
   {
    "duration": 414,
    "start_time": "2023-03-11T14:52:27.662Z"
   },
   {
    "duration": 46,
    "start_time": "2023-03-11T14:52:28.078Z"
   },
   {
    "duration": 21,
    "start_time": "2023-03-11T14:52:28.131Z"
   },
   {
    "duration": 75,
    "start_time": "2023-03-11T14:52:28.154Z"
   },
   {
    "duration": 38,
    "start_time": "2023-03-11T14:52:28.231Z"
   },
   {
    "duration": 59,
    "start_time": "2023-03-11T14:52:28.271Z"
   },
   {
    "duration": 5,
    "start_time": "2023-03-11T14:52:28.332Z"
   },
   {
    "duration": 364,
    "start_time": "2023-03-11T14:52:28.339Z"
   },
   {
    "duration": 16,
    "start_time": "2023-03-11T14:52:28.712Z"
   },
   {
    "duration": 227,
    "start_time": "2023-03-11T14:52:28.733Z"
   },
   {
    "duration": 4,
    "start_time": "2023-03-11T14:52:28.962Z"
   },
   {
    "duration": 796,
    "start_time": "2023-03-11T14:52:28.968Z"
   },
   {
    "duration": 18,
    "start_time": "2023-03-11T14:52:29.766Z"
   },
   {
    "duration": 40,
    "start_time": "2023-03-11T14:52:29.791Z"
   },
   {
    "duration": 13,
    "start_time": "2023-03-11T14:52:29.835Z"
   },
   {
    "duration": 464,
    "start_time": "2023-03-11T14:52:29.850Z"
   },
   {
    "duration": 69128,
    "start_time": "2023-03-11T14:52:30.316Z"
   },
   {
    "duration": 287620,
    "start_time": "2023-03-11T14:53:39.495Z"
   },
   {
    "duration": 71,
    "start_time": "2023-03-11T14:58:27.125Z"
   },
   {
    "duration": 13278,
    "start_time": "2023-03-11T14:58:27.198Z"
   },
   {
    "duration": 56321,
    "start_time": "2023-03-11T14:58:40.478Z"
   },
   {
    "duration": 39,
    "start_time": "2023-03-11T14:59:36.801Z"
   },
   {
    "duration": 32,
    "start_time": "2023-03-11T14:59:36.842Z"
   },
   {
    "duration": 18,
    "start_time": "2023-03-11T14:59:36.876Z"
   },
   {
    "duration": 21959,
    "start_time": "2023-03-11T14:59:36.896Z"
   },
   {
    "duration": 138,
    "start_time": "2023-03-11T14:59:58.857Z"
   },
   {
    "duration": 390294,
    "start_time": "2023-03-11T14:59:58.997Z"
   },
   {
    "duration": 13,
    "start_time": "2023-03-11T15:06:29.297Z"
   },
   {
    "duration": 163,
    "start_time": "2023-03-11T15:12:18.454Z"
   },
   {
    "duration": 9,
    "start_time": "2023-03-11T15:12:56.930Z"
   },
   {
    "duration": 13,
    "start_time": "2023-03-11T15:18:20.940Z"
   },
   {
    "duration": 7,
    "start_time": "2023-03-11T15:20:44.852Z"
   },
   {
    "duration": 5,
    "start_time": "2023-03-11T15:20:55.666Z"
   },
   {
    "duration": 97,
    "start_time": "2023-03-11T15:20:56.949Z"
   },
   {
    "duration": 93,
    "start_time": "2023-03-11T15:21:11.152Z"
   },
   {
    "duration": 79,
    "start_time": "2023-03-11T15:21:19.132Z"
   },
   {
    "duration": 44490,
    "start_time": "2023-03-11T15:23:04.535Z"
   },
   {
    "duration": 4,
    "start_time": "2023-03-11T15:23:49.970Z"
   },
   {
    "duration": 59007,
    "start_time": "2023-03-11T15:24:33.476Z"
   },
   {
    "duration": 11701,
    "start_time": "2023-03-11T15:38:23.571Z"
   },
   {
    "duration": 12548,
    "start_time": "2023-03-11T15:39:22.660Z"
   },
   {
    "duration": 47902,
    "start_time": "2023-03-11T15:41:24.033Z"
   },
   {
    "duration": 18285,
    "start_time": "2023-03-11T15:43:26.571Z"
   },
   {
    "duration": 19728,
    "start_time": "2023-03-11T15:44:34.035Z"
   },
   {
    "duration": 522781,
    "start_time": "2023-03-11T15:45:26.943Z"
   },
   {
    "duration": 17407,
    "start_time": "2023-03-11T15:57:02.316Z"
   },
   {
    "duration": 16924,
    "start_time": "2023-03-11T15:57:29.818Z"
   },
   {
    "duration": 17885,
    "start_time": "2023-03-11T15:58:30.603Z"
   },
   {
    "duration": 11,
    "start_time": "2023-03-11T16:03:19.215Z"
   },
   {
    "duration": 40444,
    "start_time": "2023-03-11T16:03:38.365Z"
   },
   {
    "duration": 117434,
    "start_time": "2023-03-11T16:05:04.963Z"
   },
   {
    "duration": 143396,
    "start_time": "2023-03-11T16:09:24.296Z"
   },
   {
    "duration": 10579,
    "start_time": "2023-03-11T16:15:44.633Z"
   },
   {
    "duration": 43733,
    "start_time": "2023-03-11T16:15:59.625Z"
   },
   {
    "duration": 47308,
    "start_time": "2023-03-11T16:17:09.987Z"
   },
   {
    "duration": 17535,
    "start_time": "2023-03-11T16:18:22.204Z"
   },
   {
    "duration": 407699,
    "start_time": "2023-03-11T16:19:33.692Z"
   },
   {
    "duration": 17,
    "start_time": "2023-03-11T16:30:03.916Z"
   },
   {
    "duration": 12,
    "start_time": "2023-03-11T16:30:19.336Z"
   },
   {
    "duration": 19372,
    "start_time": "2023-03-11T16:35:52.203Z"
   },
   {
    "duration": 18987,
    "start_time": "2023-03-11T16:37:28.351Z"
   },
   {
    "duration": 19158,
    "start_time": "2023-03-11T16:38:13.749Z"
   },
   {
    "duration": 1728,
    "start_time": "2023-03-11T16:52:31.455Z"
   },
   {
    "duration": 950,
    "start_time": "2023-03-11T16:52:33.185Z"
   },
   {
    "duration": 24,
    "start_time": "2023-03-11T16:52:34.137Z"
   },
   {
    "duration": 41,
    "start_time": "2023-03-11T16:52:34.163Z"
   },
   {
    "duration": 16,
    "start_time": "2023-03-11T16:52:34.209Z"
   },
   {
    "duration": 7,
    "start_time": "2023-03-11T16:52:34.227Z"
   },
   {
    "duration": 66,
    "start_time": "2023-03-11T16:52:34.236Z"
   },
   {
    "duration": 482,
    "start_time": "2023-03-11T16:52:34.304Z"
   },
   {
    "duration": 416,
    "start_time": "2023-03-11T16:52:34.792Z"
   },
   {
    "duration": 20,
    "start_time": "2023-03-11T16:52:35.210Z"
   },
   {
    "duration": 19,
    "start_time": "2023-03-11T16:52:35.232Z"
   },
   {
    "duration": 80,
    "start_time": "2023-03-11T16:52:35.253Z"
   },
   {
    "duration": 40,
    "start_time": "2023-03-11T16:52:35.335Z"
   },
   {
    "duration": 91,
    "start_time": "2023-03-11T16:52:35.397Z"
   },
   {
    "duration": 24,
    "start_time": "2023-03-11T16:52:35.496Z"
   },
   {
    "duration": 43,
    "start_time": "2023-03-11T16:52:35.522Z"
   },
   {
    "duration": 66,
    "start_time": "2023-03-11T16:52:35.567Z"
   },
   {
    "duration": 21,
    "start_time": "2023-03-11T16:52:35.634Z"
   },
   {
    "duration": 43,
    "start_time": "2023-03-11T16:52:35.657Z"
   },
   {
    "duration": 58,
    "start_time": "2023-03-11T16:52:35.706Z"
   },
   {
    "duration": 38,
    "start_time": "2023-03-11T16:52:35.766Z"
   },
   {
    "duration": 21,
    "start_time": "2023-03-11T16:52:35.810Z"
   },
   {
    "duration": 58,
    "start_time": "2023-03-11T16:52:35.833Z"
   },
   {
    "duration": 27,
    "start_time": "2023-03-11T16:52:35.894Z"
   },
   {
    "duration": 31,
    "start_time": "2023-03-11T16:52:35.923Z"
   },
   {
    "duration": 248,
    "start_time": "2023-03-11T16:52:35.956Z"
   },
   {
    "duration": 118,
    "start_time": "2023-03-11T16:52:36.207Z"
   },
   {
    "duration": 23,
    "start_time": "2023-03-11T16:52:36.327Z"
   },
   {
    "duration": 556,
    "start_time": "2023-03-11T16:52:36.352Z"
   },
   {
    "duration": 27,
    "start_time": "2023-03-11T16:52:36.910Z"
   },
   {
    "duration": 45,
    "start_time": "2023-03-11T16:52:36.938Z"
   },
   {
    "duration": 26,
    "start_time": "2023-03-11T16:52:36.990Z"
   },
   {
    "duration": 27,
    "start_time": "2023-03-11T16:52:37.018Z"
   },
   {
    "duration": 27,
    "start_time": "2023-03-11T16:52:37.047Z"
   },
   {
    "duration": 16,
    "start_time": "2023-03-11T16:52:37.092Z"
   },
   {
    "duration": 435,
    "start_time": "2023-03-11T16:52:37.110Z"
   },
   {
    "duration": 337,
    "start_time": "2023-03-11T16:52:37.547Z"
   },
   {
    "duration": 27,
    "start_time": "2023-03-11T16:52:37.889Z"
   },
   {
    "duration": 7,
    "start_time": "2023-03-11T16:52:37.918Z"
   },
   {
    "duration": 17,
    "start_time": "2023-03-11T16:52:37.926Z"
   },
   {
    "duration": 467,
    "start_time": "2023-03-11T16:52:37.947Z"
   },
   {
    "duration": 438,
    "start_time": "2023-03-11T16:52:38.416Z"
   },
   {
    "duration": 23,
    "start_time": "2023-03-11T16:52:38.855Z"
   },
   {
    "duration": 28,
    "start_time": "2023-03-11T16:52:38.880Z"
   },
   {
    "duration": 57,
    "start_time": "2023-03-11T16:52:38.910Z"
   },
   {
    "duration": 10,
    "start_time": "2023-03-11T16:52:38.969Z"
   },
   {
    "duration": 53,
    "start_time": "2023-03-11T16:52:38.981Z"
   },
   {
    "duration": 3,
    "start_time": "2023-03-11T16:52:39.036Z"
   },
   {
    "duration": 361,
    "start_time": "2023-03-11T16:52:39.041Z"
   },
   {
    "duration": 8,
    "start_time": "2023-03-11T16:52:39.406Z"
   },
   {
    "duration": 208,
    "start_time": "2023-03-11T16:52:39.416Z"
   },
   {
    "duration": 4,
    "start_time": "2023-03-11T16:52:39.626Z"
   },
   {
    "duration": 624,
    "start_time": "2023-03-11T16:52:39.632Z"
   },
   {
    "duration": 12,
    "start_time": "2023-03-11T16:52:40.258Z"
   },
   {
    "duration": 41,
    "start_time": "2023-03-11T16:52:40.272Z"
   },
   {
    "duration": 3,
    "start_time": "2023-03-11T16:52:40.315Z"
   },
   {
    "duration": 373,
    "start_time": "2023-03-11T16:52:40.320Z"
   },
   {
    "duration": 24424,
    "start_time": "2023-03-11T16:52:40.695Z"
   },
   {
    "duration": 136804,
    "start_time": "2023-03-11T16:53:05.192Z"
   },
   {
    "duration": 11,
    "start_time": "2023-03-11T16:55:22.007Z"
   },
   {
    "duration": 11055,
    "start_time": "2023-03-11T16:55:22.020Z"
   },
   {
    "duration": 45150,
    "start_time": "2023-03-11T16:55:33.076Z"
   },
   {
    "duration": 36,
    "start_time": "2023-03-11T16:56:18.230Z"
   },
   {
    "duration": 5,
    "start_time": "2023-03-11T16:56:18.269Z"
   },
   {
    "duration": 28,
    "start_time": "2023-03-11T16:56:18.291Z"
   },
   {
    "duration": 16433,
    "start_time": "2023-03-11T16:56:18.321Z"
   },
   {
    "duration": 129,
    "start_time": "2023-03-11T16:56:34.757Z"
   },
   {
    "duration": 380011,
    "start_time": "2023-03-11T16:56:34.887Z"
   },
   {
    "duration": 11,
    "start_time": "2023-03-11T17:02:54.900Z"
   },
   {
    "duration": 29,
    "start_time": "2023-03-11T17:02:54.914Z"
   },
   {
    "duration": 1616,
    "start_time": "2023-03-14T10:16:46.868Z"
   },
   {
    "duration": 2932,
    "start_time": "2023-03-14T10:16:48.486Z"
   },
   {
    "duration": 19,
    "start_time": "2023-03-14T10:16:51.420Z"
   },
   {
    "duration": 25,
    "start_time": "2023-03-14T10:16:55.452Z"
   },
   {
    "duration": 5,
    "start_time": "2023-03-14T10:16:57.362Z"
   },
   {
    "duration": 5,
    "start_time": "2023-03-14T10:16:58.174Z"
   },
   {
    "duration": 38,
    "start_time": "2023-03-14T10:17:00.578Z"
   },
   {
    "duration": 303,
    "start_time": "2023-03-14T10:17:02.760Z"
   },
   {
    "duration": 343,
    "start_time": "2023-03-14T10:17:07.058Z"
   },
   {
    "duration": 20,
    "start_time": "2023-03-14T10:17:08.678Z"
   },
   {
    "duration": 17,
    "start_time": "2023-03-14T10:17:09.506Z"
   },
   {
    "duration": 55,
    "start_time": "2023-03-14T10:17:11.390Z"
   },
   {
    "duration": 39,
    "start_time": "2023-03-14T10:17:12.450Z"
   },
   {
    "duration": 20,
    "start_time": "2023-03-14T10:21:53.541Z"
   },
   {
    "duration": 42,
    "start_time": "2023-03-14T10:22:13.015Z"
   },
   {
    "duration": 23,
    "start_time": "2023-03-14T10:22:13.863Z"
   },
   {
    "duration": 5,
    "start_time": "2023-03-14T10:22:20.314Z"
   },
   {
    "duration": 933,
    "start_time": "2023-03-14T10:22:20.321Z"
   },
   {
    "duration": 15,
    "start_time": "2023-03-14T10:22:21.256Z"
   },
   {
    "duration": 19,
    "start_time": "2023-03-14T10:22:21.274Z"
   },
   {
    "duration": 25,
    "start_time": "2023-03-14T10:22:21.296Z"
   },
   {
    "duration": 11,
    "start_time": "2023-03-14T10:22:21.323Z"
   },
   {
    "duration": 37,
    "start_time": "2023-03-14T10:22:21.335Z"
   },
   {
    "duration": 326,
    "start_time": "2023-03-14T10:22:21.373Z"
   },
   {
    "duration": 338,
    "start_time": "2023-03-14T10:22:21.701Z"
   },
   {
    "duration": 21,
    "start_time": "2023-03-14T10:22:22.041Z"
   },
   {
    "duration": 30,
    "start_time": "2023-03-14T10:22:22.064Z"
   },
   {
    "duration": 52,
    "start_time": "2023-03-14T10:22:22.096Z"
   },
   {
    "duration": 37,
    "start_time": "2023-03-14T10:22:26.103Z"
   },
   {
    "duration": 43,
    "start_time": "2023-03-14T10:22:52.526Z"
   },
   {
    "duration": 28,
    "start_time": "2023-03-14T10:22:53.224Z"
   },
   {
    "duration": 7,
    "start_time": "2023-03-14T10:22:57.139Z"
   },
   {
    "duration": 940,
    "start_time": "2023-03-14T10:22:57.149Z"
   },
   {
    "duration": 16,
    "start_time": "2023-03-14T10:22:58.091Z"
   },
   {
    "duration": 26,
    "start_time": "2023-03-14T10:22:58.109Z"
   },
   {
    "duration": 16,
    "start_time": "2023-03-14T10:22:58.138Z"
   },
   {
    "duration": 27,
    "start_time": "2023-03-14T10:22:58.156Z"
   },
   {
    "duration": 42,
    "start_time": "2023-03-14T10:22:58.185Z"
   },
   {
    "duration": 329,
    "start_time": "2023-03-14T10:22:58.229Z"
   },
   {
    "duration": 349,
    "start_time": "2023-03-14T10:22:58.560Z"
   },
   {
    "duration": 20,
    "start_time": "2023-03-14T10:22:58.910Z"
   },
   {
    "duration": 28,
    "start_time": "2023-03-14T10:22:58.932Z"
   },
   {
    "duration": 41,
    "start_time": "2023-03-14T10:22:58.962Z"
   },
   {
    "duration": 53,
    "start_time": "2023-03-14T10:22:59.005Z"
   },
   {
    "duration": 22,
    "start_time": "2023-03-14T10:24:11.349Z"
   },
   {
    "duration": 15,
    "start_time": "2023-03-14T10:24:42.024Z"
   },
   {
    "duration": 66,
    "start_time": "2023-03-14T10:24:43.101Z"
   },
   {
    "duration": 20,
    "start_time": "2023-03-14T10:24:43.711Z"
   },
   {
    "duration": 24,
    "start_time": "2023-03-14T10:24:46.400Z"
   },
   {
    "duration": 67,
    "start_time": "2023-03-14T10:24:47.806Z"
   },
   {
    "duration": 25,
    "start_time": "2023-03-14T10:24:49.037Z"
   },
   {
    "duration": 22,
    "start_time": "2023-03-14T10:24:53.494Z"
   },
   {
    "duration": 58,
    "start_time": "2023-03-14T10:24:54.557Z"
   },
   {
    "duration": 18,
    "start_time": "2023-03-14T10:24:55.381Z"
   },
   {
    "duration": 15,
    "start_time": "2023-03-14T10:24:57.772Z"
   },
   {
    "duration": 28,
    "start_time": "2023-03-14T10:25:46.813Z"
   },
   {
    "duration": 52,
    "start_time": "2023-03-14T10:25:50.555Z"
   },
   {
    "duration": 4,
    "start_time": "2023-03-14T10:27:16.496Z"
   },
   {
    "duration": 830,
    "start_time": "2023-03-14T10:27:16.502Z"
   },
   {
    "duration": 15,
    "start_time": "2023-03-14T10:27:17.334Z"
   },
   {
    "duration": 21,
    "start_time": "2023-03-14T10:27:17.354Z"
   },
   {
    "duration": 4,
    "start_time": "2023-03-14T10:27:17.377Z"
   },
   {
    "duration": 11,
    "start_time": "2023-03-14T10:27:17.383Z"
   },
   {
    "duration": 49,
    "start_time": "2023-03-14T10:27:17.396Z"
   },
   {
    "duration": 299,
    "start_time": "2023-03-14T10:27:17.454Z"
   },
   {
    "duration": 354,
    "start_time": "2023-03-14T10:27:17.755Z"
   },
   {
    "duration": 20,
    "start_time": "2023-03-14T10:27:18.111Z"
   },
   {
    "duration": 31,
    "start_time": "2023-03-14T10:27:18.134Z"
   },
   {
    "duration": 46,
    "start_time": "2023-03-14T10:27:18.167Z"
   },
   {
    "duration": 43,
    "start_time": "2023-03-14T10:27:18.214Z"
   },
   {
    "duration": 18,
    "start_time": "2023-03-14T10:27:18.258Z"
   },
   {
    "duration": 18,
    "start_time": "2023-03-14T10:27:18.278Z"
   },
   {
    "duration": 18,
    "start_time": "2023-03-14T10:27:18.297Z"
   },
   {
    "duration": 87,
    "start_time": "2023-03-14T10:27:18.316Z"
   },
   {
    "duration": 19,
    "start_time": "2023-03-14T10:27:18.404Z"
   },
   {
    "duration": 29,
    "start_time": "2023-03-14T10:27:18.425Z"
   },
   {
    "duration": 52,
    "start_time": "2023-03-14T10:27:18.456Z"
   },
   {
    "duration": 18,
    "start_time": "2023-03-14T10:27:18.509Z"
   },
   {
    "duration": 35,
    "start_time": "2023-03-14T10:27:18.529Z"
   },
   {
    "duration": 45,
    "start_time": "2023-03-14T10:27:18.565Z"
   },
   {
    "duration": 15,
    "start_time": "2023-03-14T10:27:18.612Z"
   },
   {
    "duration": 36,
    "start_time": "2023-03-14T10:27:18.629Z"
   },
   {
    "duration": 31,
    "start_time": "2023-03-14T10:27:18.667Z"
   },
   {
    "duration": 77,
    "start_time": "2023-03-14T10:27:18.699Z"
   },
   {
    "duration": 6,
    "start_time": "2023-03-14T10:27:18.778Z"
   },
   {
    "duration": 615,
    "start_time": "2023-03-14T10:27:18.788Z"
   },
   {
    "duration": 66,
    "start_time": "2023-03-14T10:27:19.406Z"
   },
   {
    "duration": 97,
    "start_time": "2023-03-14T10:27:19.474Z"
   },
   {
    "duration": 21,
    "start_time": "2023-03-14T10:27:19.572Z"
   },
   {
    "duration": 17,
    "start_time": "2023-03-14T10:27:19.594Z"
   },
   {
    "duration": 46,
    "start_time": "2023-03-14T10:27:19.613Z"
   },
   {
    "duration": 7,
    "start_time": "2023-03-14T10:27:19.660Z"
   },
   {
    "duration": 378,
    "start_time": "2023-03-14T10:27:19.669Z"
   },
   {
    "duration": 336,
    "start_time": "2023-03-14T10:27:20.048Z"
   },
   {
    "duration": 25,
    "start_time": "2023-03-14T10:27:20.386Z"
   },
   {
    "duration": 13,
    "start_time": "2023-03-14T10:27:20.413Z"
   },
   {
    "duration": 13,
    "start_time": "2023-03-14T10:27:20.428Z"
   },
   {
    "duration": 443,
    "start_time": "2023-03-14T10:27:20.454Z"
   },
   {
    "duration": 321,
    "start_time": "2023-03-14T10:27:20.898Z"
   },
   {
    "duration": 19,
    "start_time": "2023-03-14T10:27:21.220Z"
   },
   {
    "duration": 19,
    "start_time": "2023-03-14T10:27:21.241Z"
   },
   {
    "duration": 55,
    "start_time": "2023-03-14T10:27:21.261Z"
   },
   {
    "duration": 10,
    "start_time": "2023-03-14T10:30:43.723Z"
   },
   {
    "duration": 48,
    "start_time": "2023-03-14T10:30:44.085Z"
   },
   {
    "duration": 4,
    "start_time": "2023-03-14T10:30:44.493Z"
   },
   {
    "duration": 5,
    "start_time": "2023-03-14T10:30:46.730Z"
   },
   {
    "duration": 3,
    "start_time": "2023-03-14T10:30:54.776Z"
   },
   {
    "duration": 119,
    "start_time": "2023-03-14T10:30:58.768Z"
   },
   {
    "duration": 42,
    "start_time": "2023-03-14T10:31:06.096Z"
   },
   {
    "duration": 4,
    "start_time": "2023-03-14T10:31:07.195Z"
   },
   {
    "duration": 2,
    "start_time": "2023-03-14T10:32:24.723Z"
   },
   {
    "duration": 362,
    "start_time": "2023-03-14T10:32:34.896Z"
   },
   {
    "duration": 5,
    "start_time": "2023-03-14T10:32:54.345Z"
   },
   {
    "duration": 2,
    "start_time": "2023-03-14T10:32:59.900Z"
   },
   {
    "duration": 11,
    "start_time": "2023-03-14T10:33:01.758Z"
   },
   {
    "duration": 41,
    "start_time": "2023-03-14T10:33:08.180Z"
   },
   {
    "duration": 6,
    "start_time": "2023-03-14T10:33:10.099Z"
   },
   {
    "duration": 5,
    "start_time": "2023-03-14T10:33:51.539Z"
   },
   {
    "duration": 861,
    "start_time": "2023-03-14T10:33:51.549Z"
   },
   {
    "duration": 14,
    "start_time": "2023-03-14T10:33:52.412Z"
   },
   {
    "duration": 31,
    "start_time": "2023-03-14T10:33:52.428Z"
   },
   {
    "duration": 22,
    "start_time": "2023-03-14T10:33:52.461Z"
   },
   {
    "duration": 14,
    "start_time": "2023-03-14T10:33:52.486Z"
   },
   {
    "duration": 44,
    "start_time": "2023-03-14T10:33:52.502Z"
   },
   {
    "duration": 323,
    "start_time": "2023-03-14T10:33:52.548Z"
   },
   {
    "duration": 346,
    "start_time": "2023-03-14T10:33:52.873Z"
   },
   {
    "duration": 20,
    "start_time": "2023-03-14T10:33:53.221Z"
   },
   {
    "duration": 29,
    "start_time": "2023-03-14T10:33:53.242Z"
   },
   {
    "duration": 50,
    "start_time": "2023-03-14T10:33:53.273Z"
   },
   {
    "duration": 48,
    "start_time": "2023-03-14T10:33:53.324Z"
   },
   {
    "duration": 22,
    "start_time": "2023-03-14T10:33:53.374Z"
   },
   {
    "duration": 22,
    "start_time": "2023-03-14T10:33:53.400Z"
   },
   {
    "duration": 39,
    "start_time": "2023-03-14T10:33:53.424Z"
   },
   {
    "duration": 63,
    "start_time": "2023-03-14T10:33:53.465Z"
   },
   {
    "duration": 31,
    "start_time": "2023-03-14T10:33:53.530Z"
   },
   {
    "duration": 26,
    "start_time": "2023-03-14T10:33:53.564Z"
   },
   {
    "duration": 64,
    "start_time": "2023-03-14T10:33:53.592Z"
   },
   {
    "duration": 18,
    "start_time": "2023-03-14T10:33:53.657Z"
   },
   {
    "duration": 29,
    "start_time": "2023-03-14T10:33:53.677Z"
   },
   {
    "duration": 58,
    "start_time": "2023-03-14T10:33:53.707Z"
   },
   {
    "duration": 17,
    "start_time": "2023-03-14T10:33:53.767Z"
   },
   {
    "duration": 22,
    "start_time": "2023-03-14T10:33:53.786Z"
   },
   {
    "duration": 45,
    "start_time": "2023-03-14T10:33:53.809Z"
   },
   {
    "duration": 61,
    "start_time": "2023-03-14T10:33:53.856Z"
   },
   {
    "duration": 7,
    "start_time": "2023-03-14T10:33:53.920Z"
   },
   {
    "duration": 463,
    "start_time": "2023-03-14T10:33:53.930Z"
   },
   {
    "duration": 28,
    "start_time": "2023-03-14T10:33:54.395Z"
   },
   {
    "duration": 68,
    "start_time": "2023-03-14T10:33:54.424Z"
   },
   {
    "duration": 22,
    "start_time": "2023-03-14T10:33:54.494Z"
   },
   {
    "duration": 35,
    "start_time": "2023-03-14T10:33:54.518Z"
   },
   {
    "duration": 19,
    "start_time": "2023-03-14T10:33:54.556Z"
   },
   {
    "duration": 10,
    "start_time": "2023-03-14T10:33:54.576Z"
   },
   {
    "duration": 395,
    "start_time": "2023-03-14T10:33:54.587Z"
   },
   {
    "duration": 327,
    "start_time": "2023-03-14T10:33:54.983Z"
   },
   {
    "duration": 27,
    "start_time": "2023-03-14T10:33:55.312Z"
   },
   {
    "duration": 5,
    "start_time": "2023-03-14T10:33:55.353Z"
   },
   {
    "duration": 12,
    "start_time": "2023-03-14T10:33:55.360Z"
   },
   {
    "duration": 432,
    "start_time": "2023-03-14T10:33:55.373Z"
   },
   {
    "duration": 373,
    "start_time": "2023-03-14T10:33:55.809Z"
   },
   {
    "duration": 20,
    "start_time": "2023-03-14T10:33:56.184Z"
   },
   {
    "duration": 15,
    "start_time": "2023-03-14T10:33:56.206Z"
   },
   {
    "duration": 71,
    "start_time": "2023-03-14T10:33:56.223Z"
   },
   {
    "duration": 12,
    "start_time": "2023-03-14T10:33:56.296Z"
   },
   {
    "duration": 64,
    "start_time": "2023-03-14T10:33:56.310Z"
   },
   {
    "duration": 5,
    "start_time": "2023-03-14T10:33:56.376Z"
   },
   {
    "duration": 8,
    "start_time": "2023-03-14T10:33:56.383Z"
   },
   {
    "duration": 13,
    "start_time": "2023-03-14T10:33:56.394Z"
   },
   {
    "duration": 59,
    "start_time": "2023-03-14T10:33:56.408Z"
   },
   {
    "duration": 5,
    "start_time": "2023-03-14T10:33:56.468Z"
   },
   {
    "duration": 401,
    "start_time": "2023-03-14T10:33:56.476Z"
   },
   {
    "duration": 5,
    "start_time": "2023-03-14T10:33:56.879Z"
   },
   {
    "duration": 10,
    "start_time": "2023-03-14T10:33:56.885Z"
   },
   {
    "duration": 12,
    "start_time": "2023-03-14T10:33:56.897Z"
   },
   {
    "duration": 24,
    "start_time": "2023-03-14T10:33:56.911Z"
   },
   {
    "duration": 5,
    "start_time": "2023-03-14T10:34:43.867Z"
   },
   {
    "duration": 44,
    "start_time": "2023-03-14T10:35:01.298Z"
   },
   {
    "duration": 17,
    "start_time": "2023-03-14T10:35:20.552Z"
   },
   {
    "duration": 5,
    "start_time": "2023-03-14T10:35:58.824Z"
   },
   {
    "duration": 852,
    "start_time": "2023-03-14T10:35:58.831Z"
   },
   {
    "duration": 15,
    "start_time": "2023-03-14T10:35:59.685Z"
   },
   {
    "duration": 18,
    "start_time": "2023-03-14T10:35:59.701Z"
   },
   {
    "duration": 5,
    "start_time": "2023-03-14T10:35:59.721Z"
   },
   {
    "duration": 26,
    "start_time": "2023-03-14T10:35:59.728Z"
   },
   {
    "duration": 37,
    "start_time": "2023-03-14T10:35:59.756Z"
   },
   {
    "duration": 304,
    "start_time": "2023-03-14T10:35:59.795Z"
   },
   {
    "duration": 331,
    "start_time": "2023-03-14T10:36:00.101Z"
   },
   {
    "duration": 22,
    "start_time": "2023-03-14T10:36:00.434Z"
   },
   {
    "duration": 51,
    "start_time": "2023-03-14T10:36:00.460Z"
   },
   {
    "duration": 70,
    "start_time": "2023-03-14T10:36:00.513Z"
   },
   {
    "duration": 67,
    "start_time": "2023-03-14T10:36:00.585Z"
   },
   {
    "duration": 31,
    "start_time": "2023-03-14T10:36:00.654Z"
   },
   {
    "duration": 59,
    "start_time": "2023-03-14T10:36:00.687Z"
   },
   {
    "duration": 50,
    "start_time": "2023-03-14T10:36:00.747Z"
   },
   {
    "duration": 89,
    "start_time": "2023-03-14T10:36:00.799Z"
   },
   {
    "duration": 18,
    "start_time": "2023-03-14T10:36:00.889Z"
   },
   {
    "duration": 33,
    "start_time": "2023-03-14T10:36:00.909Z"
   },
   {
    "duration": 89,
    "start_time": "2023-03-14T10:36:00.943Z"
   },
   {
    "duration": 18,
    "start_time": "2023-03-14T10:36:01.034Z"
   },
   {
    "duration": 64,
    "start_time": "2023-03-14T10:36:01.053Z"
   },
   {
    "duration": 93,
    "start_time": "2023-03-14T10:36:01.119Z"
   },
   {
    "duration": 18,
    "start_time": "2023-03-14T10:36:01.213Z"
   },
   {
    "duration": 42,
    "start_time": "2023-03-14T10:36:01.233Z"
   },
   {
    "duration": 64,
    "start_time": "2023-03-14T10:36:01.277Z"
   },
   {
    "duration": 89,
    "start_time": "2023-03-14T10:36:01.343Z"
   },
   {
    "duration": 21,
    "start_time": "2023-03-14T10:36:01.434Z"
   },
   {
    "duration": 387,
    "start_time": "2023-03-14T10:36:01.459Z"
   },
   {
    "duration": 28,
    "start_time": "2023-03-14T10:36:01.847Z"
   },
   {
    "duration": 86,
    "start_time": "2023-03-14T10:36:01.877Z"
   },
   {
    "duration": 20,
    "start_time": "2023-03-14T10:36:01.965Z"
   },
   {
    "duration": 43,
    "start_time": "2023-03-14T10:36:01.987Z"
   },
   {
    "duration": 24,
    "start_time": "2023-03-14T10:36:02.031Z"
   },
   {
    "duration": 43,
    "start_time": "2023-03-14T10:36:02.057Z"
   },
   {
    "duration": 374,
    "start_time": "2023-03-14T10:36:02.102Z"
   },
   {
    "duration": 314,
    "start_time": "2023-03-14T10:36:02.478Z"
   },
   {
    "duration": 25,
    "start_time": "2023-03-14T10:36:02.794Z"
   },
   {
    "duration": 6,
    "start_time": "2023-03-14T10:36:02.820Z"
   },
   {
    "duration": 29,
    "start_time": "2023-03-14T10:36:02.828Z"
   },
   {
    "duration": 372,
    "start_time": "2023-03-14T10:36:02.858Z"
   },
   {
    "duration": 340,
    "start_time": "2023-03-14T10:36:03.232Z"
   },
   {
    "duration": 18,
    "start_time": "2023-03-14T10:36:03.574Z"
   },
   {
    "duration": 11,
    "start_time": "2023-03-14T10:36:03.594Z"
   },
   {
    "duration": 61,
    "start_time": "2023-03-14T10:36:03.606Z"
   },
   {
    "duration": 12,
    "start_time": "2023-03-14T10:36:03.669Z"
   },
   {
    "duration": 39,
    "start_time": "2023-03-14T10:36:03.683Z"
   },
   {
    "duration": 4,
    "start_time": "2023-03-14T10:36:03.724Z"
   },
   {
    "duration": 26,
    "start_time": "2023-03-14T10:36:03.730Z"
   },
   {
    "duration": 23,
    "start_time": "2023-03-14T10:36:03.758Z"
   },
   {
    "duration": 63,
    "start_time": "2023-03-14T10:36:03.783Z"
   },
   {
    "duration": 11,
    "start_time": "2023-03-14T10:36:03.848Z"
   },
   {
    "duration": 396,
    "start_time": "2023-03-14T10:36:03.861Z"
   },
   {
    "duration": 5,
    "start_time": "2023-03-14T10:36:04.259Z"
   },
   {
    "duration": 4,
    "start_time": "2023-03-14T10:36:04.266Z"
   },
   {
    "duration": 6,
    "start_time": "2023-03-14T10:36:04.272Z"
   },
   {
    "duration": 7,
    "start_time": "2023-03-14T10:36:04.279Z"
   },
   {
    "duration": 21,
    "start_time": "2023-03-14T10:36:04.288Z"
   },
   {
    "duration": 604,
    "start_time": "2023-03-14T10:37:51.032Z"
   },
   {
    "duration": 29,
    "start_time": "2023-03-14T10:38:40.948Z"
   },
   {
    "duration": 4,
    "start_time": "2023-03-14T10:38:45.396Z"
   },
   {
    "duration": 573,
    "start_time": "2023-03-14T10:39:55.913Z"
   },
   {
    "duration": 4,
    "start_time": "2023-03-14T10:40:21.723Z"
   },
   {
    "duration": 533,
    "start_time": "2023-03-14T10:40:24.617Z"
   },
   {
    "duration": 4,
    "start_time": "2023-03-14T10:40:25.152Z"
   },
   {
    "duration": 7,
    "start_time": "2023-03-14T10:40:43.905Z"
   },
   {
    "duration": 876,
    "start_time": "2023-03-14T10:40:43.914Z"
   },
   {
    "duration": 17,
    "start_time": "2023-03-14T10:40:44.792Z"
   },
   {
    "duration": 36,
    "start_time": "2023-03-14T10:40:44.811Z"
   },
   {
    "duration": 12,
    "start_time": "2023-03-14T10:40:44.850Z"
   },
   {
    "duration": 105,
    "start_time": "2023-03-14T10:40:44.864Z"
   },
   {
    "duration": 71,
    "start_time": "2023-03-14T10:40:44.971Z"
   },
   {
    "duration": 312,
    "start_time": "2023-03-14T10:40:45.044Z"
   },
   {
    "duration": 331,
    "start_time": "2023-03-14T10:40:45.358Z"
   },
   {
    "duration": 20,
    "start_time": "2023-03-14T10:40:45.691Z"
   },
   {
    "duration": 17,
    "start_time": "2023-03-14T10:40:45.712Z"
   },
   {
    "duration": 61,
    "start_time": "2023-03-14T10:40:45.730Z"
   },
   {
    "duration": 38,
    "start_time": "2023-03-14T10:40:45.794Z"
   },
   {
    "duration": 34,
    "start_time": "2023-03-14T10:40:45.833Z"
   },
   {
    "duration": 19,
    "start_time": "2023-03-14T10:40:45.869Z"
   },
   {
    "duration": 20,
    "start_time": "2023-03-14T10:40:45.890Z"
   },
   {
    "duration": 70,
    "start_time": "2023-03-14T10:40:45.911Z"
   },
   {
    "duration": 20,
    "start_time": "2023-03-14T10:40:45.982Z"
   },
   {
    "duration": 32,
    "start_time": "2023-03-14T10:40:46.003Z"
   },
   {
    "duration": 55,
    "start_time": "2023-03-14T10:40:46.037Z"
   },
   {
    "duration": 18,
    "start_time": "2023-03-14T10:40:46.094Z"
   },
   {
    "duration": 16,
    "start_time": "2023-03-14T10:40:46.115Z"
   },
   {
    "duration": 66,
    "start_time": "2023-03-14T10:40:46.133Z"
   },
   {
    "duration": 19,
    "start_time": "2023-03-14T10:40:46.201Z"
   },
   {
    "duration": 33,
    "start_time": "2023-03-14T10:40:46.221Z"
   },
   {
    "duration": 30,
    "start_time": "2023-03-14T10:40:46.256Z"
   },
   {
    "duration": 70,
    "start_time": "2023-03-14T10:40:46.288Z"
   },
   {
    "duration": 5,
    "start_time": "2023-03-14T10:40:46.360Z"
   },
   {
    "duration": 393,
    "start_time": "2023-03-14T10:40:46.367Z"
   },
   {
    "duration": 27,
    "start_time": "2023-03-14T10:40:46.762Z"
   },
   {
    "duration": 68,
    "start_time": "2023-03-14T10:40:46.793Z"
   },
   {
    "duration": 23,
    "start_time": "2023-03-14T10:40:46.863Z"
   },
   {
    "duration": 19,
    "start_time": "2023-03-14T10:40:46.888Z"
   },
   {
    "duration": 45,
    "start_time": "2023-03-14T10:40:46.909Z"
   },
   {
    "duration": 7,
    "start_time": "2023-03-14T10:40:46.956Z"
   },
   {
    "duration": 410,
    "start_time": "2023-03-14T10:40:46.964Z"
   },
   {
    "duration": 330,
    "start_time": "2023-03-14T10:40:47.378Z"
   },
   {
    "duration": 27,
    "start_time": "2023-03-14T10:40:47.710Z"
   },
   {
    "duration": 17,
    "start_time": "2023-03-14T10:40:47.739Z"
   },
   {
    "duration": 10,
    "start_time": "2023-03-14T10:40:47.758Z"
   },
   {
    "duration": 421,
    "start_time": "2023-03-14T10:40:47.770Z"
   },
   {
    "duration": 355,
    "start_time": "2023-03-14T10:40:48.193Z"
   },
   {
    "duration": 21,
    "start_time": "2023-03-14T10:40:48.550Z"
   },
   {
    "duration": 14,
    "start_time": "2023-03-14T10:40:48.572Z"
   },
   {
    "duration": 47,
    "start_time": "2023-03-14T10:40:48.587Z"
   },
   {
    "duration": 11,
    "start_time": "2023-03-14T10:40:48.654Z"
   },
   {
    "duration": 42,
    "start_time": "2023-03-14T10:40:48.667Z"
   },
   {
    "duration": 4,
    "start_time": "2023-03-14T10:40:48.711Z"
   },
   {
    "duration": 10,
    "start_time": "2023-03-14T10:40:48.717Z"
   },
   {
    "duration": 28,
    "start_time": "2023-03-14T10:40:48.729Z"
   },
   {
    "duration": 47,
    "start_time": "2023-03-14T10:40:48.758Z"
   },
   {
    "duration": 4,
    "start_time": "2023-03-14T10:40:48.806Z"
   },
   {
    "duration": 358,
    "start_time": "2023-03-14T10:40:48.812Z"
   },
   {
    "duration": 5,
    "start_time": "2023-03-14T10:40:49.171Z"
   },
   {
    "duration": 18,
    "start_time": "2023-03-14T10:40:49.178Z"
   },
   {
    "duration": 16,
    "start_time": "2023-03-14T10:40:49.197Z"
   },
   {
    "duration": 5,
    "start_time": "2023-03-14T10:40:49.215Z"
   },
   {
    "duration": 623,
    "start_time": "2023-03-14T10:40:55.156Z"
   },
   {
    "duration": 5,
    "start_time": "2023-03-14T10:40:56.854Z"
   },
   {
    "duration": 389,
    "start_time": "2023-03-14T10:41:12.313Z"
   },
   {
    "duration": 17431,
    "start_time": "2023-03-14T10:41:21.029Z"
   },
   {
    "duration": 3,
    "start_time": "2023-03-14T10:42:40.060Z"
   },
   {
    "duration": 11550,
    "start_time": "2023-03-14T10:42:40.711Z"
   },
   {
    "duration": 46238,
    "start_time": "2023-03-14T10:43:07.948Z"
   },
   {
    "duration": 33,
    "start_time": "2023-03-14T10:44:23.753Z"
   },
   {
    "duration": 4,
    "start_time": "2023-03-14T10:44:24.799Z"
   },
   {
    "duration": 3,
    "start_time": "2023-03-14T10:44:26.316Z"
   },
   {
    "duration": 21262,
    "start_time": "2023-03-14T10:44:28.269Z"
   },
   {
    "duration": 123,
    "start_time": "2023-03-14T10:45:16.916Z"
   },
   {
    "duration": 3889,
    "start_time": "2023-03-14T10:45:19.770Z"
   },
   {
    "duration": 7,
    "start_time": "2023-03-14T10:45:42.467Z"
   },
   {
    "duration": 53356,
    "start_time": "2023-03-14T10:46:13.500Z"
   },
   {
    "duration": 6,
    "start_time": "2023-03-14T10:47:06.858Z"
   },
   {
    "duration": 5,
    "start_time": "2023-03-14T10:50:36.800Z"
   },
   {
    "duration": 860,
    "start_time": "2023-03-14T10:50:36.808Z"
   },
   {
    "duration": 15,
    "start_time": "2023-03-14T10:50:37.670Z"
   },
   {
    "duration": 22,
    "start_time": "2023-03-14T10:50:37.688Z"
   },
   {
    "duration": 11,
    "start_time": "2023-03-14T10:50:37.712Z"
   },
   {
    "duration": 5,
    "start_time": "2023-03-14T10:50:37.725Z"
   },
   {
    "duration": 40,
    "start_time": "2023-03-14T10:50:37.754Z"
   },
   {
    "duration": 340,
    "start_time": "2023-03-14T10:50:37.796Z"
   },
   {
    "duration": 346,
    "start_time": "2023-03-14T10:50:38.138Z"
   },
   {
    "duration": 20,
    "start_time": "2023-03-14T10:50:38.487Z"
   },
   {
    "duration": 26,
    "start_time": "2023-03-14T10:50:38.509Z"
   },
   {
    "duration": 62,
    "start_time": "2023-03-14T10:50:38.538Z"
   },
   {
    "duration": 52,
    "start_time": "2023-03-14T10:50:38.602Z"
   },
   {
    "duration": 21,
    "start_time": "2023-03-14T10:50:38.656Z"
   },
   {
    "duration": 19,
    "start_time": "2023-03-14T10:50:38.680Z"
   },
   {
    "duration": 18,
    "start_time": "2023-03-14T10:50:38.702Z"
   },
   {
    "duration": 84,
    "start_time": "2023-03-14T10:50:38.722Z"
   },
   {
    "duration": 21,
    "start_time": "2023-03-14T10:50:38.808Z"
   },
   {
    "duration": 39,
    "start_time": "2023-03-14T10:50:38.831Z"
   },
   {
    "duration": 59,
    "start_time": "2023-03-14T10:50:38.872Z"
   },
   {
    "duration": 35,
    "start_time": "2023-03-14T10:50:38.933Z"
   },
   {
    "duration": 16,
    "start_time": "2023-03-14T10:50:38.970Z"
   },
   {
    "duration": 74,
    "start_time": "2023-03-14T10:50:38.988Z"
   },
   {
    "duration": 19,
    "start_time": "2023-03-14T10:50:39.064Z"
   },
   {
    "duration": 17,
    "start_time": "2023-03-14T10:50:39.085Z"
   },
   {
    "duration": 52,
    "start_time": "2023-03-14T10:50:39.104Z"
   },
   {
    "duration": 62,
    "start_time": "2023-03-14T10:50:39.158Z"
   },
   {
    "duration": 7,
    "start_time": "2023-03-14T10:50:39.224Z"
   },
   {
    "duration": 435,
    "start_time": "2023-03-14T10:50:39.254Z"
   },
   {
    "duration": 28,
    "start_time": "2023-03-14T10:50:39.691Z"
   },
   {
    "duration": 74,
    "start_time": "2023-03-14T10:50:39.721Z"
   },
   {
    "duration": 23,
    "start_time": "2023-03-14T10:50:39.797Z"
   },
   {
    "duration": 38,
    "start_time": "2023-03-14T10:50:39.822Z"
   },
   {
    "duration": 20,
    "start_time": "2023-03-14T10:50:39.862Z"
   },
   {
    "duration": 8,
    "start_time": "2023-03-14T10:50:39.884Z"
   },
   {
    "duration": 416,
    "start_time": "2023-03-14T10:50:39.894Z"
   },
   {
    "duration": 313,
    "start_time": "2023-03-14T10:50:40.312Z"
   },
   {
    "duration": 36,
    "start_time": "2023-03-14T10:50:40.626Z"
   },
   {
    "duration": 5,
    "start_time": "2023-03-14T10:50:40.664Z"
   },
   {
    "duration": 12,
    "start_time": "2023-03-14T10:50:40.671Z"
   },
   {
    "duration": 378,
    "start_time": "2023-03-14T10:50:40.685Z"
   },
   {
    "duration": 344,
    "start_time": "2023-03-14T10:50:41.064Z"
   },
   {
    "duration": 19,
    "start_time": "2023-03-14T10:50:41.410Z"
   },
   {
    "duration": 24,
    "start_time": "2023-03-14T10:50:41.431Z"
   },
   {
    "duration": 49,
    "start_time": "2023-03-14T10:50:41.457Z"
   },
   {
    "duration": 12,
    "start_time": "2023-03-14T10:50:41.508Z"
   },
   {
    "duration": 68,
    "start_time": "2023-03-14T10:50:41.522Z"
   },
   {
    "duration": 4,
    "start_time": "2023-03-14T10:50:41.592Z"
   },
   {
    "duration": 11,
    "start_time": "2023-03-14T10:50:41.598Z"
   },
   {
    "duration": 6,
    "start_time": "2023-03-14T10:50:41.611Z"
   },
   {
    "duration": 9,
    "start_time": "2023-03-14T10:50:41.619Z"
   },
   {
    "duration": 10,
    "start_time": "2023-03-14T10:50:41.631Z"
   },
   {
    "duration": 357,
    "start_time": "2023-03-14T10:50:41.654Z"
   },
   {
    "duration": 355,
    "start_time": "2023-03-14T10:50:45.085Z"
   },
   {
    "duration": 4,
    "start_time": "2023-03-14T10:50:46.192Z"
   },
   {
    "duration": 5,
    "start_time": "2023-03-14T10:50:50.839Z"
   },
   {
    "duration": 776,
    "start_time": "2023-03-14T10:50:50.846Z"
   },
   {
    "duration": 14,
    "start_time": "2023-03-14T10:50:51.624Z"
   },
   {
    "duration": 33,
    "start_time": "2023-03-14T10:50:51.640Z"
   },
   {
    "duration": 10,
    "start_time": "2023-03-14T10:50:51.676Z"
   },
   {
    "duration": 8,
    "start_time": "2023-03-14T10:50:51.688Z"
   },
   {
    "duration": 41,
    "start_time": "2023-03-14T10:50:51.697Z"
   },
   {
    "duration": 300,
    "start_time": "2023-03-14T10:50:51.739Z"
   },
   {
    "duration": 343,
    "start_time": "2023-03-14T10:50:52.040Z"
   },
   {
    "duration": 19,
    "start_time": "2023-03-14T10:50:52.385Z"
   },
   {
    "duration": 25,
    "start_time": "2023-03-14T10:50:52.406Z"
   },
   {
    "duration": 53,
    "start_time": "2023-03-14T10:50:52.433Z"
   },
   {
    "duration": 35,
    "start_time": "2023-03-14T10:50:52.488Z"
   },
   {
    "duration": 30,
    "start_time": "2023-03-14T10:50:52.526Z"
   },
   {
    "duration": 32,
    "start_time": "2023-03-14T10:50:52.558Z"
   },
   {
    "duration": 18,
    "start_time": "2023-03-14T10:50:52.591Z"
   },
   {
    "duration": 56,
    "start_time": "2023-03-14T10:50:52.611Z"
   },
   {
    "duration": 18,
    "start_time": "2023-03-14T10:50:52.669Z"
   },
   {
    "duration": 16,
    "start_time": "2023-03-14T10:50:52.689Z"
   },
   {
    "duration": 68,
    "start_time": "2023-03-14T10:50:52.707Z"
   },
   {
    "duration": 18,
    "start_time": "2023-03-14T10:50:52.776Z"
   },
   {
    "duration": 22,
    "start_time": "2023-03-14T10:50:52.795Z"
   },
   {
    "duration": 60,
    "start_time": "2023-03-14T10:50:52.818Z"
   },
   {
    "duration": 15,
    "start_time": "2023-03-14T10:50:52.880Z"
   },
   {
    "duration": 18,
    "start_time": "2023-03-14T10:50:52.897Z"
   },
   {
    "duration": 44,
    "start_time": "2023-03-14T10:50:52.917Z"
   },
   {
    "duration": 51,
    "start_time": "2023-03-14T10:50:52.963Z"
   },
   {
    "duration": 17,
    "start_time": "2023-03-14T10:50:53.015Z"
   },
   {
    "duration": 388,
    "start_time": "2023-03-14T10:50:53.033Z"
   },
   {
    "duration": 38,
    "start_time": "2023-03-14T10:50:53.423Z"
   },
   {
    "duration": 54,
    "start_time": "2023-03-14T10:50:53.463Z"
   },
   {
    "duration": 39,
    "start_time": "2023-03-14T10:50:53.519Z"
   },
   {
    "duration": 17,
    "start_time": "2023-03-14T10:50:53.560Z"
   },
   {
    "duration": 20,
    "start_time": "2023-03-14T10:50:53.579Z"
   },
   {
    "duration": 6,
    "start_time": "2023-03-14T10:50:53.601Z"
   },
   {
    "duration": 576,
    "start_time": "2023-03-14T10:50:53.609Z"
   },
   {
    "duration": 327,
    "start_time": "2023-03-14T10:50:54.187Z"
   },
   {
    "duration": 38,
    "start_time": "2023-03-14T10:50:54.516Z"
   },
   {
    "duration": 6,
    "start_time": "2023-03-14T10:50:54.556Z"
   },
   {
    "duration": 10,
    "start_time": "2023-03-14T10:50:54.564Z"
   },
   {
    "duration": 385,
    "start_time": "2023-03-14T10:50:54.578Z"
   },
   {
    "duration": 348,
    "start_time": "2023-03-14T10:50:54.964Z"
   },
   {
    "duration": 22,
    "start_time": "2023-03-14T10:50:55.314Z"
   },
   {
    "duration": 25,
    "start_time": "2023-03-14T10:50:55.339Z"
   },
   {
    "duration": 53,
    "start_time": "2023-03-14T10:50:55.366Z"
   },
   {
    "duration": 33,
    "start_time": "2023-03-14T10:50:55.422Z"
   },
   {
    "duration": 46,
    "start_time": "2023-03-14T10:50:55.457Z"
   },
   {
    "duration": 4,
    "start_time": "2023-03-14T10:50:55.505Z"
   },
   {
    "duration": 8,
    "start_time": "2023-03-14T10:50:55.511Z"
   },
   {
    "duration": 6,
    "start_time": "2023-03-14T10:50:55.521Z"
   },
   {
    "duration": 28,
    "start_time": "2023-03-14T10:50:55.529Z"
   },
   {
    "duration": 15,
    "start_time": "2023-03-14T10:50:55.559Z"
   },
   {
    "duration": 347,
    "start_time": "2023-03-14T10:50:55.576Z"
   },
   {
    "duration": 4,
    "start_time": "2023-03-14T10:50:55.925Z"
   },
   {
    "duration": 17,
    "start_time": "2023-03-14T10:51:34.560Z"
   },
   {
    "duration": 15,
    "start_time": "2023-03-14T10:51:46.441Z"
   },
   {
    "duration": 19,
    "start_time": "2023-03-14T10:52:33.296Z"
   },
   {
    "duration": 18,
    "start_time": "2023-03-14T10:52:50.024Z"
   },
   {
    "duration": 42,
    "start_time": "2023-03-14T10:53:40.661Z"
   },
   {
    "duration": 342,
    "start_time": "2023-03-14T10:53:57.360Z"
   },
   {
    "duration": 4,
    "start_time": "2023-03-14T10:53:57.900Z"
   },
   {
    "duration": 19,
    "start_time": "2023-03-14T10:53:58.848Z"
   },
   {
    "duration": 5,
    "start_time": "2023-03-14T10:54:13.379Z"
   },
   {
    "duration": 805,
    "start_time": "2023-03-14T10:54:13.386Z"
   },
   {
    "duration": 17,
    "start_time": "2023-03-14T10:54:14.193Z"
   },
   {
    "duration": 21,
    "start_time": "2023-03-14T10:54:14.212Z"
   },
   {
    "duration": 18,
    "start_time": "2023-03-14T10:54:14.236Z"
   },
   {
    "duration": 5,
    "start_time": "2023-03-14T10:54:14.256Z"
   },
   {
    "duration": 41,
    "start_time": "2023-03-14T10:54:14.264Z"
   },
   {
    "duration": 297,
    "start_time": "2023-03-14T10:54:14.307Z"
   },
   {
    "duration": 309,
    "start_time": "2023-03-14T10:54:14.606Z"
   },
   {
    "duration": 18,
    "start_time": "2023-03-14T10:54:14.917Z"
   },
   {
    "duration": 27,
    "start_time": "2023-03-14T10:54:14.938Z"
   },
   {
    "duration": 40,
    "start_time": "2023-03-14T10:54:14.967Z"
   },
   {
    "duration": 49,
    "start_time": "2023-03-14T10:54:15.009Z"
   },
   {
    "duration": 20,
    "start_time": "2023-03-14T10:54:15.060Z"
   },
   {
    "duration": 17,
    "start_time": "2023-03-14T10:54:15.082Z"
   },
   {
    "duration": 20,
    "start_time": "2023-03-14T10:54:15.101Z"
   },
   {
    "duration": 74,
    "start_time": "2023-03-14T10:54:15.123Z"
   },
   {
    "duration": 19,
    "start_time": "2023-03-14T10:54:15.198Z"
   },
   {
    "duration": 18,
    "start_time": "2023-03-14T10:54:15.219Z"
   },
   {
    "duration": 67,
    "start_time": "2023-03-14T10:54:15.239Z"
   },
   {
    "duration": 17,
    "start_time": "2023-03-14T10:54:15.308Z"
   },
   {
    "duration": 31,
    "start_time": "2023-03-14T10:54:15.326Z"
   },
   {
    "duration": 54,
    "start_time": "2023-03-14T10:54:15.359Z"
   },
   {
    "duration": 23,
    "start_time": "2023-03-14T10:54:15.415Z"
   },
   {
    "duration": 26,
    "start_time": "2023-03-14T10:54:15.441Z"
   },
   {
    "duration": 32,
    "start_time": "2023-03-14T10:54:15.468Z"
   },
   {
    "duration": 79,
    "start_time": "2023-03-14T10:54:15.503Z"
   },
   {
    "duration": 5,
    "start_time": "2023-03-14T10:54:15.584Z"
   },
   {
    "duration": 417,
    "start_time": "2023-03-14T10:54:15.593Z"
   },
   {
    "duration": 24,
    "start_time": "2023-03-14T10:54:16.012Z"
   },
   {
    "duration": 61,
    "start_time": "2023-03-14T10:54:16.038Z"
   },
   {
    "duration": 22,
    "start_time": "2023-03-14T10:54:16.101Z"
   },
   {
    "duration": 38,
    "start_time": "2023-03-14T10:54:16.124Z"
   },
   {
    "duration": 22,
    "start_time": "2023-03-14T10:54:16.164Z"
   },
   {
    "duration": 7,
    "start_time": "2023-03-14T10:54:16.188Z"
   },
   {
    "duration": 428,
    "start_time": "2023-03-14T10:54:16.197Z"
   },
   {
    "duration": 341,
    "start_time": "2023-03-14T10:54:16.627Z"
   },
   {
    "duration": 27,
    "start_time": "2023-03-14T10:54:16.971Z"
   },
   {
    "duration": 6,
    "start_time": "2023-03-14T10:54:17.000Z"
   },
   {
    "duration": 12,
    "start_time": "2023-03-14T10:54:17.008Z"
   },
   {
    "duration": 394,
    "start_time": "2023-03-14T10:54:17.052Z"
   },
   {
    "duration": 342,
    "start_time": "2023-03-14T10:54:17.449Z"
   },
   {
    "duration": 21,
    "start_time": "2023-03-14T10:54:17.794Z"
   },
   {
    "duration": 17,
    "start_time": "2023-03-14T10:54:17.817Z"
   },
   {
    "duration": 44,
    "start_time": "2023-03-14T10:54:17.854Z"
   },
   {
    "duration": 13,
    "start_time": "2023-03-14T10:54:17.900Z"
   },
   {
    "duration": 74,
    "start_time": "2023-03-14T10:54:17.915Z"
   },
   {
    "duration": 4,
    "start_time": "2023-03-14T10:54:17.991Z"
   },
   {
    "duration": 14,
    "start_time": "2023-03-14T10:54:17.997Z"
   },
   {
    "duration": 9,
    "start_time": "2023-03-14T10:54:18.012Z"
   },
   {
    "duration": 56,
    "start_time": "2023-03-14T10:54:18.024Z"
   },
   {
    "duration": 6,
    "start_time": "2023-03-14T10:54:18.082Z"
   },
   {
    "duration": 363,
    "start_time": "2023-03-14T10:54:18.090Z"
   },
   {
    "duration": 4,
    "start_time": "2023-03-14T10:54:18.455Z"
   },
   {
    "duration": 6,
    "start_time": "2023-03-14T10:56:00.404Z"
   },
   {
    "duration": 865,
    "start_time": "2023-03-14T10:56:00.413Z"
   },
   {
    "duration": 16,
    "start_time": "2023-03-14T10:56:01.280Z"
   },
   {
    "duration": 70,
    "start_time": "2023-03-14T10:56:01.298Z"
   },
   {
    "duration": 10,
    "start_time": "2023-03-14T10:56:01.369Z"
   },
   {
    "duration": 31,
    "start_time": "2023-03-14T10:56:01.381Z"
   },
   {
    "duration": 77,
    "start_time": "2023-03-14T10:56:01.415Z"
   },
   {
    "duration": 302,
    "start_time": "2023-03-14T10:56:01.494Z"
   },
   {
    "duration": 321,
    "start_time": "2023-03-14T10:56:01.799Z"
   },
   {
    "duration": 19,
    "start_time": "2023-03-14T10:56:02.124Z"
   },
   {
    "duration": 24,
    "start_time": "2023-03-14T10:56:02.154Z"
   },
   {
    "duration": 83,
    "start_time": "2023-03-14T10:56:02.180Z"
   },
   {
    "duration": 35,
    "start_time": "2023-03-14T10:56:02.264Z"
   },
   {
    "duration": 33,
    "start_time": "2023-03-14T10:56:02.300Z"
   },
   {
    "duration": 31,
    "start_time": "2023-03-14T10:56:02.335Z"
   },
   {
    "duration": 44,
    "start_time": "2023-03-14T10:56:02.368Z"
   },
   {
    "duration": 80,
    "start_time": "2023-03-14T10:56:02.414Z"
   },
   {
    "duration": 33,
    "start_time": "2023-03-14T10:56:02.496Z"
   },
   {
    "duration": 29,
    "start_time": "2023-03-14T10:56:02.531Z"
   },
   {
    "duration": 70,
    "start_time": "2023-03-14T10:56:02.562Z"
   },
   {
    "duration": 18,
    "start_time": "2023-03-14T10:56:02.634Z"
   },
   {
    "duration": 34,
    "start_time": "2023-03-14T10:56:02.653Z"
   },
   {
    "duration": 71,
    "start_time": "2023-03-14T10:56:02.689Z"
   },
   {
    "duration": 25,
    "start_time": "2023-03-14T10:56:02.762Z"
   },
   {
    "duration": 32,
    "start_time": "2023-03-14T10:56:02.788Z"
   },
   {
    "duration": 43,
    "start_time": "2023-03-14T10:56:02.822Z"
   },
   {
    "duration": 75,
    "start_time": "2023-03-14T10:56:02.867Z"
   },
   {
    "duration": 21,
    "start_time": "2023-03-14T10:56:02.947Z"
   },
   {
    "duration": 379,
    "start_time": "2023-03-14T10:56:02.970Z"
   },
   {
    "duration": 28,
    "start_time": "2023-03-14T10:56:03.351Z"
   },
   {
    "duration": 79,
    "start_time": "2023-03-14T10:56:03.380Z"
   },
   {
    "duration": 23,
    "start_time": "2023-03-14T10:56:03.461Z"
   },
   {
    "duration": 18,
    "start_time": "2023-03-14T10:56:03.486Z"
   },
   {
    "duration": 21,
    "start_time": "2023-03-14T10:56:03.505Z"
   },
   {
    "duration": 45,
    "start_time": "2023-03-14T10:56:03.527Z"
   },
   {
    "duration": 412,
    "start_time": "2023-03-14T10:56:03.574Z"
   },
   {
    "duration": 369,
    "start_time": "2023-03-14T10:56:03.988Z"
   },
   {
    "duration": 26,
    "start_time": "2023-03-14T10:56:04.359Z"
   },
   {
    "duration": 6,
    "start_time": "2023-03-14T10:56:04.387Z"
   },
   {
    "duration": 18,
    "start_time": "2023-03-14T10:56:04.395Z"
   },
   {
    "duration": 489,
    "start_time": "2023-03-14T10:56:04.415Z"
   },
   {
    "duration": 394,
    "start_time": "2023-03-14T10:56:04.906Z"
   },
   {
    "duration": 19,
    "start_time": "2023-03-14T10:56:05.302Z"
   },
   {
    "duration": 33,
    "start_time": "2023-03-14T10:56:05.324Z"
   },
   {
    "duration": 82,
    "start_time": "2023-03-14T10:56:05.360Z"
   },
   {
    "duration": 12,
    "start_time": "2023-03-14T10:56:05.454Z"
   },
   {
    "duration": 55,
    "start_time": "2023-03-14T10:56:05.468Z"
   },
   {
    "duration": 6,
    "start_time": "2023-03-14T10:56:05.525Z"
   },
   {
    "duration": 8,
    "start_time": "2023-03-14T10:56:05.532Z"
   },
   {
    "duration": 3,
    "start_time": "2023-03-14T10:56:05.554Z"
   },
   {
    "duration": 7,
    "start_time": "2023-03-14T10:56:05.559Z"
   },
   {
    "duration": 8,
    "start_time": "2023-03-14T10:56:05.568Z"
   },
   {
    "duration": 356,
    "start_time": "2023-03-14T10:56:05.577Z"
   },
   {
    "duration": 4,
    "start_time": "2023-03-14T10:56:05.935Z"
   },
   {
    "duration": 1933,
    "start_time": "2023-03-14T10:58:01.901Z"
   },
   {
    "duration": 474,
    "start_time": "2023-03-14T10:58:58.277Z"
   },
   {
    "duration": 6,
    "start_time": "2023-03-14T11:00:18.584Z"
   },
   {
    "duration": 890,
    "start_time": "2023-03-14T11:00:18.593Z"
   },
   {
    "duration": 15,
    "start_time": "2023-03-14T11:00:19.485Z"
   },
   {
    "duration": 19,
    "start_time": "2023-03-14T11:00:19.503Z"
   },
   {
    "duration": 10,
    "start_time": "2023-03-14T11:00:19.523Z"
   },
   {
    "duration": 21,
    "start_time": "2023-03-14T11:00:19.534Z"
   },
   {
    "duration": 48,
    "start_time": "2023-03-14T11:00:19.557Z"
   },
   {
    "duration": 328,
    "start_time": "2023-03-14T11:00:19.607Z"
   },
   {
    "duration": 350,
    "start_time": "2023-03-14T11:00:19.938Z"
   },
   {
    "duration": 20,
    "start_time": "2023-03-14T11:00:20.290Z"
   },
   {
    "duration": 28,
    "start_time": "2023-03-14T11:00:20.311Z"
   },
   {
    "duration": 54,
    "start_time": "2023-03-14T11:00:20.340Z"
   },
   {
    "duration": 37,
    "start_time": "2023-03-14T11:00:20.395Z"
   },
   {
    "duration": 33,
    "start_time": "2023-03-14T11:00:20.433Z"
   },
   {
    "duration": 20,
    "start_time": "2023-03-14T11:00:20.468Z"
   },
   {
    "duration": 26,
    "start_time": "2023-03-14T11:00:20.490Z"
   },
   {
    "duration": 65,
    "start_time": "2023-03-14T11:00:20.517Z"
   },
   {
    "duration": 19,
    "start_time": "2023-03-14T11:00:20.583Z"
   },
   {
    "duration": 18,
    "start_time": "2023-03-14T11:00:20.603Z"
   },
   {
    "duration": 70,
    "start_time": "2023-03-14T11:00:20.623Z"
   },
   {
    "duration": 17,
    "start_time": "2023-03-14T11:00:20.695Z"
   },
   {
    "duration": 18,
    "start_time": "2023-03-14T11:00:20.714Z"
   },
   {
    "duration": 71,
    "start_time": "2023-03-14T11:00:20.733Z"
   },
   {
    "duration": 17,
    "start_time": "2023-03-14T11:00:20.808Z"
   },
   {
    "duration": 34,
    "start_time": "2023-03-14T11:00:20.827Z"
   },
   {
    "duration": 40,
    "start_time": "2023-03-14T11:00:20.862Z"
   },
   {
    "duration": 64,
    "start_time": "2023-03-14T11:00:20.904Z"
   },
   {
    "duration": 6,
    "start_time": "2023-03-14T11:00:20.970Z"
   },
   {
    "duration": 409,
    "start_time": "2023-03-14T11:00:20.978Z"
   },
   {
    "duration": 29,
    "start_time": "2023-03-14T11:00:21.389Z"
   },
   {
    "duration": 88,
    "start_time": "2023-03-14T11:00:21.421Z"
   },
   {
    "duration": 22,
    "start_time": "2023-03-14T11:00:21.511Z"
   },
   {
    "duration": 33,
    "start_time": "2023-03-14T11:00:21.535Z"
   },
   {
    "duration": 19,
    "start_time": "2023-03-14T11:00:21.570Z"
   },
   {
    "duration": 12,
    "start_time": "2023-03-14T11:00:21.591Z"
   },
   {
    "duration": 401,
    "start_time": "2023-03-14T11:00:21.604Z"
   },
   {
    "duration": 328,
    "start_time": "2023-03-14T11:00:22.007Z"
   },
   {
    "duration": 40,
    "start_time": "2023-03-14T11:00:22.336Z"
   },
   {
    "duration": 15,
    "start_time": "2023-03-14T11:00:22.378Z"
   },
   {
    "duration": 10,
    "start_time": "2023-03-14T11:00:22.395Z"
   },
   {
    "duration": 411,
    "start_time": "2023-03-14T11:00:22.407Z"
   },
   {
    "duration": 332,
    "start_time": "2023-03-14T11:00:22.821Z"
   },
   {
    "duration": 20,
    "start_time": "2023-03-14T11:00:23.155Z"
   },
   {
    "duration": 13,
    "start_time": "2023-03-14T11:00:23.176Z"
   },
   {
    "duration": 66,
    "start_time": "2023-03-14T11:00:23.191Z"
   },
   {
    "duration": 12,
    "start_time": "2023-03-14T11:00:23.259Z"
   },
   {
    "duration": 41,
    "start_time": "2023-03-14T11:00:23.273Z"
   },
   {
    "duration": 3,
    "start_time": "2023-03-14T11:00:23.316Z"
   },
   {
    "duration": 9,
    "start_time": "2023-03-14T11:00:23.321Z"
   },
   {
    "duration": 3,
    "start_time": "2023-03-14T11:00:23.353Z"
   },
   {
    "duration": 9,
    "start_time": "2023-03-14T11:00:23.358Z"
   },
   {
    "duration": 7,
    "start_time": "2023-03-14T11:00:23.369Z"
   },
   {
    "duration": 1996,
    "start_time": "2023-03-14T11:00:23.378Z"
   },
   {
    "duration": 459,
    "start_time": "2023-03-14T11:00:28.540Z"
   },
   {
    "duration": 538,
    "start_time": "2023-03-14T11:01:08.565Z"
   },
   {
    "duration": 4,
    "start_time": "2023-03-14T11:01:16.875Z"
   },
   {
    "duration": 21,
    "start_time": "2023-03-14T11:01:27.162Z"
   },
   {
    "duration": 22,
    "start_time": "2023-03-14T11:01:28.347Z"
   },
   {
    "duration": 96,
    "start_time": "2023-03-14T11:04:01.629Z"
   },
   {
    "duration": 1579,
    "start_time": "2023-03-14T11:04:11.668Z"
   },
   {
    "duration": 2786,
    "start_time": "2023-03-14T11:04:13.249Z"
   },
   {
    "duration": 21,
    "start_time": "2023-03-14T11:04:16.037Z"
   },
   {
    "duration": 26,
    "start_time": "2023-03-14T11:04:16.059Z"
   },
   {
    "duration": 5,
    "start_time": "2023-03-14T11:04:16.088Z"
   },
   {
    "duration": 7,
    "start_time": "2023-03-14T11:04:16.094Z"
   },
   {
    "duration": 61,
    "start_time": "2023-03-14T11:04:16.103Z"
   },
   {
    "duration": 366,
    "start_time": "2023-03-14T11:04:16.165Z"
   },
   {
    "duration": 423,
    "start_time": "2023-03-14T11:04:16.533Z"
   },
   {
    "duration": 19,
    "start_time": "2023-03-14T11:04:16.958Z"
   },
   {
    "duration": 16,
    "start_time": "2023-03-14T11:04:16.978Z"
   },
   {
    "duration": 61,
    "start_time": "2023-03-14T11:04:16.996Z"
   },
   {
    "duration": 36,
    "start_time": "2023-03-14T11:04:17.059Z"
   },
   {
    "duration": 22,
    "start_time": "2023-03-14T11:04:17.098Z"
   },
   {
    "duration": 38,
    "start_time": "2023-03-14T11:04:17.121Z"
   },
   {
    "duration": 18,
    "start_time": "2023-03-14T11:04:17.160Z"
   },
   {
    "duration": 81,
    "start_time": "2023-03-14T11:04:17.179Z"
   },
   {
    "duration": 20,
    "start_time": "2023-03-14T11:04:17.262Z"
   },
   {
    "duration": 18,
    "start_time": "2023-03-14T11:04:17.283Z"
   },
   {
    "duration": 75,
    "start_time": "2023-03-14T11:04:17.302Z"
   },
   {
    "duration": 17,
    "start_time": "2023-03-14T11:04:17.379Z"
   },
   {
    "duration": 21,
    "start_time": "2023-03-14T11:04:17.398Z"
   },
   {
    "duration": 77,
    "start_time": "2023-03-14T11:04:17.420Z"
   },
   {
    "duration": 17,
    "start_time": "2023-03-14T11:04:17.499Z"
   },
   {
    "duration": 17,
    "start_time": "2023-03-14T11:04:17.518Z"
   },
   {
    "duration": 59,
    "start_time": "2023-03-14T11:04:17.553Z"
   },
   {
    "duration": 54,
    "start_time": "2023-03-14T11:04:17.614Z"
   },
   {
    "duration": 5,
    "start_time": "2023-03-14T11:04:17.670Z"
   },
   {
    "duration": 446,
    "start_time": "2023-03-14T11:04:17.677Z"
   },
   {
    "duration": 33,
    "start_time": "2023-03-14T11:04:18.126Z"
   },
   {
    "duration": 52,
    "start_time": "2023-03-14T11:04:18.160Z"
   },
   {
    "duration": 23,
    "start_time": "2023-03-14T11:04:18.215Z"
   },
   {
    "duration": 29,
    "start_time": "2023-03-14T11:04:18.240Z"
   },
   {
    "duration": 19,
    "start_time": "2023-03-14T11:04:18.271Z"
   },
   {
    "duration": 7,
    "start_time": "2023-03-14T11:04:18.292Z"
   },
   {
    "duration": 418,
    "start_time": "2023-03-14T11:04:18.301Z"
   },
   {
    "duration": 312,
    "start_time": "2023-03-14T11:04:18.721Z"
   },
   {
    "duration": 34,
    "start_time": "2023-03-14T11:04:19.035Z"
   },
   {
    "duration": 5,
    "start_time": "2023-03-14T11:04:19.070Z"
   },
   {
    "duration": 13,
    "start_time": "2023-03-14T11:04:19.076Z"
   },
   {
    "duration": 387,
    "start_time": "2023-03-14T11:04:19.092Z"
   },
   {
    "duration": 396,
    "start_time": "2023-03-14T11:04:19.481Z"
   },
   {
    "duration": 21,
    "start_time": "2023-03-14T11:04:19.879Z"
   },
   {
    "duration": 12,
    "start_time": "2023-03-14T11:04:19.902Z"
   },
   {
    "duration": 63,
    "start_time": "2023-03-14T11:04:19.916Z"
   },
   {
    "duration": 10,
    "start_time": "2023-03-14T11:04:19.981Z"
   },
   {
    "duration": 44,
    "start_time": "2023-03-14T11:04:19.993Z"
   },
   {
    "duration": 4,
    "start_time": "2023-03-14T11:04:20.054Z"
   },
   {
    "duration": 7,
    "start_time": "2023-03-14T11:04:20.059Z"
   },
   {
    "duration": 11,
    "start_time": "2023-03-14T11:04:20.068Z"
   },
   {
    "duration": 7,
    "start_time": "2023-03-14T11:04:20.081Z"
   },
   {
    "duration": 10,
    "start_time": "2023-03-14T11:04:20.090Z"
   },
   {
    "duration": 2197,
    "start_time": "2023-03-14T11:04:20.102Z"
   },
   {
    "duration": 486,
    "start_time": "2023-03-14T11:04:22.301Z"
   },
   {
    "duration": 4,
    "start_time": "2023-03-14T11:04:22.788Z"
   },
   {
    "duration": 40,
    "start_time": "2023-03-14T11:04:22.794Z"
   },
   {
    "duration": 49,
    "start_time": "2023-03-14T11:04:22.836Z"
   },
   {
    "duration": 19,
    "start_time": "2023-03-14T11:04:22.887Z"
   },
   {
    "duration": 4,
    "start_time": "2023-03-14T11:04:22.908Z"
   },
   {
    "duration": 9,
    "start_time": "2023-03-14T11:04:22.914Z"
   },
   {
    "duration": 7,
    "start_time": "2023-03-14T11:04:22.925Z"
   },
   {
    "duration": 574,
    "start_time": "2023-03-14T11:04:22.934Z"
   },
   {
    "duration": 83,
    "start_time": "2023-03-14T11:04:23.510Z"
   },
   {
    "duration": 596,
    "start_time": "2023-03-14T11:05:53.609Z"
   },
   {
    "duration": 3,
    "start_time": "2023-03-14T11:05:54.321Z"
   },
   {
    "duration": 342,
    "start_time": "2023-03-14T11:06:01.546Z"
   },
   {
    "duration": 80,
    "start_time": "2023-03-14T11:06:04.329Z"
   },
   {
    "duration": 2292,
    "start_time": "2023-03-14T11:06:27.772Z"
   },
   {
    "duration": 664,
    "start_time": "2023-03-14T11:06:30.066Z"
   },
   {
    "duration": 4,
    "start_time": "2023-03-14T11:06:34.889Z"
   },
   {
    "duration": 21,
    "start_time": "2023-03-14T11:06:35.896Z"
   },
   {
    "duration": 12075,
    "start_time": "2023-03-14T11:06:45.744Z"
   },
   {
    "duration": 70615,
    "start_time": "2023-03-14T11:07:34.747Z"
   },
   {
    "duration": 16,
    "start_time": "2023-03-14T11:14:17.823Z"
   },
   {
    "duration": 132,
    "start_time": "2023-03-14T11:16:51.961Z"
   },
   {
    "duration": 3,
    "start_time": "2023-03-14T11:16:59.924Z"
   },
   {
    "duration": 14867,
    "start_time": "2023-03-14T11:17:05.589Z"
   },
   {
    "duration": 75242,
    "start_time": "2023-03-14T11:17:23.932Z"
   },
   {
    "duration": 343,
    "start_time": "2023-03-14T11:22:40.228Z"
   },
   {
    "duration": 5,
    "start_time": "2023-03-14T11:22:43.794Z"
   },
   {
    "duration": 5,
    "start_time": "2023-03-14T11:22:46.409Z"
   },
   {
    "duration": 52,
    "start_time": "2023-03-14T11:22:48.241Z"
   },
   {
    "duration": 51,
    "start_time": "2023-03-14T11:22:52.079Z"
   },
   {
    "duration": 4,
    "start_time": "2023-03-14T11:22:52.640Z"
   },
   {
    "duration": 376,
    "start_time": "2023-03-14T11:23:01.560Z"
   },
   {
    "duration": 21545,
    "start_time": "2023-03-14T11:23:04.408Z"
   },
   {
    "duration": 59246,
    "start_time": "2023-03-14T11:23:30.409Z"
   },
   {
    "duration": 5,
    "start_time": "2023-03-14T11:25:27.063Z"
   },
   {
    "duration": 825,
    "start_time": "2023-03-14T11:25:27.070Z"
   },
   {
    "duration": 16,
    "start_time": "2023-03-14T11:25:27.897Z"
   },
   {
    "duration": 29,
    "start_time": "2023-03-14T11:25:27.915Z"
   },
   {
    "duration": 8,
    "start_time": "2023-03-14T11:25:27.946Z"
   },
   {
    "duration": 14,
    "start_time": "2023-03-14T11:25:27.956Z"
   },
   {
    "duration": 44,
    "start_time": "2023-03-14T11:25:27.972Z"
   },
   {
    "duration": 312,
    "start_time": "2023-03-14T11:25:28.018Z"
   },
   {
    "duration": 325,
    "start_time": "2023-03-14T11:25:28.333Z"
   },
   {
    "duration": 19,
    "start_time": "2023-03-14T11:25:28.660Z"
   },
   {
    "duration": 16,
    "start_time": "2023-03-14T11:25:28.681Z"
   },
   {
    "duration": 69,
    "start_time": "2023-03-14T11:25:28.699Z"
   },
   {
    "duration": 36,
    "start_time": "2023-03-14T11:25:28.770Z"
   },
   {
    "duration": 20,
    "start_time": "2023-03-14T11:25:28.809Z"
   },
   {
    "duration": 38,
    "start_time": "2023-03-14T11:25:28.830Z"
   },
   {
    "duration": 15,
    "start_time": "2023-03-14T11:25:28.870Z"
   },
   {
    "duration": 70,
    "start_time": "2023-03-14T11:25:28.887Z"
   },
   {
    "duration": 20,
    "start_time": "2023-03-14T11:25:28.959Z"
   },
   {
    "duration": 25,
    "start_time": "2023-03-14T11:25:28.981Z"
   },
   {
    "duration": 68,
    "start_time": "2023-03-14T11:25:29.008Z"
   },
   {
    "duration": 18,
    "start_time": "2023-03-14T11:25:29.078Z"
   },
   {
    "duration": 20,
    "start_time": "2023-03-14T11:25:29.098Z"
   },
   {
    "duration": 69,
    "start_time": "2023-03-14T11:25:29.120Z"
   },
   {
    "duration": 16,
    "start_time": "2023-03-14T11:25:29.191Z"
   },
   {
    "duration": 26,
    "start_time": "2023-03-14T11:25:29.209Z"
   },
   {
    "duration": 47,
    "start_time": "2023-03-14T11:25:29.237Z"
   },
   {
    "duration": 68,
    "start_time": "2023-03-14T11:25:29.286Z"
   },
   {
    "duration": 6,
    "start_time": "2023-03-14T11:25:29.356Z"
   },
   {
    "duration": 478,
    "start_time": "2023-03-14T11:25:29.363Z"
   },
   {
    "duration": 36,
    "start_time": "2023-03-14T11:25:29.843Z"
   },
   {
    "duration": 55,
    "start_time": "2023-03-14T11:25:29.880Z"
   },
   {
    "duration": 38,
    "start_time": "2023-03-14T11:25:29.937Z"
   },
   {
    "duration": 19,
    "start_time": "2023-03-14T11:25:29.978Z"
   },
   {
    "duration": 35,
    "start_time": "2023-03-14T11:25:29.999Z"
   },
   {
    "duration": 8,
    "start_time": "2023-03-14T11:25:30.052Z"
   },
   {
    "duration": 459,
    "start_time": "2023-03-14T11:25:30.062Z"
   },
   {
    "duration": 373,
    "start_time": "2023-03-14T11:25:30.524Z"
   },
   {
    "duration": 27,
    "start_time": "2023-03-14T11:25:30.899Z"
   },
   {
    "duration": 27,
    "start_time": "2023-03-14T11:25:30.928Z"
   },
   {
    "duration": 39,
    "start_time": "2023-03-14T11:25:30.957Z"
   },
   {
    "duration": 389,
    "start_time": "2023-03-14T11:25:30.999Z"
   },
   {
    "duration": 350,
    "start_time": "2023-03-14T11:25:31.390Z"
   },
   {
    "duration": 33,
    "start_time": "2023-03-14T11:25:31.742Z"
   },
   {
    "duration": 12,
    "start_time": "2023-03-14T11:25:31.777Z"
   },
   {
    "duration": 50,
    "start_time": "2023-03-14T11:25:31.791Z"
   },
   {
    "duration": 13,
    "start_time": "2023-03-14T11:25:31.853Z"
   },
   {
    "duration": 43,
    "start_time": "2023-03-14T11:25:31.868Z"
   },
   {
    "duration": 4,
    "start_time": "2023-03-14T11:25:31.913Z"
   },
   {
    "duration": 13,
    "start_time": "2023-03-14T11:25:31.919Z"
   },
   {
    "duration": 10,
    "start_time": "2023-03-14T11:25:31.953Z"
   },
   {
    "duration": 58,
    "start_time": "2023-03-14T11:25:31.965Z"
   },
   {
    "duration": 12,
    "start_time": "2023-03-14T11:25:32.025Z"
   },
   {
    "duration": 395,
    "start_time": "2023-03-14T11:25:32.039Z"
   },
   {
    "duration": 3,
    "start_time": "2023-03-14T11:25:32.437Z"
   },
   {
    "duration": 29,
    "start_time": "2023-03-14T11:25:32.442Z"
   },
   {
    "duration": 5,
    "start_time": "2023-03-14T11:25:36.331Z"
   },
   {
    "duration": 51,
    "start_time": "2023-03-14T11:25:37.263Z"
   },
   {
    "duration": 52,
    "start_time": "2023-03-14T11:25:41.823Z"
   },
   {
    "duration": 4,
    "start_time": "2023-03-14T11:25:42.258Z"
   },
   {
    "duration": 5,
    "start_time": "2023-03-14T11:26:08.362Z"
   },
   {
    "duration": 833,
    "start_time": "2023-03-14T11:26:08.369Z"
   },
   {
    "duration": 16,
    "start_time": "2023-03-14T11:26:09.204Z"
   },
   {
    "duration": 33,
    "start_time": "2023-03-14T11:26:09.222Z"
   },
   {
    "duration": 6,
    "start_time": "2023-03-14T11:26:09.259Z"
   },
   {
    "duration": 7,
    "start_time": "2023-03-14T11:26:09.268Z"
   },
   {
    "duration": 76,
    "start_time": "2023-03-14T11:26:09.277Z"
   },
   {
    "duration": 334,
    "start_time": "2023-03-14T11:26:09.356Z"
   },
   {
    "duration": 358,
    "start_time": "2023-03-14T11:26:09.692Z"
   },
   {
    "duration": 22,
    "start_time": "2023-03-14T11:26:10.054Z"
   },
   {
    "duration": 18,
    "start_time": "2023-03-14T11:26:10.080Z"
   },
   {
    "duration": 90,
    "start_time": "2023-03-14T11:26:10.100Z"
   },
   {
    "duration": 64,
    "start_time": "2023-03-14T11:26:10.191Z"
   },
   {
    "duration": 22,
    "start_time": "2023-03-14T11:26:10.256Z"
   },
   {
    "duration": 18,
    "start_time": "2023-03-14T11:26:10.280Z"
   },
   {
    "duration": 17,
    "start_time": "2023-03-14T11:26:10.299Z"
   },
   {
    "duration": 80,
    "start_time": "2023-03-14T11:26:10.319Z"
   },
   {
    "duration": 22,
    "start_time": "2023-03-14T11:26:10.401Z"
   },
   {
    "duration": 30,
    "start_time": "2023-03-14T11:26:10.425Z"
   },
   {
    "duration": 52,
    "start_time": "2023-03-14T11:26:10.457Z"
   },
   {
    "duration": 17,
    "start_time": "2023-03-14T11:26:10.511Z"
   },
   {
    "duration": 33,
    "start_time": "2023-03-14T11:26:10.529Z"
   },
   {
    "duration": 57,
    "start_time": "2023-03-14T11:26:10.565Z"
   },
   {
    "duration": 35,
    "start_time": "2023-03-14T11:26:10.624Z"
   },
   {
    "duration": 19,
    "start_time": "2023-03-14T11:26:10.661Z"
   },
   {
    "duration": 30,
    "start_time": "2023-03-14T11:26:10.682Z"
   },
   {
    "duration": 78,
    "start_time": "2023-03-14T11:26:10.713Z"
   },
   {
    "duration": 6,
    "start_time": "2023-03-14T11:26:10.792Z"
   },
   {
    "duration": 390,
    "start_time": "2023-03-14T11:26:10.802Z"
   },
   {
    "duration": 28,
    "start_time": "2023-03-14T11:26:11.194Z"
   },
   {
    "duration": 71,
    "start_time": "2023-03-14T11:26:11.224Z"
   },
   {
    "duration": 23,
    "start_time": "2023-03-14T11:26:11.298Z"
   },
   {
    "duration": 41,
    "start_time": "2023-03-14T11:26:11.324Z"
   },
   {
    "duration": 20,
    "start_time": "2023-03-14T11:26:11.367Z"
   },
   {
    "duration": 7,
    "start_time": "2023-03-14T11:26:11.389Z"
   },
   {
    "duration": 419,
    "start_time": "2023-03-14T11:26:11.399Z"
   },
   {
    "duration": 313,
    "start_time": "2023-03-14T11:26:11.820Z"
   },
   {
    "duration": 33,
    "start_time": "2023-03-14T11:26:12.135Z"
   },
   {
    "duration": 5,
    "start_time": "2023-03-14T11:26:12.170Z"
   },
   {
    "duration": 10,
    "start_time": "2023-03-14T11:26:12.176Z"
   },
   {
    "duration": 423,
    "start_time": "2023-03-14T11:26:12.188Z"
   },
   {
    "duration": 436,
    "start_time": "2023-03-14T11:26:12.613Z"
   },
   {
    "duration": 19,
    "start_time": "2023-03-14T11:26:13.053Z"
   },
   {
    "duration": 13,
    "start_time": "2023-03-14T11:26:13.074Z"
   },
   {
    "duration": 105,
    "start_time": "2023-03-14T11:26:13.090Z"
   },
   {
    "duration": 15,
    "start_time": "2023-03-14T11:26:13.198Z"
   },
   {
    "duration": 64,
    "start_time": "2023-03-14T11:26:13.215Z"
   },
   {
    "duration": 5,
    "start_time": "2023-03-14T11:26:13.281Z"
   },
   {
    "duration": 6,
    "start_time": "2023-03-14T11:26:13.288Z"
   },
   {
    "duration": 4,
    "start_time": "2023-03-14T11:26:13.295Z"
   },
   {
    "duration": 74,
    "start_time": "2023-03-14T11:26:13.301Z"
   },
   {
    "duration": 5,
    "start_time": "2023-03-14T11:26:13.377Z"
   },
   {
    "duration": 415,
    "start_time": "2023-03-14T11:26:13.384Z"
   },
   {
    "duration": 6,
    "start_time": "2023-03-14T11:26:13.800Z"
   },
   {
    "duration": 13,
    "start_time": "2023-03-14T11:26:13.808Z"
   },
   {
    "duration": 64,
    "start_time": "2023-03-14T11:26:13.823Z"
   },
   {
    "duration": 44,
    "start_time": "2023-03-14T11:26:13.890Z"
   },
   {
    "duration": 20,
    "start_time": "2023-03-14T11:26:13.936Z"
   },
   {
    "duration": 7,
    "start_time": "2023-03-14T11:26:13.958Z"
   },
   {
    "duration": 3,
    "start_time": "2023-03-14T11:26:13.968Z"
   },
   {
    "duration": 8,
    "start_time": "2023-03-14T11:26:13.973Z"
   },
   {
    "duration": 7,
    "start_time": "2023-03-14T11:26:13.983Z"
   },
   {
    "duration": 638,
    "start_time": "2023-03-14T11:26:13.992Z"
   },
   {
    "duration": 4,
    "start_time": "2023-03-14T11:26:14.632Z"
   },
   {
    "duration": 375,
    "start_time": "2023-03-14T11:26:14.638Z"
   },
   {
    "duration": 15544,
    "start_time": "2023-03-14T11:26:15.015Z"
   },
   {
    "duration": 74500,
    "start_time": "2023-03-14T11:26:30.562Z"
   },
   {
    "duration": 13,
    "start_time": "2023-03-14T11:30:20.080Z"
   },
   {
    "duration": 4,
    "start_time": "2023-03-14T11:30:36.716Z"
   },
   {
    "duration": 11895,
    "start_time": "2023-03-14T11:30:37.341Z"
   },
   {
    "duration": 48098,
    "start_time": "2023-03-14T11:30:51.306Z"
   },
   {
    "duration": 34,
    "start_time": "2023-03-14T11:31:47.773Z"
   },
   {
    "duration": 4,
    "start_time": "2023-03-14T11:31:50.561Z"
   },
   {
    "duration": 3,
    "start_time": "2023-03-14T11:31:51.915Z"
   },
   {
    "duration": 19333,
    "start_time": "2023-03-14T11:31:52.757Z"
   },
   {
    "duration": 120,
    "start_time": "2023-03-14T11:32:22.214Z"
   },
   {
    "duration": 169747,
    "start_time": "2023-03-14T11:32:23.013Z"
   },
   {
    "duration": 7,
    "start_time": "2023-03-14T11:35:22.027Z"
   },
   {
    "duration": 13,
    "start_time": "2023-03-14T11:35:25.827Z"
   },
   {
    "duration": 9399,
    "start_time": "2023-03-14T11:41:27.109Z"
   },
   {
    "duration": 1746,
    "start_time": "2023-03-14T11:48:38.457Z"
   },
   {
    "duration": 1006,
    "start_time": "2023-03-14T11:48:40.207Z"
   },
   {
    "duration": 43,
    "start_time": "2023-03-14T11:48:41.215Z"
   },
   {
    "duration": 24,
    "start_time": "2023-03-14T11:48:41.260Z"
   },
   {
    "duration": 14,
    "start_time": "2023-03-14T11:48:41.286Z"
   },
   {
    "duration": 20,
    "start_time": "2023-03-14T11:48:41.302Z"
   },
   {
    "duration": 54,
    "start_time": "2023-03-14T11:48:41.324Z"
   },
   {
    "duration": 352,
    "start_time": "2023-03-14T11:48:41.380Z"
   },
   {
    "duration": 403,
    "start_time": "2023-03-14T11:48:41.734Z"
   },
   {
    "duration": 22,
    "start_time": "2023-03-14T11:48:42.138Z"
   },
   {
    "duration": 22,
    "start_time": "2023-03-14T11:48:42.161Z"
   },
   {
    "duration": 73,
    "start_time": "2023-03-14T11:48:42.186Z"
   },
   {
    "duration": 43,
    "start_time": "2023-03-14T11:48:42.261Z"
   },
   {
    "duration": 53,
    "start_time": "2023-03-14T11:48:42.307Z"
   },
   {
    "duration": 21,
    "start_time": "2023-03-14T11:48:42.362Z"
   },
   {
    "duration": 15,
    "start_time": "2023-03-14T11:48:42.385Z"
   },
   {
    "duration": 89,
    "start_time": "2023-03-14T11:48:42.402Z"
   },
   {
    "duration": 36,
    "start_time": "2023-03-14T11:48:42.493Z"
   },
   {
    "duration": 40,
    "start_time": "2023-03-14T11:48:42.532Z"
   },
   {
    "duration": 58,
    "start_time": "2023-03-14T11:48:42.574Z"
   },
   {
    "duration": 33,
    "start_time": "2023-03-14T11:48:42.634Z"
   },
   {
    "duration": 17,
    "start_time": "2023-03-14T11:48:42.669Z"
   },
   {
    "duration": 78,
    "start_time": "2023-03-14T11:48:42.689Z"
   },
   {
    "duration": 19,
    "start_time": "2023-03-14T11:48:42.769Z"
   },
   {
    "duration": 21,
    "start_time": "2023-03-14T11:48:42.790Z"
   },
   {
    "duration": 67,
    "start_time": "2023-03-14T11:48:42.813Z"
   },
   {
    "duration": 117,
    "start_time": "2023-03-14T11:48:42.883Z"
   },
   {
    "duration": 9,
    "start_time": "2023-03-14T11:48:43.003Z"
   },
   {
    "duration": 505,
    "start_time": "2023-03-14T11:48:43.015Z"
   },
   {
    "duration": 36,
    "start_time": "2023-03-14T11:48:43.522Z"
   },
   {
    "duration": 55,
    "start_time": "2023-03-14T11:48:43.560Z"
   },
   {
    "duration": 44,
    "start_time": "2023-03-14T11:48:43.617Z"
   },
   {
    "duration": 20,
    "start_time": "2023-03-14T11:48:43.663Z"
   },
   {
    "duration": 32,
    "start_time": "2023-03-14T11:48:43.684Z"
   },
   {
    "duration": 8,
    "start_time": "2023-03-14T11:48:43.718Z"
   },
   {
    "duration": 528,
    "start_time": "2023-03-14T11:48:43.728Z"
   },
   {
    "duration": 349,
    "start_time": "2023-03-14T11:48:44.259Z"
   },
   {
    "duration": 28,
    "start_time": "2023-03-14T11:48:44.609Z"
   },
   {
    "duration": 17,
    "start_time": "2023-03-14T11:48:44.638Z"
   },
   {
    "duration": 10,
    "start_time": "2023-03-14T11:48:44.657Z"
   },
   {
    "duration": 444,
    "start_time": "2023-03-14T11:48:44.672Z"
   },
   {
    "duration": 464,
    "start_time": "2023-03-14T11:48:45.118Z"
   },
   {
    "duration": 24,
    "start_time": "2023-03-14T11:48:45.585Z"
   },
   {
    "duration": 14,
    "start_time": "2023-03-14T11:48:45.610Z"
   },
   {
    "duration": 67,
    "start_time": "2023-03-14T11:48:45.625Z"
   },
   {
    "duration": 11,
    "start_time": "2023-03-14T11:48:45.695Z"
   },
   {
    "duration": 73,
    "start_time": "2023-03-14T11:48:45.708Z"
   },
   {
    "duration": 5,
    "start_time": "2023-03-14T11:48:45.783Z"
   },
   {
    "duration": 7,
    "start_time": "2023-03-14T11:48:45.791Z"
   },
   {
    "duration": 14,
    "start_time": "2023-03-14T11:48:45.801Z"
   },
   {
    "duration": 60,
    "start_time": "2023-03-14T11:48:45.817Z"
   },
   {
    "duration": 4,
    "start_time": "2023-03-14T11:48:45.879Z"
   },
   {
    "duration": 368,
    "start_time": "2023-03-14T11:48:45.886Z"
   },
   {
    "duration": 4,
    "start_time": "2023-03-14T11:48:46.256Z"
   },
   {
    "duration": 7,
    "start_time": "2023-03-14T11:48:46.262Z"
   },
   {
    "duration": 83,
    "start_time": "2023-03-14T11:48:46.271Z"
   },
   {
    "duration": 55,
    "start_time": "2023-03-14T11:48:46.356Z"
   },
   {
    "duration": 4,
    "start_time": "2023-03-14T11:48:46.412Z"
   },
   {
    "duration": 48,
    "start_time": "2023-03-14T11:48:46.419Z"
   },
   {
    "duration": 160,
    "start_time": "2023-03-14T11:48:46.469Z"
   },
   {
    "duration": 6,
    "start_time": "2023-03-14T11:48:46.632Z"
   },
   {
    "duration": 5,
    "start_time": "2023-03-14T11:48:46.640Z"
   },
   {
    "duration": 583,
    "start_time": "2023-03-14T11:48:46.647Z"
   },
   {
    "duration": 5,
    "start_time": "2023-03-14T11:48:47.231Z"
   },
   {
    "duration": 385,
    "start_time": "2023-03-14T11:48:47.238Z"
   },
   {
    "duration": 22832,
    "start_time": "2023-03-14T11:48:47.625Z"
   },
   {
    "duration": 68895,
    "start_time": "2023-03-14T11:49:10.463Z"
   },
   {
    "duration": 4,
    "start_time": "2023-03-14T11:50:19.360Z"
   },
   {
    "duration": 12678,
    "start_time": "2023-03-14T11:50:19.366Z"
   },
   {
    "duration": 47661,
    "start_time": "2023-03-14T11:50:32.046Z"
   },
   {
    "duration": 48,
    "start_time": "2023-03-14T11:51:19.709Z"
   },
   {
    "duration": 4,
    "start_time": "2023-03-14T11:51:19.759Z"
   },
   {
    "duration": 7,
    "start_time": "2023-03-14T11:51:19.765Z"
   },
   {
    "duration": 19508,
    "start_time": "2023-03-14T11:51:19.774Z"
   },
   {
    "duration": 127,
    "start_time": "2023-03-14T11:51:39.284Z"
   },
   {
    "duration": 4352,
    "start_time": "2023-03-14T11:51:39.413Z"
   },
   {
    "duration": 9,
    "start_time": "2023-03-14T11:51:43.767Z"
   },
   {
    "duration": 12,
    "start_time": "2023-03-14T11:51:43.778Z"
   },
   {
    "duration": 8971,
    "start_time": "2023-03-14T11:51:43.792Z"
   },
   {
    "duration": 3115,
    "start_time": "2023-03-14T11:52:53.250Z"
   },
   {
    "duration": 1666,
    "start_time": "2023-03-14T11:58:38.617Z"
   },
   {
    "duration": 865,
    "start_time": "2023-03-14T11:58:40.285Z"
   },
   {
    "duration": 28,
    "start_time": "2023-03-14T11:58:41.153Z"
   },
   {
    "duration": 28,
    "start_time": "2023-03-14T11:58:41.183Z"
   },
   {
    "duration": 7,
    "start_time": "2023-03-14T11:58:41.212Z"
   },
   {
    "duration": 7,
    "start_time": "2023-03-14T11:58:41.220Z"
   },
   {
    "duration": 41,
    "start_time": "2023-03-14T11:58:41.254Z"
   },
   {
    "duration": 376,
    "start_time": "2023-03-14T11:58:41.297Z"
   },
   {
    "duration": 400,
    "start_time": "2023-03-14T11:58:41.675Z"
   },
   {
    "duration": 20,
    "start_time": "2023-03-14T11:58:42.079Z"
   },
   {
    "duration": 28,
    "start_time": "2023-03-14T11:58:42.101Z"
   },
   {
    "duration": 49,
    "start_time": "2023-03-14T11:58:42.130Z"
   },
   {
    "duration": 37,
    "start_time": "2023-03-14T11:58:42.181Z"
   },
   {
    "duration": 41,
    "start_time": "2023-03-14T11:58:42.220Z"
   },
   {
    "duration": 21,
    "start_time": "2023-03-14T11:58:42.263Z"
   },
   {
    "duration": 19,
    "start_time": "2023-03-14T11:58:42.286Z"
   },
   {
    "duration": 101,
    "start_time": "2023-03-14T11:58:42.307Z"
   },
   {
    "duration": 21,
    "start_time": "2023-03-14T11:58:42.410Z"
   },
   {
    "duration": 34,
    "start_time": "2023-03-14T11:58:42.433Z"
   },
   {
    "duration": 56,
    "start_time": "2023-03-14T11:58:42.469Z"
   },
   {
    "duration": 28,
    "start_time": "2023-03-14T11:58:42.527Z"
   },
   {
    "duration": 17,
    "start_time": "2023-03-14T11:58:42.557Z"
   },
   {
    "duration": 49,
    "start_time": "2023-03-14T11:58:42.575Z"
   },
   {
    "duration": 39,
    "start_time": "2023-03-14T11:58:42.626Z"
   },
   {
    "duration": 14,
    "start_time": "2023-03-14T11:58:42.667Z"
   },
   {
    "duration": 32,
    "start_time": "2023-03-14T11:58:42.683Z"
   },
   {
    "duration": 73,
    "start_time": "2023-03-14T11:58:42.716Z"
   },
   {
    "duration": 6,
    "start_time": "2023-03-14T11:58:42.795Z"
   },
   {
    "duration": 444,
    "start_time": "2023-03-14T11:58:42.803Z"
   },
   {
    "duration": 29,
    "start_time": "2023-03-14T11:58:43.249Z"
   },
   {
    "duration": 52,
    "start_time": "2023-03-14T11:58:43.280Z"
   },
   {
    "duration": 38,
    "start_time": "2023-03-14T11:58:43.334Z"
   },
   {
    "duration": 19,
    "start_time": "2023-03-14T11:58:43.373Z"
   },
   {
    "duration": 20,
    "start_time": "2023-03-14T11:58:43.394Z"
   },
   {
    "duration": 38,
    "start_time": "2023-03-14T11:58:43.416Z"
   },
   {
    "duration": 390,
    "start_time": "2023-03-14T11:58:43.456Z"
   },
   {
    "duration": 447,
    "start_time": "2023-03-14T11:58:43.854Z"
   },
   {
    "duration": 28,
    "start_time": "2023-03-14T11:58:44.303Z"
   },
   {
    "duration": 21,
    "start_time": "2023-03-14T11:58:44.333Z"
   },
   {
    "duration": 11,
    "start_time": "2023-03-14T11:58:44.357Z"
   },
   {
    "duration": 494,
    "start_time": "2023-03-14T11:58:44.370Z"
   },
   {
    "duration": 344,
    "start_time": "2023-03-14T11:58:44.866Z"
   },
   {
    "duration": 19,
    "start_time": "2023-03-14T11:58:45.212Z"
   },
   {
    "duration": 25,
    "start_time": "2023-03-14T11:58:45.233Z"
   },
   {
    "duration": 53,
    "start_time": "2023-03-14T11:58:45.260Z"
   },
   {
    "duration": 11,
    "start_time": "2023-03-14T11:58:45.315Z"
   },
   {
    "duration": 60,
    "start_time": "2023-03-14T11:58:45.328Z"
   },
   {
    "duration": 5,
    "start_time": "2023-03-14T11:58:45.389Z"
   },
   {
    "duration": 13,
    "start_time": "2023-03-14T11:58:45.396Z"
   },
   {
    "duration": 18,
    "start_time": "2023-03-14T11:58:45.411Z"
   },
   {
    "duration": 74,
    "start_time": "2023-03-14T11:58:45.431Z"
   },
   {
    "duration": 4,
    "start_time": "2023-03-14T11:58:45.507Z"
   },
   {
    "duration": 401,
    "start_time": "2023-03-14T11:58:45.513Z"
   },
   {
    "duration": 4,
    "start_time": "2023-03-14T11:58:45.916Z"
   },
   {
    "duration": 7,
    "start_time": "2023-03-14T11:58:45.922Z"
   },
   {
    "duration": 66,
    "start_time": "2023-03-14T11:58:45.932Z"
   },
   {
    "duration": 61,
    "start_time": "2023-03-14T11:58:46.001Z"
   },
   {
    "duration": 4,
    "start_time": "2023-03-14T11:58:46.064Z"
   },
   {
    "duration": 7,
    "start_time": "2023-03-14T11:58:46.069Z"
   },
   {
    "duration": 3,
    "start_time": "2023-03-14T11:58:46.078Z"
   },
   {
    "duration": 8,
    "start_time": "2023-03-14T11:58:46.083Z"
   },
   {
    "duration": 4,
    "start_time": "2023-03-14T11:58:46.093Z"
   },
   {
    "duration": 562,
    "start_time": "2023-03-14T11:58:46.099Z"
   },
   {
    "duration": 4,
    "start_time": "2023-03-14T11:58:46.663Z"
   },
   {
    "duration": 381,
    "start_time": "2023-03-14T11:58:46.669Z"
   },
   {
    "duration": 14206,
    "start_time": "2023-03-14T11:58:47.053Z"
   },
   {
    "duration": 65492,
    "start_time": "2023-03-14T11:59:01.261Z"
   },
   {
    "duration": 4,
    "start_time": "2023-03-14T12:00:06.755Z"
   },
   {
    "duration": 11722,
    "start_time": "2023-03-14T12:00:06.760Z"
   },
   {
    "duration": 46831,
    "start_time": "2023-03-14T12:00:18.484Z"
   },
   {
    "duration": 40,
    "start_time": "2023-03-14T12:01:05.317Z"
   },
   {
    "duration": 4,
    "start_time": "2023-03-14T12:01:05.359Z"
   },
   {
    "duration": 7,
    "start_time": "2023-03-14T12:01:05.364Z"
   },
   {
    "duration": 19474,
    "start_time": "2023-03-14T12:01:05.373Z"
   },
   {
    "duration": 107,
    "start_time": "2023-03-14T12:01:24.848Z"
   },
   {
    "duration": 51605,
    "start_time": "2023-03-14T12:01:24.957Z"
   },
   {
    "duration": 10,
    "start_time": "2023-03-14T12:02:16.564Z"
   },
   {
    "duration": 17,
    "start_time": "2023-03-14T12:02:16.576Z"
   },
   {
    "duration": 8972,
    "start_time": "2023-03-14T12:02:16.595Z"
   },
   {
    "duration": 4099,
    "start_time": "2023-03-14T12:02:25.569Z"
   },
   {
    "duration": 93,
    "start_time": "2023-05-26T16:32:31.007Z"
   },
   {
    "duration": 1671,
    "start_time": "2023-06-29T07:13:56.009Z"
   },
   {
    "duration": 1150,
    "start_time": "2023-06-29T07:13:57.682Z"
   },
   {
    "duration": 18,
    "start_time": "2023-06-29T07:13:58.833Z"
   },
   {
    "duration": 31,
    "start_time": "2023-06-29T07:13:58.853Z"
   },
   {
    "duration": 12,
    "start_time": "2023-06-29T07:13:58.886Z"
   },
   {
    "duration": 35,
    "start_time": "2023-06-29T07:13:58.899Z"
   },
   {
    "duration": 41,
    "start_time": "2023-06-29T07:13:58.935Z"
   },
   {
    "duration": 343,
    "start_time": "2023-06-29T07:13:58.978Z"
   },
   {
    "duration": 455,
    "start_time": "2023-06-29T07:13:59.323Z"
   },
   {
    "duration": 28,
    "start_time": "2023-06-29T07:13:59.780Z"
   },
   {
    "duration": 71,
    "start_time": "2023-06-29T07:13:59.809Z"
   },
   {
    "duration": 110,
    "start_time": "2023-06-29T07:13:59.886Z"
   },
   {
    "duration": 45,
    "start_time": "2023-06-29T07:13:59.997Z"
   },
   {
    "duration": 47,
    "start_time": "2023-06-29T07:14:00.046Z"
   },
   {
    "duration": 92,
    "start_time": "2023-06-29T07:14:00.095Z"
   },
   {
    "duration": 54,
    "start_time": "2023-06-29T07:14:00.188Z"
   },
   {
    "duration": 155,
    "start_time": "2023-06-29T07:14:00.244Z"
   },
   {
    "duration": 31,
    "start_time": "2023-06-29T07:14:00.410Z"
   },
   {
    "duration": 87,
    "start_time": "2023-06-29T07:14:00.442Z"
   },
   {
    "duration": 151,
    "start_time": "2023-06-29T07:14:00.531Z"
   },
   {
    "duration": 31,
    "start_time": "2023-06-29T07:14:00.684Z"
   },
   {
    "duration": 68,
    "start_time": "2023-06-29T07:14:00.717Z"
   },
   {
    "duration": 107,
    "start_time": "2023-06-29T07:14:00.786Z"
   },
   {
    "duration": 124,
    "start_time": "2023-06-29T07:14:00.895Z"
   },
   {
    "duration": 60,
    "start_time": "2023-06-29T07:14:01.020Z"
   },
   {
    "duration": 76,
    "start_time": "2023-06-29T07:14:01.082Z"
   },
   {
    "duration": 111,
    "start_time": "2023-06-29T07:14:01.159Z"
   },
   {
    "duration": 101,
    "start_time": "2023-06-29T07:14:01.272Z"
   },
   {
    "duration": 500,
    "start_time": "2023-06-29T07:14:01.374Z"
   },
   {
    "duration": 37,
    "start_time": "2023-06-29T07:14:01.876Z"
   },
   {
    "duration": 102,
    "start_time": "2023-06-29T07:14:01.916Z"
   },
   {
    "duration": 43,
    "start_time": "2023-06-29T07:14:02.020Z"
   },
   {
    "duration": 58,
    "start_time": "2023-06-29T07:14:02.064Z"
   },
   {
    "duration": 93,
    "start_time": "2023-06-29T07:14:02.124Z"
   },
   {
    "duration": 40,
    "start_time": "2023-06-29T07:14:02.219Z"
   },
   {
    "duration": 605,
    "start_time": "2023-06-29T07:14:02.260Z"
   },
   {
    "duration": 355,
    "start_time": "2023-06-29T07:14:02.867Z"
   },
   {
    "duration": 25,
    "start_time": "2023-06-29T07:14:03.224Z"
   },
   {
    "duration": 6,
    "start_time": "2023-06-29T07:14:03.251Z"
   },
   {
    "duration": 21,
    "start_time": "2023-06-29T07:14:03.259Z"
   },
   {
    "duration": 442,
    "start_time": "2023-06-29T07:14:03.284Z"
   },
   {
    "duration": 435,
    "start_time": "2023-06-29T07:14:03.727Z"
   },
   {
    "duration": 20,
    "start_time": "2023-06-29T07:14:04.163Z"
   },
   {
    "duration": 34,
    "start_time": "2023-06-29T07:14:04.184Z"
   },
   {
    "duration": 86,
    "start_time": "2023-06-29T07:14:04.219Z"
   },
   {
    "duration": 46,
    "start_time": "2023-06-29T07:14:04.306Z"
   },
   {
    "duration": 62,
    "start_time": "2023-06-29T07:14:04.354Z"
   },
   {
    "duration": 10,
    "start_time": "2023-06-29T07:14:04.418Z"
   },
   {
    "duration": 61,
    "start_time": "2023-06-29T07:14:04.430Z"
   },
   {
    "duration": 26,
    "start_time": "2023-06-29T07:14:04.493Z"
   },
   {
    "duration": 316,
    "start_time": "2023-06-29T07:14:04.521Z"
   },
   {
    "duration": 3,
    "start_time": "2023-06-29T07:14:04.839Z"
   },
   {
    "duration": 58,
    "start_time": "2023-06-29T07:14:04.844Z"
   },
   {
    "duration": 45,
    "start_time": "2023-06-29T07:14:04.905Z"
   },
   {
    "duration": 15,
    "start_time": "2023-06-29T07:14:04.952Z"
   },
   {
    "duration": 530,
    "start_time": "2023-06-29T07:14:04.968Z"
   },
   {
    "duration": 12,
    "start_time": "2023-06-29T07:14:05.514Z"
   },
   {
    "duration": 393,
    "start_time": "2023-06-29T07:14:05.528Z"
   },
   {
    "duration": 31282,
    "start_time": "2023-06-29T07:14:05.923Z"
   },
   {
    "duration": 184444,
    "start_time": "2023-06-29T07:14:37.207Z"
   },
   {
    "duration": 18,
    "start_time": "2023-06-29T07:17:41.703Z"
   },
   {
    "duration": 12253,
    "start_time": "2023-06-29T07:17:41.728Z"
   },
   {
    "duration": 48862,
    "start_time": "2023-06-29T07:17:53.983Z"
   },
   {
    "duration": 24,
    "start_time": "2023-06-29T07:18:42.846Z"
   },
   {
    "duration": 3,
    "start_time": "2023-06-29T07:18:42.872Z"
   },
   {
    "duration": 8,
    "start_time": "2023-06-29T07:18:42.877Z"
   },
   {
    "duration": 20708,
    "start_time": "2023-06-29T07:18:42.907Z"
   },
   {
    "duration": 110,
    "start_time": "2023-06-29T07:19:03.618Z"
   },
   {
    "duration": 984279,
    "start_time": "2023-06-29T07:19:03.729Z"
   },
   {
    "duration": 7,
    "start_time": "2023-06-29T07:35:28.010Z"
   },
   {
    "duration": 98,
    "start_time": "2023-06-29T07:35:28.022Z"
   },
   {
    "duration": 10996,
    "start_time": "2023-06-29T07:35:28.122Z"
   },
   {
    "duration": 872188,
    "start_time": "2023-06-29T07:35:39.120Z"
   },
   {
    "duration": 1667,
    "start_time": "2023-06-29T09:53:52.428Z"
   },
   {
    "duration": 722,
    "start_time": "2023-06-29T09:53:54.096Z"
   },
   {
    "duration": 15,
    "start_time": "2023-06-29T09:53:54.819Z"
   },
   {
    "duration": 24,
    "start_time": "2023-06-29T09:53:54.835Z"
   },
   {
    "duration": 10,
    "start_time": "2023-06-29T09:53:54.861Z"
   },
   {
    "duration": 22,
    "start_time": "2023-06-29T09:53:54.873Z"
   },
   {
    "duration": 42,
    "start_time": "2023-06-29T09:53:54.897Z"
   },
   {
    "duration": 309,
    "start_time": "2023-06-29T09:53:54.941Z"
   },
   {
    "duration": 371,
    "start_time": "2023-06-29T09:53:55.251Z"
   },
   {
    "duration": 16,
    "start_time": "2023-06-29T09:53:55.623Z"
   },
   {
    "duration": 19,
    "start_time": "2023-06-29T09:53:55.641Z"
   },
   {
    "duration": 52,
    "start_time": "2023-06-29T09:53:55.661Z"
   },
   {
    "duration": 36,
    "start_time": "2023-06-29T09:53:55.715Z"
   },
   {
    "duration": 24,
    "start_time": "2023-06-29T09:53:55.755Z"
   },
   {
    "duration": 18,
    "start_time": "2023-06-29T09:53:55.800Z"
   },
   {
    "duration": 19,
    "start_time": "2023-06-29T09:53:55.819Z"
   },
   {
    "duration": 81,
    "start_time": "2023-06-29T09:53:55.839Z"
   },
   {
    "duration": 20,
    "start_time": "2023-06-29T09:53:55.922Z"
   },
   {
    "duration": 30,
    "start_time": "2023-06-29T09:53:55.943Z"
   },
   {
    "duration": 81,
    "start_time": "2023-06-29T09:53:55.975Z"
   },
   {
    "duration": 23,
    "start_time": "2023-06-29T09:53:56.058Z"
   },
   {
    "duration": 43,
    "start_time": "2023-06-29T09:53:56.083Z"
   },
   {
    "duration": 77,
    "start_time": "2023-06-29T09:53:56.128Z"
   },
   {
    "duration": 19,
    "start_time": "2023-06-29T09:53:56.207Z"
   },
   {
    "duration": 31,
    "start_time": "2023-06-29T09:53:56.227Z"
   },
   {
    "duration": 46,
    "start_time": "2023-06-29T09:53:56.259Z"
   },
   {
    "duration": 54,
    "start_time": "2023-06-29T09:53:56.306Z"
   },
   {
    "duration": 12,
    "start_time": "2023-06-29T09:53:56.361Z"
   },
   {
    "duration": 420,
    "start_time": "2023-06-29T09:53:56.374Z"
   },
   {
    "duration": 27,
    "start_time": "2023-06-29T09:53:56.796Z"
   },
   {
    "duration": 47,
    "start_time": "2023-06-29T09:53:56.825Z"
   },
   {
    "duration": 40,
    "start_time": "2023-06-29T09:53:56.874Z"
   },
   {
    "duration": 19,
    "start_time": "2023-06-29T09:53:56.916Z"
   },
   {
    "duration": 24,
    "start_time": "2023-06-29T09:53:56.937Z"
   },
   {
    "duration": 13,
    "start_time": "2023-06-29T09:53:56.963Z"
   },
   {
    "duration": 410,
    "start_time": "2023-06-29T09:53:56.978Z"
   },
   {
    "duration": 336,
    "start_time": "2023-06-29T09:53:57.389Z"
   },
   {
    "duration": 28,
    "start_time": "2023-06-29T09:53:57.726Z"
   },
   {
    "duration": 5,
    "start_time": "2023-06-29T09:53:57.755Z"
   },
   {
    "duration": 10,
    "start_time": "2023-06-29T09:53:57.761Z"
   },
   {
    "duration": 373,
    "start_time": "2023-06-29T09:53:57.775Z"
   },
   {
    "duration": 397,
    "start_time": "2023-06-29T09:53:58.150Z"
   },
   {
    "duration": 21,
    "start_time": "2023-06-29T09:53:58.549Z"
   },
   {
    "duration": 11,
    "start_time": "2023-06-29T09:53:58.572Z"
   },
   {
    "duration": 41,
    "start_time": "2023-06-29T09:53:58.599Z"
   },
   {
    "duration": 12,
    "start_time": "2023-06-29T09:53:58.642Z"
   },
   {
    "duration": 51,
    "start_time": "2023-06-29T09:53:58.655Z"
   },
   {
    "duration": 4,
    "start_time": "2023-06-29T09:53:58.707Z"
   },
   {
    "duration": 40,
    "start_time": "2023-06-29T09:53:58.713Z"
   },
   {
    "duration": 3,
    "start_time": "2023-06-29T09:53:58.755Z"
   },
   {
    "duration": 292,
    "start_time": "2023-06-29T09:53:58.760Z"
   },
   {
    "duration": 4,
    "start_time": "2023-06-29T09:53:59.053Z"
   },
   {
    "duration": 49,
    "start_time": "2023-06-29T09:53:59.059Z"
   },
   {
    "duration": 37,
    "start_time": "2023-06-29T09:53:59.109Z"
   },
   {
    "duration": 3,
    "start_time": "2023-06-29T09:53:59.148Z"
   },
   {
    "duration": 471,
    "start_time": "2023-06-29T09:53:59.153Z"
   },
   {
    "duration": 4,
    "start_time": "2023-06-29T09:53:59.626Z"
   },
   {
    "duration": 312,
    "start_time": "2023-06-29T09:53:59.631Z"
   },
   {
    "duration": 10858,
    "start_time": "2023-06-29T09:53:59.945Z"
   },
   {
    "duration": 37711,
    "start_time": "2023-06-29T09:54:10.805Z"
   },
   {
    "duration": 83,
    "start_time": "2023-06-29T09:54:48.519Z"
   },
   {
    "duration": 11007,
    "start_time": "2023-06-29T09:54:48.605Z"
   },
   {
    "duration": 44022,
    "start_time": "2023-06-29T09:54:59.613Z"
   },
   {
    "duration": 21,
    "start_time": "2023-06-29T09:55:43.637Z"
   },
   {
    "duration": 3,
    "start_time": "2023-06-29T09:55:43.660Z"
   },
   {
    "duration": 7,
    "start_time": "2023-06-29T09:55:43.665Z"
   },
   {
    "duration": 20460,
    "start_time": "2023-06-29T09:55:43.673Z"
   },
   {
    "duration": 96,
    "start_time": "2023-06-29T09:56:04.135Z"
   },
   {
    "duration": 4170,
    "start_time": "2023-06-29T09:56:04.232Z"
   },
   {
    "duration": 6,
    "start_time": "2023-06-29T09:56:08.404Z"
   },
   {
    "duration": 18,
    "start_time": "2023-06-29T09:56:08.411Z"
   },
   {
    "duration": 11149,
    "start_time": "2023-06-29T09:56:08.430Z"
   },
   {
    "duration": 32926,
    "start_time": "2023-06-29T09:56:19.581Z"
   }
  ],
  "kernelspec": {
   "display_name": "Python 3 (ipykernel)",
   "language": "python",
   "name": "python3"
  },
  "language_info": {
   "codemirror_mode": {
    "name": "ipython",
    "version": 3
   },
   "file_extension": ".py",
   "mimetype": "text/x-python",
   "name": "python",
   "nbconvert_exporter": "python",
   "pygments_lexer": "ipython3",
   "version": "3.9.5"
  },
  "toc": {
   "base_numbering": 1,
   "nav_menu": {},
   "number_sections": true,
   "sideBar": true,
   "skip_h1_title": true,
   "title_cell": "Table of Contents",
   "title_sidebar": "Contents",
   "toc_cell": false,
   "toc_position": {
    "height": "calc(100% - 180px)",
    "left": "10px",
    "top": "150px",
    "width": "165px"
   },
   "toc_section_display": true,
   "toc_window_display": true
  }
 },
 "nbformat": 4,
 "nbformat_minor": 2
}
